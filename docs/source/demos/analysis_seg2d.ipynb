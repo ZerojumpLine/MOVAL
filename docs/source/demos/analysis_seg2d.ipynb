{
 "cells": [
  {
   "cell_type": "markdown",
   "id": "78e1590e-fe81-42a5-baeb-b5734c62df1a",
   "metadata": {},
   "source": [
    "# Analyze Model Behvaiour of 2D Segmentation"
   ]
  },
  {
   "cell_type": "markdown",
   "id": "28a4e069-7184-4339-86ef-964093378e05",
   "metadata": {},
   "source": [
    "Consider to download this Jupyter Notebook and run locally, or test it with Colab.\n",
    "<br>\n",
    "[![Download](https://img.shields.io/badge/Download-jupyter-blue)](https://github.com/ZerojumpLine/MOVAL/blob/main/docs/source/demos/analysis_seg2d.ipynb)\n",
    "[![Open In Colab](https://colab.research.google.com/assets/colab-badge.svg)](https://github.com/ZerojumpLine/MOVAL/blob/main/docs/source/demos/analysis_seg2d.ipynb)"
   ]
  },
  {
   "cell_type": "markdown",
   "id": "7958bf9b-4b9e-4101-8c0d-0d3aacb97ee9",
   "metadata": {},
   "source": [
    "* In this notebook, we will show how to analyze the model behaviour based using MOVAL for multi-class 2D segmentation tasks.\n",
    "<br>\n",
    "* More specifically, we show an example of analyzing model behaviour under domain shifts on Cardiac MRI segmentation (into 4 classes including background, left ventricle (LV), myocardium(MYO) and right ventricle (RV)) based on a 3D U-Net. We will utilize the calculated logits on test dataset acquired with a different scanner.\n",
    "<br>\n",
    "* We will visualize the calibrated confidence scores as an proper indication of missegmentation."
   ]
  },
  {
   "cell_type": "code",
   "execution_count": 1,
   "id": "5229b315-4926-4590-acbd-aeff1b40f90a",
   "metadata": {
    "scrolled": true
   },
   "outputs": [
    {
     "name": "stdout",
     "output_type": "stream",
     "text": [
      "Requirement already satisfied: moval in /Users/zejuli/opt/anaconda3/envs/moval/lib/python3.8/site-packages (0.1.15)\n",
      "Requirement already satisfied: scikit-learn>=1.3.0 in /Users/zejuli/opt/anaconda3/envs/moval/lib/python3.8/site-packages (from moval) (1.3.0)\n",
      "Requirement already satisfied: scipy>=1.8.0 in /Users/zejuli/opt/anaconda3/envs/moval/lib/python3.8/site-packages (from moval) (1.10.1)\n",
      "Requirement already satisfied: pytest in /Users/zejuli/opt/anaconda3/envs/moval/lib/python3.8/site-packages (from moval) (7.4.3)\n",
      "Requirement already satisfied: gdown in /Users/zejuli/opt/anaconda3/envs/moval/lib/python3.8/site-packages (from moval) (4.7.1)\n",
      "Requirement already satisfied: pandas in /Users/zejuli/opt/anaconda3/envs/moval/lib/python3.8/site-packages (from moval) (2.0.3)\n",
      "Requirement already satisfied: nibabel in /Users/zejuli/opt/anaconda3/envs/moval/lib/python3.8/site-packages (from moval) (5.1.0)\n",
      "Requirement already satisfied: numpy>=1.17.3 in /Users/zejuli/opt/anaconda3/envs/moval/lib/python3.8/site-packages (from scikit-learn>=1.3.0->moval) (1.24.4)\n",
      "Requirement already satisfied: joblib>=1.1.1 in /Users/zejuli/opt/anaconda3/envs/moval/lib/python3.8/site-packages (from scikit-learn>=1.3.0->moval) (1.3.1)\n",
      "Requirement already satisfied: threadpoolctl>=2.0.0 in /Users/zejuli/opt/anaconda3/envs/moval/lib/python3.8/site-packages (from scikit-learn>=1.3.0->moval) (3.1.0)\n",
      "Requirement already satisfied: filelock in /Users/zejuli/opt/anaconda3/envs/moval/lib/python3.8/site-packages (from gdown->moval) (3.13.1)\n",
      "Requirement already satisfied: requests[socks] in /Users/zejuli/.local/lib/python3.8/site-packages (from gdown->moval) (2.31.0)\n",
      "Requirement already satisfied: six in /Users/zejuli/.local/lib/python3.8/site-packages (from gdown->moval) (1.16.0)\n",
      "Requirement already satisfied: tqdm in /Users/zejuli/opt/anaconda3/envs/moval/lib/python3.8/site-packages (from gdown->moval) (4.65.0)\n",
      "Requirement already satisfied: beautifulsoup4 in /Users/zejuli/opt/anaconda3/envs/moval/lib/python3.8/site-packages (from gdown->moval) (4.12.2)\n",
      "Requirement already satisfied: importlib-resources>=1.3 in /Users/zejuli/.local/lib/python3.8/site-packages (from nibabel->moval) (5.12.0)\n",
      "Requirement already satisfied: packaging>=17 in /Users/zejuli/opt/anaconda3/envs/moval/lib/python3.8/site-packages (from nibabel->moval) (23.1)\n",
      "Requirement already satisfied: python-dateutil>=2.8.2 in /Users/zejuli/opt/anaconda3/envs/moval/lib/python3.8/site-packages (from pandas->moval) (2.8.2)\n",
      "Requirement already satisfied: pytz>=2020.1 in /Users/zejuli/opt/anaconda3/envs/moval/lib/python3.8/site-packages (from pandas->moval) (2023.3.post1)\n",
      "Requirement already satisfied: tzdata>=2022.1 in /Users/zejuli/opt/anaconda3/envs/moval/lib/python3.8/site-packages (from pandas->moval) (2023.3)\n",
      "Requirement already satisfied: iniconfig in /Users/zejuli/opt/anaconda3/envs/moval/lib/python3.8/site-packages (from pytest->moval) (2.0.0)\n",
      "Requirement already satisfied: pluggy<2.0,>=0.12 in /Users/zejuli/opt/anaconda3/envs/moval/lib/python3.8/site-packages (from pytest->moval) (1.3.0)\n",
      "Requirement already satisfied: exceptiongroup>=1.0.0rc8 in /Users/zejuli/opt/anaconda3/envs/moval/lib/python3.8/site-packages (from pytest->moval) (1.1.3)\n",
      "Requirement already satisfied: tomli>=1.0.0 in /Users/zejuli/opt/anaconda3/envs/moval/lib/python3.8/site-packages (from pytest->moval) (2.0.1)\n",
      "Requirement already satisfied: zipp>=3.1.0 in /Users/zejuli/.local/lib/python3.8/site-packages (from importlib-resources>=1.3->nibabel->moval) (3.15.0)\n",
      "Requirement already satisfied: soupsieve>1.2 in /Users/zejuli/opt/anaconda3/envs/moval/lib/python3.8/site-packages (from beautifulsoup4->gdown->moval) (2.5)\n",
      "Requirement already satisfied: charset-normalizer<4,>=2 in /Users/zejuli/.local/lib/python3.8/site-packages (from requests[socks]->gdown->moval) (3.1.0)\n",
      "Requirement already satisfied: idna<4,>=2.5 in /Users/zejuli/.local/lib/python3.8/site-packages (from requests[socks]->gdown->moval) (3.4)\n",
      "Requirement already satisfied: urllib3<3,>=1.21.1 in /Users/zejuli/.local/lib/python3.8/site-packages (from requests[socks]->gdown->moval) (2.0.3)\n",
      "Requirement already satisfied: certifi>=2017.4.17 in /Users/zejuli/.local/lib/python3.8/site-packages (from requests[socks]->gdown->moval) (2023.5.7)\n",
      "Requirement already satisfied: PySocks!=1.5.7,>=1.5.6 in /Users/zejuli/opt/anaconda3/envs/moval/lib/python3.8/site-packages (from requests[socks]->gdown->moval) (1.7.1)\n",
      "Requirement already satisfied: seaborn in /Users/zejuli/opt/anaconda3/envs/moval/lib/python3.8/site-packages (0.13.0)\n",
      "Requirement already satisfied: numpy!=1.24.0,>=1.20 in /Users/zejuli/opt/anaconda3/envs/moval/lib/python3.8/site-packages (from seaborn) (1.24.4)\n",
      "Requirement already satisfied: pandas>=1.2 in /Users/zejuli/opt/anaconda3/envs/moval/lib/python3.8/site-packages (from seaborn) (2.0.3)\n",
      "Requirement already satisfied: matplotlib!=3.6.1,>=3.3 in /Users/zejuli/opt/anaconda3/envs/moval/lib/python3.8/site-packages (from seaborn) (3.7.4)\n",
      "Requirement already satisfied: contourpy>=1.0.1 in /Users/zejuli/opt/anaconda3/envs/moval/lib/python3.8/site-packages (from matplotlib!=3.6.1,>=3.3->seaborn) (1.1.1)\n",
      "Requirement already satisfied: cycler>=0.10 in /Users/zejuli/opt/anaconda3/envs/moval/lib/python3.8/site-packages (from matplotlib!=3.6.1,>=3.3->seaborn) (0.12.1)\n",
      "Requirement already satisfied: fonttools>=4.22.0 in /Users/zejuli/opt/anaconda3/envs/moval/lib/python3.8/site-packages (from matplotlib!=3.6.1,>=3.3->seaborn) (4.46.0)\n",
      "Requirement already satisfied: kiwisolver>=1.0.1 in /Users/zejuli/opt/anaconda3/envs/moval/lib/python3.8/site-packages (from matplotlib!=3.6.1,>=3.3->seaborn) (1.4.5)\n",
      "Requirement already satisfied: packaging>=20.0 in /Users/zejuli/opt/anaconda3/envs/moval/lib/python3.8/site-packages (from matplotlib!=3.6.1,>=3.3->seaborn) (23.1)\n",
      "Requirement already satisfied: pillow>=6.2.0 in /Users/zejuli/opt/anaconda3/envs/moval/lib/python3.8/site-packages (from matplotlib!=3.6.1,>=3.3->seaborn) (10.1.0)\n",
      "Requirement already satisfied: pyparsing>=2.3.1 in /Users/zejuli/opt/anaconda3/envs/moval/lib/python3.8/site-packages (from matplotlib!=3.6.1,>=3.3->seaborn) (3.1.1)\n",
      "Requirement already satisfied: python-dateutil>=2.7 in /Users/zejuli/opt/anaconda3/envs/moval/lib/python3.8/site-packages (from matplotlib!=3.6.1,>=3.3->seaborn) (2.8.2)\n",
      "Requirement already satisfied: importlib-resources>=3.2.0 in /Users/zejuli/.local/lib/python3.8/site-packages (from matplotlib!=3.6.1,>=3.3->seaborn) (5.12.0)\n",
      "Requirement already satisfied: pytz>=2020.1 in /Users/zejuli/opt/anaconda3/envs/moval/lib/python3.8/site-packages (from pandas>=1.2->seaborn) (2023.3.post1)\n",
      "Requirement already satisfied: tzdata>=2022.1 in /Users/zejuli/opt/anaconda3/envs/moval/lib/python3.8/site-packages (from pandas>=1.2->seaborn) (2023.3)\n",
      "Requirement already satisfied: zipp>=3.1.0 in /Users/zejuli/.local/lib/python3.8/site-packages (from importlib-resources>=3.2.0->matplotlib!=3.6.1,>=3.3->seaborn) (3.15.0)\n",
      "Requirement already satisfied: six>=1.5 in /Users/zejuli/.local/lib/python3.8/site-packages (from python-dateutil>=2.7->matplotlib!=3.6.1,>=3.3->seaborn) (1.16.0)\n",
      "Requirement already satisfied: pandas in /Users/zejuli/opt/anaconda3/envs/moval/lib/python3.8/site-packages (2.0.3)\n",
      "Requirement already satisfied: python-dateutil>=2.8.2 in /Users/zejuli/opt/anaconda3/envs/moval/lib/python3.8/site-packages (from pandas) (2.8.2)\n",
      "Requirement already satisfied: pytz>=2020.1 in /Users/zejuli/opt/anaconda3/envs/moval/lib/python3.8/site-packages (from pandas) (2023.3.post1)\n",
      "Requirement already satisfied: tzdata>=2022.1 in /Users/zejuli/opt/anaconda3/envs/moval/lib/python3.8/site-packages (from pandas) (2023.3)\n",
      "Requirement already satisfied: numpy>=1.20.3 in /Users/zejuli/opt/anaconda3/envs/moval/lib/python3.8/site-packages (from pandas) (1.24.4)\n",
      "Requirement already satisfied: six>=1.5 in /Users/zejuli/.local/lib/python3.8/site-packages (from python-dateutil>=2.8.2->pandas) (1.16.0)\n",
      "Requirement already satisfied: tqdm in /Users/zejuli/opt/anaconda3/envs/moval/lib/python3.8/site-packages (4.65.0)\n",
      "Requirement already satisfied: matplotlib in /Users/zejuli/opt/anaconda3/envs/moval/lib/python3.8/site-packages (3.7.4)\n",
      "Requirement already satisfied: contourpy>=1.0.1 in /Users/zejuli/opt/anaconda3/envs/moval/lib/python3.8/site-packages (from matplotlib) (1.1.1)\n",
      "Requirement already satisfied: cycler>=0.10 in /Users/zejuli/opt/anaconda3/envs/moval/lib/python3.8/site-packages (from matplotlib) (0.12.1)\n",
      "Requirement already satisfied: fonttools>=4.22.0 in /Users/zejuli/opt/anaconda3/envs/moval/lib/python3.8/site-packages (from matplotlib) (4.46.0)\n",
      "Requirement already satisfied: kiwisolver>=1.0.1 in /Users/zejuli/opt/anaconda3/envs/moval/lib/python3.8/site-packages (from matplotlib) (1.4.5)\n",
      "Requirement already satisfied: numpy<2,>=1.20 in /Users/zejuli/opt/anaconda3/envs/moval/lib/python3.8/site-packages (from matplotlib) (1.24.4)\n",
      "Requirement already satisfied: packaging>=20.0 in /Users/zejuli/opt/anaconda3/envs/moval/lib/python3.8/site-packages (from matplotlib) (23.1)\n",
      "Requirement already satisfied: pillow>=6.2.0 in /Users/zejuli/opt/anaconda3/envs/moval/lib/python3.8/site-packages (from matplotlib) (10.1.0)\n",
      "Requirement already satisfied: pyparsing>=2.3.1 in /Users/zejuli/opt/anaconda3/envs/moval/lib/python3.8/site-packages (from matplotlib) (3.1.1)\n",
      "Requirement already satisfied: python-dateutil>=2.7 in /Users/zejuli/opt/anaconda3/envs/moval/lib/python3.8/site-packages (from matplotlib) (2.8.2)\n",
      "Requirement already satisfied: importlib-resources>=3.2.0 in /Users/zejuli/.local/lib/python3.8/site-packages (from matplotlib) (5.12.0)\n",
      "Requirement already satisfied: zipp>=3.1.0 in /Users/zejuli/.local/lib/python3.8/site-packages (from importlib-resources>=3.2.0->matplotlib) (3.15.0)\n",
      "Requirement already satisfied: six>=1.5 in /Users/zejuli/.local/lib/python3.8/site-packages (from python-dateutil>=2.7->matplotlib) (1.16.0)\n",
      "Requirement already satisfied: nibabel in /Users/zejuli/opt/anaconda3/envs/moval/lib/python3.8/site-packages (5.1.0)\n",
      "Requirement already satisfied: importlib-resources>=1.3 in /Users/zejuli/.local/lib/python3.8/site-packages (from nibabel) (5.12.0)\n",
      "Requirement already satisfied: numpy>=1.19 in /Users/zejuli/opt/anaconda3/envs/moval/lib/python3.8/site-packages (from nibabel) (1.24.4)\n",
      "Requirement already satisfied: packaging>=17 in /Users/zejuli/opt/anaconda3/envs/moval/lib/python3.8/site-packages (from nibabel) (23.1)\n",
      "Requirement already satisfied: zipp>=3.1.0 in /Users/zejuli/.local/lib/python3.8/site-packages (from importlib-resources>=1.3->nibabel) (3.15.0)\n"
     ]
    }
   ],
   "source": [
    "!pip install moval\n",
    "!pip install seaborn\n",
    "!pip install pandas\n",
    "!pip install tqdm\n",
    "!pip install matplotlib\n",
    "!pip install nibabel"
   ]
  },
  {
   "cell_type": "code",
   "execution_count": 2,
   "id": "b95fde30-1eba-4102-a50f-53edd74b403a",
   "metadata": {},
   "outputs": [],
   "source": [
    "import os\n",
    "import gdown\n",
    "import itertools\n",
    "import zipfile\n",
    "import pandas as pd\n",
    "import numpy as np\n",
    "import nibabel as nib\n",
    "import moval\n",
    "from moval.solvers.utils import ComputMetric\n",
    "from tqdm import tqdm\n",
    "import seaborn as sns\n",
    "import matplotlib.pyplot as plt"
   ]
  },
  {
   "cell_type": "code",
   "execution_count": 3,
   "id": "b4cbe298-d953-4cca-a914-c19d33ae1270",
   "metadata": {},
   "outputs": [
    {
     "name": "stdout",
     "output_type": "stream",
     "text": [
      "The installed MOVAL verision is 0.1.15\n"
     ]
    }
   ],
   "source": [
    "print(f\"The installed MOVAL verision is {moval.__version__}\")"
   ]
  },
  {
   "cell_type": "markdown",
   "id": "7fdf51dc-414b-4f1d-aecb-37d00d8bf9c3",
   "metadata": {},
   "source": [
    "## Load the data"
   ]
  },
  {
   "cell_type": "code",
   "execution_count": 4,
   "id": "417a64cd-1216-4724-a0c3-757789a484ef",
   "metadata": {},
   "outputs": [],
   "source": [
    "# download the data of cardiac\n",
    "\n",
    "output = \"data_moval_supp.zip\"\n",
    "if not os.path.exists(output):\n",
    "    url = \"https://drive.google.com/u/0/uc?id=1ZlC66MGmPlf05aYYCKBaRT2q5uod8GFk&export=download\"\n",
    "    output = \"data_moval_supp.zip\"\n",
    "    gdown.download(url, output, quiet=False)\n",
    "\n",
    "directory_data = \"data_moval_supp\"\n",
    "if not os.path.exists(directory_data):\n",
    "    with zipfile.ZipFile(output, 'r') as zip_ref:\n",
    "        zip_ref.extractall(directory_data)"
   ]
  },
  {
   "cell_type": "code",
   "execution_count": 5,
   "id": "0f367bce-89d5-442f-a6bd-6ea93242813e",
   "metadata": {},
   "outputs": [],
   "source": [
    "# download the coresponding image data\n",
    "\n",
    "output = \"img_cardiac.zip\"\n",
    "if not os.path.exists(output):\n",
    "    url = \"https://drive.google.com/u/0/uc?id=1kS5V69dfdPEGiMfauMLuhi76Vrb8VB5k&export=download\"\n",
    "    output = \"img_cardiac.zip\"\n",
    "    gdown.download(url, output, quiet=False)\n",
    "\n",
    "directory_data = \"img_cardiac\"\n",
    "if not os.path.exists(directory_data):\n",
    "    with zipfile.ZipFile(output, 'r') as zip_ref:\n",
    "        zip_ref.extractall(directory_data)"
   ]
  },
  {
   "cell_type": "code",
   "execution_count": 6,
   "id": "30bb82e1-3a4d-4aae-9a69-a7199e3cbbb4",
   "metadata": {},
   "outputs": [
    {
     "name": "stdout",
     "output_type": "stream",
     "text": [
      "analysis_cls.ipynb    \u001b[34mdata_moval_supp\u001b[m\u001b[m/      \u001b[34mimg_cardiac\u001b[m\u001b[m/\n",
      "analysis_seg2d.ipynb  data_moval_supp.zip   img_cardiac.zip\n",
      "analysis_seg3d.ipynb  estim_cls.ipynb       \u001b[34mimg_cifar\u001b[m\u001b[m/\n",
      "\u001b[34mdata_moval\u001b[m\u001b[m/           estim_seg2d.ipynb     img_cifar.zip\n",
      "data_moval.zip        estim_seg3d.ipynb\n"
     ]
    }
   ],
   "source": [
    "ls"
   ]
  },
  {
   "cell_type": "code",
   "execution_count": 7,
   "id": "7b49fceb-ac42-4c05-a76e-19b364d92136",
   "metadata": {},
   "outputs": [],
   "source": [
    "# now I am playing with cardiac segmentation\n",
    "\n",
    "Datafile_eval = \"data_moval_supp/Cardiacresults/seg-eval.txt\"\n",
    "Imglist_eval = open(Datafile_eval)\n",
    "Imglist_eval_read = Imglist_eval.read().splitlines()\n",
    "\n",
    "logits = []\n",
    "gt = []\n",
    "for Imgname_eval in Imglist_eval_read:\n",
    "    #\n",
    "    caseID = Imgname_eval.split(\"/\")[-2]\n",
    "    #\n",
    "    GT_file = f\"data_moval_supp/Cardiacresults/GT/1/{caseID}/seg.nii.gz\"\n",
    "    #\n",
    "    logit_cls0_file = \"data_moval_supp/Cardiacresults/cardiacval/results/pred_\" + caseID + \"cls0_prob.nii.gz\"\n",
    "    logit_cls1_file = \"data_moval_supp/Cardiacresults/cardiacval/results/pred_\" + caseID + \"cls1_prob.nii.gz\"\n",
    "    logit_cls2_file = \"data_moval_supp/Cardiacresults/cardiacval/results/pred_\" + caseID + \"cls2_prob.nii.gz\"\n",
    "    logit_cls3_file = \"data_moval_supp/Cardiacresults/cardiacval/results/pred_\" + caseID + \"cls3_prob.nii.gz\"\n",
    "    #\n",
    "    logit_cls0_read = nib.load(logit_cls0_file)\n",
    "    logit_cls1_read = nib.load(logit_cls1_file)\n",
    "    logit_cls2_read = nib.load(logit_cls2_file)\n",
    "    logit_cls3_read = nib.load(logit_cls3_file)\n",
    "    #\n",
    "    logit_cls0      = logit_cls0_read.get_fdata()   # ``(H, W, D)``\n",
    "    logit_cls1      = logit_cls1_read.get_fdata()\n",
    "    logit_cls2      = logit_cls2_read.get_fdata()\n",
    "    logit_cls3      = logit_cls3_read.get_fdata()\n",
    "    #\n",
    "    GT_read         = nib.load(GT_file)\n",
    "    GTimg           = GT_read.get_fdata()           # ``(H, W, D)``\n",
    "    #\n",
    "    logit_cls = np.stack((logit_cls0, logit_cls1, logit_cls2, logit_cls3))  # ``(d, H, W, D)``\n",
    "    # only including the slices that contains labels\n",
    "    for dslice in range(GTimg.shape[2]):\n",
    "        if np.sum(GTimg[:, :, dslice]) > 0:\n",
    "            logits.append(logit_cls[:, :, :, dslice])\n",
    "            gt.append(GTimg[:, :, dslice])\n",
    "\n",
    "# logits is a list of length ``n``,  each element has ``(d, H, W)``. \n",
    "# gt is a list of length ``n``,  each element has ``(H, W)``.\n",
    "# H and W could differ for different cases.\n",
    "\n",
    "caseIDs = ['A5D0G0_0', 'B0N3W8_15', 'E5S7W7_12', 'H7N4V9_0', 'I0I2J8_7']\n",
    "\n",
    "logits_test = []\n",
    "gt_test = []\n",
    "imgs_test = []\n",
    "for caseID in caseIDs:\n",
    "    GT_file = f\"data_moval_supp/Cardiacresults/GT/2/{caseID}/seg.nii.gz\"\n",
    "    #\n",
    "    logit_cls0_file = \"data_moval_supp/Cardiacresults/cardiactest_2/results/pred_\" + caseID + \"cls0_prob.nii.gz\"\n",
    "    logit_cls1_file = \"data_moval_supp/Cardiacresults/cardiactest_2/results/pred_\" + caseID + \"cls1_prob.nii.gz\"\n",
    "    logit_cls2_file = \"data_moval_supp/Cardiacresults/cardiactest_2/results/pred_\" + caseID + \"cls2_prob.nii.gz\"\n",
    "    logit_cls3_file = \"data_moval_supp/Cardiacresults/cardiactest_2/results/pred_\" + caseID + \"cls3_prob.nii.gz\"\n",
    "    #\n",
    "    logit_cls0_read = nib.load(logit_cls0_file)\n",
    "    logit_cls1_read = nib.load(logit_cls1_file)\n",
    "    logit_cls2_read = nib.load(logit_cls2_file)\n",
    "    logit_cls3_read = nib.load(logit_cls3_file)\n",
    "    #\n",
    "    logit_cls0      = logit_cls0_read.get_fdata()   # ``(H, W, D)``\n",
    "    logit_cls1      = logit_cls1_read.get_fdata()\n",
    "    logit_cls2      = logit_cls2_read.get_fdata()\n",
    "    logit_cls3      = logit_cls3_read.get_fdata()\n",
    "    #\n",
    "    img_file = f\"img_cardiac/img_cardiac/2/{caseID}/image.nii.gz\"\n",
    "    img_read = nib.load(img_file)\n",
    "    img_data      = img_read.get_fdata()   # ``(H, W, D)``\n",
    "    #\n",
    "    GT_read         = nib.load(GT_file)\n",
    "    GTimg           = GT_read.get_fdata()           # ``(H, W, D)``\n",
    "    logit_cls = np.stack((logit_cls0, logit_cls1, logit_cls2, logit_cls3))  # ``(d, H, W, D)``\n",
    "    # only including the slices that contains labels\n",
    "    for dslice in range(GTimg.shape[2]):\n",
    "        if np.sum(GTimg[:, :, dslice]) > 0:\n",
    "            logits_test.append(logit_cls[:, :, :, dslice])\n",
    "            gt_test.append(GTimg[:, :, dslice])\n",
    "            imgs_test.append(img_data[:, :, dslice])\n",
    "\n",
    "# logits_test is a list of length ``n``,  each element has ``(d, H, W)``. \n",
    "# gt_test is a list of length ``n``,  each element has ``(H, W)``.\n",
    "# H and W could differ for different cases."
   ]
  },
  {
   "cell_type": "code",
   "execution_count": 8,
   "id": "6196e1c1-eb71-427d-b2c0-e4a102c5ceff",
   "metadata": {},
   "outputs": [
    {
     "name": "stdout",
     "output_type": "stream",
     "text": [
      "The validation predictions, ``logits`` are a list of length 156 each element has approximately (4, 210, 257)\n",
      "The validation labels, ``gt`` are a list of length 156, each element has approximately (210, 257)\n",
      "\n",
      "The test predictions, ``logits_test`` are a list of length 38 each element has approximately (4, 338, 338)\n",
      "The test labels, ``gt_test`` are a list of length 38, each element has approximately (338, 338)\n",
      "The test imgs, ``imgs_test`` are a list of length 38, each element has approximately (338, 338)\n"
     ]
    }
   ],
   "source": [
    "print(f\"The validation predictions, ``logits`` are a list of length {len(logits)} each element has approximately {logits[0].shape}\")\n",
    "print(f\"The validation labels, ``gt`` are a list of length {len(gt)}, each element has approximately {gt[0].shape}\\n\")\n",
    "print(f\"The test predictions, ``logits_test`` are a list of length {len(logits_test)} each element has approximately {logits_test[0].shape}\")\n",
    "print(f\"The test labels, ``gt_test`` are a list of length {len(gt_test)}, each element has approximately {gt_test[0].shape}\")\n",
    "print(f\"The test imgs, ``imgs_test`` are a list of length {len(imgs_test)}, each element has approximately {imgs_test[0].shape}\")"
   ]
  },
  {
   "cell_type": "code",
   "execution_count": 9,
   "id": "9c1f3de1-ba8c-4d21-8584-1444795cde6e",
   "metadata": {},
   "outputs": [
    {
     "name": "stdout",
     "output_type": "stream",
     "text": [
      "The validation predictions, ``logits`` are a list of length 100 each element has approximately (4, 223, 272)\n",
      "The validation labels, ``gt`` are a list of length 100, each element has approximately (223, 272)\n"
     ]
    }
   ],
   "source": [
    "import random\n",
    "random.seed(79)\n",
    "test_inds = list(range(len(logits)))\n",
    "random.shuffle(test_inds)\n",
    "test_inds = test_inds[:100]\n",
    "#\n",
    "_logits = []\n",
    "_gt = []\n",
    "for test_ind in test_inds:\n",
    "    _logits.append(logits[test_ind])\n",
    "    _gt.append(gt[test_ind])\n",
    "logits_val = _logits\n",
    "gt_val = _gt\n",
    "#\n",
    "print(f\"The validation predictions, ``logits`` are a list of length {len(logits_val)} each element has approximately {logits_val[0].shape}\")\n",
    "print(f\"The validation labels, ``gt`` are a list of length {len(gt_val)}, each element has approximately {gt_val[0].shape}\")"
   ]
  },
  {
   "cell_type": "markdown",
   "id": "97c4b4db-8ac4-4150-bb5c-5ad2da524fb2",
   "metadata": {},
   "source": [
    "## MOVAL estimataion"
   ]
  },
  {
   "cell_type": "code",
   "execution_count": 10,
   "id": "d82dd670-3391-4f85-af05-69d4f7d77dc4",
   "metadata": {},
   "outputs": [],
   "source": [
    "moval_options = []\n",
    "moval_options.append(['ac-model', 'segmentation', 'max_class_probability-conf', False])\n",
    "moval_options.append(['ts-model', 'segmentation', 'max_class_probability-conf', False])\n",
    "moval_options.append(['ts-model', 'segmentation', 'max_class_probability-conf', True])\n",
    "moval_options.append(['ts-atc-model', 'segmentation', 'entropy-conf', True])"
   ]
  },
  {
   "cell_type": "code",
   "execution_count": 11,
   "id": "6d80e331-88d3-4f41-af29-0736e806945f",
   "metadata": {},
   "outputs": [],
   "source": [
    "def test_cls(estim_algorithm, mode, confidence_scores, class_specific, logits, gt, logits_tests, gt_tests):\n",
    "    \"\"\"Test MOVAL with different conditions for segmentation tasks\n",
    "        \n",
    "    Args:\n",
    "        mode (str): The given task to estimate model performance.\n",
    "        confidence_scores (str):\n",
    "            The method to calculate the confidence scores. We provide a list of confidence score calculation methods which \n",
    "            can be displayed by running :py:func:`moval.models.get_conf_options`.\n",
    "        estim_algorithm (str):\n",
    "            The algorithm to estimate model performance. We also provide a list of estimation algorithm which can be displayed by\n",
    "            running :py:func:`moval.models.get_estim_options`.\n",
    "        class_specific (bool):\n",
    "            If ``True``, the calculation will match class-wise confidence to class-wise accuracy.\n",
    "        logits: The network output (logits) of a list of n ``(d, H, W, (D))`` for segmentation. \n",
    "        gt: The cooresponding annotation of a list of n ``(H, W, (D))`` for segmentation.\n",
    "        logits_tests:  The network testing output (logits) of a list of n' ``(d, H', W', (D'))`` for segmentation. \n",
    "        gt_test: The cooresponding testing annotation of a list of n' ``(H', W', (D'))`` for segmentation.\n",
    "\n",
    "    Returns:\n",
    "        err_test (float): testing error.\n",
    "        moval_model: Optimized moval model.\n",
    "\n",
    "    \"\"\"\n",
    "    \n",
    "    moval_model = moval.MOVAL(\n",
    "                mode = mode,\n",
    "                confidence_scores = confidence_scores,\n",
    "                estim_algorithm = estim_algorithm,\n",
    "                class_specific = class_specific,\n",
    "                approximate = True,\n",
    "                approximate_boundary = 10\n",
    "                )\n",
    "\n",
    "    #\n",
    "    moval_model.fit(logits, gt)\n",
    "\n",
    "    # save the test err in the result files.\n",
    "\n",
    "    estim_dsc_test = moval_model.estimate(logits_test)\n",
    "\n",
    "    return moval_model"
   ]
  },
  {
   "cell_type": "code",
   "execution_count": 12,
   "id": "cb376567-c0ef-4011-9084-121f6d38e412",
   "metadata": {
    "scrolled": true
   },
   "outputs": [
    {
     "name": "stdout",
     "output_type": "stream",
     "text": [
      "Starting optimizing for model ac-model with confidence max_class_probability-conf, class specific is False.\n",
      "Starting optimizing for model ts-model with confidence max_class_probability-conf, class specific is False.\n",
      "Opitimizing with 100 samples...\n",
      "Be patient, it should take a while...\n",
      "Starting optimizing for model ts-model with confidence max_class_probability-conf, class specific is True.\n",
      "Opitimizing with 100 samples...\n",
      "Be patient, it should take a while...\n",
      "Not satisfied with initial optimization results of param, trying more initial states...\n",
      "Tried 1/2 times.\n",
      "Tried 2/2 times.\n",
      "Not satisfied with initial optimization results of param, trying more initial states...\n",
      "Tried 1/2 times.\n",
      "Tried 2/2 times.\n",
      "Not satisfied with initial optimization results of param, trying more initial states...\n",
      "Tried 1/2 times.\n",
      "Tried 2/2 times.\n",
      "Starting optimizing for model ts-atc-model with confidence entropy-conf, class specific is True.\n",
      "Opitimizing with 100 samples...\n",
      "Be patient, it should take a while...\n",
      "Not satisfied with initial optimization results of param, trying more initial states...\n",
      "Tried 1/2 times.\n",
      "Tried 2/2 times.\n",
      "Not satisfied with initial optimization results of param, trying more initial states...\n",
      "Tried 1/2 times.\n",
      "Tried 2/2 times.\n",
      "Not satisfied with initial optimization results of param, trying more initial states...\n",
      "Tried 1/2 times.\n",
      "Tried 2/2 times.\n"
     ]
    }
   ],
   "source": [
    "moval_model_MCP = test_cls(\n",
    "        estim_algorithm = moval_options[0][0], \n",
    "        mode = moval_options[0][1], \n",
    "        confidence_scores = moval_options[0][2],\n",
    "        class_specific = moval_options[0][3],\n",
    "        logits = logits_val,\n",
    "        gt = gt_val,\n",
    "        logits_tests = logits_test,\n",
    "        gt_tests = gt_test\n",
    "    )\n",
    "#\n",
    "moval_model_baseline = test_cls(\n",
    "        estim_algorithm = moval_options[1][0], \n",
    "        mode = moval_options[1][1], \n",
    "        confidence_scores = moval_options[1][2],\n",
    "        class_specific = moval_options[1][3],\n",
    "        logits = logits_val,\n",
    "        gt = gt_val,\n",
    "        logits_tests = logits_test,\n",
    "        gt_tests = gt_test\n",
    "    )\n",
    "#\n",
    "moval_model_cs = test_cls(\n",
    "        estim_algorithm = moval_options[2][0], \n",
    "        mode = moval_options[2][1], \n",
    "        confidence_scores = moval_options[2][2],\n",
    "        class_specific = moval_options[2][3],\n",
    "        logits = logits_val,\n",
    "        gt = gt_val,\n",
    "        logits_tests = logits_test,\n",
    "        gt_tests = gt_test\n",
    "    )\n",
    "#\n",
    "moval_model_cs_entropy = test_cls(\n",
    "        estim_algorithm = moval_options[3][0], \n",
    "        mode = moval_options[3][1], \n",
    "        confidence_scores = moval_options[3][2],\n",
    "        class_specific = moval_options[3][3],\n",
    "        logits = logits_val,\n",
    "        gt = gt_val,\n",
    "        logits_tests = logits_test,\n",
    "        gt_tests = gt_test\n",
    "    )"
   ]
  },
  {
   "cell_type": "markdown",
   "id": "c421816a-d692-42e5-9410-be9ee1c4a1cf",
   "metadata": {},
   "source": [
    "## Get the confidence scores"
   ]
  },
  {
   "cell_type": "code",
   "execution_count": 16,
   "id": "b6ae0438-d591-43e4-9f9d-5cc209464ae2",
   "metadata": {},
   "outputs": [],
   "source": [
    "conf_mcp = moval_model_MCP.model_.calibrate(logits_test) # n list of (H, W)\n",
    "conf_baseline = moval_model_baseline.model_.calibrate(logits_test)  # n list of (H, W)\n",
    "conf_cs = moval_model_cs.model_.calibrate(logits_test)  # n list of (H, W)\n",
    "conf_cs_entropy = moval_model_cs_entropy.model_.calibrate(logits_test)  # n list of (H, W)"
   ]
  },
  {
   "cell_type": "code",
   "execution_count": 34,
   "id": "25edcac9-aee0-40a4-9413-e752c03693f6",
   "metadata": {},
   "outputs": [],
   "source": [
    "def caculate_dsc(score, inp, gt):\n",
    "    \"\"\"Calculate real dsc and estimated dsc\n",
    "\n",
    "    Args:\n",
    "        score: Confidence scores of a list of n ``(H, W, (D))``.\n",
    "        inp: Network output of a list of n ``(d, H, W, (D))``\n",
    "        gt: Ground truth segmentation of a list of n ``(H, W, (D))``.\n",
    "\n",
    "    Return:\n",
    "        estim_dsc: The mean estimated DSC for cases of shape ``(n,)``.\n",
    "        real_dsc: The mean real DSC of for cases shape ``(n,)``.\n",
    "    \n",
    "    \"\"\"\n",
    "    from moval.models.utils import SoftDiceLoss    \n",
    "    num_class = inp[0].shape[0]\n",
    "    estim_dsc_list = []\n",
    "    #\n",
    "    pred_all_flatten_bg = []\n",
    "    gt_all_flatten_bg = []\n",
    "    dsc = []    \n",
    "    for n_case in range(len(inp)):\n",
    "        pred_case = np.argmax(inp[n_case], axis = 0) # ``(H, W, (D))``\n",
    "        pred_flatten = pred_case.flatten() # ``n``\n",
    "        score_case = score[n_case] # ``(H, W, (D))``\n",
    "        score_flatten = score[n_case].flatten() # ``n``\n",
    "        score_filled = np.zeros((score_flatten.shape + (num_class,))) # ``(n, d)``\n",
    "        score_filled[np.arange(score_filled.shape[0]), pred_flatten] = score_flatten # ``(n, d)``\n",
    "        score_filled = score_filled.T # ``(d, n)``\n",
    "        score_filled = score_filled.reshape(((num_class,) + score_case.shape)) # ``(d, H, W, (D))``\n",
    "        #\n",
    "        estim_dsc = SoftDiceLoss(score_filled[np.newaxis, ...], pred_case[np.newaxis, ...])\n",
    "\n",
    "        #\n",
    "        gt_case     = gt[n_case] # ``(H, W, (D))``\n",
    "        pos_bg = np.where(pred_case.flatten() == 0)[0]\n",
    "\n",
    "        pred_all_flatten_bg.append(pred_case.flatten()[pos_bg])\n",
    "        gt_all_flatten_bg.append(gt_case.flatten()[pos_bg])\n",
    "\n",
    "        dsc_case = np.zeros(inp[n_case].shape[0])\n",
    "        for kcls in range(1, inp[n_case].shape[0]):\n",
    "            if np.sum(gt_case == kcls) == 0:\n",
    "                estim_dsc[kcls] = -1\n",
    "                dsc_case[kcls] = -1\n",
    "            else:\n",
    "                dsc_case[kcls] = ComputMetric(pred_case == kcls, gt_case == kcls)\n",
    "\n",
    "        estim_dsc_list.append(np.mean(estim_dsc[1:][dsc_case[1:] >= 0]))\n",
    "        dsc.append(np.mean(dsc_case[1:][dsc_case[1:] >= 0]))\n",
    "\n",
    "    return estim_dsc_list, dsc"
   ]
  },
  {
   "cell_type": "code",
   "execution_count": 35,
   "id": "1c738d94-d21f-4654-af57-3f218eec0bc4",
   "metadata": {},
   "outputs": [],
   "source": [
    "estim_dsc, dsc = caculate_dsc(conf_mcp, logits_test, gt_test)"
   ]
  },
  {
   "cell_type": "code",
   "execution_count": 36,
   "id": "eb72f93e-0835-407d-9e7c-1bad4b1f59e6",
   "metadata": {},
   "outputs": [
    {
     "data": {
      "text/plain": [
       "[array([0.99465979, 0.98314395]),\n",
       " array([0.99622126, 0.98714634, 0.97354902]),\n",
       " array([0.99629921, 0.9905526 , 0.9887072 ]),\n",
       " array([0.99673321, 0.99205824, 0.99151919]),\n",
       " array([0.99597785, 0.99251124, 0.99379573]),\n",
       " array([0.99680743, 0.99345779, 0.9948638 ]),\n",
       " array([0.99624829, 0.99236271, 0.99461443]),\n",
       " array([0.99684152, 0.99053104, 0.97952303]),\n",
       " array([0.98414145, 0.97128729]),\n",
       " array([1.        , 0.94008052]),\n",
       " array([0.99353316, 0.99074909, 0.99427178]),\n",
       " array([0.99465736, 0.98373672, 0.9936069 ]),\n",
       " array([0.99625837, 0.98719097, 0.99562062]),\n",
       " array([0.99545445, 0.98737129]),\n",
       " array([0.99407701, 0.9822867 ]),\n",
       " array([0.97226133, 0.96872112]),\n",
       " array([0.98957126, 0.99281731]),\n",
       " array([0.99792804, 0.99409434, 0.98847061]),\n",
       " array([0.99641952, 0.99471192, 0.99357681]),\n",
       " array([0.99741899, 0.99477456, 0.99456346]),\n",
       " array([0.99686079, 0.99213192, 0.99218595]),\n",
       " array([1.        , 0.90939544]),\n",
       " array([0.99231256, 0.98091103]),\n",
       " array([0.9954682 , 0.99003145, 0.97389544]),\n",
       " array([0.99755867, 0.99150068, 0.9869784 ]),\n",
       " array([0.99713184, 0.99221337, 0.98999123]),\n",
       " array([0.99691925, 0.99103761, 0.99199829]),\n",
       " array([0.99689865, 0.98894907, 0.99326825]),\n",
       " array([0.99808511, 0.98938093, 0.99541934]),\n",
       " array([0.99694187, 0.98618893, 0.99189268]),\n",
       " array([0.9940786 , 0.98649435]),\n",
       " array([0.94294443, 0.95447618]),\n",
       " array([0.97665102, 0.96339785]),\n",
       " array([0.97821659, 0.96755142, 0.9220097 ]),\n",
       " array([0.98573202, 0.97245639, 0.96567293]),\n",
       " array([0.99194035, 0.98663795, 0.98250384]),\n",
       " array([0.9948824 , 0.99194783, 0.99203927]),\n",
       " array([0.99496721, 0.99016719, 0.9932978 ])]"
      ]
     },
     "execution_count": 36,
     "metadata": {},
     "output_type": "execute_result"
    }
   ],
   "source": [
    "estim_dsc"
   ]
  },
  {
   "cell_type": "code",
   "execution_count": 27,
   "id": "1db32e45-2d14-4843-8c06-30190c60f769",
   "metadata": {},
   "outputs": [
    {
     "data": {
      "text/plain": [
       "[0.897067459443588,\n",
       " 0.896538234328848,\n",
       " 0.9224824311117729,\n",
       " 0.9189946710006026,\n",
       " 0.8972496383307919,\n",
       " 0.8819065778235263,\n",
       " 0.8869923656413992,\n",
       " 0.8996145166568459,\n",
       " 0.8717551656494289,\n",
       " 0.4458700882117081,\n",
       " 0.7824706421514271,\n",
       " 0.820812076533706,\n",
       " 0.8021919530891989,\n",
       " 0.8484822230273625,\n",
       " 0.8214362301478149,\n",
       " 0.7395064260322669,\n",
       " 0.8774068036417323,\n",
       " 0.853249661943214,\n",
       " 0.8816959284403246,\n",
       " 0.925057722906124,\n",
       " 0.8151828015344208,\n",
       " 0.12213740458015267,\n",
       " 0.8005919052951528,\n",
       " 0.8722458236409768,\n",
       " 0.9173107968018291,\n",
       " 0.9144103433766246,\n",
       " 0.9208616013554454,\n",
       " 0.921277589756358,\n",
       " 0.9254014662760701,\n",
       " 0.9423530241365068,\n",
       " 0.8659910938347637,\n",
       " 0.633961870050614,\n",
       " 0.7883592880978865,\n",
       " 0.5122172685497609,\n",
       " 0.6264797195123584,\n",
       " 0.6391135148247717,\n",
       " 0.820005025477402,\n",
       " 0.8644736321351646]"
      ]
     },
     "execution_count": 27,
     "metadata": {},
     "output_type": "execute_result"
    }
   ],
   "source": [
    "dsc"
   ]
  },
  {
   "cell_type": "code",
   "execution_count": null,
   "id": "98f270a6-b2e1-45d8-b9eb-ec30100675ab",
   "metadata": {},
   "outputs": [],
   "source": []
  }
 ],
 "metadata": {
  "kernelspec": {
   "display_name": "Python 3 (ipykernel)",
   "language": "python",
   "name": "python3"
  },
  "language_info": {
   "codemirror_mode": {
    "name": "ipython",
    "version": 3
   },
   "file_extension": ".py",
   "mimetype": "text/x-python",
   "name": "python",
   "nbconvert_exporter": "python",
   "pygments_lexer": "ipython3",
   "version": "3.8.0"
  }
 },
 "nbformat": 4,
 "nbformat_minor": 5
}
