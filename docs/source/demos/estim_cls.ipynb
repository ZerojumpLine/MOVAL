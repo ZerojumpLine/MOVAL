{
 "cells": [
  {
   "cell_type": "markdown",
   "id": "78e1590e-fe81-42a5-baeb-b5734c62df1a",
   "metadata": {},
   "source": [
    "# Performance Estimation of Classification"
   ]
  },
  {
   "cell_type": "markdown",
   "id": "8ba3dd68-4dba-4638-9de1-ab7847d24d90",
   "metadata": {},
   "source": [
    "Consider to download this Jupyter Notebook and run locally, or test it with Colab.\n",
    "<br>\n",
    "\n",
    "[![Download](https://img.shields.io/badge/Download-jupyter-blue)](https://github.com/ZerojumpLine/MOVAL/blob/main/docs/source/demos/estim_cls.ipynb)\n",
    "[![Open In Colab](https://colab.research.google.com/assets/colab-badge.svg)](https://colab.research.google.com/drive/1PHd9a4okUQpJ9EtlzTXCT6LIGphfPqUt)"
   ]
  },
  {
   "cell_type": "markdown",
   "id": "c9b5661b-b953-408e-9b23-b05ccdb8a241",
   "metadata": {},
   "source": [
    "* In this notebook, we will show how to evaluate the performance of classification tasks.\n",
    "<br>\n",
    "* We provide the model predicted classification results (network logits) for this tutorial, which will be download automatically. We also provide the model training code in https://github.com/ZerojumpLine/Robust-Skin-Lesion-Classification.\n",
    "<br>\n",
    "* More specifically, we show an example of estimating the performance under domain shifts on CIFAR10-LT based on ResNet. We will utilize the calculated logits on test dataset with sythesized motion blur condition.\n",
    "<br>\n",
    "* We will calculated model confidence with different confidence scores and varied calibration methods."
   ]
  },
  {
   "cell_type": "code",
   "execution_count": 1,
   "id": "015ad97d-ae79-4b0b-9a01-6ce2d6b14233",
   "metadata": {
    "scrolled": true
   },
   "outputs": [
    {
     "name": "stdout",
     "output_type": "stream",
     "text": [
      "Requirement already satisfied: moval in /Users/zejuli/opt/anaconda3/envs/moval/lib/python3.8/site-packages (0.3.6)\n",
      "Requirement already satisfied: scikit-learn>=1.3.0 in /Users/zejuli/opt/anaconda3/envs/moval/lib/python3.8/site-packages (from moval) (1.3.0)\n",
      "Requirement already satisfied: scipy>=1.8.0 in /Users/zejuli/opt/anaconda3/envs/moval/lib/python3.8/site-packages (from moval) (1.10.1)\n",
      "Requirement already satisfied: pytest in /Users/zejuli/opt/anaconda3/envs/moval/lib/python3.8/site-packages (from moval) (7.4.3)\n",
      "Requirement already satisfied: gdown in /Users/zejuli/opt/anaconda3/envs/moval/lib/python3.8/site-packages (from moval) (4.7.1)\n",
      "Requirement already satisfied: pandas in /Users/zejuli/opt/anaconda3/envs/moval/lib/python3.8/site-packages (from moval) (1.5.3)\n",
      "Requirement already satisfied: nibabel in /Users/zejuli/opt/anaconda3/envs/moval/lib/python3.8/site-packages (from moval) (5.1.0)\n",
      "Requirement already satisfied: numpy>=1.17.3 in /Users/zejuli/opt/anaconda3/envs/moval/lib/python3.8/site-packages (from scikit-learn>=1.3.0->moval) (1.24.4)\n",
      "Requirement already satisfied: joblib>=1.1.1 in /Users/zejuli/opt/anaconda3/envs/moval/lib/python3.8/site-packages (from scikit-learn>=1.3.0->moval) (1.3.1)\n",
      "Requirement already satisfied: threadpoolctl>=2.0.0 in /Users/zejuli/opt/anaconda3/envs/moval/lib/python3.8/site-packages (from scikit-learn>=1.3.0->moval) (3.1.0)\n",
      "Requirement already satisfied: filelock in /Users/zejuli/opt/anaconda3/envs/moval/lib/python3.8/site-packages (from gdown->moval) (3.13.1)\n",
      "Requirement already satisfied: requests[socks] in /Users/zejuli/.local/lib/python3.8/site-packages (from gdown->moval) (2.31.0)\n",
      "Requirement already satisfied: six in /Users/zejuli/.local/lib/python3.8/site-packages (from gdown->moval) (1.16.0)\n",
      "Requirement already satisfied: tqdm in /Users/zejuli/opt/anaconda3/envs/moval/lib/python3.8/site-packages (from gdown->moval) (4.65.0)\n",
      "Requirement already satisfied: beautifulsoup4 in /Users/zejuli/opt/anaconda3/envs/moval/lib/python3.8/site-packages (from gdown->moval) (4.12.2)\n",
      "Requirement already satisfied: importlib-resources>=1.3 in /Users/zejuli/.local/lib/python3.8/site-packages (from nibabel->moval) (5.12.0)\n",
      "Requirement already satisfied: packaging>=17 in /Users/zejuli/opt/anaconda3/envs/moval/lib/python3.8/site-packages (from nibabel->moval) (23.1)\n",
      "Requirement already satisfied: python-dateutil>=2.8.1 in /Users/zejuli/opt/anaconda3/envs/moval/lib/python3.8/site-packages (from pandas->moval) (2.8.2)\n",
      "Requirement already satisfied: pytz>=2020.1 in /Users/zejuli/opt/anaconda3/envs/moval/lib/python3.8/site-packages (from pandas->moval) (2023.3.post1)\n",
      "Requirement already satisfied: iniconfig in /Users/zejuli/opt/anaconda3/envs/moval/lib/python3.8/site-packages (from pytest->moval) (2.0.0)\n",
      "Requirement already satisfied: pluggy<2.0,>=0.12 in /Users/zejuli/opt/anaconda3/envs/moval/lib/python3.8/site-packages (from pytest->moval) (1.3.0)\n",
      "Requirement already satisfied: exceptiongroup>=1.0.0rc8 in /Users/zejuli/opt/anaconda3/envs/moval/lib/python3.8/site-packages (from pytest->moval) (1.1.3)\n",
      "Requirement already satisfied: tomli>=1.0.0 in /Users/zejuli/opt/anaconda3/envs/moval/lib/python3.8/site-packages (from pytest->moval) (2.0.1)\n",
      "Requirement already satisfied: zipp>=3.1.0 in /Users/zejuli/.local/lib/python3.8/site-packages (from importlib-resources>=1.3->nibabel->moval) (3.15.0)\n",
      "Requirement already satisfied: soupsieve>1.2 in /Users/zejuli/opt/anaconda3/envs/moval/lib/python3.8/site-packages (from beautifulsoup4->gdown->moval) (2.5)\n",
      "Requirement already satisfied: charset-normalizer<4,>=2 in /Users/zejuli/.local/lib/python3.8/site-packages (from requests[socks]->gdown->moval) (3.1.0)\n",
      "Requirement already satisfied: idna<4,>=2.5 in /Users/zejuli/.local/lib/python3.8/site-packages (from requests[socks]->gdown->moval) (3.4)\n",
      "Requirement already satisfied: urllib3<3,>=1.21.1 in /Users/zejuli/.local/lib/python3.8/site-packages (from requests[socks]->gdown->moval) (2.0.3)\n",
      "Requirement already satisfied: certifi>=2017.4.17 in /Users/zejuli/.local/lib/python3.8/site-packages (from requests[socks]->gdown->moval) (2023.5.7)\n",
      "Requirement already satisfied: PySocks!=1.5.7,>=1.5.6 in /Users/zejuli/opt/anaconda3/envs/moval/lib/python3.8/site-packages (from requests[socks]->gdown->moval) (1.7.1)\n",
      "Requirement already satisfied: statannotations in /Users/zejuli/opt/anaconda3/envs/moval/lib/python3.8/site-packages (0.6.0)\n",
      "Requirement already satisfied: numpy>=1.12.1 in /Users/zejuli/opt/anaconda3/envs/moval/lib/python3.8/site-packages (from statannotations) (1.24.4)\n",
      "Collecting seaborn<0.12,>=0.9.0 (from statannotations)\n",
      "  Using cached seaborn-0.11.2-py3-none-any.whl (292 kB)\n",
      "Requirement already satisfied: matplotlib>=2.2.2 in /Users/zejuli/opt/anaconda3/envs/moval/lib/python3.8/site-packages (from statannotations) (3.7.4)\n",
      "Requirement already satisfied: pandas<2.0.0,>=0.23.0 in /Users/zejuli/opt/anaconda3/envs/moval/lib/python3.8/site-packages (from statannotations) (1.5.3)\n",
      "Requirement already satisfied: scipy>=1.1.0 in /Users/zejuli/opt/anaconda3/envs/moval/lib/python3.8/site-packages (from statannotations) (1.10.1)\n",
      "Requirement already satisfied: contourpy>=1.0.1 in /Users/zejuli/opt/anaconda3/envs/moval/lib/python3.8/site-packages (from matplotlib>=2.2.2->statannotations) (1.1.1)\n",
      "Requirement already satisfied: cycler>=0.10 in /Users/zejuli/opt/anaconda3/envs/moval/lib/python3.8/site-packages (from matplotlib>=2.2.2->statannotations) (0.12.1)\n",
      "Requirement already satisfied: fonttools>=4.22.0 in /Users/zejuli/opt/anaconda3/envs/moval/lib/python3.8/site-packages (from matplotlib>=2.2.2->statannotations) (4.46.0)\n",
      "Requirement already satisfied: kiwisolver>=1.0.1 in /Users/zejuli/opt/anaconda3/envs/moval/lib/python3.8/site-packages (from matplotlib>=2.2.2->statannotations) (1.4.5)\n",
      "Requirement already satisfied: packaging>=20.0 in /Users/zejuli/opt/anaconda3/envs/moval/lib/python3.8/site-packages (from matplotlib>=2.2.2->statannotations) (23.1)\n",
      "Requirement already satisfied: pillow>=6.2.0 in /Users/zejuli/opt/anaconda3/envs/moval/lib/python3.8/site-packages (from matplotlib>=2.2.2->statannotations) (10.1.0)\n",
      "Requirement already satisfied: pyparsing>=2.3.1 in /Users/zejuli/opt/anaconda3/envs/moval/lib/python3.8/site-packages (from matplotlib>=2.2.2->statannotations) (3.1.1)\n",
      "Requirement already satisfied: python-dateutil>=2.7 in /Users/zejuli/opt/anaconda3/envs/moval/lib/python3.8/site-packages (from matplotlib>=2.2.2->statannotations) (2.8.2)\n",
      "Requirement already satisfied: importlib-resources>=3.2.0 in /Users/zejuli/.local/lib/python3.8/site-packages (from matplotlib>=2.2.2->statannotations) (5.12.0)\n",
      "Requirement already satisfied: pytz>=2020.1 in /Users/zejuli/opt/anaconda3/envs/moval/lib/python3.8/site-packages (from pandas<2.0.0,>=0.23.0->statannotations) (2023.3.post1)\n",
      "Requirement already satisfied: zipp>=3.1.0 in /Users/zejuli/.local/lib/python3.8/site-packages (from importlib-resources>=3.2.0->matplotlib>=2.2.2->statannotations) (3.15.0)\n",
      "Requirement already satisfied: six>=1.5 in /Users/zejuli/.local/lib/python3.8/site-packages (from python-dateutil>=2.7->matplotlib>=2.2.2->statannotations) (1.16.0)\n",
      "Installing collected packages: seaborn\n",
      "  Attempting uninstall: seaborn\n",
      "    Found existing installation: seaborn 0.12.0\n",
      "    Uninstalling seaborn-0.12.0:\n",
      "      Successfully uninstalled seaborn-0.12.0\n",
      "Successfully installed seaborn-0.11.2\n",
      "Requirement already satisfied: pandas in /Users/zejuli/opt/anaconda3/envs/moval/lib/python3.8/site-packages (1.5.3)\n",
      "Requirement already satisfied: python-dateutil>=2.8.1 in /Users/zejuli/opt/anaconda3/envs/moval/lib/python3.8/site-packages (from pandas) (2.8.2)\n",
      "Requirement already satisfied: pytz>=2020.1 in /Users/zejuli/opt/anaconda3/envs/moval/lib/python3.8/site-packages (from pandas) (2023.3.post1)\n",
      "Requirement already satisfied: numpy>=1.20.3 in /Users/zejuli/opt/anaconda3/envs/moval/lib/python3.8/site-packages (from pandas) (1.24.4)\n",
      "Requirement already satisfied: six>=1.5 in /Users/zejuli/.local/lib/python3.8/site-packages (from python-dateutil>=2.8.1->pandas) (1.16.0)\n",
      "Requirement already satisfied: tqdm in /Users/zejuli/opt/anaconda3/envs/moval/lib/python3.8/site-packages (4.65.0)\n",
      "Requirement already satisfied: matplotlib in /Users/zejuli/opt/anaconda3/envs/moval/lib/python3.8/site-packages (3.7.4)\n",
      "Requirement already satisfied: contourpy>=1.0.1 in /Users/zejuli/opt/anaconda3/envs/moval/lib/python3.8/site-packages (from matplotlib) (1.1.1)\n",
      "Requirement already satisfied: cycler>=0.10 in /Users/zejuli/opt/anaconda3/envs/moval/lib/python3.8/site-packages (from matplotlib) (0.12.1)\n",
      "Requirement already satisfied: fonttools>=4.22.0 in /Users/zejuli/opt/anaconda3/envs/moval/lib/python3.8/site-packages (from matplotlib) (4.46.0)\n",
      "Requirement already satisfied: kiwisolver>=1.0.1 in /Users/zejuli/opt/anaconda3/envs/moval/lib/python3.8/site-packages (from matplotlib) (1.4.5)\n",
      "Requirement already satisfied: numpy<2,>=1.20 in /Users/zejuli/opt/anaconda3/envs/moval/lib/python3.8/site-packages (from matplotlib) (1.24.4)\n",
      "Requirement already satisfied: packaging>=20.0 in /Users/zejuli/opt/anaconda3/envs/moval/lib/python3.8/site-packages (from matplotlib) (23.1)\n",
      "Requirement already satisfied: pillow>=6.2.0 in /Users/zejuli/opt/anaconda3/envs/moval/lib/python3.8/site-packages (from matplotlib) (10.1.0)\n",
      "Requirement already satisfied: pyparsing>=2.3.1 in /Users/zejuli/opt/anaconda3/envs/moval/lib/python3.8/site-packages (from matplotlib) (3.1.1)\n",
      "Requirement already satisfied: python-dateutil>=2.7 in /Users/zejuli/opt/anaconda3/envs/moval/lib/python3.8/site-packages (from matplotlib) (2.8.2)\n",
      "Requirement already satisfied: importlib-resources>=3.2.0 in /Users/zejuli/.local/lib/python3.8/site-packages (from matplotlib) (5.12.0)\n",
      "Requirement already satisfied: zipp>=3.1.0 in /Users/zejuli/.local/lib/python3.8/site-packages (from importlib-resources>=3.2.0->matplotlib) (3.15.0)\n",
      "Requirement already satisfied: six>=1.5 in /Users/zejuli/.local/lib/python3.8/site-packages (from python-dateutil>=2.7->matplotlib) (1.16.0)\n",
      "Collecting seaborn==0.12\n",
      "  Using cached seaborn-0.12.0-py3-none-any.whl (285 kB)\n",
      "Requirement already satisfied: numpy>=1.17 in /Users/zejuli/opt/anaconda3/envs/moval/lib/python3.8/site-packages (from seaborn==0.12) (1.24.4)\n",
      "Requirement already satisfied: pandas>=0.25 in /Users/zejuli/opt/anaconda3/envs/moval/lib/python3.8/site-packages (from seaborn==0.12) (1.5.3)\n",
      "Requirement already satisfied: matplotlib>=3.1 in /Users/zejuli/opt/anaconda3/envs/moval/lib/python3.8/site-packages (from seaborn==0.12) (3.7.4)\n",
      "Requirement already satisfied: contourpy>=1.0.1 in /Users/zejuli/opt/anaconda3/envs/moval/lib/python3.8/site-packages (from matplotlib>=3.1->seaborn==0.12) (1.1.1)\n",
      "Requirement already satisfied: cycler>=0.10 in /Users/zejuli/opt/anaconda3/envs/moval/lib/python3.8/site-packages (from matplotlib>=3.1->seaborn==0.12) (0.12.1)\n",
      "Requirement already satisfied: fonttools>=4.22.0 in /Users/zejuli/opt/anaconda3/envs/moval/lib/python3.8/site-packages (from matplotlib>=3.1->seaborn==0.12) (4.46.0)\n",
      "Requirement already satisfied: kiwisolver>=1.0.1 in /Users/zejuli/opt/anaconda3/envs/moval/lib/python3.8/site-packages (from matplotlib>=3.1->seaborn==0.12) (1.4.5)\n",
      "Requirement already satisfied: packaging>=20.0 in /Users/zejuli/opt/anaconda3/envs/moval/lib/python3.8/site-packages (from matplotlib>=3.1->seaborn==0.12) (23.1)\n",
      "Requirement already satisfied: pillow>=6.2.0 in /Users/zejuli/opt/anaconda3/envs/moval/lib/python3.8/site-packages (from matplotlib>=3.1->seaborn==0.12) (10.1.0)\n",
      "Requirement already satisfied: pyparsing>=2.3.1 in /Users/zejuli/opt/anaconda3/envs/moval/lib/python3.8/site-packages (from matplotlib>=3.1->seaborn==0.12) (3.1.1)\n",
      "Requirement already satisfied: python-dateutil>=2.7 in /Users/zejuli/opt/anaconda3/envs/moval/lib/python3.8/site-packages (from matplotlib>=3.1->seaborn==0.12) (2.8.2)\n",
      "Requirement already satisfied: importlib-resources>=3.2.0 in /Users/zejuli/.local/lib/python3.8/site-packages (from matplotlib>=3.1->seaborn==0.12) (5.12.0)\n",
      "Requirement already satisfied: pytz>=2020.1 in /Users/zejuli/opt/anaconda3/envs/moval/lib/python3.8/site-packages (from pandas>=0.25->seaborn==0.12) (2023.3.post1)\n",
      "Requirement already satisfied: zipp>=3.1.0 in /Users/zejuli/.local/lib/python3.8/site-packages (from importlib-resources>=3.2.0->matplotlib>=3.1->seaborn==0.12) (3.15.0)\n",
      "Requirement already satisfied: six>=1.5 in /Users/zejuli/.local/lib/python3.8/site-packages (from python-dateutil>=2.7->matplotlib>=3.1->seaborn==0.12) (1.16.0)\n",
      "Installing collected packages: seaborn\n",
      "  Attempting uninstall: seaborn\n",
      "    Found existing installation: seaborn 0.11.2\n",
      "    Uninstalling seaborn-0.11.2:\n",
      "      Successfully uninstalled seaborn-0.11.2\n",
      "\u001b[31mERROR: pip's dependency resolver does not currently take into account all the packages that are installed. This behaviour is the source of the following dependency conflicts.\n",
      "statannotations 0.6.0 requires seaborn<0.12,>=0.9.0, but you have seaborn 0.12.0 which is incompatible.\u001b[0m\u001b[31m\n",
      "\u001b[0mSuccessfully installed seaborn-0.12.0\n"
     ]
    }
   ],
   "source": [
    "!pip install moval\n",
    "!pip install statannotations\n",
    "!pip install pandas\n",
    "!pip install tqdm\n",
    "!pip install matplotlib\n",
    "!pip install seaborn==0.12 # because statannotations not support the latest"
   ]
  },
  {
   "cell_type": "code",
   "execution_count": 2,
   "id": "e59b52b4-b5fe-469c-aa24-1449de534cae",
   "metadata": {},
   "outputs": [],
   "source": [
    "import os\n",
    "import gdown\n",
    "import itertools\n",
    "import zipfile\n",
    "import pandas as pd\n",
    "import numpy as np\n",
    "import moval\n",
    "from tqdm import tqdm\n",
    "import seaborn as sns\n",
    "import matplotlib.pyplot as plt"
   ]
  },
  {
   "cell_type": "code",
   "execution_count": 3,
   "id": "6977ce44-fe9b-4ee4-ba98-4bcb1cc406ec",
   "metadata": {},
   "outputs": [
    {
     "name": "stdout",
     "output_type": "stream",
     "text": [
      "The installed MOVAL verision is 0.3.6\n",
      "The installed seaborn verision is 0.12.0\n"
     ]
    }
   ],
   "source": [
    "print(f\"The installed MOVAL verision is {moval.__version__}\")\n",
    "print(f\"The installed seaborn verision is {sns.__version__}\")"
   ]
  },
  {
   "cell_type": "markdown",
   "id": "fe14651d-7f62-41dc-8aaf-dcdb4f80e4fd",
   "metadata": {},
   "source": [
    "## Load the data"
   ]
  },
  {
   "cell_type": "code",
   "execution_count": 4,
   "id": "f1dd6df0-d477-408c-96bb-3f560d4dc3d5",
   "metadata": {},
   "outputs": [],
   "source": [
    "# download the data, which we used for MICCAI 2022\n",
    "\n",
    "output = \"data_moval.zip\"\n",
    "if not os.path.exists(output):\n",
    "    url = \"https://drive.google.com/u/0/uc?id=139pqxkG2ccIFq6qNArnFJWQ2by2Spbxt&export=download\"\n",
    "    output = \"data_moval.zip\"\n",
    "    gdown.download(url, output, quiet=False)\n",
    "\n",
    "directory_data = \"data_moval\"\n",
    "if not os.path.exists(directory_data):\n",
    "    with zipfile.ZipFile(output, 'r') as zip_ref:\n",
    "        zip_ref.extractall(directory_data)"
   ]
  },
  {
   "cell_type": "code",
   "execution_count": 5,
   "id": "988c917a-97eb-4b9c-a5ab-5443cfe9e9d6",
   "metadata": {},
   "outputs": [
    {
     "name": "stdout",
     "output_type": "stream",
     "text": [
      "analysis_cls.ipynb    data_moval_supp.zip   \u001b[34mimg_cifar\u001b[m\u001b[m/\n",
      "analysis_seg2d.ipynb  estim_cls.ipynb       img_cifar.zip\n",
      "analysis_seg3d.ipynb  estim_seg2d.ipynb     \u001b[34mimg_prostate\u001b[m\u001b[m/\n",
      "\u001b[34mdata_moval\u001b[m\u001b[m/           estim_seg3d.ipynb     img_prostate.zip\n",
      "data_moval.zip        \u001b[34mimg_cardiac\u001b[m\u001b[m/\n",
      "\u001b[34mdata_moval_supp\u001b[m\u001b[m/      img_cardiac.zip\n"
     ]
    }
   ],
   "source": [
    "ls"
   ]
  },
  {
   "cell_type": "code",
   "execution_count": 6,
   "id": "ee78b79d-d4a4-4019-b011-39b2eb11d96d",
   "metadata": {},
   "outputs": [],
   "source": [
    "# now I am playing with cifar10 classification\n",
    "val_data =  \"data_moval/cifar10results/predictions_val.csv\"\n",
    "test_data = \"data_moval/cifar10results/predictions_val_motion_blur.csv\"\n",
    "# validation data\n",
    "cnn_pred = pd.read_csv(val_data)\n",
    "targets_all = np.array(cnn_pred[['target_0', 'target_1', 'target_2', 'target_3', 'target_4', \n",
    "                                 'target_5', 'target_6', 'target_7', 'target_8', 'target_9']])\n",
    "logits = np.array(cnn_pred[['logit_0', 'logit_1', 'logit_2', 'logit_3', 'logit_4', \n",
    "                               'logit_5', 'logit_6', 'logit_7', 'logit_8', 'logit_9']])\n",
    "gt = np.argmax(targets_all, axis = 1)\n",
    "# logits is of shape ``(n, d)``\n",
    "# gt is of shape ``(n, )``\n",
    "\n",
    "# test data\n",
    "cnn_pred_test = pd.read_csv(test_data)\n",
    "targets_all_test = np.array(cnn_pred_test[['target_0', 'target_1', 'target_2', 'target_3', 'target_4', \n",
    "                                           'target_5', 'target_6', 'target_7', 'target_8', 'target_9']])\n",
    "logits_test = np.array(cnn_pred_test[['logit_0', 'logit_1', 'logit_2', 'logit_3', 'logit_4', \n",
    "                                      'logit_5', 'logit_6', 'logit_7', 'logit_8', 'logit_9']])\n",
    "gt_test = np.argmax(targets_all_test, axis = 1)"
   ]
  },
  {
   "cell_type": "code",
   "execution_count": 7,
   "id": "c74fe922-256a-4ac6-b6cc-e126d8cf0d02",
   "metadata": {},
   "outputs": [],
   "source": [
    "# Here I want to split the test data such that they are not overlapped.\n",
    "import random\n",
    "random.seed(79)\n",
    "test_ind = list(range(10000))\n",
    "random.shuffle(test_ind)\n",
    "#\n",
    "val_ind = test_ind[:3000]\n",
    "testc_indx_1 = test_ind[3000:]\n",
    "testc_indx_2 = [x+10000 for x in test_ind[3000:]]\n",
    "testc_indx_3 = [x+20000 for x in test_ind[3000:]]\n",
    "testc_indx_4 = [x+30000 for x in test_ind[3000:]]\n",
    "testc_indx_5 = [x+40000 for x in test_ind[3000:]]\n",
    "testc_indxs = [testc_indx_1, testc_indx_2, testc_indx_3, testc_indx_4, testc_indx_5]\n",
    "#"
   ]
  },
  {
   "cell_type": "code",
   "execution_count": 8,
   "id": "cd0206ef-02a4-4f99-b27a-caf7eb62da83",
   "metadata": {},
   "outputs": [],
   "source": [
    "logits_val = logits[val_ind, :]\n",
    "gt_val = gt[val_ind]\n",
    "#\n",
    "logits_tests = []\n",
    "gt_tests = []\n",
    "#\n",
    "for testc_indx in testc_indxs:\n",
    "    #\n",
    "    logits_tests.append(logits_test[testc_indx, :])\n",
    "    gt_tests.append(gt_test[testc_indx])"
   ]
  },
  {
   "cell_type": "code",
   "execution_count": 9,
   "id": "891ccb3c-af2f-4d68-87bc-129630c4f6a4",
   "metadata": {},
   "outputs": [
    {
     "name": "stdout",
     "output_type": "stream",
     "text": [
      "The validation predictions, ``logits`` are of shape (n, d), which are now (3000, 10)\n",
      "The validation labels, ``gt`` are of shape (n, ), which are now (3000,)\n",
      "\n",
      "The number of test conditions is 5\n",
      "The test predictions, ``logits_test`` are of shape (n', d), which are now (7000, 10)\n",
      "The test labels, ``gt_test`` are of shape (n', ), which are now (7000,)\n"
     ]
    }
   ],
   "source": [
    "print(f\"The validation predictions, ``logits`` are of shape (n, d), which are now {logits_val.shape}\")\n",
    "print(f\"The validation labels, ``gt`` are of shape (n, ), which are now {gt_val.shape}\\n\")\n",
    "print(f\"The number of test conditions is {len(logits_tests)}\")\n",
    "print(f\"The test predictions, ``logits_test`` are of shape (n', d), which are now {logits_tests[0].shape}\")\n",
    "print(f\"The test labels, ``gt_test`` are of shape (n', ), which are now {gt_tests[0].shape}\")"
   ]
  },
  {
   "cell_type": "markdown",
   "id": "b530131b-feee-4cad-a54e-7acf506063db",
   "metadata": {},
   "source": [
    "## MOVAL estimation on accuracy"
   ]
  },
  {
   "cell_type": "code",
   "execution_count": 10,
   "id": "29c9b3f1-8d3e-4f0d-aacb-9cb362f6d5de",
   "metadata": {},
   "outputs": [],
   "source": [
    "moval_options = list(itertools.product(moval.models.get_estim_options(),\n",
    "                               [\"classification\"],\n",
    "                               moval.models.get_conf_options(),\n",
    "                               [False, True]))"
   ]
  },
  {
   "cell_type": "code",
   "execution_count": 11,
   "id": "c7ec3b5e-54da-49e0-bd53-c94ecf2b89f4",
   "metadata": {},
   "outputs": [],
   "source": [
    "# ac-model does not need class-speicfic variants\n",
    "for moval_option in moval_options:\n",
    "    if moval_option[0] == 'ac-model' and moval_option[-1] == True:\n",
    "        moval_options.remove(moval_option)"
   ]
  },
  {
   "cell_type": "code",
   "execution_count": 12,
   "id": "cdb30ae2-84e5-452a-8d8c-6795df9d30cf",
   "metadata": {},
   "outputs": [
    {
     "name": "stdout",
     "output_type": "stream",
     "text": [
      "The number of moval options is 36\n"
     ]
    }
   ],
   "source": [
    "print(f\"The number of moval options is {len(moval_options)}\")"
   ]
  },
  {
   "cell_type": "code",
   "execution_count": 13,
   "id": "f712cb2c-3abc-4da9-b1bc-055ee70f0120",
   "metadata": {},
   "outputs": [],
   "source": [
    "from moval.solvers.utils import ComputMetric, ComputAUC\n",
    "from moval.models.utils import cal_softmax\n",
    "\n",
    "def test_cls(estim_algorithm, mode, metric, confidence_scores, class_specific, logits, gt, logits_tests, gt_tests):\n",
    "    \"\"\"Test MOVAL with different conditions for classification tasks\n",
    "        \n",
    "    Args:\n",
    "        mode (str): The given task to estimate model performance.\n",
    "        metrc (str): The metric to be estimated.\n",
    "        confidence_scores (str):\n",
    "            The method to calculate the confidence scores. We provide a list of confidence score calculation methods which \n",
    "            can be displayed by running :py:func:`moval.models.get_conf_options`.\n",
    "        estim_algorithm (str):\n",
    "            The algorithm to estimate model performance. We also provide a list of estimation algorithm which can be displayed by\n",
    "            running :py:func:`moval.models.get_estim_options`.\n",
    "        class_specific (bool):\n",
    "            If ``True``, the calculation will match class-wise confidence to class-wise accuracy.\n",
    "        logits: The network output (logits) of shape ``(n, d)`` for classification. \n",
    "        gt: The cooresponding annotation of shape ``(n, )`` for classification.\n",
    "        logits_tests:  A list of m test conditions ``(n', d)``.\n",
    "        gt_test: The cooresponding annotation of a list of m ``(n', )``.\n",
    "\n",
    "    Returns:\n",
    "        err_test: A list of m test err.\n",
    "        moval_model: Optimized moval model.\n",
    "\n",
    "    \"\"\"\n",
    "    \n",
    "    moval_model = moval.MOVAL(\n",
    "                mode = mode,\n",
    "                metric = metric,\n",
    "                confidence_scores = confidence_scores,\n",
    "                estim_algorithm = estim_algorithm,\n",
    "                class_specific = class_specific\n",
    "                )\n",
    "\n",
    "    #\n",
    "    moval_model.fit(logits, gt)\n",
    "\n",
    "    # save the test err in the result files.\n",
    "\n",
    "    err_tests = []\n",
    "    for k_test in range(len(logits_tests)):\n",
    "\n",
    "        _logits_test = logits_tests[k_test]\n",
    "        _gt_test = gt_tests[k_test]\n",
    "        \n",
    "        estim_acc_test = moval_model.estimate(_logits_test)\n",
    "        \n",
    "        pred_test = np.argmax(_logits_test, axis = 1)\n",
    "        if metric == \"accuracy\":\n",
    "            \n",
    "            real_metric = np.sum(_gt_test == pred_test) / len(_gt_test)\n",
    "        elif metric == \"sensitivity\":\n",
    "            real_sensitivities = []\n",
    "            for kcls in range(_logits_test.shape[1]):\n",
    "                _, real_sensitivity, _ = ComputMetric(_gt_test == kcls, pred_test == kcls)\n",
    "                real_sensitivities.append(real_sensitivity)\n",
    "            real_metric = real_sensitivities\n",
    "        elif metric == \"precision\":\n",
    "            real_precisions = []\n",
    "            for kcls in range(_logits_test.shape[1]):\n",
    "                _, _, real_precision = ComputMetric(_gt_test == kcls, pred_test == kcls)\n",
    "                real_precisions.append(real_precision)\n",
    "            real_metric = real_precisions\n",
    "        elif metric == \"f1score\":\n",
    "            real_F1scores = []\n",
    "            for kcls in range(_logits_test.shape[1]):\n",
    "                real_F1score, _, _ = ComputMetric(_gt_test == kcls, pred_test == kcls)\n",
    "                real_F1scores.append(real_F1score)\n",
    "            real_metric = real_F1scores\n",
    "        else:\n",
    "            real_auc = ComputAUC(_gt_test, cal_softmax(_logits_test))\n",
    "            real_metric = real_auc\n",
    "        \n",
    "        err_test = np.mean(np.abs(real_metric - estim_acc_test ))\n",
    "        err_tests.append(err_test)\n",
    "\n",
    "    return err_tests, moval_model"
   ]
  },
  {
   "cell_type": "code",
   "execution_count": 14,
   "id": "5d464f40-8cf5-45ca-a006-6cd1eeaa402a",
   "metadata": {},
   "outputs": [],
   "source": [
    "err_test_list = []\n",
    "moval_parameters = []\n",
    "moval_parameters_ = []"
   ]
  },
  {
   "cell_type": "code",
   "execution_count": 15,
   "id": "02be912a-16dc-4bd2-9476-3ab798ac41d4",
   "metadata": {
    "scrolled": true
   },
   "outputs": [
    {
     "name": "stderr",
     "output_type": "stream",
     "text": [
      "  0%|                                                                                                                                                                                              | 0/36 [00:00<?, ?it/s]"
     ]
    },
    {
     "name": "stdout",
     "output_type": "stream",
     "text": [
      "Starting optimizing for model ac-model with confidence max_class_probability-conf based on metric accuracy, class specific is False.\n",
      "Calculating and saving the fitted case-wise performance...\n"
     ]
    },
    {
     "name": "stderr",
     "output_type": "stream",
     "text": [
      "  3%|█████                                                                                                                                                                                 | 1/36 [00:00<00:07,  4.71it/s]"
     ]
    },
    {
     "name": "stdout",
     "output_type": "stream",
     "text": [
      "Starting optimizing for model ac-model with confidence energy-conf based on metric accuracy, class specific is False.\n",
      "Calculating and saving the fitted case-wise performance...\n"
     ]
    },
    {
     "name": "stderr",
     "output_type": "stream",
     "text": [
      "  6%|██████████                                                                                                                                                                            | 2/36 [00:00<00:07,  4.78it/s]"
     ]
    },
    {
     "name": "stdout",
     "output_type": "stream",
     "text": [
      "Starting optimizing for model ac-model with confidence entropy-conf based on metric accuracy, class specific is False.\n",
      "Calculating and saving the fitted case-wise performance...\n"
     ]
    },
    {
     "name": "stderr",
     "output_type": "stream",
     "text": [
      "  8%|███████████████▏                                                                                                                                                                      | 3/36 [00:00<00:08,  4.08it/s]"
     ]
    },
    {
     "name": "stdout",
     "output_type": "stream",
     "text": [
      "Starting optimizing for model ac-model with confidence doctor-conf based on metric accuracy, class specific is False.\n",
      "Calculating and saving the fitted case-wise performance...\n"
     ]
    },
    {
     "name": "stderr",
     "output_type": "stream",
     "text": [
      " 11%|████████████████████▏                                                                                                                                                                 | 4/36 [00:00<00:07,  4.01it/s]"
     ]
    },
    {
     "name": "stdout",
     "output_type": "stream",
     "text": [
      "Starting optimizing for model ts-model with confidence max_class_probability-conf based on metric accuracy, class specific is False.\n",
      "Opitimizing with 3000 samples...\n",
      "Calculating and saving the fitted case-wise performance...\n"
     ]
    },
    {
     "name": "stderr",
     "output_type": "stream",
     "text": [
      " 14%|█████████████████████████▎                                                                                                                                                            | 5/36 [00:01<00:07,  3.99it/s]"
     ]
    },
    {
     "name": "stdout",
     "output_type": "stream",
     "text": [
      "Starting optimizing for model ts-model with confidence max_class_probability-conf based on metric accuracy, class specific is True.\n",
      "Opitimizing with 3000 samples...\n",
      "Calculating and saving the fitted case-wise performance...\n"
     ]
    },
    {
     "name": "stderr",
     "output_type": "stream",
     "text": [
      " 17%|██████████████████████████████▎                                                                                                                                                       | 6/36 [00:02<00:20,  1.47it/s]"
     ]
    },
    {
     "name": "stdout",
     "output_type": "stream",
     "text": [
      "Starting optimizing for model ts-model with confidence energy-conf based on metric accuracy, class specific is False.\n",
      "Opitimizing with 3000 samples...\n",
      "Calculating and saving the fitted case-wise performance...\n"
     ]
    },
    {
     "name": "stderr",
     "output_type": "stream",
     "text": [
      " 19%|███████████████████████████████████▍                                                                                                                                                  | 7/36 [00:02<00:15,  1.87it/s]"
     ]
    },
    {
     "name": "stdout",
     "output_type": "stream",
     "text": [
      "Starting optimizing for model ts-model with confidence energy-conf based on metric accuracy, class specific is True.\n",
      "Opitimizing with 3000 samples...\n",
      "Calculating and saving the fitted case-wise performance...\n"
     ]
    },
    {
     "name": "stderr",
     "output_type": "stream",
     "text": [
      " 22%|████████████████████████████████████████▍                                                                                                                                             | 8/36 [00:04<00:19,  1.41it/s]"
     ]
    },
    {
     "name": "stdout",
     "output_type": "stream",
     "text": [
      "Starting optimizing for model ts-model with confidence entropy-conf based on metric accuracy, class specific is False.\n",
      "Opitimizing with 3000 samples...\n",
      "Calculating and saving the fitted case-wise performance...\n"
     ]
    },
    {
     "name": "stderr",
     "output_type": "stream",
     "text": [
      " 25%|█████████████████████████████████████████████▌                                                                                                                                        | 9/36 [00:04<00:16,  1.68it/s]"
     ]
    },
    {
     "name": "stdout",
     "output_type": "stream",
     "text": [
      "Starting optimizing for model ts-model with confidence entropy-conf based on metric accuracy, class specific is True.\n",
      "Opitimizing with 3000 samples...\n",
      "Calculating and saving the fitted case-wise performance...\n"
     ]
    },
    {
     "name": "stderr",
     "output_type": "stream",
     "text": [
      " 28%|██████████████████████████████████████████████████▎                                                                                                                                  | 10/36 [00:06<00:30,  1.18s/it]"
     ]
    },
    {
     "name": "stdout",
     "output_type": "stream",
     "text": [
      "Starting optimizing for model ts-model with confidence doctor-conf based on metric accuracy, class specific is False.\n",
      "Opitimizing with 3000 samples...\n",
      "Calculating and saving the fitted case-wise performance...\n"
     ]
    },
    {
     "name": "stderr",
     "output_type": "stream",
     "text": [
      " 31%|███████████████████████████████████████████████████████▎                                                                                                                             | 11/36 [00:07<00:22,  1.09it/s]"
     ]
    },
    {
     "name": "stdout",
     "output_type": "stream",
     "text": [
      "Starting optimizing for model ts-model with confidence doctor-conf based on metric accuracy, class specific is True.\n",
      "Opitimizing with 3000 samples...\n",
      "Calculating and saving the fitted case-wise performance...\n"
     ]
    },
    {
     "name": "stderr",
     "output_type": "stream",
     "text": [
      " 33%|████████████████████████████████████████████████████████████▎                                                                                                                        | 12/36 [00:08<00:27,  1.15s/it]"
     ]
    },
    {
     "name": "stdout",
     "output_type": "stream",
     "text": [
      "Starting optimizing for model doc-model with confidence max_class_probability-conf based on metric accuracy, class specific is False.\n",
      "Opitimizing with 3000 samples...\n",
      "Calculating and saving the fitted case-wise performance...\n"
     ]
    },
    {
     "name": "stderr",
     "output_type": "stream",
     "text": [
      " 36%|█████████████████████████████████████████████████████████████████▎                                                                                                                   | 13/36 [00:09<00:20,  1.13it/s]"
     ]
    },
    {
     "name": "stdout",
     "output_type": "stream",
     "text": [
      "Starting optimizing for model doc-model with confidence max_class_probability-conf based on metric accuracy, class specific is True.\n",
      "Opitimizing with 3000 samples...\n",
      "Calculating and saving the fitted case-wise performance...\n"
     ]
    },
    {
     "name": "stderr",
     "output_type": "stream",
     "text": [
      " 39%|██████████████████████████████████████████████████████████████████████▍                                                                                                              | 14/36 [00:10<00:19,  1.13it/s]"
     ]
    },
    {
     "name": "stdout",
     "output_type": "stream",
     "text": [
      "Starting optimizing for model doc-model with confidence energy-conf based on metric accuracy, class specific is False.\n",
      "Opitimizing with 3000 samples...\n",
      "Calculating and saving the fitted case-wise performance...\n"
     ]
    },
    {
     "name": "stderr",
     "output_type": "stream",
     "text": [
      " 42%|███████████████████████████████████████████████████████████████████████████▍                                                                                                         | 15/36 [00:10<00:14,  1.44it/s]"
     ]
    },
    {
     "name": "stdout",
     "output_type": "stream",
     "text": [
      "Starting optimizing for model doc-model with confidence energy-conf based on metric accuracy, class specific is True.\n",
      "Opitimizing with 3000 samples...\n",
      "Calculating and saving the fitted case-wise performance...\n"
     ]
    },
    {
     "name": "stderr",
     "output_type": "stream",
     "text": [
      " 44%|████████████████████████████████████████████████████████████████████████████████▍                                                                                                    | 16/36 [00:11<00:13,  1.43it/s]"
     ]
    },
    {
     "name": "stdout",
     "output_type": "stream",
     "text": [
      "Starting optimizing for model doc-model with confidence entropy-conf based on metric accuracy, class specific is False.\n",
      "Opitimizing with 3000 samples...\n",
      "Calculating and saving the fitted case-wise performance...\n"
     ]
    },
    {
     "name": "stderr",
     "output_type": "stream",
     "text": [
      " 47%|█████████████████████████████████████████████████████████████████████████████████████▍                                                                                               | 17/36 [00:11<00:11,  1.63it/s]"
     ]
    },
    {
     "name": "stdout",
     "output_type": "stream",
     "text": [
      "Starting optimizing for model doc-model with confidence entropy-conf based on metric accuracy, class specific is True.\n",
      "Opitimizing with 3000 samples...\n",
      "Calculating and saving the fitted case-wise performance...\n"
     ]
    },
    {
     "name": "stderr",
     "output_type": "stream",
     "text": [
      " 50%|██████████████████████████████████████████████████████████████████████████████████████████▌                                                                                          | 18/36 [00:12<00:13,  1.34it/s]"
     ]
    },
    {
     "name": "stdout",
     "output_type": "stream",
     "text": [
      "Starting optimizing for model doc-model with confidence doctor-conf based on metric accuracy, class specific is False.\n",
      "Opitimizing with 3000 samples...\n",
      "Calculating and saving the fitted case-wise performance...\n"
     ]
    },
    {
     "name": "stderr",
     "output_type": "stream",
     "text": [
      " 53%|███████████████████████████████████████████████████████████████████████████████████████████████▌                                                                                     | 19/36 [00:12<00:10,  1.60it/s]"
     ]
    },
    {
     "name": "stdout",
     "output_type": "stream",
     "text": [
      "Starting optimizing for model doc-model with confidence doctor-conf based on metric accuracy, class specific is True.\n",
      "Opitimizing with 3000 samples...\n",
      "Calculating and saving the fitted case-wise performance...\n"
     ]
    },
    {
     "name": "stderr",
     "output_type": "stream",
     "text": [
      " 56%|████████████████████████████████████████████████████████████████████████████████████████████████████▌                                                                                | 20/36 [00:13<00:11,  1.40it/s]"
     ]
    },
    {
     "name": "stdout",
     "output_type": "stream",
     "text": [
      "Starting optimizing for model atc-model with confidence max_class_probability-conf based on metric accuracy, class specific is False.\n",
      "Opitimizing with 3000 samples...\n",
      "Calculating and saving the fitted case-wise performance...\n"
     ]
    },
    {
     "name": "stderr",
     "output_type": "stream",
     "text": [
      " 58%|█████████████████████████████████████████████████████████████████████████████████████████████████████████▌                                                                           | 21/36 [00:13<00:08,  1.73it/s]"
     ]
    },
    {
     "name": "stdout",
     "output_type": "stream",
     "text": [
      "Starting optimizing for model atc-model with confidence max_class_probability-conf based on metric accuracy, class specific is True.\n",
      "Opitimizing with 3000 samples...\n",
      "Calculating and saving the fitted case-wise performance...\n"
     ]
    },
    {
     "name": "stderr",
     "output_type": "stream",
     "text": [
      " 61%|██████████████████████████████████████████████████████████████████████████████████████████████████████████████▌                                                                      | 22/36 [00:15<00:10,  1.38it/s]"
     ]
    },
    {
     "name": "stdout",
     "output_type": "stream",
     "text": [
      "Starting optimizing for model atc-model with confidence energy-conf based on metric accuracy, class specific is False.\n",
      "Opitimizing with 3000 samples...\n",
      "Calculating and saving the fitted case-wise performance...\n"
     ]
    },
    {
     "name": "stderr",
     "output_type": "stream",
     "text": [
      " 64%|███████████████████████████████████████████████████████████████████████████████████████████████████████████████████▋                                                                 | 23/36 [00:15<00:07,  1.73it/s]"
     ]
    },
    {
     "name": "stdout",
     "output_type": "stream",
     "text": [
      "Starting optimizing for model atc-model with confidence energy-conf based on metric accuracy, class specific is True.\n",
      "Opitimizing with 3000 samples...\n",
      "Not satisfied with initial optimization results of param for class 0, trying more initial states...\n",
      "Tried 1/5 times.\n",
      "Tried 2/5 times.\n",
      "Tried 3/5 times.\n",
      "Tried 4/5 times.\n",
      "Tried 5/5 times.\n",
      "Starting from [array([0.18728231]), array([0.26218443]), array([0.30525356]), array([0.34318131]), array([0.43485032])]\n",
      "Optimization results are [(0.5186440669175524, 1.0), (8.790578265305271e-10, 0.2984811888595933), (8.790578265305271e-10, 0.2982347839920787), (8.790578265305271e-10, 0.29762222354380885), (8.790578265305271e-10, 0.29813876174077925), (8.790578265305271e-10, 0.29895959724557186)]\n",
      "Not satisfied with initial optimization results of param for class 2, trying more initial states...\n",
      "Tried 1/5 times.\n",
      "Tried 2/5 times.\n",
      "Tried 3/5 times.\n",
      "Tried 4/5 times.\n",
      "Tried 5/5 times.\n",
      "Starting from [array([0.16370562]), array([0.24210566]), array([0.29369108]), array([0.33880298]), array([0.45093615])]\n",
      "Optimization results are [(0.7068493131319197, 1.0), (1.936573457150814e-09, 0.20258569909358948), (1.936573457150814e-09, 0.20276349137935112), (1.936573457150814e-09, 0.2028304000812713), (1.936573457150814e-09, 0.2027524073036559), (1.936573457150814e-09, 0.20292126767235374)]\n",
      "Not satisfied with initial optimization results of param for class 4, trying more initial states...\n",
      "Tried 1/5 times.\n",
      "Tried 2/5 times.\n",
      "Tried 3/5 times.\n",
      "Tried 4/5 times.\n",
      "Tried 5/5 times.\n",
      "Starting from [array([0.18169108]), array([0.2639885]), array([0.31238295]), array([0.35001277]), array([0.45603095])]\n",
      "Optimization results are [(0.8181818153210426, 1.0), (2.8607756163978593e-09, 0.1726065218441504), (2.8607756163978593e-09, 0.17159252717803666), (2.8607756163978593e-09, 0.17181062241447223), (2.8607756163978593e-09, 0.1706312240510795), (2.8607756163978593e-09, 0.17101160626313566)]\n",
      "Not satisfied with initial optimization results of param for class 5, trying more initial states...\n",
      "Tried 1/5 times.\n",
      "Tried 2/5 times.\n",
      "Tried 3/5 times.\n",
      "Tried 4/5 times.\n",
      "Tried 5/5 times.\n",
      "Starting from [array([0.17036821]), array([0.25540432]), array([0.298793]), array([0.33816787]), array([0.4466694])]\n",
      "Optimization results are [(0.7468354398867703, 1.0), (0.00421941243390489, 0.195923437958823), (0.00421941243390489, 0.19793835114336558), (3.151204408524677e-09, 0.20168527213894694), (0.00421941243390489, 0.1986736263788906), (3.151204408524677e-09, 0.20169915150554396)]\n",
      "Not satisfied with initial optimization results of param for class 6, trying more initial states...\n",
      "Tried 1/5 times.\n",
      "Tried 2/5 times.\n",
      "Tried 3/5 times.\n",
      "Tried 4/5 times.\n",
      "Tried 5/5 times.\n",
      "Starting from [array([0.18241121]), array([0.26778415]), array([0.29895517]), array([0.354317]), array([0.48995152])]\n",
      "Optimization results are [(0.9244444403358025, 1.0), (4.1086418711699935e-09, 0.13680840954458334), (4.1086418711699935e-09, 0.13723937873654624), (4.1086418711699935e-09, 0.13639829535065073), (4.1086418711699935e-09, 0.13729783903544526), (0.004444440335802491, 0.14086106295146145)]\n",
      "Not satisfied with initial optimization results of param for class 7, trying more initial states...\n",
      "Tried 1/5 times.\n",
      "Tried 2/5 times.\n",
      "Tried 3/5 times.\n",
      "Tried 4/5 times.\n",
      "Tried 5/5 times.\n",
      "Starting from [array([0.14946888]), array([0.24291015]), array([0.26496527]), array([0.3045747]), array([0.4565208])]\n",
      "Optimization results are [(0.944444439197531, 1.0), (5.2469134592669775e-09, 0.09715477415120669), (5.2469134592669775e-09, 0.09716406187674936), (5.2469134592669775e-09, 0.0960499096150394), (5.2469134592669775e-09, 0.09898677614608604), (0.05555556080246904, 1e-06)]\n",
      "Not satisfied with initial optimization results of param for class 9, trying more initial states...\n",
      "Tried 1/5 times.\n",
      "Tried 2/5 times.\n",
      "Tried 3/5 times.\n",
      "Tried 4/5 times.\n",
      "Tried 5/5 times.\n",
      "Starting from [array([0.22009101]), array([0.31972133]), array([0.35201452]), array([0.40703034]), array([0.50911339])]\n",
      "Optimization results are [(0.9843749923095704, 1.0), (7.690429626450168e-09, 0.06602730240951293), (7.690429626450168e-09, 0.0639442662183366), (7.690429626450168e-09, 0.06600272232427074), (0.015625007690429626, 1e-06), (0.015625007690429626, 1e-06)]\n",
      "Not satisfied with initial optimization results of param for class 8, trying more initial states...\n",
      "Tried 1/5 times.\n",
      "Tried 2/5 times.\n",
      "Tried 3/5 times.\n",
      "Tried 4/5 times.\n",
      "Tried 5/5 times.\n",
      "Starting from [array([0.18890638]), array([0.30161541]), array([0.33930996]), array([0.39866314]), array([0.51144122])]\n",
      "Optimization results are [(0.9827586122175982, 1.0), (0.008620698127229431, 0.07556255148086044), (8.47205694487485e-09, 0.0885995252774123), (0.017241387782401807, 1e-06), (0.017241387782401807, 1e-06), (0.017241387782401807, 1e-06)]\n",
      "Calculating and saving the fitted case-wise performance...\n"
     ]
    },
    {
     "name": "stderr",
     "output_type": "stream",
     "text": [
      " 67%|████████████████████████████████████████████████████████████████████████████████████████████████████████████████████████▋                                                            | 24/36 [00:17<00:13,  1.10s/it]"
     ]
    },
    {
     "name": "stdout",
     "output_type": "stream",
     "text": [
      "Starting optimizing for model atc-model with confidence entropy-conf based on metric accuracy, class specific is False.\n",
      "Opitimizing with 3000 samples...\n",
      "Calculating and saving the fitted case-wise performance...\n"
     ]
    },
    {
     "name": "stderr",
     "output_type": "stream",
     "text": [
      " 69%|█████████████████████████████████████████████████████████████████████████████████████████████████████████████████████████████▋                                                       | 25/36 [00:17<00:09,  1.14it/s]"
     ]
    },
    {
     "name": "stdout",
     "output_type": "stream",
     "text": [
      "Starting optimizing for model atc-model with confidence entropy-conf based on metric accuracy, class specific is True.\n",
      "Opitimizing with 3000 samples...\n",
      "Calculating and saving the fitted case-wise performance...\n"
     ]
    },
    {
     "name": "stderr",
     "output_type": "stream",
     "text": [
      " 72%|██████████████████████████████████████████████████████████████████████████████████████████████████████████████████████████████████▋                                                  | 26/36 [00:19<00:09,  1.01it/s]"
     ]
    },
    {
     "name": "stdout",
     "output_type": "stream",
     "text": [
      "Starting optimizing for model atc-model with confidence doctor-conf based on metric accuracy, class specific is False.\n",
      "Opitimizing with 3000 samples...\n",
      "Calculating and saving the fitted case-wise performance...\n"
     ]
    },
    {
     "name": "stderr",
     "output_type": "stream",
     "text": [
      " 75%|███████████████████████████████████████████████████████████████████████████████████████████████████████████████████████████████████████▊                                             | 27/36 [00:19<00:07,  1.26it/s]"
     ]
    },
    {
     "name": "stdout",
     "output_type": "stream",
     "text": [
      "Starting optimizing for model atc-model with confidence doctor-conf based on metric accuracy, class specific is True.\n",
      "Opitimizing with 3000 samples...\n",
      "Calculating and saving the fitted case-wise performance...\n"
     ]
    },
    {
     "name": "stderr",
     "output_type": "stream",
     "text": [
      " 78%|████████████████████████████████████████████████████████████████████████████████████████████████████████████████████████████████████████████▊                                        | 28/36 [00:20<00:07,  1.14it/s]"
     ]
    },
    {
     "name": "stdout",
     "output_type": "stream",
     "text": [
      "Starting optimizing for model ts-atc-model with confidence max_class_probability-conf based on metric accuracy, class specific is False.\n",
      "Opitimizing with 3000 samples...\n",
      "Calculating and saving the fitted case-wise performance...\n"
     ]
    },
    {
     "name": "stderr",
     "output_type": "stream",
     "text": [
      " 81%|█████████████████████████████████████████████████████████████████████████████████████████████████████████████████████████████████████████████████▊                                   | 29/36 [00:20<00:04,  1.41it/s]"
     ]
    },
    {
     "name": "stdout",
     "output_type": "stream",
     "text": [
      "Starting optimizing for model ts-atc-model with confidence max_class_probability-conf based on metric accuracy, class specific is True.\n",
      "Opitimizing with 3000 samples...\n",
      "Not satisfied with initial optimization results of param_ext for class 0, trying more initial states...\n",
      "Tried 1/5 times.\n",
      "Tried 2/5 times.\n",
      "Tried 3/5 times.\n",
      "Tried 4/5 times.\n",
      "Tried 5/5 times.\n",
      "Starting from [array([0.33765525]), array([0.44007736]), array([0.50198903]), array([0.57228649]), array([0.7085548])]\n",
      "Optimization results are [(0.5186440669175524, 1.0), (0.001694914375179546, 0.4832690701953513), (0.001694914375179546, 0.48408509061454946), (0.001694914375179546, 0.48316444533111014), (0.001694914375179546, 0.48286672341553727), (0.001694914375179546, 0.48270295899398286)]\n",
      "Calculating and saving the fitted case-wise performance...\n"
     ]
    },
    {
     "name": "stderr",
     "output_type": "stream",
     "text": [
      " 83%|██████████████████████████████████████████████████████████████████████████████████████████████████████████████████████████████████████████████████████▊                              | 30/36 [00:23<00:08,  1.38s/it]"
     ]
    },
    {
     "name": "stdout",
     "output_type": "stream",
     "text": [
      "Starting optimizing for model ts-atc-model with confidence energy-conf based on metric accuracy, class specific is False.\n",
      "Opitimizing with 3000 samples...\n",
      "Not satisfied with initial optimization results of param_ext, trying more initial states...\n",
      "Tried 1/5 times.\n",
      "Tried 2/5 times.\n",
      "Tried 3/5 times.\n",
      "Tried 4/5 times.\n"
     ]
    },
    {
     "name": "stderr",
     "output_type": "stream",
     "text": [
      " 86%|███████████████████████████████████████████████████████████████████████████████████████████████████████████████████████████████████████████████████████████▊                         | 31/36 [00:24<00:05,  1.09s/it]"
     ]
    },
    {
     "name": "stdout",
     "output_type": "stream",
     "text": [
      "Tried 5/5 times.\n",
      "Starting from [array([0.6543765]), array([0.67402398]), array([0.68690314]), array([0.7001747]), array([0.74142047])]\n",
      "Optimization results are [(0.29633333333333334, array([0.5])), (0.0, array([0.66373843])), (0.0, array([0.66372274])), (0.0, array([0.66372687])), (0.0, array([0.66373006])), (0.0, array([0.66373061]))]\n",
      "Calculating and saving the fitted case-wise performance...\n",
      "Starting optimizing for model ts-atc-model with confidence energy-conf based on metric accuracy, class specific is True.\n",
      "Opitimizing with 3000 samples...\n",
      "Not satisfied with initial optimization results of param_ext for class 0, trying more initial states...\n",
      "Tried 1/5 times.\n",
      "Tried 2/5 times.\n",
      "Tried 3/5 times.\n",
      "Tried 4/5 times.\n",
      "Tried 5/5 times.\n",
      "Starting from [array([0.46778749]), array([0.49245172]), array([0.50598468]), array([0.5236424]), array([0.56292242])]\n",
      "Optimization results are [(0.5186440669175524, 1.0), (8.790578265305271e-10, 0.5038765633948785), (8.790578265305271e-10, 0.5038011896738515), (8.790578265305271e-10, 0.5038105319039202), (8.790578265305271e-10, 0.5038012617738086), (8.790578265305271e-10, 0.5038815359533244)]\n",
      "Not satisfied with initial optimization results of param_ext for class 4, trying more initial states...\n",
      "Tried 1/5 times.\n",
      "Tried 2/5 times.\n",
      "Tried 3/5 times.\n",
      "Tried 4/5 times.\n",
      "Tried 5/5 times.\n",
      "Starting from [array([0.78302131]), array([0.79694241]), array([0.80847999]), array([0.81915746]), array([0.84634618])]\n",
      "Optimization results are [(0.18181818467895738, 0.6999999999999997), (2.8607756163978593e-09, 0.7810331667840638), (0.0034965006357279282, 0.781377130643169), (2.8607756163978593e-09, 0.781004302656523), (0.0034965006357279282, 0.7813994188641729), (0.0034965006357279282, 0.7812171928544589)]\n",
      "Not satisfied with initial optimization results of param_ext for class 6, trying more initial states...\n",
      "Tried 1/5 times.\n",
      "Tried 2/5 times.\n",
      "Tried 3/5 times.\n",
      "Tried 4/5 times.\n",
      "Tried 5/5 times.\n",
      "Starting from [array([0.89461435]), array([0.90913531]), array([0.91746629]), array([0.92473949]), array([0.95260243])]\n",
      "Optimization results are [(0.07555555966419747, 0.7999999999999998), (0.07555555966419747, 0.8498836336971195), (4.1086418711699935e-09, 0.887117190835369), (4.1086418711699935e-09, 0.8871827383358843), (4.1086418711699935e-09, 0.887171946148615), (4.1086418711699935e-09, 0.8871110145350087)]\n",
      "Not satisfied with initial optimization results of param_ext for class 9, trying more initial states...\n",
      "Tried 1/5 times.\n",
      "Tried 2/5 times.\n",
      "Tried 3/5 times.\n",
      "Tried 4/5 times.\n",
      "Tried 5/5 times.\n",
      "Starting from [array([0.9615313]), array([0.98736813]), array([0.99534012]), array([1.]), array([1.])]\n",
      "Optimization results are [(0.015625007690429626, 0.8999999999999999), (7.690429626450168e-09, 0.9374930193806559), (7.690429626450168e-09, 0.9379997191513918), (0.015625007690429626, 0.8958061037400822), (0.015625007690429626, 0.8999999999999999), (0.015625007690429626, 0.8999999999999999)]\n",
      "Not satisfied with initial optimization results of param_ext for class 8, trying more initial states...\n",
      "Tried 1/5 times.\n",
      "Tried 2/5 times.\n",
      "Tried 3/5 times.\n",
      "Tried 4/5 times.\n",
      "Tried 5/5 times.\n",
      "Starting from [array([0.96108867]), array([0.98062035]), array([0.9891486]), array([0.99834737]), array([1.])]\n",
      "Optimization results are [(0.017241387782401807, 0.8999999999999999), (0.017241387782401807, 0.91303423627121), (8.47205694487485e-09, 0.9453793070235122), (8.47205694487485e-09, 0.9451005767327609), (0.017241387782401807, 0.898512635896374), (0.017241387782401807, 0.8999999999999999)]\n",
      "Calculating and saving the fitted case-wise performance...\n"
     ]
    },
    {
     "name": "stderr",
     "output_type": "stream",
     "text": [
      " 89%|████████████████████████████████████████████████████████████████████████████████████████████████████████████████████████████████████████████████████████████████▉                    | 32/36 [00:27<00:06,  1.68s/it]"
     ]
    },
    {
     "name": "stdout",
     "output_type": "stream",
     "text": [
      "Starting optimizing for model ts-atc-model with confidence entropy-conf based on metric accuracy, class specific is False.\n",
      "Opitimizing with 3000 samples...\n",
      "Calculating and saving the fitted case-wise performance...\n"
     ]
    },
    {
     "name": "stderr",
     "output_type": "stream",
     "text": [
      " 92%|█████████████████████████████████████████████████████████████████████████████████████████████████████████████████████████████████████████████████████████████████████▉               | 33/36 [00:27<00:03,  1.30s/it]"
     ]
    },
    {
     "name": "stdout",
     "output_type": "stream",
     "text": [
      "Starting optimizing for model ts-atc-model with confidence entropy-conf based on metric accuracy, class specific is True.\n",
      "Opitimizing with 3000 samples...\n",
      "Calculating and saving the fitted case-wise performance...\n"
     ]
    },
    {
     "name": "stderr",
     "output_type": "stream",
     "text": [
      " 94%|██████████████████████████████████████████████████████████████████████████████████████████████████████████████████████████████████████████████████████████████████████████▉          | 34/36 [00:31<00:04,  2.05s/it]"
     ]
    },
    {
     "name": "stdout",
     "output_type": "stream",
     "text": [
      "Starting optimizing for model ts-atc-model with confidence doctor-conf based on metric accuracy, class specific is False.\n",
      "Opitimizing with 3000 samples...\n",
      "Calculating and saving the fitted case-wise performance...\n"
     ]
    },
    {
     "name": "stderr",
     "output_type": "stream",
     "text": [
      " 97%|███████████████████████████████████████████████████████████████████████████████████████████████████████████████████████████████████████████████████████████████████████████████▉     | 35/36 [00:31<00:01,  1.55s/it]"
     ]
    },
    {
     "name": "stdout",
     "output_type": "stream",
     "text": [
      "Starting optimizing for model ts-atc-model with confidence doctor-conf based on metric accuracy, class specific is True.\n",
      "Opitimizing with 3000 samples...\n",
      "Calculating and saving the fitted case-wise performance...\n"
     ]
    },
    {
     "name": "stderr",
     "output_type": "stream",
     "text": [
      "100%|█████████████████████████████████████████████████████████████████████████████████████████████████████████████████████████████████████████████████████████████████████████████████████| 36/36 [00:34<00:00,  1.04it/s]\n"
     ]
    }
   ],
   "source": [
    "for k_cond in tqdm(range(len(moval_options))):\n",
    "    \n",
    "    err_test, moval_model = test_cls(\n",
    "        estim_algorithm = moval_options[k_cond][0], \n",
    "        mode = moval_options[k_cond][1], \n",
    "        metric = \"accuracy\",\n",
    "        confidence_scores = moval_options[k_cond][2],\n",
    "        class_specific = moval_options[k_cond][3],\n",
    "        logits = logits_val,\n",
    "        gt = gt_val,\n",
    "        logits_tests = logits_tests,\n",
    "        gt_tests = gt_tests\n",
    "    )\n",
    "    err_test_list.append(err_test)\n",
    "    moval_parameters.append(moval_model.model_.param)\n",
    "    if moval_model.model_.extend_param:\n",
    "        moval_parameters_.append(moval_model.model_.param_ext)\n",
    "    else:\n",
    "        moval_parameters_.append(0.)"
   ]
  },
  {
   "cell_type": "markdown",
   "id": "3813800b-936c-47ad-8828-503189b21181",
   "metadata": {},
   "source": [
    "## Compare estimation results"
   ]
  },
  {
   "cell_type": "code",
   "execution_count": 16,
   "id": "060d2d93-97a7-499d-9100-15b100c2cbce",
   "metadata": {},
   "outputs": [],
   "source": [
    "estim = []\n",
    "conf = []\n",
    "err = []\n",
    "err_mean = []\n",
    "novel = []\n",
    "k_option = 0\n",
    "for moval_option in moval_options:\n",
    "    for k_cond in range(len(err_test_list[k_option])):\n",
    "        #\n",
    "        if moval_option[3] == True:\n",
    "            estim_cs = 'CS '\n",
    "        else:\n",
    "            estim_cs = ''\n",
    "        #    \n",
    "        if moval_option[0] == 'ac-model':\n",
    "            estim.append(estim_cs + 'AC')\n",
    "        elif moval_option[0] == 'ts-model':\n",
    "            estim.append(estim_cs + 'TS')\n",
    "        elif moval_option[0] == 'doc-model':\n",
    "            estim.append(estim_cs + 'DoC')\n",
    "        elif moval_option[0] == 'atc-model':\n",
    "            estim.append(estim_cs + 'ATC')\n",
    "        else:\n",
    "            estim.append(estim_cs + 'TS-ATC')\n",
    "        #\n",
    "        if moval_option[2] == 'max_class_probability-conf':\n",
    "            conf.append('MCP')\n",
    "        elif moval_option[2] == 'energy-conf':\n",
    "            conf.append('Energy')\n",
    "        elif moval_option[2] == 'entropy-conf':\n",
    "            conf.append('Entropy')\n",
    "        else:\n",
    "            conf.append('Doctor')\n",
    "        #\n",
    "        if moval_option[2] == 'max_class_probability-conf' and moval_option[3] == False:\n",
    "            novel.append('Existing Methods')\n",
    "        else:\n",
    "            novel.append('Provided by MOVAL')\n",
    "        #\n",
    "        err.append(err_test_list[k_option][k_cond])\n",
    "        err_mean.append(np.mean(err_test_list[k_option]))\n",
    "    k_option += 1"
   ]
  },
  {
   "cell_type": "code",
   "execution_count": 17,
   "id": "68a6754d-429b-4189-9443-2db6250e7662",
   "metadata": {},
   "outputs": [],
   "source": [
    "d = {'Estimation Algorithm': estim, 'Confidence Score': conf, 'MAE': err_mean, 'MAE ': err, 'Category': novel}\n",
    "df = pd.DataFrame(data=d)\n",
    "#\n",
    "custom_order = ['AC', 'TS', 'DoC', 'ATC', 'TS-ATC', 'CS TS', 'CS DoC', 'CS ATC', 'CS TS-ATC']\n",
    "df['Estimation Algorithm'] = pd.Categorical(df['Estimation Algorithm'], categories=custom_order, ordered=True)\n",
    "df = df.sort_values(by='Estimation Algorithm')\n",
    "#\n",
    "custom_order = ['MCP', 'Doctor', 'Entropy', 'Energy']\n",
    "df['Confidence Score'] = pd.Categorical(df['Confidence Score'], categories=custom_order, ordered=True)\n",
    "df = df.sort_values(by='Confidence Score')"
   ]
  },
  {
   "cell_type": "code",
   "execution_count": 18,
   "id": "99b0672c-d149-4347-9185-651428ff2e17",
   "metadata": {},
   "outputs": [
    {
     "data": {
      "text/html": [
       "<div>\n",
       "<style scoped>\n",
       "    .dataframe tbody tr th:only-of-type {\n",
       "        vertical-align: middle;\n",
       "    }\n",
       "\n",
       "    .dataframe tbody tr th {\n",
       "        vertical-align: top;\n",
       "    }\n",
       "\n",
       "    .dataframe thead th {\n",
       "        text-align: right;\n",
       "    }\n",
       "</style>\n",
       "<table border=\"1\" class=\"dataframe\">\n",
       "  <thead>\n",
       "    <tr style=\"text-align: right;\">\n",
       "      <th></th>\n",
       "      <th>Estimation Algorithm</th>\n",
       "      <th>Confidence Score</th>\n",
       "      <th>MAE</th>\n",
       "      <th>MAE</th>\n",
       "      <th>Category</th>\n",
       "    </tr>\n",
       "  </thead>\n",
       "  <tbody>\n",
       "    <tr>\n",
       "      <th>0</th>\n",
       "      <td>AC</td>\n",
       "      <td>MCP</td>\n",
       "      <td>0.401485</td>\n",
       "      <td>0.310355</td>\n",
       "      <td>Existing Methods</td>\n",
       "    </tr>\n",
       "    <tr>\n",
       "      <th>25</th>\n",
       "      <td>CS TS</td>\n",
       "      <td>MCP</td>\n",
       "      <td>0.082242</td>\n",
       "      <td>0.047667</td>\n",
       "      <td>Provided by MOVAL</td>\n",
       "    </tr>\n",
       "    <tr>\n",
       "      <th>144</th>\n",
       "      <td>TS-ATC</td>\n",
       "      <td>MCP</td>\n",
       "      <td>0.102657</td>\n",
       "      <td>0.129429</td>\n",
       "      <td>Existing Methods</td>\n",
       "    </tr>\n",
       "    <tr>\n",
       "      <th>143</th>\n",
       "      <td>TS-ATC</td>\n",
       "      <td>MCP</td>\n",
       "      <td>0.102657</td>\n",
       "      <td>0.119571</td>\n",
       "      <td>Existing Methods</td>\n",
       "    </tr>\n",
       "    <tr>\n",
       "      <th>142</th>\n",
       "      <td>TS-ATC</td>\n",
       "      <td>MCP</td>\n",
       "      <td>0.102657</td>\n",
       "      <td>0.107000</td>\n",
       "      <td>Existing Methods</td>\n",
       "    </tr>\n",
       "  </tbody>\n",
       "</table>\n",
       "</div>"
      ],
      "text/plain": [
       "    Estimation Algorithm Confidence Score       MAE      MAE   \\\n",
       "0                     AC              MCP  0.401485  0.310355   \n",
       "25                 CS TS              MCP  0.082242  0.047667   \n",
       "144               TS-ATC              MCP  0.102657  0.129429   \n",
       "143               TS-ATC              MCP  0.102657  0.119571   \n",
       "142               TS-ATC              MCP  0.102657  0.107000   \n",
       "\n",
       "              Category  \n",
       "0     Existing Methods  \n",
       "25   Provided by MOVAL  \n",
       "144   Existing Methods  \n",
       "143   Existing Methods  \n",
       "142   Existing Methods  "
      ]
     },
     "execution_count": 18,
     "metadata": {},
     "output_type": "execute_result"
    }
   ],
   "source": [
    "df.head()"
   ]
  },
  {
   "cell_type": "code",
   "execution_count": 19,
   "id": "71dda52f-13bc-46f4-9702-e65ece9f1bfe",
   "metadata": {},
   "outputs": [
    {
     "data": {
      "image/png": "[encoded data removed]",
      "text/plain": [
       "<Figure size 600x300 with 1 Axes>"
      ]
     },
     "metadata": {},
     "output_type": "display_data"
    }
   ],
   "source": [
    "sns.set(rc={'figure.figsize':(6,3)})\n",
    "sns.set_style(\"darkgrid\")\n",
    "category_palette = {'Existing Methods': 'grey', 'Provided by MOVAL': '#1f77b4'}\n",
    "ax = sns.scatterplot(\n",
    "    data=df, x=\"Estimation Algorithm\", y=\"Confidence Score\", hue=\"Category\", size=\"MAE\",\n",
    "    sizes=(40, 1000), palette=category_palette\n",
    ")\n",
    "ax.set(ylim=(3.5, -0.5))\n",
    "ax.tick_params(axis='x', rotation=15)\n",
    "#\n",
    "# Get the handles and labels from the legend\n",
    "handles, labels = ax.get_legend_handles_labels()\n",
    "\n",
    "# Create a custom legend with only desired categories\n",
    "desired_labels = ['Category', 'Existing Methods', 'Provided by MOVAL', 'MAE', '0.08', '0.16']\n",
    "desired_handles = [h for h, l in zip(handles, labels) if l in desired_labels]\n",
    "\n",
    "legend = plt.legend(handles=desired_handles, labels=desired_labels, bbox_to_anchor=(1.2, 1), labelspacing=1)"
   ]
  },
  {
   "cell_type": "code",
   "execution_count": 20,
   "id": "3d1afafe-7490-4da1-8c88-5fbdf15ce128",
   "metadata": {},
   "outputs": [
    {
     "name": "stdout",
     "output_type": "stream",
     "text": [
      "p-value annotation legend:\n",
      "      ns: 5.00e-02 < p <= 1.00e+00\n",
      "       *: 1.00e-02 < p <= 5.00e-02\n",
      "      **: 1.00e-03 < p <= 1.00e-02\n",
      "     ***: 1.00e-04 < p <= 1.00e-03\n",
      "    ****: p <= 1.00e-04\n",
      "\n",
      "TS vs. CS TS: Mann-Whitney-Wilcoxon test two-sided, P_val:1.974e-06 U_stat=3.750e+02\n",
      "DoC vs. CS DoC: Mann-Whitney-Wilcoxon test two-sided, P_val:5.405e-08 U_stat=4.000e+02\n",
      "ATC vs. CS ATC: Mann-Whitney-Wilcoxon test two-sided, P_val:5.405e-08 U_stat=4.000e+02\n",
      "TS-ATC vs. CS TS-ATC: Mann-Whitney-Wilcoxon test two-sided, P_val:5.405e-08 U_stat=4.000e+02\n"
     ]
    },
    {
     "data": {
      "text/plain": [
       "(<Axes: xlabel='Estimation Algorithm', ylabel='MAE'>,\n",
       " [<statannotations.Annotation.Annotation at 0x7f9bb91036d0>,\n",
       "  <statannotations.Annotation.Annotation at 0x7f9ba8c1ab80>,\n",
       "  <statannotations.Annotation.Annotation at 0x7f9ba8c1abb0>,\n",
       "  <statannotations.Annotation.Annotation at 0x7f9ba8c1ac10>])"
      ]
     },
     "execution_count": 20,
     "metadata": {},
     "output_type": "execute_result"
    },
    {
     "data": {
      "image/png": "[encoded data removed]",
      "text/plain": [
       "<Figure size 600x200 with 1 Axes>"
      ]
     },
     "metadata": {},
     "output_type": "display_data"
    }
   ],
   "source": [
    "from statannotations.Annotator import Annotator\n",
    "sns.set(rc={'figure.figsize':(6,2)})\n",
    "sns.set_style(\"white\")\n",
    "ax = sns.barplot(df, x=\"Estimation Algorithm\", y=\"MAE\", color = '#1f77b4')\n",
    "ax.tick_params(axis='x', rotation=15)\n",
    "#\n",
    "ax.spines['top'].set_color('none')\n",
    "ax.spines['right'].set_color('none')\n",
    "ax.spines['bottom'].set_color('none')\n",
    "ax.spines['left'].set_color('none')\n",
    "#\n",
    "pairs=[(\"TS\", \"CS TS\"), (\"DoC\", \"CS DoC\"), (\"ATC\", \"CS ATC\"), (\"TS-ATC\", \"CS TS-ATC\")]\n",
    "\n",
    "annotator = Annotator(ax, pairs, data=df, x=\"Estimation Algorithm\", y=\"MAE\")\n",
    "annotator.configure(test='Mann-Whitney', text_format='star', loc='inside', text_offset=-4)\n",
    "annotator.apply_and_annotate()"
   ]
  },
  {
   "cell_type": "code",
   "execution_count": 21,
   "id": "ab3ff7bd-6395-446d-b645-69b5c4d220dd",
   "metadata": {},
   "outputs": [
    {
     "name": "stdout",
     "output_type": "stream",
     "text": [
      "p-value annotation legend:\n",
      "      ns: 5.00e-02 < p <= 1.00e+00\n",
      "       *: 1.00e-02 < p <= 5.00e-02\n",
      "      **: 1.00e-03 < p <= 1.00e-02\n",
      "     ***: 1.00e-04 < p <= 1.00e-03\n",
      "    ****: p <= 1.00e-04\n",
      "\n",
      "MCP vs. Doctor: Mann-Whitney-Wilcoxon test two-sided, P_val:6.163e-01 U_stat=1.075e+03\n",
      "MCP vs. Entropy: Mann-Whitney-Wilcoxon test two-sided, P_val:2.682e-01 U_stat=1.150e+03\n",
      "MCP vs. Energy: Mann-Whitney-Wilcoxon test two-sided, P_val:1.905e-01 U_stat=1.175e+03\n"
     ]
    },
    {
     "data": {
      "text/plain": [
       "(<Axes: xlabel='Confidence Score', ylabel='MAE'>,\n",
       " [<statannotations.Annotation.Annotation at 0x7f9bb90a4190>,\n",
       "  <statannotations.Annotation.Annotation at 0x7f9bb9103460>,\n",
       "  <statannotations.Annotation.Annotation at 0x7f9bb91039d0>])"
      ]
     },
     "execution_count": 21,
     "metadata": {},
     "output_type": "execute_result"
    },
    {
     "data": {
      "image/png": "[encoded data removed]",
      "text/plain": [
       "<Figure size 300x200 with 1 Axes>"
      ]
     },
     "metadata": {},
     "output_type": "display_data"
    }
   ],
   "source": [
    "sns.set(rc={'figure.figsize':(3,2)})\n",
    "sns.set_style(\"white\")\n",
    "ax = sns.barplot(df, x=\"Confidence Score\", y=\"MAE\", color = '#1f77b4')\n",
    "ax.tick_params(axis='x', rotation=15)\n",
    "#\n",
    "ax.spines['top'].set_color('none')\n",
    "ax.spines['right'].set_color('none')\n",
    "ax.spines['bottom'].set_color('none')\n",
    "ax.spines['left'].set_color('none')\n",
    "#\n",
    "pairs=[(\"MCP\", \"Doctor\"), (\"MCP\", \"Entropy\"), (\"MCP\", \"Energy\")]\n",
    "\n",
    "annotator = Annotator(ax, pairs, data=df, x=\"Confidence Score\", y=\"MAE\")\n",
    "annotator.configure(test='Mann-Whitney', text_format='star', loc='inside')\n",
    "annotator.apply_and_annotate()"
   ]
  },
  {
   "cell_type": "code",
   "execution_count": 22,
   "id": "36ef192e-b82e-4a68-ba7c-a1d4813cabfe",
   "metadata": {},
   "outputs": [
    {
     "name": "stdout",
     "output_type": "stream",
     "text": [
      "p-value annotation legend:\n",
      "      ns: 5.00e-02 < p <= 1.00e+00\n",
      "       *: 1.00e-02 < p <= 5.00e-02\n",
      "      **: 1.00e-03 < p <= 1.00e-02\n",
      "     ***: 1.00e-04 < p <= 1.00e-03\n",
      "    ****: p <= 1.00e-04\n",
      "\n",
      "ATC_MCP vs. CS TS-ATC_Energy: Mann-Whitney-Wilcoxon test two-sided, P_val:3.977e-03 U_stat=2.500e+01\n"
     ]
    },
    {
     "data": {
      "text/plain": [
       "(<Axes: xlabel='Estimation Algorithm', ylabel='MAE '>,\n",
       " [<statannotations.Annotation.Annotation at 0x7f9ba8cf0be0>])"
      ]
     },
     "execution_count": 22,
     "metadata": {},
     "output_type": "execute_result"
    },
    {
     "data": {
      "image/png": "[encoded data removed]",
      "text/plain": [
       "<Figure size 1200x300 with 1 Axes>"
      ]
     },
     "metadata": {},
     "output_type": "display_data"
    }
   ],
   "source": [
    "sns.set(rc={'figure.figsize':(12,3)})\n",
    "category_palette = {'MCP': '#e5f0f8',\n",
    "                    'Doctor': '#99c6e4',\n",
    "                    'Entropy': '#4c9cd0',\n",
    "                    'Energy': '#0072bd'\n",
    "                   }\n",
    "ax = sns.boxplot(df, x=\"Estimation Algorithm\", y=\"MAE \", hue=\"Confidence Score\", palette=category_palette)\n",
    "ax.set(ylim=(-0.02, 0.5))\n",
    "sns.move_legend(ax, \"upper left\", bbox_to_anchor=(1, 1))\n",
    "\n",
    "pairs=[\n",
    "    [(\"ATC\", \"MCP\"), (\"CS TS-ATC\", \"Energy\")]\n",
    "]\n",
    "\n",
    "annotator = Annotator(ax, pairs, data=df, x=\"Estimation Algorithm\", y=\"MAE\", hue=\"Confidence Score\")\n",
    "annotator.configure(test='Mann-Whitney', text_format='star', loc='inside')\n",
    "annotator.apply_and_annotate()"
   ]
  },
  {
   "cell_type": "markdown",
   "id": "c437718a",
   "metadata": {},
   "source": [
    "## Estimationg of other metrics"
   ]
  },
  {
   "cell_type": "code",
   "execution_count": 23,
   "id": "bdfd0fbb",
   "metadata": {},
   "outputs": [],
   "source": [
    "test_conditions = moval_options[4:6]"
   ]
  },
  {
   "cell_type": "code",
   "execution_count": 24,
   "id": "338c8896",
   "metadata": {},
   "outputs": [],
   "source": [
    "estimatation_metrics = [\"accuracy\", \"sensitivity\", \"precision\", \"f1score\", \"auc\"]"
   ]
  },
  {
   "cell_type": "code",
   "execution_count": 25,
   "id": "adb37656",
   "metadata": {},
   "outputs": [],
   "source": [
    "err_test_list = []\n",
    "moval_parameters = []\n",
    "moval_parameters_ = []"
   ]
  },
  {
   "cell_type": "code",
   "execution_count": 26,
   "id": "b38d6760",
   "metadata": {
    "scrolled": true
   },
   "outputs": [
    {
     "name": "stderr",
     "output_type": "stream",
     "text": [
      "  0%|                                                                                                                                                                                               | 0/2 [00:00<?, ?it/s]"
     ]
    },
    {
     "name": "stdout",
     "output_type": "stream",
     "text": [
      "Starting optimizing for model ts-model with confidence max_class_probability-conf based on metric accuracy, class specific is False.\n",
      "Opitimizing with 3000 samples...\n",
      "Calculating and saving the fitted case-wise performance...\n",
      "Starting optimizing for model ts-model with confidence max_class_probability-conf based on metric sensitivity, class specific is False.\n",
      "Opitimizing with 3000 samples...\n",
      "Calculating and saving the fitted case-wise performance...\n",
      "Starting optimizing for model ts-model with confidence max_class_probability-conf based on metric precision, class specific is False.\n",
      "Opitimizing with 3000 samples...\n",
      "Calculating and saving the fitted case-wise performance...\n",
      "Starting optimizing for model ts-model with confidence max_class_probability-conf based on metric f1score, class specific is False.\n",
      "Opitimizing with 3000 samples...\n",
      "Calculating and saving the fitted case-wise performance...\n",
      "Starting optimizing for model ts-model with confidence max_class_probability-conf based on metric auc, class specific is False.\n",
      "Opitimizing with 3000 samples...\n",
      "Calculating and saving the fitted case-wise performance...\n"
     ]
    },
    {
     "name": "stderr",
     "output_type": "stream",
     "text": [
      " 50%|███████████████████████████████████████████████████████████████████████████████████████████▌                                                                                           | 1/2 [00:10<00:10, 10.95s/it]"
     ]
    },
    {
     "name": "stdout",
     "output_type": "stream",
     "text": [
      "Starting optimizing for model ts-model with confidence max_class_probability-conf based on metric accuracy, class specific is True.\n",
      "Opitimizing with 3000 samples...\n",
      "Calculating and saving the fitted case-wise performance...\n",
      "Starting optimizing for model ts-model with confidence max_class_probability-conf based on metric sensitivity, class specific is True.\n",
      "Opitimizing with 3000 samples...\n",
      "Calculating and saving the fitted case-wise performance...\n",
      "Starting optimizing for model ts-model with confidence max_class_probability-conf based on metric precision, class specific is True.\n",
      "Opitimizing with 3000 samples...\n",
      "Not satisfied with initial optimization results of param for class 4, trying more initial states...\n",
      "Tried 1/5 times.\n",
      "Tried 2/5 times.\n",
      "Tried 3/5 times.\n",
      "Tried 4/5 times.\n",
      "Tried 5/5 times.\n",
      "Starting from [array([0.1]), array([0.5]), array([3.]), array([5.]), array([10.])]\n",
      "Optimization results are [(0.14782850502042233, 1e-06), (0.14782850502042233, 1e-06), (0.14782850502042233, 1e-06), (0.14782850502042233, 1e-06), (0.14782850502042233, 1e-06), (0.14782850502042233, 1e-06)]\n",
      "Not satisfied with initial optimization results of param for class 5, trying more initial states...\n",
      "Tried 1/5 times.\n",
      "Tried 2/5 times.\n",
      "Tried 3/5 times.\n",
      "Tried 4/5 times.\n",
      "Tried 5/5 times.\n",
      "Starting from [array([0.1]), array([0.5]), array([3.]), array([5.]), array([10.])]\n",
      "Optimization results are [(0.1134772948903291, 1e-06), (0.1134772948903291, 1e-06), (0.1134772948903291, 1e-06), (0.1134772948903291, 1e-06), (0.1134772948903291, 1e-06), (0.1134772948903291, 1e-06)]\n",
      "Not satisfied with initial optimization results of param for class 6, trying more initial states...\n",
      "Tried 1/5 times.\n",
      "Tried 2/5 times.\n",
      "Tried 3/5 times.\n",
      "Tried 4/5 times.\n",
      "Tried 5/5 times.\n",
      "Starting from [array([0.1]), array([0.5]), array([3.]), array([5.]), array([10.])]\n",
      "Optimization results are [(0.29976566175420816, 1e-06), (0.29976566175420816, 1e-06), (0.29976566175420816, 1e-06), (0.29976566175420816, 1e-06), (0.29976566175420816, 1e-06), (0.29976566175420816, 1e-06)]\n",
      "Not satisfied with initial optimization results of param for class 7, trying more initial states...\n",
      "Tried 1/5 times.\n",
      "Tried 2/5 times.\n",
      "Tried 3/5 times.\n",
      "Tried 4/5 times.\n",
      "Tried 5/5 times.\n",
      "Starting from [array([0.1]), array([0.5]), array([3.]), array([5.]), array([10.])]\n",
      "Optimization results are [(0.3700501052526505, 1e-06), (0.3700501052526505, 1e-06), (0.3700501052526505, 1e-06), (0.3700501052526505, 1e-06), (0.3700501052526505, 1e-06), (0.3700501052526505, 1e-06)]\n",
      "Not satisfied with initial optimization results of param for class 9, trying more initial states...\n",
      "Tried 1/5 times.\n",
      "Tried 2/5 times.\n",
      "Tried 3/5 times.\n",
      "Tried 4/5 times.\n",
      "Tried 5/5 times.\n",
      "Starting from [array([0.1]), array([0.5]), array([3.]), array([5.]), array([10.])]\n",
      "Optimization results are [(0.492084781380318, 1e-06), (0.492084781380318, 1e-06), (0.492084781380318, 1e-06), (0.492084781380318, 1e-06), (0.492084781380318, 1e-06), (0.492084781380318, 1e-06)]\n",
      "Not satisfied with initial optimization results of param for class 8, trying more initial states...\n",
      "Tried 1/5 times.\n",
      "Tried 2/5 times.\n",
      "Tried 3/5 times.\n",
      "Tried 4/5 times.\n",
      "Tried 5/5 times.\n",
      "Starting from [array([0.1]), array([0.5]), array([3.]), array([5.]), array([10.])]\n",
      "Optimization results are [(0.512844725524447, 1e-06), (0.512844725524447, 1e-06), (0.512844725524447, 1e-06), (0.512844725524447, 1e-06), (0.512844725524447, 1e-06), (0.512844725524447, 1e-06)]\n",
      "Calculating and saving the fitted case-wise performance...\n",
      "Starting optimizing for model ts-model with confidence max_class_probability-conf based on metric f1score, class specific is True.\n",
      "Opitimizing with 3000 samples...\n",
      "Calculating and saving the fitted case-wise performance...\n",
      "Starting optimizing for model ts-model with confidence max_class_probability-conf based on metric auc, class specific is True.\n",
      "Opitimizing with 3000 samples...\n",
      "Calculating and saving the fitted case-wise performance...\n"
     ]
    },
    {
     "name": "stderr",
     "output_type": "stream",
     "text": [
      "100%|███████████████████████████████████████████████████████████████████████████████████████████████████████████████████████████████████████████████████████████████████████████████████████| 2/2 [00:27<00:00, 14.00s/it]\n"
     ]
    }
   ],
   "source": [
    "for k_cond in tqdm(range(len(test_conditions))):\n",
    "    for estimatation_metric in estimatation_metrics:\n",
    "        err_test, moval_model = test_cls(\n",
    "            estim_algorithm = test_conditions[k_cond][0], \n",
    "            mode = test_conditions[k_cond][1], \n",
    "            metric = estimatation_metric,\n",
    "            confidence_scores = test_conditions[k_cond][2],\n",
    "            class_specific = test_conditions[k_cond][3],\n",
    "            logits = logits_val,\n",
    "            gt = gt_val,\n",
    "            logits_tests = logits_tests,\n",
    "            gt_tests = gt_tests\n",
    "        )\n",
    "        err_test_list.append(err_test)\n",
    "        moval_parameters.append(moval_model.model_.param)\n",
    "        if moval_model.model_.extend_param:\n",
    "            moval_parameters_.append(moval_model.model_.param_ext)\n",
    "        else:\n",
    "            moval_parameters_.append(0.)"
   ]
  },
  {
   "cell_type": "code",
   "execution_count": 27,
   "id": "ddf69d4c",
   "metadata": {},
   "outputs": [],
   "source": [
    "estim = []\n",
    "conf = []\n",
    "metric = []\n",
    "err = []\n",
    "err_mean = []\n",
    "novel = []\n",
    "k_option = 0\n",
    "for moval_option in test_conditions:\n",
    "    for estimatation_metric in estimatation_metrics:\n",
    "        for k_cond in range(len(err_test_list[k_option])):\n",
    "            #\n",
    "            if moval_option[3] == True:\n",
    "                estim_cs = 'CS '\n",
    "            else:\n",
    "                estim_cs = ''\n",
    "            #    \n",
    "            if moval_option[0] == 'ac-model':\n",
    "                estim.append(estim_cs + 'AC')\n",
    "            elif moval_option[0] == 'ts-model':\n",
    "                estim.append(estim_cs + 'TS')\n",
    "            elif moval_option[0] == 'doc-model':\n",
    "                estim.append(estim_cs + 'DoC')\n",
    "            elif moval_option[0] == 'atc-model':\n",
    "                estim.append(estim_cs + 'ATC')\n",
    "            else:\n",
    "                estim.append(estim_cs + 'TS-ATC')\n",
    "            #\n",
    "            metric.append(estimatation_metric)\n",
    "            if moval_option[2] == 'max_class_probability-conf':\n",
    "                conf.append('MCP')\n",
    "            elif moval_option[2] == 'energy-conf':\n",
    "                conf.append('Energy')\n",
    "            elif moval_option[2] == 'entropy-conf':\n",
    "                conf.append('Entropy')\n",
    "            else:\n",
    "                conf.append('Doctor')\n",
    "            #\n",
    "            if moval_option[2] == 'max_class_probability-conf' and moval_option[3] == False:\n",
    "                novel.append('Existing Methods')\n",
    "            else:\n",
    "                novel.append('Provided by MOVAL')\n",
    "            #\n",
    "            err.append(err_test_list[k_option][k_cond])\n",
    "            err_mean.append(np.mean(err_test_list[k_option]))\n",
    "        k_option += 1"
   ]
  },
  {
   "cell_type": "code",
   "execution_count": 28,
   "id": "818ebed5",
   "metadata": {},
   "outputs": [],
   "source": [
    "d = {'Estimation Algorithm': estim, 'Confidence Score': conf, 'MAE': err_mean, 'MAE ': err, 'Category': novel, 'Metric': metric}\n",
    "df = pd.DataFrame(data=d)\n",
    "#\n",
    "custom_order = ['accuracy', 'sensitivity', 'precision', 'f1score', 'auc']\n",
    "df['Metric'] = pd.Categorical(df['Metric'], categories=custom_order, ordered=True)\n",
    "df = df.sort_values(by='Metric')"
   ]
  },
  {
   "cell_type": "code",
   "execution_count": 29,
   "id": "fca80c70",
   "metadata": {},
   "outputs": [
    {
     "data": {
      "text/html": [
       "<div>\n",
       "<style scoped>\n",
       "    .dataframe tbody tr th:only-of-type {\n",
       "        vertical-align: middle;\n",
       "    }\n",
       "\n",
       "    .dataframe tbody tr th {\n",
       "        vertical-align: top;\n",
       "    }\n",
       "\n",
       "    .dataframe thead th {\n",
       "        text-align: right;\n",
       "    }\n",
       "</style>\n",
       "<table border=\"1\" class=\"dataframe\">\n",
       "  <thead>\n",
       "    <tr style=\"text-align: right;\">\n",
       "      <th></th>\n",
       "      <th>Estimation Algorithm</th>\n",
       "      <th>Confidence Score</th>\n",
       "      <th>MAE</th>\n",
       "      <th>MAE</th>\n",
       "      <th>Category</th>\n",
       "      <th>Metric</th>\n",
       "    </tr>\n",
       "  </thead>\n",
       "  <tbody>\n",
       "    <tr>\n",
       "      <th>0</th>\n",
       "      <td>TS</td>\n",
       "      <td>MCP</td>\n",
       "      <td>0.141721</td>\n",
       "      <td>0.080761</td>\n",
       "      <td>Existing Methods</td>\n",
       "      <td>accuracy</td>\n",
       "    </tr>\n",
       "    <tr>\n",
       "      <th>1</th>\n",
       "      <td>TS</td>\n",
       "      <td>MCP</td>\n",
       "      <td>0.141721</td>\n",
       "      <td>0.125595</td>\n",
       "      <td>Existing Methods</td>\n",
       "      <td>accuracy</td>\n",
       "    </tr>\n",
       "    <tr>\n",
       "      <th>2</th>\n",
       "      <td>TS</td>\n",
       "      <td>MCP</td>\n",
       "      <td>0.141721</td>\n",
       "      <td>0.156014</td>\n",
       "      <td>Existing Methods</td>\n",
       "      <td>accuracy</td>\n",
       "    </tr>\n",
       "    <tr>\n",
       "      <th>3</th>\n",
       "      <td>TS</td>\n",
       "      <td>MCP</td>\n",
       "      <td>0.141721</td>\n",
       "      <td>0.163744</td>\n",
       "      <td>Existing Methods</td>\n",
       "      <td>accuracy</td>\n",
       "    </tr>\n",
       "    <tr>\n",
       "      <th>4</th>\n",
       "      <td>TS</td>\n",
       "      <td>MCP</td>\n",
       "      <td>0.141721</td>\n",
       "      <td>0.182490</td>\n",
       "      <td>Existing Methods</td>\n",
       "      <td>accuracy</td>\n",
       "    </tr>\n",
       "    <tr>\n",
       "      <th>28</th>\n",
       "      <td>CS TS</td>\n",
       "      <td>MCP</td>\n",
       "      <td>0.082242</td>\n",
       "      <td>0.095681</td>\n",
       "      <td>Provided by MOVAL</td>\n",
       "      <td>accuracy</td>\n",
       "    </tr>\n",
       "    <tr>\n",
       "      <th>27</th>\n",
       "      <td>CS TS</td>\n",
       "      <td>MCP</td>\n",
       "      <td>0.082242</td>\n",
       "      <td>0.089596</td>\n",
       "      <td>Provided by MOVAL</td>\n",
       "      <td>accuracy</td>\n",
       "    </tr>\n",
       "    <tr>\n",
       "      <th>26</th>\n",
       "      <td>CS TS</td>\n",
       "      <td>MCP</td>\n",
       "      <td>0.082242</td>\n",
       "      <td>0.072217</td>\n",
       "      <td>Provided by MOVAL</td>\n",
       "      <td>accuracy</td>\n",
       "    </tr>\n",
       "    <tr>\n",
       "      <th>25</th>\n",
       "      <td>CS TS</td>\n",
       "      <td>MCP</td>\n",
       "      <td>0.082242</td>\n",
       "      <td>0.047667</td>\n",
       "      <td>Provided by MOVAL</td>\n",
       "      <td>accuracy</td>\n",
       "    </tr>\n",
       "    <tr>\n",
       "      <th>29</th>\n",
       "      <td>CS TS</td>\n",
       "      <td>MCP</td>\n",
       "      <td>0.082242</td>\n",
       "      <td>0.106050</td>\n",
       "      <td>Provided by MOVAL</td>\n",
       "      <td>accuracy</td>\n",
       "    </tr>\n",
       "    <tr>\n",
       "      <th>31</th>\n",
       "      <td>CS TS</td>\n",
       "      <td>MCP</td>\n",
       "      <td>0.152080</td>\n",
       "      <td>0.135770</td>\n",
       "      <td>Provided by MOVAL</td>\n",
       "      <td>sensitivity</td>\n",
       "    </tr>\n",
       "    <tr>\n",
       "      <th>32</th>\n",
       "      <td>CS TS</td>\n",
       "      <td>MCP</td>\n",
       "      <td>0.152080</td>\n",
       "      <td>0.165340</td>\n",
       "      <td>Provided by MOVAL</td>\n",
       "      <td>sensitivity</td>\n",
       "    </tr>\n",
       "    <tr>\n",
       "      <th>33</th>\n",
       "      <td>CS TS</td>\n",
       "      <td>MCP</td>\n",
       "      <td>0.152080</td>\n",
       "      <td>0.173940</td>\n",
       "      <td>Provided by MOVAL</td>\n",
       "      <td>sensitivity</td>\n",
       "    </tr>\n",
       "    <tr>\n",
       "      <th>34</th>\n",
       "      <td>CS TS</td>\n",
       "      <td>MCP</td>\n",
       "      <td>0.152080</td>\n",
       "      <td>0.191324</td>\n",
       "      <td>Provided by MOVAL</td>\n",
       "      <td>sensitivity</td>\n",
       "    </tr>\n",
       "    <tr>\n",
       "      <th>30</th>\n",
       "      <td>CS TS</td>\n",
       "      <td>MCP</td>\n",
       "      <td>0.152080</td>\n",
       "      <td>0.094026</td>\n",
       "      <td>Provided by MOVAL</td>\n",
       "      <td>sensitivity</td>\n",
       "    </tr>\n",
       "    <tr>\n",
       "      <th>9</th>\n",
       "      <td>TS</td>\n",
       "      <td>MCP</td>\n",
       "      <td>0.254894</td>\n",
       "      <td>0.270503</td>\n",
       "      <td>Existing Methods</td>\n",
       "      <td>sensitivity</td>\n",
       "    </tr>\n",
       "    <tr>\n",
       "      <th>8</th>\n",
       "      <td>TS</td>\n",
       "      <td>MCP</td>\n",
       "      <td>0.254894</td>\n",
       "      <td>0.268069</td>\n",
       "      <td>Existing Methods</td>\n",
       "      <td>sensitivity</td>\n",
       "    </tr>\n",
       "    <tr>\n",
       "      <th>7</th>\n",
       "      <td>TS</td>\n",
       "      <td>MCP</td>\n",
       "      <td>0.254894</td>\n",
       "      <td>0.260403</td>\n",
       "      <td>Existing Methods</td>\n",
       "      <td>sensitivity</td>\n",
       "    </tr>\n",
       "    <tr>\n",
       "      <th>6</th>\n",
       "      <td>TS</td>\n",
       "      <td>MCP</td>\n",
       "      <td>0.254894</td>\n",
       "      <td>0.253091</td>\n",
       "      <td>Existing Methods</td>\n",
       "      <td>sensitivity</td>\n",
       "    </tr>\n",
       "    <tr>\n",
       "      <th>5</th>\n",
       "      <td>TS</td>\n",
       "      <td>MCP</td>\n",
       "      <td>0.254894</td>\n",
       "      <td>0.222405</td>\n",
       "      <td>Existing Methods</td>\n",
       "      <td>sensitivity</td>\n",
       "    </tr>\n",
       "    <tr>\n",
       "      <th>13</th>\n",
       "      <td>TS</td>\n",
       "      <td>MCP</td>\n",
       "      <td>0.496530</td>\n",
       "      <td>0.524955</td>\n",
       "      <td>Existing Methods</td>\n",
       "      <td>precision</td>\n",
       "    </tr>\n",
       "    <tr>\n",
       "      <th>39</th>\n",
       "      <td>CS TS</td>\n",
       "      <td>MCP</td>\n",
       "      <td>0.433401</td>\n",
       "      <td>0.488963</td>\n",
       "      <td>Provided by MOVAL</td>\n",
       "      <td>precision</td>\n",
       "    </tr>\n",
       "    <tr>\n",
       "      <th>38</th>\n",
       "      <td>CS TS</td>\n",
       "      <td>MCP</td>\n",
       "      <td>0.433401</td>\n",
       "      <td>0.463441</td>\n",
       "      <td>Provided by MOVAL</td>\n",
       "      <td>precision</td>\n",
       "    </tr>\n",
       "    <tr>\n",
       "      <th>37</th>\n",
       "      <td>CS TS</td>\n",
       "      <td>MCP</td>\n",
       "      <td>0.433401</td>\n",
       "      <td>0.462986</td>\n",
       "      <td>Provided by MOVAL</td>\n",
       "      <td>precision</td>\n",
       "    </tr>\n",
       "    <tr>\n",
       "      <th>36</th>\n",
       "      <td>CS TS</td>\n",
       "      <td>MCP</td>\n",
       "      <td>0.433401</td>\n",
       "      <td>0.413138</td>\n",
       "      <td>Provided by MOVAL</td>\n",
       "      <td>precision</td>\n",
       "    </tr>\n",
       "    <tr>\n",
       "      <th>35</th>\n",
       "      <td>CS TS</td>\n",
       "      <td>MCP</td>\n",
       "      <td>0.433401</td>\n",
       "      <td>0.338476</td>\n",
       "      <td>Provided by MOVAL</td>\n",
       "      <td>precision</td>\n",
       "    </tr>\n",
       "    <tr>\n",
       "      <th>12</th>\n",
       "      <td>TS</td>\n",
       "      <td>MCP</td>\n",
       "      <td>0.496530</td>\n",
       "      <td>0.523681</td>\n",
       "      <td>Existing Methods</td>\n",
       "      <td>precision</td>\n",
       "    </tr>\n",
       "    <tr>\n",
       "      <th>11</th>\n",
       "      <td>TS</td>\n",
       "      <td>MCP</td>\n",
       "      <td>0.496530</td>\n",
       "      <td>0.470540</td>\n",
       "      <td>Existing Methods</td>\n",
       "      <td>precision</td>\n",
       "    </tr>\n",
       "    <tr>\n",
       "      <th>10</th>\n",
       "      <td>TS</td>\n",
       "      <td>MCP</td>\n",
       "      <td>0.496530</td>\n",
       "      <td>0.400400</td>\n",
       "      <td>Existing Methods</td>\n",
       "      <td>precision</td>\n",
       "    </tr>\n",
       "    <tr>\n",
       "      <th>14</th>\n",
       "      <td>TS</td>\n",
       "      <td>MCP</td>\n",
       "      <td>0.496530</td>\n",
       "      <td>0.563074</td>\n",
       "      <td>Existing Methods</td>\n",
       "      <td>precision</td>\n",
       "    </tr>\n",
       "    <tr>\n",
       "      <th>40</th>\n",
       "      <td>CS TS</td>\n",
       "      <td>MCP</td>\n",
       "      <td>0.185486</td>\n",
       "      <td>0.104676</td>\n",
       "      <td>Provided by MOVAL</td>\n",
       "      <td>f1score</td>\n",
       "    </tr>\n",
       "    <tr>\n",
       "      <th>42</th>\n",
       "      <td>CS TS</td>\n",
       "      <td>MCP</td>\n",
       "      <td>0.185486</td>\n",
       "      <td>0.205134</td>\n",
       "      <td>Provided by MOVAL</td>\n",
       "      <td>f1score</td>\n",
       "    </tr>\n",
       "    <tr>\n",
       "      <th>44</th>\n",
       "      <td>CS TS</td>\n",
       "      <td>MCP</td>\n",
       "      <td>0.185486</td>\n",
       "      <td>0.238782</td>\n",
       "      <td>Provided by MOVAL</td>\n",
       "      <td>f1score</td>\n",
       "    </tr>\n",
       "    <tr>\n",
       "      <th>41</th>\n",
       "      <td>CS TS</td>\n",
       "      <td>MCP</td>\n",
       "      <td>0.185486</td>\n",
       "      <td>0.166118</td>\n",
       "      <td>Provided by MOVAL</td>\n",
       "      <td>f1score</td>\n",
       "    </tr>\n",
       "    <tr>\n",
       "      <th>19</th>\n",
       "      <td>TS</td>\n",
       "      <td>MCP</td>\n",
       "      <td>0.291944</td>\n",
       "      <td>0.337603</td>\n",
       "      <td>Existing Methods</td>\n",
       "      <td>f1score</td>\n",
       "    </tr>\n",
       "    <tr>\n",
       "      <th>18</th>\n",
       "      <td>TS</td>\n",
       "      <td>MCP</td>\n",
       "      <td>0.291944</td>\n",
       "      <td>0.318459</td>\n",
       "      <td>Existing Methods</td>\n",
       "      <td>f1score</td>\n",
       "    </tr>\n",
       "    <tr>\n",
       "      <th>17</th>\n",
       "      <td>TS</td>\n",
       "      <td>MCP</td>\n",
       "      <td>0.291944</td>\n",
       "      <td>0.304015</td>\n",
       "      <td>Existing Methods</td>\n",
       "      <td>f1score</td>\n",
       "    </tr>\n",
       "    <tr>\n",
       "      <th>16</th>\n",
       "      <td>TS</td>\n",
       "      <td>MCP</td>\n",
       "      <td>0.291944</td>\n",
       "      <td>0.277608</td>\n",
       "      <td>Existing Methods</td>\n",
       "      <td>f1score</td>\n",
       "    </tr>\n",
       "    <tr>\n",
       "      <th>15</th>\n",
       "      <td>TS</td>\n",
       "      <td>MCP</td>\n",
       "      <td>0.291944</td>\n",
       "      <td>0.222035</td>\n",
       "      <td>Existing Methods</td>\n",
       "      <td>f1score</td>\n",
       "    </tr>\n",
       "    <tr>\n",
       "      <th>43</th>\n",
       "      <td>CS TS</td>\n",
       "      <td>MCP</td>\n",
       "      <td>0.185486</td>\n",
       "      <td>0.212721</td>\n",
       "      <td>Provided by MOVAL</td>\n",
       "      <td>f1score</td>\n",
       "    </tr>\n",
       "    <tr>\n",
       "      <th>45</th>\n",
       "      <td>CS TS</td>\n",
       "      <td>MCP</td>\n",
       "      <td>0.040406</td>\n",
       "      <td>0.019839</td>\n",
       "      <td>Provided by MOVAL</td>\n",
       "      <td>auc</td>\n",
       "    </tr>\n",
       "    <tr>\n",
       "      <th>47</th>\n",
       "      <td>CS TS</td>\n",
       "      <td>MCP</td>\n",
       "      <td>0.040406</td>\n",
       "      <td>0.044083</td>\n",
       "      <td>Provided by MOVAL</td>\n",
       "      <td>auc</td>\n",
       "    </tr>\n",
       "    <tr>\n",
       "      <th>46</th>\n",
       "      <td>CS TS</td>\n",
       "      <td>MCP</td>\n",
       "      <td>0.040406</td>\n",
       "      <td>0.027217</td>\n",
       "      <td>Provided by MOVAL</td>\n",
       "      <td>auc</td>\n",
       "    </tr>\n",
       "    <tr>\n",
       "      <th>24</th>\n",
       "      <td>TS</td>\n",
       "      <td>MCP</td>\n",
       "      <td>0.041647</td>\n",
       "      <td>0.063592</td>\n",
       "      <td>Existing Methods</td>\n",
       "      <td>auc</td>\n",
       "    </tr>\n",
       "    <tr>\n",
       "      <th>23</th>\n",
       "      <td>TS</td>\n",
       "      <td>MCP</td>\n",
       "      <td>0.041647</td>\n",
       "      <td>0.040151</td>\n",
       "      <td>Existing Methods</td>\n",
       "      <td>auc</td>\n",
       "    </tr>\n",
       "    <tr>\n",
       "      <th>22</th>\n",
       "      <td>TS</td>\n",
       "      <td>MCP</td>\n",
       "      <td>0.041647</td>\n",
       "      <td>0.058271</td>\n",
       "      <td>Existing Methods</td>\n",
       "      <td>auc</td>\n",
       "    </tr>\n",
       "    <tr>\n",
       "      <th>21</th>\n",
       "      <td>TS</td>\n",
       "      <td>MCP</td>\n",
       "      <td>0.041647</td>\n",
       "      <td>0.028687</td>\n",
       "      <td>Existing Methods</td>\n",
       "      <td>auc</td>\n",
       "    </tr>\n",
       "    <tr>\n",
       "      <th>20</th>\n",
       "      <td>TS</td>\n",
       "      <td>MCP</td>\n",
       "      <td>0.041647</td>\n",
       "      <td>0.017533</td>\n",
       "      <td>Existing Methods</td>\n",
       "      <td>auc</td>\n",
       "    </tr>\n",
       "    <tr>\n",
       "      <th>48</th>\n",
       "      <td>CS TS</td>\n",
       "      <td>MCP</td>\n",
       "      <td>0.040406</td>\n",
       "      <td>0.049343</td>\n",
       "      <td>Provided by MOVAL</td>\n",
       "      <td>auc</td>\n",
       "    </tr>\n",
       "    <tr>\n",
       "      <th>49</th>\n",
       "      <td>CS TS</td>\n",
       "      <td>MCP</td>\n",
       "      <td>0.040406</td>\n",
       "      <td>0.061548</td>\n",
       "      <td>Provided by MOVAL</td>\n",
       "      <td>auc</td>\n",
       "    </tr>\n",
       "  </tbody>\n",
       "</table>\n",
       "</div>"
      ],
      "text/plain": [
       "   Estimation Algorithm Confidence Score       MAE      MAE   \\\n",
       "0                    TS              MCP  0.141721  0.080761   \n",
       "1                    TS              MCP  0.141721  0.125595   \n",
       "2                    TS              MCP  0.141721  0.156014   \n",
       "3                    TS              MCP  0.141721  0.163744   \n",
       "4                    TS              MCP  0.141721  0.182490   \n",
       "28                CS TS              MCP  0.082242  0.095681   \n",
       "27                CS TS              MCP  0.082242  0.089596   \n",
       "26                CS TS              MCP  0.082242  0.072217   \n",
       "25                CS TS              MCP  0.082242  0.047667   \n",
       "29                CS TS              MCP  0.082242  0.106050   \n",
       "31                CS TS              MCP  0.152080  0.135770   \n",
       "32                CS TS              MCP  0.152080  0.165340   \n",
       "33                CS TS              MCP  0.152080  0.173940   \n",
       "34                CS TS              MCP  0.152080  0.191324   \n",
       "30                CS TS              MCP  0.152080  0.094026   \n",
       "9                    TS              MCP  0.254894  0.270503   \n",
       "8                    TS              MCP  0.254894  0.268069   \n",
       "7                    TS              MCP  0.254894  0.260403   \n",
       "6                    TS              MCP  0.254894  0.253091   \n",
       "5                    TS              MCP  0.254894  0.222405   \n",
       "13                   TS              MCP  0.496530  0.524955   \n",
       "39                CS TS              MCP  0.433401  0.488963   \n",
       "38                CS TS              MCP  0.433401  0.463441   \n",
       "37                CS TS              MCP  0.433401  0.462986   \n",
       "36                CS TS              MCP  0.433401  0.413138   \n",
       "35                CS TS              MCP  0.433401  0.338476   \n",
       "12                   TS              MCP  0.496530  0.523681   \n",
       "11                   TS              MCP  0.496530  0.470540   \n",
       "10                   TS              MCP  0.496530  0.400400   \n",
       "14                   TS              MCP  0.496530  0.563074   \n",
       "40                CS TS              MCP  0.185486  0.104676   \n",
       "42                CS TS              MCP  0.185486  0.205134   \n",
       "44                CS TS              MCP  0.185486  0.238782   \n",
       "41                CS TS              MCP  0.185486  0.166118   \n",
       "19                   TS              MCP  0.291944  0.337603   \n",
       "18                   TS              MCP  0.291944  0.318459   \n",
       "17                   TS              MCP  0.291944  0.304015   \n",
       "16                   TS              MCP  0.291944  0.277608   \n",
       "15                   TS              MCP  0.291944  0.222035   \n",
       "43                CS TS              MCP  0.185486  0.212721   \n",
       "45                CS TS              MCP  0.040406  0.019839   \n",
       "47                CS TS              MCP  0.040406  0.044083   \n",
       "46                CS TS              MCP  0.040406  0.027217   \n",
       "24                   TS              MCP  0.041647  0.063592   \n",
       "23                   TS              MCP  0.041647  0.040151   \n",
       "22                   TS              MCP  0.041647  0.058271   \n",
       "21                   TS              MCP  0.041647  0.028687   \n",
       "20                   TS              MCP  0.041647  0.017533   \n",
       "48                CS TS              MCP  0.040406  0.049343   \n",
       "49                CS TS              MCP  0.040406  0.061548   \n",
       "\n",
       "             Category       Metric  \n",
       "0    Existing Methods     accuracy  \n",
       "1    Existing Methods     accuracy  \n",
       "2    Existing Methods     accuracy  \n",
       "3    Existing Methods     accuracy  \n",
       "4    Existing Methods     accuracy  \n",
       "28  Provided by MOVAL     accuracy  \n",
       "27  Provided by MOVAL     accuracy  \n",
       "26  Provided by MOVAL     accuracy  \n",
       "25  Provided by MOVAL     accuracy  \n",
       "29  Provided by MOVAL     accuracy  \n",
       "31  Provided by MOVAL  sensitivity  \n",
       "32  Provided by MOVAL  sensitivity  \n",
       "33  Provided by MOVAL  sensitivity  \n",
       "34  Provided by MOVAL  sensitivity  \n",
       "30  Provided by MOVAL  sensitivity  \n",
       "9    Existing Methods  sensitivity  \n",
       "8    Existing Methods  sensitivity  \n",
       "7    Existing Methods  sensitivity  \n",
       "6    Existing Methods  sensitivity  \n",
       "5    Existing Methods  sensitivity  \n",
       "13   Existing Methods    precision  \n",
       "39  Provided by MOVAL    precision  \n",
       "38  Provided by MOVAL    precision  \n",
       "37  Provided by MOVAL    precision  \n",
       "36  Provided by MOVAL    precision  \n",
       "35  Provided by MOVAL    precision  \n",
       "12   Existing Methods    precision  \n",
       "11   Existing Methods    precision  \n",
       "10   Existing Methods    precision  \n",
       "14   Existing Methods    precision  \n",
       "40  Provided by MOVAL      f1score  \n",
       "42  Provided by MOVAL      f1score  \n",
       "44  Provided by MOVAL      f1score  \n",
       "41  Provided by MOVAL      f1score  \n",
       "19   Existing Methods      f1score  \n",
       "18   Existing Methods      f1score  \n",
       "17   Existing Methods      f1score  \n",
       "16   Existing Methods      f1score  \n",
       "15   Existing Methods      f1score  \n",
       "43  Provided by MOVAL      f1score  \n",
       "45  Provided by MOVAL          auc  \n",
       "47  Provided by MOVAL          auc  \n",
       "46  Provided by MOVAL          auc  \n",
       "24   Existing Methods          auc  \n",
       "23   Existing Methods          auc  \n",
       "22   Existing Methods          auc  \n",
       "21   Existing Methods          auc  \n",
       "20   Existing Methods          auc  \n",
       "48  Provided by MOVAL          auc  \n",
       "49  Provided by MOVAL          auc  "
      ]
     },
     "execution_count": 29,
     "metadata": {},
     "output_type": "execute_result"
    }
   ],
   "source": [
    "df"
   ]
  },
  {
   "cell_type": "code",
   "execution_count": 30,
   "id": "73268631",
   "metadata": {},
   "outputs": [
    {
     "data": {
      "image/png": "[encoded data removed]",
      "text/plain": [
       "<Figure size 1200x300 with 1 Axes>"
      ]
     },
     "metadata": {},
     "output_type": "display_data"
    }
   ],
   "source": [
    "ax = sns.boxplot(df, x=\"Metric\", y=\"MAE \", hue=\"Estimation Algorithm\")"
   ]
  },
  {
   "cell_type": "code",
   "execution_count": null,
   "id": "1a38470c",
   "metadata": {},
   "outputs": [],
   "source": []
  },
  {
   "cell_type": "code",
   "execution_count": null,
   "id": "ba0a827b",
   "metadata": {},
   "outputs": [],
   "source": []
  },
  {
   "cell_type": "code",
   "execution_count": null,
   "id": "5122fa81",
   "metadata": {},
   "outputs": [],
   "source": []
  },
  {
   "cell_type": "code",
   "execution_count": null,
   "id": "f1442f03",
   "metadata": {},
   "outputs": [],
   "source": []
  }
 ],
 "metadata": {
  "kernelspec": {
   "display_name": "Python 3 (ipykernel)",
   "language": "python",
   "name": "python3"
  },
  "language_info": {
   "codemirror_mode": {
    "name": "ipython",
    "version": 3
   },
   "file_extension": ".py",
   "mimetype": "text/x-python",
   "name": "python",
   "nbconvert_exporter": "python",
   "pygments_lexer": "ipython3",
   "version": "3.8.0"
  }
 },
 "nbformat": 4,
 "nbformat_minor": 5
}
