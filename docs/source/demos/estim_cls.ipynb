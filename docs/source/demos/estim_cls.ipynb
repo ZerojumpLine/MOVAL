{
 "cells": [
  {
   "cell_type": "markdown",
   "id": "78e1590e-fe81-42a5-baeb-b5734c62df1a",
   "metadata": {},
   "source": [
    "# Performance Estimation of Classification"
   ]
  },
  {
   "cell_type": "markdown",
   "id": "8ba3dd68-4dba-4638-9de1-ab7847d24d90",
   "metadata": {},
   "source": [
    "Consider to download this Jupyter Notebook and run locally, or test it with Colab.\n",
    "<br>\n",
    "\n",
    "[![Download](https://img.shields.io/badge/Download-jupyter-blue)](https://github.com/ZerojumpLine/MOVAL/blob/main/docs/source/demos/estim_cls.ipynb)\n",
    "[![Open In Colab](https://colab.research.google.com/assets/colab-badge.svg)](https://colab.research.google.com/drive/1PHd9a4okUQpJ9EtlzTXCT6LIGphfPqUt)"
   ]
  },
  {
   "cell_type": "markdown",
   "id": "c9b5661b-b953-408e-9b23-b05ccdb8a241",
   "metadata": {},
   "source": [
    "* In this notebook, we will show how to evaluate the performance of classification tasks.\n",
    "<br>\n",
    "* We provide the model predicted classification results (network logits) for this tutorial, which will be download automatically. We also provide the model training code in https://github.com/ZerojumpLine/Robust-Skin-Lesion-Classification.\n",
    "<br>\n",
    "* More specifically, we show an example of estimating the performance under domain shifts on CIFAR10-LT based on ResNet. We will utilize the calculated logits on test dataset with sythesized motion blur condition.\n",
    "<br>\n",
    "* We will calculated model confidence with different confidence scores and varied calibration methods."
   ]
  },
  {
   "cell_type": "code",
   "execution_count": 1,
   "id": "015ad97d-ae79-4b0b-9a01-6ce2d6b14233",
   "metadata": {
    "scrolled": true
   },
   "outputs": [
    {
     "name": "stdout",
     "output_type": "stream",
     "text": [
      "Requirement already satisfied: moval in /Users/zejuli/opt/anaconda3/envs/moval/lib/python3.8/site-packages (0.2.12)\n",
      "Requirement already satisfied: scikit-learn>=1.3.0 in /Users/zejuli/opt/anaconda3/envs/moval/lib/python3.8/site-packages (from moval) (1.3.0)\n",
      "Requirement already satisfied: scipy>=1.8.0 in /Users/zejuli/opt/anaconda3/envs/moval/lib/python3.8/site-packages (from moval) (1.10.1)\n",
      "Requirement already satisfied: pytest in /Users/zejuli/opt/anaconda3/envs/moval/lib/python3.8/site-packages (from moval) (7.4.3)\n",
      "Requirement already satisfied: gdown in /Users/zejuli/opt/anaconda3/envs/moval/lib/python3.8/site-packages (from moval) (4.7.1)\n",
      "Requirement already satisfied: pandas in /Users/zejuli/opt/anaconda3/envs/moval/lib/python3.8/site-packages (from moval) (1.5.3)\n",
      "Requirement already satisfied: nibabel in /Users/zejuli/opt/anaconda3/envs/moval/lib/python3.8/site-packages (from moval) (5.1.0)\n",
      "Requirement already satisfied: numpy>=1.17.3 in /Users/zejuli/opt/anaconda3/envs/moval/lib/python3.8/site-packages (from scikit-learn>=1.3.0->moval) (1.24.4)\n",
      "Requirement already satisfied: joblib>=1.1.1 in /Users/zejuli/opt/anaconda3/envs/moval/lib/python3.8/site-packages (from scikit-learn>=1.3.0->moval) (1.3.1)\n",
      "Requirement already satisfied: threadpoolctl>=2.0.0 in /Users/zejuli/opt/anaconda3/envs/moval/lib/python3.8/site-packages (from scikit-learn>=1.3.0->moval) (3.1.0)\n",
      "Requirement already satisfied: filelock in /Users/zejuli/opt/anaconda3/envs/moval/lib/python3.8/site-packages (from gdown->moval) (3.13.1)\n",
      "Requirement already satisfied: requests[socks] in /Users/zejuli/.local/lib/python3.8/site-packages (from gdown->moval) (2.31.0)\n",
      "Requirement already satisfied: six in /Users/zejuli/.local/lib/python3.8/site-packages (from gdown->moval) (1.16.0)\n",
      "Requirement already satisfied: tqdm in /Users/zejuli/opt/anaconda3/envs/moval/lib/python3.8/site-packages (from gdown->moval) (4.65.0)\n",
      "Requirement already satisfied: beautifulsoup4 in /Users/zejuli/opt/anaconda3/envs/moval/lib/python3.8/site-packages (from gdown->moval) (4.12.2)\n",
      "Requirement already satisfied: importlib-resources>=1.3 in /Users/zejuli/.local/lib/python3.8/site-packages (from nibabel->moval) (5.12.0)\n",
      "Requirement already satisfied: packaging>=17 in /Users/zejuli/opt/anaconda3/envs/moval/lib/python3.8/site-packages (from nibabel->moval) (23.1)\n",
      "Requirement already satisfied: python-dateutil>=2.8.1 in /Users/zejuli/opt/anaconda3/envs/moval/lib/python3.8/site-packages (from pandas->moval) (2.8.2)\n",
      "Requirement already satisfied: pytz>=2020.1 in /Users/zejuli/opt/anaconda3/envs/moval/lib/python3.8/site-packages (from pandas->moval) (2023.3.post1)\n",
      "Requirement already satisfied: iniconfig in /Users/zejuli/opt/anaconda3/envs/moval/lib/python3.8/site-packages (from pytest->moval) (2.0.0)\n",
      "Requirement already satisfied: pluggy<2.0,>=0.12 in /Users/zejuli/opt/anaconda3/envs/moval/lib/python3.8/site-packages (from pytest->moval) (1.3.0)\n",
      "Requirement already satisfied: exceptiongroup>=1.0.0rc8 in /Users/zejuli/opt/anaconda3/envs/moval/lib/python3.8/site-packages (from pytest->moval) (1.1.3)\n",
      "Requirement already satisfied: tomli>=1.0.0 in /Users/zejuli/opt/anaconda3/envs/moval/lib/python3.8/site-packages (from pytest->moval) (2.0.1)\n",
      "Requirement already satisfied: zipp>=3.1.0 in /Users/zejuli/.local/lib/python3.8/site-packages (from importlib-resources>=1.3->nibabel->moval) (3.15.0)\n",
      "Requirement already satisfied: soupsieve>1.2 in /Users/zejuli/opt/anaconda3/envs/moval/lib/python3.8/site-packages (from beautifulsoup4->gdown->moval) (2.5)\n",
      "Requirement already satisfied: charset-normalizer<4,>=2 in /Users/zejuli/.local/lib/python3.8/site-packages (from requests[socks]->gdown->moval) (3.1.0)\n",
      "Requirement already satisfied: idna<4,>=2.5 in /Users/zejuli/.local/lib/python3.8/site-packages (from requests[socks]->gdown->moval) (3.4)\n",
      "Requirement already satisfied: urllib3<3,>=1.21.1 in /Users/zejuli/.local/lib/python3.8/site-packages (from requests[socks]->gdown->moval) (2.0.3)\n",
      "Requirement already satisfied: certifi>=2017.4.17 in /Users/zejuli/.local/lib/python3.8/site-packages (from requests[socks]->gdown->moval) (2023.5.7)\n",
      "Requirement already satisfied: PySocks!=1.5.7,>=1.5.6 in /Users/zejuli/opt/anaconda3/envs/moval/lib/python3.8/site-packages (from requests[socks]->gdown->moval) (1.7.1)\n",
      "Requirement already satisfied: statannotations in /Users/zejuli/opt/anaconda3/envs/moval/lib/python3.8/site-packages (0.6.0)\n",
      "Requirement already satisfied: numpy>=1.12.1 in /Users/zejuli/opt/anaconda3/envs/moval/lib/python3.8/site-packages (from statannotations) (1.24.4)\n",
      "Collecting seaborn<0.12,>=0.9.0 (from statannotations)\n",
      "  Using cached seaborn-0.11.2-py3-none-any.whl (292 kB)\n",
      "Requirement already satisfied: matplotlib>=2.2.2 in /Users/zejuli/opt/anaconda3/envs/moval/lib/python3.8/site-packages (from statannotations) (3.7.4)\n",
      "Requirement already satisfied: pandas<2.0.0,>=0.23.0 in /Users/zejuli/opt/anaconda3/envs/moval/lib/python3.8/site-packages (from statannotations) (1.5.3)\n",
      "Requirement already satisfied: scipy>=1.1.0 in /Users/zejuli/opt/anaconda3/envs/moval/lib/python3.8/site-packages (from statannotations) (1.10.1)\n",
      "Requirement already satisfied: contourpy>=1.0.1 in /Users/zejuli/opt/anaconda3/envs/moval/lib/python3.8/site-packages (from matplotlib>=2.2.2->statannotations) (1.1.1)\n",
      "Requirement already satisfied: cycler>=0.10 in /Users/zejuli/opt/anaconda3/envs/moval/lib/python3.8/site-packages (from matplotlib>=2.2.2->statannotations) (0.12.1)\n",
      "Requirement already satisfied: fonttools>=4.22.0 in /Users/zejuli/opt/anaconda3/envs/moval/lib/python3.8/site-packages (from matplotlib>=2.2.2->statannotations) (4.46.0)\n",
      "Requirement already satisfied: kiwisolver>=1.0.1 in /Users/zejuli/opt/anaconda3/envs/moval/lib/python3.8/site-packages (from matplotlib>=2.2.2->statannotations) (1.4.5)\n",
      "Requirement already satisfied: packaging>=20.0 in /Users/zejuli/opt/anaconda3/envs/moval/lib/python3.8/site-packages (from matplotlib>=2.2.2->statannotations) (23.1)\n",
      "Requirement already satisfied: pillow>=6.2.0 in /Users/zejuli/opt/anaconda3/envs/moval/lib/python3.8/site-packages (from matplotlib>=2.2.2->statannotations) (10.1.0)\n",
      "Requirement already satisfied: pyparsing>=2.3.1 in /Users/zejuli/opt/anaconda3/envs/moval/lib/python3.8/site-packages (from matplotlib>=2.2.2->statannotations) (3.1.1)\n",
      "Requirement already satisfied: python-dateutil>=2.7 in /Users/zejuli/opt/anaconda3/envs/moval/lib/python3.8/site-packages (from matplotlib>=2.2.2->statannotations) (2.8.2)\n",
      "Requirement already satisfied: importlib-resources>=3.2.0 in /Users/zejuli/.local/lib/python3.8/site-packages (from matplotlib>=2.2.2->statannotations) (5.12.0)\n",
      "Requirement already satisfied: pytz>=2020.1 in /Users/zejuli/opt/anaconda3/envs/moval/lib/python3.8/site-packages (from pandas<2.0.0,>=0.23.0->statannotations) (2023.3.post1)\n",
      "Requirement already satisfied: zipp>=3.1.0 in /Users/zejuli/.local/lib/python3.8/site-packages (from importlib-resources>=3.2.0->matplotlib>=2.2.2->statannotations) (3.15.0)\n",
      "Requirement already satisfied: six>=1.5 in /Users/zejuli/.local/lib/python3.8/site-packages (from python-dateutil>=2.7->matplotlib>=2.2.2->statannotations) (1.16.0)\n",
      "Installing collected packages: seaborn\n",
      "  Attempting uninstall: seaborn\n",
      "    Found existing installation: seaborn 0.12.0\n",
      "    Uninstalling seaborn-0.12.0:\n",
      "      Successfully uninstalled seaborn-0.12.0\n",
      "Successfully installed seaborn-0.11.2\n",
      "Requirement already satisfied: pandas in /Users/zejuli/opt/anaconda3/envs/moval/lib/python3.8/site-packages (1.5.3)\n",
      "Requirement already satisfied: python-dateutil>=2.8.1 in /Users/zejuli/opt/anaconda3/envs/moval/lib/python3.8/site-packages (from pandas) (2.8.2)\n",
      "Requirement already satisfied: pytz>=2020.1 in /Users/zejuli/opt/anaconda3/envs/moval/lib/python3.8/site-packages (from pandas) (2023.3.post1)\n",
      "Requirement already satisfied: numpy>=1.20.3 in /Users/zejuli/opt/anaconda3/envs/moval/lib/python3.8/site-packages (from pandas) (1.24.4)\n",
      "Requirement already satisfied: six>=1.5 in /Users/zejuli/.local/lib/python3.8/site-packages (from python-dateutil>=2.8.1->pandas) (1.16.0)\n",
      "Requirement already satisfied: tqdm in /Users/zejuli/opt/anaconda3/envs/moval/lib/python3.8/site-packages (4.65.0)\n",
      "Requirement already satisfied: matplotlib in /Users/zejuli/opt/anaconda3/envs/moval/lib/python3.8/site-packages (3.7.4)\n",
      "Requirement already satisfied: contourpy>=1.0.1 in /Users/zejuli/opt/anaconda3/envs/moval/lib/python3.8/site-packages (from matplotlib) (1.1.1)\n",
      "Requirement already satisfied: cycler>=0.10 in /Users/zejuli/opt/anaconda3/envs/moval/lib/python3.8/site-packages (from matplotlib) (0.12.1)\n",
      "Requirement already satisfied: fonttools>=4.22.0 in /Users/zejuli/opt/anaconda3/envs/moval/lib/python3.8/site-packages (from matplotlib) (4.46.0)\n",
      "Requirement already satisfied: kiwisolver>=1.0.1 in /Users/zejuli/opt/anaconda3/envs/moval/lib/python3.8/site-packages (from matplotlib) (1.4.5)\n",
      "Requirement already satisfied: numpy<2,>=1.20 in /Users/zejuli/opt/anaconda3/envs/moval/lib/python3.8/site-packages (from matplotlib) (1.24.4)\n",
      "Requirement already satisfied: packaging>=20.0 in /Users/zejuli/opt/anaconda3/envs/moval/lib/python3.8/site-packages (from matplotlib) (23.1)\n",
      "Requirement already satisfied: pillow>=6.2.0 in /Users/zejuli/opt/anaconda3/envs/moval/lib/python3.8/site-packages (from matplotlib) (10.1.0)\n",
      "Requirement already satisfied: pyparsing>=2.3.1 in /Users/zejuli/opt/anaconda3/envs/moval/lib/python3.8/site-packages (from matplotlib) (3.1.1)\n",
      "Requirement already satisfied: python-dateutil>=2.7 in /Users/zejuli/opt/anaconda3/envs/moval/lib/python3.8/site-packages (from matplotlib) (2.8.2)\n",
      "Requirement already satisfied: importlib-resources>=3.2.0 in /Users/zejuli/.local/lib/python3.8/site-packages (from matplotlib) (5.12.0)\n",
      "Requirement already satisfied: zipp>=3.1.0 in /Users/zejuli/.local/lib/python3.8/site-packages (from importlib-resources>=3.2.0->matplotlib) (3.15.0)\n",
      "Requirement already satisfied: six>=1.5 in /Users/zejuli/.local/lib/python3.8/site-packages (from python-dateutil>=2.7->matplotlib) (1.16.0)\n",
      "Collecting seaborn==0.12\n",
      "  Using cached seaborn-0.12.0-py3-none-any.whl (285 kB)\n",
      "Requirement already satisfied: numpy>=1.17 in /Users/zejuli/opt/anaconda3/envs/moval/lib/python3.8/site-packages (from seaborn==0.12) (1.24.4)\n",
      "Requirement already satisfied: pandas>=0.25 in /Users/zejuli/opt/anaconda3/envs/moval/lib/python3.8/site-packages (from seaborn==0.12) (1.5.3)\n",
      "Requirement already satisfied: matplotlib>=3.1 in /Users/zejuli/opt/anaconda3/envs/moval/lib/python3.8/site-packages (from seaborn==0.12) (3.7.4)\n",
      "Requirement already satisfied: contourpy>=1.0.1 in /Users/zejuli/opt/anaconda3/envs/moval/lib/python3.8/site-packages (from matplotlib>=3.1->seaborn==0.12) (1.1.1)\n",
      "Requirement already satisfied: cycler>=0.10 in /Users/zejuli/opt/anaconda3/envs/moval/lib/python3.8/site-packages (from matplotlib>=3.1->seaborn==0.12) (0.12.1)\n",
      "Requirement already satisfied: fonttools>=4.22.0 in /Users/zejuli/opt/anaconda3/envs/moval/lib/python3.8/site-packages (from matplotlib>=3.1->seaborn==0.12) (4.46.0)\n",
      "Requirement already satisfied: kiwisolver>=1.0.1 in /Users/zejuli/opt/anaconda3/envs/moval/lib/python3.8/site-packages (from matplotlib>=3.1->seaborn==0.12) (1.4.5)\n",
      "Requirement already satisfied: packaging>=20.0 in /Users/zejuli/opt/anaconda3/envs/moval/lib/python3.8/site-packages (from matplotlib>=3.1->seaborn==0.12) (23.1)\n",
      "Requirement already satisfied: pillow>=6.2.0 in /Users/zejuli/opt/anaconda3/envs/moval/lib/python3.8/site-packages (from matplotlib>=3.1->seaborn==0.12) (10.1.0)\n",
      "Requirement already satisfied: pyparsing>=2.3.1 in /Users/zejuli/opt/anaconda3/envs/moval/lib/python3.8/site-packages (from matplotlib>=3.1->seaborn==0.12) (3.1.1)\n",
      "Requirement already satisfied: python-dateutil>=2.7 in /Users/zejuli/opt/anaconda3/envs/moval/lib/python3.8/site-packages (from matplotlib>=3.1->seaborn==0.12) (2.8.2)\n",
      "Requirement already satisfied: importlib-resources>=3.2.0 in /Users/zejuli/.local/lib/python3.8/site-packages (from matplotlib>=3.1->seaborn==0.12) (5.12.0)\n",
      "Requirement already satisfied: pytz>=2020.1 in /Users/zejuli/opt/anaconda3/envs/moval/lib/python3.8/site-packages (from pandas>=0.25->seaborn==0.12) (2023.3.post1)\n",
      "Requirement already satisfied: zipp>=3.1.0 in /Users/zejuli/.local/lib/python3.8/site-packages (from importlib-resources>=3.2.0->matplotlib>=3.1->seaborn==0.12) (3.15.0)\n",
      "Requirement already satisfied: six>=1.5 in /Users/zejuli/.local/lib/python3.8/site-packages (from python-dateutil>=2.7->matplotlib>=3.1->seaborn==0.12) (1.16.0)\n",
      "Installing collected packages: seaborn\n",
      "  Attempting uninstall: seaborn\n",
      "    Found existing installation: seaborn 0.11.2\n",
      "    Uninstalling seaborn-0.11.2:\n",
      "      Successfully uninstalled seaborn-0.11.2\n",
      "\u001b[31mERROR: pip's dependency resolver does not currently take into account all the packages that are installed. This behaviour is the source of the following dependency conflicts.\n",
      "statannotations 0.6.0 requires seaborn<0.12,>=0.9.0, but you have seaborn 0.12.0 which is incompatible.\u001b[0m\u001b[31m\n",
      "\u001b[0mSuccessfully installed seaborn-0.12.0\n"
     ]
    }
   ],
   "source": [
    "!pip install moval\n",
    "!pip install statannotations\n",
    "!pip install pandas\n",
    "!pip install tqdm\n",
    "!pip install matplotlib\n",
    "!pip install seaborn==0.12 # because statannotations not support the latest"
   ]
  },
  {
   "cell_type": "code",
   "execution_count": 2,
   "id": "e59b52b4-b5fe-469c-aa24-1449de534cae",
   "metadata": {},
   "outputs": [],
   "source": [
    "import os\n",
    "import gdown\n",
    "import itertools\n",
    "import zipfile\n",
    "import pandas as pd\n",
    "import numpy as np\n",
    "import moval\n",
    "from tqdm import tqdm\n",
    "import seaborn as sns\n",
    "import matplotlib.pyplot as plt"
   ]
  },
  {
   "cell_type": "code",
   "execution_count": 3,
   "id": "6977ce44-fe9b-4ee4-ba98-4bcb1cc406ec",
   "metadata": {},
   "outputs": [
    {
     "name": "stdout",
     "output_type": "stream",
     "text": [
      "The installed MOVAL verision is 0.2.12\n",
      "The installed seaborn verision is 0.12.0\n"
     ]
    }
   ],
   "source": [
    "print(f\"The installed MOVAL verision is {moval.__version__}\")\n",
    "print(f\"The installed seaborn verision is {sns.__version__}\")"
   ]
  },
  {
   "cell_type": "markdown",
   "id": "fe14651d-7f62-41dc-8aaf-dcdb4f80e4fd",
   "metadata": {},
   "source": [
    "## Load the data"
   ]
  },
  {
   "cell_type": "code",
   "execution_count": 4,
   "id": "f1dd6df0-d477-408c-96bb-3f560d4dc3d5",
   "metadata": {},
   "outputs": [],
   "source": [
    "# download the data, which we used for MICCAI 2022\n",
    "\n",
    "output = \"data_moval.zip\"\n",
    "if not os.path.exists(output):\n",
    "    url = \"https://drive.google.com/u/0/uc?id=139pqxkG2ccIFq6qNArnFJWQ2by2Spbxt&export=download\"\n",
    "    output = \"data_moval.zip\"\n",
    "    gdown.download(url, output, quiet=False)\n",
    "\n",
    "directory_data = \"data_moval\"\n",
    "if not os.path.exists(directory_data):\n",
    "    with zipfile.ZipFile(output, 'r') as zip_ref:\n",
    "        zip_ref.extractall(directory_data)"
   ]
  },
  {
   "cell_type": "code",
   "execution_count": 5,
   "id": "988c917a-97eb-4b9c-a5ab-5443cfe9e9d6",
   "metadata": {},
   "outputs": [
    {
     "name": "stdout",
     "output_type": "stream",
     "text": [
      "analysis_cls.ipynb    data_moval_supp.zip   \u001b[34mimg_cifar\u001b[m\u001b[m/\n",
      "analysis_seg2d.ipynb  estim_cls.ipynb       img_cifar.zip\n",
      "analysis_seg3d.ipynb  estim_seg2d.ipynb     \u001b[34mimg_prostate\u001b[m\u001b[m/\n",
      "\u001b[34mdata_moval\u001b[m\u001b[m/           estim_seg3d.ipynb     img_prostate.zip\n",
      "data_moval.zip        \u001b[34mimg_cardiac\u001b[m\u001b[m/\n",
      "\u001b[34mdata_moval_supp\u001b[m\u001b[m/      img_cardiac.zip\n"
     ]
    }
   ],
   "source": [
    "ls"
   ]
  },
  {
   "cell_type": "code",
   "execution_count": 6,
   "id": "ee78b79d-d4a4-4019-b011-39b2eb11d96d",
   "metadata": {},
   "outputs": [],
   "source": [
    "# now I am playing with cifar10 classification\n",
    "val_data =  \"data_moval/cifar10results/predictions_val.csv\"\n",
    "test_data = \"data_moval/cifar10results/predictions_val_motion_blur.csv\"\n",
    "# validation data\n",
    "cnn_pred = pd.read_csv(val_data)\n",
    "targets_all = np.array(cnn_pred[['target_0', 'target_1', 'target_2', 'target_3', 'target_4', \n",
    "                                 'target_5', 'target_6', 'target_7', 'target_8', 'target_9']])\n",
    "logits = np.array(cnn_pred[['logit_0', 'logit_1', 'logit_2', 'logit_3', 'logit_4', \n",
    "                               'logit_5', 'logit_6', 'logit_7', 'logit_8', 'logit_9']])\n",
    "gt = np.argmax(targets_all, axis = 1)\n",
    "# logits is of shape ``(n, d)``\n",
    "# gt is of shape ``(n, )``\n",
    "\n",
    "# test data\n",
    "cnn_pred_test = pd.read_csv(test_data)\n",
    "targets_all_test = np.array(cnn_pred_test[['target_0', 'target_1', 'target_2', 'target_3', 'target_4', \n",
    "                                           'target_5', 'target_6', 'target_7', 'target_8', 'target_9']])\n",
    "logits_test = np.array(cnn_pred_test[['logit_0', 'logit_1', 'logit_2', 'logit_3', 'logit_4', \n",
    "                                      'logit_5', 'logit_6', 'logit_7', 'logit_8', 'logit_9']])\n",
    "gt_test = np.argmax(targets_all_test, axis = 1)"
   ]
  },
  {
   "cell_type": "code",
   "execution_count": 7,
   "id": "c74fe922-256a-4ac6-b6cc-e126d8cf0d02",
   "metadata": {},
   "outputs": [],
   "source": [
    "# Here I want to split the test data such that they are not overlapped.\n",
    "import random\n",
    "random.seed(79)\n",
    "test_ind = list(range(10000))\n",
    "random.shuffle(test_ind)\n",
    "#\n",
    "val_ind = test_ind[:3000]\n",
    "testc_indx_1 = test_ind[3000:]\n",
    "testc_indx_2 = [x+10000 for x in test_ind[3000:]]\n",
    "testc_indx_3 = [x+20000 for x in test_ind[3000:]]\n",
    "testc_indx_4 = [x+30000 for x in test_ind[3000:]]\n",
    "testc_indx_5 = [x+40000 for x in test_ind[3000:]]\n",
    "testc_indxs = [testc_indx_1, testc_indx_2, testc_indx_3, testc_indx_4, testc_indx_5]\n",
    "#"
   ]
  },
  {
   "cell_type": "code",
   "execution_count": 8,
   "id": "cd0206ef-02a4-4f99-b27a-caf7eb62da83",
   "metadata": {},
   "outputs": [],
   "source": [
    "logits_val = logits[val_ind, :]\n",
    "gt_val = gt[val_ind]\n",
    "#\n",
    "logits_tests = []\n",
    "gt_tests = []\n",
    "#\n",
    "for testc_indx in testc_indxs:\n",
    "    #\n",
    "    logits_tests.append(logits_test[testc_indx, :])\n",
    "    gt_tests.append(gt_test[testc_indx])"
   ]
  },
  {
   "cell_type": "code",
   "execution_count": 9,
   "id": "891ccb3c-af2f-4d68-87bc-129630c4f6a4",
   "metadata": {},
   "outputs": [
    {
     "name": "stdout",
     "output_type": "stream",
     "text": [
      "The validation predictions, ``logits`` are of shape (n, d), which are now (3000, 10)\n",
      "The validation labels, ``gt`` are of shape (n, ), which are now (3000,)\n",
      "\n",
      "The number of test conditions is 5\n",
      "The test predictions, ``logits_test`` are of shape (n', d), which are now (7000, 10)\n",
      "The test labels, ``gt_test`` are of shape (n', ), which are now (7000,)\n"
     ]
    }
   ],
   "source": [
    "print(f\"The validation predictions, ``logits`` are of shape (n, d), which are now {logits_val.shape}\")\n",
    "print(f\"The validation labels, ``gt`` are of shape (n, ), which are now {gt_val.shape}\\n\")\n",
    "print(f\"The number of test conditions is {len(logits_tests)}\")\n",
    "print(f\"The test predictions, ``logits_test`` are of shape (n', d), which are now {logits_tests[0].shape}\")\n",
    "print(f\"The test labels, ``gt_test`` are of shape (n', ), which are now {gt_tests[0].shape}\")"
   ]
  },
  {
   "cell_type": "markdown",
   "id": "b530131b-feee-4cad-a54e-7acf506063db",
   "metadata": {},
   "source": [
    "## MOVAL estimation on accuracy"
   ]
  },
  {
   "cell_type": "code",
   "execution_count": 10,
   "id": "29c9b3f1-8d3e-4f0d-aacb-9cb362f6d5de",
   "metadata": {},
   "outputs": [],
   "source": [
    "moval_options = list(itertools.product(moval.models.get_estim_options(),\n",
    "                               [\"classification\"],\n",
    "                               moval.models.get_conf_options(),\n",
    "                               [False, True]))"
   ]
  },
  {
   "cell_type": "code",
   "execution_count": 11,
   "id": "c7ec3b5e-54da-49e0-bd53-c94ecf2b89f4",
   "metadata": {},
   "outputs": [],
   "source": [
    "# ac-model does not need class-speicfic variants\n",
    "for moval_option in moval_options:\n",
    "    if moval_option[0] == 'ac-model' and moval_option[-1] == True:\n",
    "        moval_options.remove(moval_option)"
   ]
  },
  {
   "cell_type": "code",
   "execution_count": 12,
   "id": "cdb30ae2-84e5-452a-8d8c-6795df9d30cf",
   "metadata": {},
   "outputs": [
    {
     "name": "stdout",
     "output_type": "stream",
     "text": [
      "The number of moval options is 36\n"
     ]
    }
   ],
   "source": [
    "print(f\"The number of moval options is {len(moval_options)}\")"
   ]
  },
  {
   "cell_type": "code",
   "execution_count": 13,
   "id": "f712cb2c-3abc-4da9-b1bc-055ee70f0120",
   "metadata": {},
   "outputs": [],
   "source": [
    "from moval.solvers.utils import ComputMetric, ComputAUC\n",
    "from moval.models.utils import cal_softmax\n",
    "\n",
    "def test_cls(estim_algorithm, mode, metric, confidence_scores, class_specific, logits, gt, logits_tests, gt_tests):\n",
    "    \"\"\"Test MOVAL with different conditions for classification tasks\n",
    "        \n",
    "    Args:\n",
    "        mode (str): The given task to estimate model performance.\n",
    "        metrc (str): The metric to be estimated.\n",
    "        confidence_scores (str):\n",
    "            The method to calculate the confidence scores. We provide a list of confidence score calculation methods which \n",
    "            can be displayed by running :py:func:`moval.models.get_conf_options`.\n",
    "        estim_algorithm (str):\n",
    "            The algorithm to estimate model performance. We also provide a list of estimation algorithm which can be displayed by\n",
    "            running :py:func:`moval.models.get_estim_options`.\n",
    "        class_specific (bool):\n",
    "            If ``True``, the calculation will match class-wise confidence to class-wise accuracy.\n",
    "        logits: The network output (logits) of shape ``(n, d)`` for classification. \n",
    "        gt: The cooresponding annotation of shape ``(n, )`` for classification.\n",
    "        logits_tests:  A list of m test conditions ``(n', d)``.\n",
    "        gt_test: The cooresponding annotation of a list of m ``(n', )``.\n",
    "\n",
    "    Returns:\n",
    "        err_test: A list of m test err.\n",
    "        moval_model: Optimized moval model.\n",
    "\n",
    "    \"\"\"\n",
    "    \n",
    "    moval_model = moval.MOVAL(\n",
    "                mode = mode,\n",
    "                metric = metric,\n",
    "                confidence_scores = confidence_scores,\n",
    "                estim_algorithm = estim_algorithm,\n",
    "                class_specific = class_specific\n",
    "                )\n",
    "\n",
    "    #\n",
    "    moval_model.fit(logits, gt)\n",
    "\n",
    "    # save the test err in the result files.\n",
    "\n",
    "    err_tests = []\n",
    "    for k_test in range(len(logits_tests)):\n",
    "\n",
    "        _logits_test = logits_tests[k_test]\n",
    "        _gt_test = gt_tests[k_test]\n",
    "        \n",
    "        estim_acc_test = moval_model.estimate(_logits_test)\n",
    "        \n",
    "        pred_test = np.argmax(_logits_test, axis = 1)\n",
    "        if metric == \"accuracy\":\n",
    "            \n",
    "            real_metric = np.sum(_gt_test == pred_test) / len(_gt_test)\n",
    "        elif metric == \"sensitivity\":\n",
    "            real_sensitivities = []\n",
    "            for kcls in range(_logits_test.shape[1]):\n",
    "                _, real_sensitivity, _ = ComputMetric(_gt_test == kcls, pred_test == kcls)\n",
    "                real_sensitivities.append(real_sensitivity)\n",
    "            real_metric = real_sensitivities\n",
    "        elif metric == \"precision\":\n",
    "            real_precisions = []\n",
    "            for kcls in range(_logits_test.shape[1]):\n",
    "                _, _, real_precision = ComputMetric(_gt_test == kcls, pred_test == kcls)\n",
    "                real_precisions.append(real_precision)\n",
    "            real_metric = real_precisions\n",
    "        elif metric == \"f1score\":\n",
    "            real_F1scores = []\n",
    "            for kcls in range(_logits_test.shape[1]):\n",
    "                real_F1score, _, _ = ComputMetric(_gt_test == kcls, pred_test == kcls)\n",
    "                real_F1scores.append(real_F1score)\n",
    "            real_metric = real_F1scores\n",
    "        else:\n",
    "            real_auc = ComputAUC(_gt_test, cal_softmax(_logits_test))\n",
    "            real_metric = real_auc\n",
    "        \n",
    "        err_test = np.mean(np.abs(real_metric - estim_acc_test ))\n",
    "        err_tests.append(err_test)\n",
    "\n",
    "    return err_tests, moval_model"
   ]
  },
  {
   "cell_type": "code",
   "execution_count": 14,
   "id": "5d464f40-8cf5-45ca-a006-6cd1eeaa402a",
   "metadata": {},
   "outputs": [],
   "source": [
    "err_test_list = []\n",
    "moval_parameters = []\n",
    "moval_parameters_ = []"
   ]
  },
  {
   "cell_type": "code",
   "execution_count": 15,
   "id": "02be912a-16dc-4bd2-9476-3ab798ac41d4",
   "metadata": {
    "scrolled": true
   },
   "outputs": [
    {
     "name": "stderr",
     "output_type": "stream",
     "text": [
      "  0%|                                                                                                                                                                 | 0/36 [00:00<?, ?it/s]"
     ]
    },
    {
     "name": "stdout",
     "output_type": "stream",
     "text": [
      "Starting optimizing for model ac-model with confidence max_class_probability-conf based on metric accuracy, class specific is False.\n",
      "Calculating and saving the fitted case-wise performance...\n"
     ]
    },
    {
     "name": "stderr",
     "output_type": "stream",
     "text": [
      "  3%|████▎                                                                                                                                                    | 1/36 [00:00<00:07,  4.56it/s]"
     ]
    },
    {
     "name": "stdout",
     "output_type": "stream",
     "text": [
      "Starting optimizing for model ac-model with confidence energy-conf based on metric accuracy, class specific is False.\n",
      "Calculating and saving the fitted case-wise performance...\n"
     ]
    },
    {
     "name": "stderr",
     "output_type": "stream",
     "text": [
      "  6%|████████▌                                                                                                                                                | 2/36 [00:00<00:07,  4.74it/s]"
     ]
    },
    {
     "name": "stdout",
     "output_type": "stream",
     "text": [
      "Starting optimizing for model ac-model with confidence entropy-conf based on metric accuracy, class specific is False.\n",
      "Calculating and saving the fitted case-wise performance...\n"
     ]
    },
    {
     "name": "stderr",
     "output_type": "stream",
     "text": [
      "  8%|████████████▊                                                                                                                                            | 3/36 [00:00<00:08,  3.96it/s]"
     ]
    },
    {
     "name": "stdout",
     "output_type": "stream",
     "text": [
      "Starting optimizing for model ac-model with confidence doctor-conf based on metric accuracy, class specific is False.\n",
      "Calculating and saving the fitted case-wise performance...\n"
     ]
    },
    {
     "name": "stderr",
     "output_type": "stream",
     "text": [
      " 11%|█████████████████                                                                                                                                        | 4/36 [00:00<00:08,  3.89it/s]"
     ]
    },
    {
     "name": "stdout",
     "output_type": "stream",
     "text": [
      "Starting optimizing for model ts-model with confidence max_class_probability-conf based on metric accuracy, class specific is False.\n",
      "Opitimizing with 3000 samples...\n",
      "Calculating and saving the fitted case-wise performance...\n"
     ]
    },
    {
     "name": "stderr",
     "output_type": "stream",
     "text": [
      " 14%|█████████████████████▎                                                                                                                                   | 5/36 [00:01<00:07,  3.91it/s]"
     ]
    },
    {
     "name": "stdout",
     "output_type": "stream",
     "text": [
      "Starting optimizing for model ts-model with confidence max_class_probability-conf based on metric accuracy, class specific is False.\n",
      "Opitimizing with 3000 samples...\n",
      "Starting optimizing for model ts-model with confidence max_class_probability-conf based on metric accuracy, class specific is True.\n",
      "Opitimizing with 3000 samples...\n",
      "Calculating and saving the fitted case-wise performance...\n"
     ]
    },
    {
     "name": "stderr",
     "output_type": "stream",
     "text": [
      " 17%|█████████████████████████▌                                                                                                                               | 6/36 [00:02<00:21,  1.43it/s]/Users/zejuli/opt/anaconda3/envs/moval/lib/python3.8/site-packages/moval/models/utils.py:39: RuntimeWarning: overflow encountered in exp\n",
      "  denominator = np.sum(np.exp(x.transpose() / T), axis=0)\n",
      "/Users/zejuli/opt/anaconda3/envs/moval/lib/python3.8/site-packages/moval/models/model.py:157: RuntimeWarning: invalid value encountered in subtract\n",
      "  normalized_scores = (scores - self.min_value) / (self.max_value - self.min_value + e1)\n",
      "/Users/zejuli/opt/anaconda3/envs/moval/lib/python3.8/site-packages/moval/models/model.py:157: RuntimeWarning: invalid value encountered in scalar subtract\n",
      "  normalized_scores = (scores - self.min_value) / (self.max_value - self.min_value + e1)\n",
      "/Users/zejuli/opt/anaconda3/envs/moval/lib/python3.8/site-packages/moval/models/model.py:157: RuntimeWarning: invalid value encountered in divide\n",
      "  normalized_scores = (scores - self.min_value) / (self.max_value - self.min_value + e1)\n"
     ]
    },
    {
     "name": "stdout",
     "output_type": "stream",
     "text": [
      "Starting optimizing for model ts-model with confidence energy-conf based on metric accuracy, class specific is False.\n",
      "Opitimizing with 3000 samples...\n",
      "Not satisfied with initial optimization results of param, trying more initial states...\n",
      "Tried 1/5 times.\n",
      "Tried 2/5 times.\n",
      "Tried 3/5 times.\n",
      "Tried 4/5 times.\n",
      "Tried 5/5 times.\n",
      "Calculating and saving the fitted case-wise performance...\n"
     ]
    },
    {
     "name": "stderr",
     "output_type": "stream",
     "text": [
      " 19%|█████████████████████████████▊                                                                                                                           | 7/36 [00:03<00:18,  1.54it/s]"
     ]
    },
    {
     "name": "stdout",
     "output_type": "stream",
     "text": [
      "Starting optimizing for model ts-model with confidence energy-conf based on metric accuracy, class specific is False.\n",
      "Opitimizing with 3000 samples...\n",
      "Not satisfied with initial optimization results of param, trying more initial states...\n",
      "Tried 1/5 times.\n",
      "Tried 2/5 times.\n",
      "Tried 3/5 times.\n",
      "Tried 4/5 times.\n",
      "Tried 5/5 times.\n",
      "Starting optimizing for model ts-model with confidence energy-conf based on metric accuracy, class specific is True.\n",
      "Opitimizing with 3000 samples...\n",
      "Not satisfied with initial optimization results of param for class 0, trying more initial states...\n",
      "Tried 1/5 times.\n",
      "Tried 2/5 times.\n",
      "Tried 3/5 times.\n",
      "Tried 4/5 times.\n",
      "Tried 5/5 times.\n",
      "Calculating and saving the fitted case-wise performance...\n"
     ]
    },
    {
     "name": "stderr",
     "output_type": "stream",
     "text": [
      " 22%|██████████████████████████████████                                                                                                                       | 8/36 [00:05<00:29,  1.05s/it]"
     ]
    },
    {
     "name": "stdout",
     "output_type": "stream",
     "text": [
      "Starting optimizing for model ts-model with confidence entropy-conf based on metric accuracy, class specific is False.\n",
      "Opitimizing with 3000 samples...\n",
      "Calculating and saving the fitted case-wise performance...\n"
     ]
    },
    {
     "name": "stderr",
     "output_type": "stream",
     "text": [
      " 25%|██████████████████████████████████████▎                                                                                                                  | 9/36 [00:05<00:22,  1.21it/s]"
     ]
    },
    {
     "name": "stdout",
     "output_type": "stream",
     "text": [
      "Starting optimizing for model ts-model with confidence entropy-conf based on metric accuracy, class specific is False.\n",
      "Opitimizing with 3000 samples...\n",
      "Starting optimizing for model ts-model with confidence entropy-conf based on metric accuracy, class specific is True.\n",
      "Opitimizing with 3000 samples...\n",
      "Calculating and saving the fitted case-wise performance...\n"
     ]
    },
    {
     "name": "stderr",
     "output_type": "stream",
     "text": [
      " 28%|██████████████████████████████████████████▏                                                                                                             | 10/36 [00:08<00:35,  1.36s/it]"
     ]
    },
    {
     "name": "stdout",
     "output_type": "stream",
     "text": [
      "Starting optimizing for model ts-model with confidence doctor-conf based on metric accuracy, class specific is False.\n",
      "Opitimizing with 3000 samples...\n",
      "Calculating and saving the fitted case-wise performance...\n"
     ]
    },
    {
     "name": "stderr",
     "output_type": "stream",
     "text": [
      " 31%|██████████████████████████████████████████████▍                                                                                                         | 11/36 [00:08<00:26,  1.04s/it]"
     ]
    },
    {
     "name": "stdout",
     "output_type": "stream",
     "text": [
      "Starting optimizing for model ts-model with confidence doctor-conf based on metric accuracy, class specific is False.\n",
      "Opitimizing with 3000 samples...\n",
      "Starting optimizing for model ts-model with confidence doctor-conf based on metric accuracy, class specific is True.\n",
      "Opitimizing with 3000 samples...\n",
      "Calculating and saving the fitted case-wise performance...\n"
     ]
    },
    {
     "name": "stderr",
     "output_type": "stream",
     "text": [
      " 33%|██████████████████████████████████████████████████▋                                                                                                     | 12/36 [00:10<00:30,  1.27s/it]"
     ]
    },
    {
     "name": "stdout",
     "output_type": "stream",
     "text": [
      "Starting optimizing for model doc-model with confidence max_class_probability-conf based on metric accuracy, class specific is False.\n",
      "Opitimizing with 3000 samples...\n",
      "Calculating and saving the fitted case-wise performance...\n"
     ]
    },
    {
     "name": "stderr",
     "output_type": "stream",
     "text": [
      " 36%|██████████████████████████████████████████████████████▉                                                                                                 | 13/36 [00:10<00:22,  1.02it/s]"
     ]
    },
    {
     "name": "stdout",
     "output_type": "stream",
     "text": [
      "Starting optimizing for model doc-model with confidence max_class_probability-conf based on metric accuracy, class specific is False.\n",
      "Opitimizing with 3000 samples...\n",
      "Starting optimizing for model doc-model with confidence max_class_probability-conf based on metric accuracy, class specific is True.\n",
      "Opitimizing with 3000 samples...\n",
      "Calculating and saving the fitted case-wise performance...\n"
     ]
    },
    {
     "name": "stderr",
     "output_type": "stream",
     "text": [
      " 39%|███████████████████████████████████████████████████████████                                                                                             | 14/36 [00:11<00:21,  1.04it/s]"
     ]
    },
    {
     "name": "stdout",
     "output_type": "stream",
     "text": [
      "Starting optimizing for model doc-model with confidence energy-conf based on metric accuracy, class specific is False.\n",
      "Opitimizing with 3000 samples...\n",
      "Calculating and saving the fitted case-wise performance...\n"
     ]
    },
    {
     "name": "stderr",
     "output_type": "stream",
     "text": [
      " 42%|███████████████████████████████████████████████████████████████▎                                                                                        | 15/36 [00:11<00:15,  1.33it/s]"
     ]
    },
    {
     "name": "stdout",
     "output_type": "stream",
     "text": [
      "Starting optimizing for model doc-model with confidence energy-conf based on metric accuracy, class specific is False.\n",
      "Opitimizing with 3000 samples...\n",
      "Starting optimizing for model doc-model with confidence energy-conf based on metric accuracy, class specific is True.\n",
      "Opitimizing with 3000 samples...\n",
      "Calculating and saving the fitted case-wise performance...\n"
     ]
    },
    {
     "name": "stderr",
     "output_type": "stream",
     "text": [
      " 44%|███████████████████████████████████████████████████████████████████▌                                                                                    | 16/36 [00:12<00:15,  1.33it/s]"
     ]
    },
    {
     "name": "stdout",
     "output_type": "stream",
     "text": [
      "Starting optimizing for model doc-model with confidence entropy-conf based on metric accuracy, class specific is False.\n",
      "Opitimizing with 3000 samples...\n",
      "Calculating and saving the fitted case-wise performance...\n"
     ]
    },
    {
     "name": "stderr",
     "output_type": "stream",
     "text": [
      " 47%|███████████████████████████████████████████████████████████████████████▊                                                                                | 17/36 [00:12<00:12,  1.56it/s]"
     ]
    },
    {
     "name": "stdout",
     "output_type": "stream",
     "text": [
      "Starting optimizing for model doc-model with confidence entropy-conf based on metric accuracy, class specific is False.\n",
      "Opitimizing with 3000 samples...\n",
      "Starting optimizing for model doc-model with confidence entropy-conf based on metric accuracy, class specific is True.\n",
      "Opitimizing with 3000 samples...\n",
      "Calculating and saving the fitted case-wise performance...\n"
     ]
    },
    {
     "name": "stderr",
     "output_type": "stream",
     "text": [
      " 50%|████████████████████████████████████████████████████████████████████████████                                                                            | 18/36 [00:14<00:14,  1.26it/s]"
     ]
    },
    {
     "name": "stdout",
     "output_type": "stream",
     "text": [
      "Starting optimizing for model doc-model with confidence doctor-conf based on metric accuracy, class specific is False.\n",
      "Opitimizing with 3000 samples...\n",
      "Calculating and saving the fitted case-wise performance...\n"
     ]
    },
    {
     "name": "stderr",
     "output_type": "stream",
     "text": [
      " 53%|████████████████████████████████████████████████████████████████████████████████▏                                                                       | 19/36 [00:14<00:11,  1.52it/s]"
     ]
    },
    {
     "name": "stdout",
     "output_type": "stream",
     "text": [
      "Starting optimizing for model doc-model with confidence doctor-conf based on metric accuracy, class specific is False.\n",
      "Opitimizing with 3000 samples...\n",
      "Starting optimizing for model doc-model with confidence doctor-conf based on metric accuracy, class specific is True.\n",
      "Opitimizing with 3000 samples...\n",
      "Calculating and saving the fitted case-wise performance...\n"
     ]
    },
    {
     "name": "stderr",
     "output_type": "stream",
     "text": [
      " 56%|████████████████████████████████████████████████████████████████████████████████████▍                                                                   | 20/36 [00:15<00:12,  1.32it/s]"
     ]
    },
    {
     "name": "stdout",
     "output_type": "stream",
     "text": [
      "Starting optimizing for model atc-model with confidence max_class_probability-conf based on metric accuracy, class specific is False.\n",
      "Opitimizing with 3000 samples...\n",
      "Calculating and saving the fitted case-wise performance...\n"
     ]
    },
    {
     "name": "stderr",
     "output_type": "stream",
     "text": [
      " 58%|████████████████████████████████████████████████████████████████████████████████████████▋                                                               | 21/36 [00:15<00:09,  1.65it/s]"
     ]
    },
    {
     "name": "stdout",
     "output_type": "stream",
     "text": [
      "Starting optimizing for model atc-model with confidence max_class_probability-conf based on metric accuracy, class specific is False.\n",
      "Opitimizing with 3000 samples...\n",
      "Starting optimizing for model atc-model with confidence max_class_probability-conf based on metric accuracy, class specific is True.\n",
      "Opitimizing with 3000 samples...\n",
      "Not satisfied with initial optimization results of param for class 7, trying more initial states...\n",
      "Tried 1/5 times.\n",
      "Tried 2/5 times.\n",
      "Tried 3/5 times.\n",
      "Tried 4/5 times.\n",
      "Tried 5/5 times.\n",
      "Not satisfied with initial optimization results of param for class 5, trying more initial states...\n",
      "Tried 1/5 times.\n",
      "Tried 2/5 times.\n",
      "Tried 3/5 times.\n",
      "Tried 4/5 times.\n",
      "Tried 5/5 times.\n",
      "Calculating and saving the fitted case-wise performance...\n"
     ]
    },
    {
     "name": "stderr",
     "output_type": "stream",
     "text": [
      " 61%|████████████████████████████████████████████████████████████████████████████████████████████▉                                                           | 22/36 [00:17<00:13,  1.06it/s]"
     ]
    },
    {
     "name": "stdout",
     "output_type": "stream",
     "text": [
      "Starting optimizing for model atc-model with confidence energy-conf based on metric accuracy, class specific is False.\n",
      "Opitimizing with 3000 samples...\n",
      "Calculating and saving the fitted case-wise performance...\n"
     ]
    },
    {
     "name": "stderr",
     "output_type": "stream",
     "text": [
      " 64%|█████████████████████████████████████████████████████████████████████████████████████████████████                                                       | 23/36 [00:17<00:09,  1.35it/s]"
     ]
    },
    {
     "name": "stdout",
     "output_type": "stream",
     "text": [
      "Starting optimizing for model atc-model with confidence energy-conf based on metric accuracy, class specific is False.\n",
      "Opitimizing with 3000 samples...\n",
      "Starting optimizing for model atc-model with confidence energy-conf based on metric accuracy, class specific is True.\n",
      "Opitimizing with 3000 samples...\n",
      "Not satisfied with initial optimization results of param for class 8, trying more initial states...\n",
      "Tried 1/5 times.\n",
      "Tried 2/5 times.\n",
      "Tried 3/5 times.\n",
      "Tried 4/5 times.\n",
      "Tried 5/5 times.\n",
      "Not satisfied with initial optimization results of param for class 9, trying more initial states...\n",
      "Tried 1/5 times.\n",
      "Tried 2/5 times.\n",
      "Tried 3/5 times.\n",
      "Tried 4/5 times.\n",
      "Tried 5/5 times.\n",
      "Not satisfied with initial optimization results of param for class 7, trying more initial states...\n",
      "Tried 1/5 times.\n",
      "Tried 2/5 times.\n",
      "Tried 3/5 times.\n",
      "Tried 4/5 times.\n",
      "Tried 5/5 times.\n",
      "Not satisfied with initial optimization results of param for class 6, trying more initial states...\n",
      "Tried 1/5 times.\n",
      "Tried 2/5 times.\n",
      "Tried 3/5 times.\n",
      "Tried 4/5 times.\n",
      "Tried 5/5 times.\n",
      "Not satisfied with initial optimization results of param for class 5, trying more initial states...\n",
      "Tried 1/5 times.\n",
      "Tried 2/5 times.\n",
      "Tried 3/5 times.\n",
      "Tried 4/5 times.\n",
      "Tried 5/5 times.\n",
      "Not satisfied with initial optimization results of param for class 4, trying more initial states...\n",
      "Tried 1/5 times.\n",
      "Tried 2/5 times.\n",
      "Tried 3/5 times.\n",
      "Tried 4/5 times.\n",
      "Tried 5/5 times.\n",
      "Not satisfied with initial optimization results of param for class 2, trying more initial states...\n",
      "Tried 1/5 times.\n",
      "Tried 2/5 times.\n",
      "Tried 3/5 times.\n",
      "Tried 4/5 times.\n",
      "Tried 5/5 times.\n",
      "Not satisfied with initial optimization results of param for class 3, trying more initial states...\n",
      "Tried 1/5 times.\n",
      "Tried 2/5 times.\n",
      "Tried 3/5 times.\n",
      "Tried 4/5 times.\n",
      "Tried 5/5 times.\n",
      "Not satisfied with initial optimization results of param for class 0, trying more initial states...\n",
      "Tried 1/5 times.\n",
      "Tried 2/5 times.\n",
      "Tried 3/5 times.\n",
      "Tried 4/5 times.\n",
      "Tried 5/5 times.\n",
      "Calculating and saving the fitted case-wise performance...\n"
     ]
    },
    {
     "name": "stderr",
     "output_type": "stream",
     "text": [
      " 67%|█████████████████████████████████████████████████████████████████████████████████████████████████████▎                                                  | 24/36 [00:20<00:15,  1.29s/it]"
     ]
    },
    {
     "name": "stdout",
     "output_type": "stream",
     "text": [
      "Starting optimizing for model atc-model with confidence entropy-conf based on metric accuracy, class specific is False.\n",
      "Opitimizing with 3000 samples...\n",
      "Calculating and saving the fitted case-wise performance...\n"
     ]
    },
    {
     "name": "stderr",
     "output_type": "stream",
     "text": [
      " 69%|█████████████████████████████████████████████████████████████████████████████████████████████████████████▌                                              | 25/36 [00:20<00:11,  1.01s/it]"
     ]
    },
    {
     "name": "stdout",
     "output_type": "stream",
     "text": [
      "Starting optimizing for model atc-model with confidence entropy-conf based on metric accuracy, class specific is False.\n",
      "Opitimizing with 3000 samples...\n",
      "Starting optimizing for model atc-model with confidence entropy-conf based on metric accuracy, class specific is True.\n",
      "Opitimizing with 3000 samples...\n",
      "Not satisfied with initial optimization results of param for class 5, trying more initial states...\n",
      "Tried 1/5 times.\n",
      "Tried 2/5 times.\n",
      "Tried 3/5 times.\n",
      "Tried 4/5 times.\n",
      "Tried 5/5 times.\n",
      "Not satisfied with initial optimization results of param for class 2, trying more initial states...\n",
      "Tried 1/5 times.\n",
      "Tried 2/5 times.\n",
      "Tried 3/5 times.\n",
      "Tried 4/5 times.\n",
      "Tried 5/5 times.\n",
      "Calculating and saving the fitted case-wise performance...\n"
     ]
    },
    {
     "name": "stderr",
     "output_type": "stream",
     "text": [
      " 72%|█████████████████████████████████████████████████████████████████████████████████████████████████████████████▊                                          | 26/36 [00:22<00:13,  1.33s/it]"
     ]
    },
    {
     "name": "stdout",
     "output_type": "stream",
     "text": [
      "Starting optimizing for model atc-model with confidence doctor-conf based on metric accuracy, class specific is False.\n",
      "Opitimizing with 3000 samples...\n",
      "Calculating and saving the fitted case-wise performance...\n"
     ]
    },
    {
     "name": "stderr",
     "output_type": "stream",
     "text": [
      " 75%|██████████████████████████████████████████████████████████████████████████████████████████████████████████████████                                      | 27/36 [00:22<00:09,  1.03s/it]"
     ]
    },
    {
     "name": "stdout",
     "output_type": "stream",
     "text": [
      "Starting optimizing for model atc-model with confidence doctor-conf based on metric accuracy, class specific is False.\n",
      "Opitimizing with 3000 samples...\n",
      "Starting optimizing for model atc-model with confidence doctor-conf based on metric accuracy, class specific is True.\n",
      "Opitimizing with 3000 samples...\n",
      "Not satisfied with initial optimization results of param for class 7, trying more initial states...\n",
      "Tried 1/5 times.\n",
      "Tried 2/5 times.\n",
      "Tried 3/5 times.\n",
      "Tried 4/5 times.\n",
      "Tried 5/5 times.\n",
      "Not satisfied with initial optimization results of param for class 4, trying more initial states...\n",
      "Tried 1/5 times.\n",
      "Tried 2/5 times.\n",
      "Tried 3/5 times.\n",
      "Tried 4/5 times.\n",
      "Tried 5/5 times.\n",
      "Not satisfied with initial optimization results of param for class 1, trying more initial states...\n",
      "Tried 1/5 times.\n",
      "Tried 2/5 times.\n",
      "Tried 3/5 times.\n",
      "Tried 4/5 times.\n",
      "Tried 5/5 times.\n",
      "Calculating and saving the fitted case-wise performance...\n"
     ]
    },
    {
     "name": "stderr",
     "output_type": "stream",
     "text": [
      " 78%|██████████████████████████████████████████████████████████████████████████████████████████████████████████████████████▏                                 | 28/36 [00:25<00:10,  1.34s/it]"
     ]
    },
    {
     "name": "stdout",
     "output_type": "stream",
     "text": [
      "Starting optimizing for model ts-atc-model with confidence max_class_probability-conf based on metric accuracy, class specific is False.\n",
      "Opitimizing with 3000 samples...\n",
      "Calculating and saving the fitted case-wise performance...\n"
     ]
    },
    {
     "name": "stderr",
     "output_type": "stream",
     "text": [
      " 81%|██████████████████████████████████████████████████████████████████████████████████████████████████████████████████████████▍                             | 29/36 [00:25<00:07,  1.04s/it]"
     ]
    },
    {
     "name": "stdout",
     "output_type": "stream",
     "text": [
      "Starting optimizing for model ts-atc-model with confidence max_class_probability-conf based on metric accuracy, class specific is False.\n",
      "Opitimizing with 3000 samples...\n",
      "Starting optimizing for model ts-atc-model with confidence max_class_probability-conf based on metric accuracy, class specific is True.\n",
      "Opitimizing with 3000 samples...\n",
      "Not satisfied with initial optimization results of param_ext for class 0, trying more initial states...\n",
      "Tried 1/5 times.\n",
      "Tried 2/5 times.\n",
      "Tried 3/5 times.\n",
      "Tried 4/5 times.\n",
      "Tried 5/5 times.\n",
      "Calculating and saving the fitted case-wise performance...\n"
     ]
    },
    {
     "name": "stderr",
     "output_type": "stream",
     "text": [
      " 83%|██████████████████████████████████████████████████████████████████████████████████████████████████████████████████████████████▋                         | 30/36 [00:28<00:09,  1.66s/it]"
     ]
    },
    {
     "name": "stdout",
     "output_type": "stream",
     "text": [
      "Starting optimizing for model ts-atc-model with confidence energy-conf based on metric accuracy, class specific is False.\n",
      "Opitimizing with 3000 samples...\n",
      "Not satisfied with initial optimization results of param, trying more initial states...\n",
      "Tried 1/5 times.\n",
      "Tried 2/5 times.\n",
      "Tried 3/5 times.\n",
      "Tried 4/5 times.\n",
      "Tried 5/5 times.\n",
      "Calculating and saving the fitted case-wise performance...\n"
     ]
    },
    {
     "name": "stderr",
     "output_type": "stream",
     "text": [
      " 86%|██████████████████████████████████████████████████████████████████████████████████████████████████████████████████████████████████▉                     | 31/36 [00:29<00:06,  1.35s/it]"
     ]
    },
    {
     "name": "stdout",
     "output_type": "stream",
     "text": [
      "Starting optimizing for model ts-atc-model with confidence energy-conf based on metric accuracy, class specific is False.\n",
      "Opitimizing with 3000 samples...\n",
      "Not satisfied with initial optimization results of param, trying more initial states...\n",
      "Tried 1/5 times.\n",
      "Tried 2/5 times.\n",
      "Tried 3/5 times.\n",
      "Tried 4/5 times.\n",
      "Tried 5/5 times.\n",
      "Starting optimizing for model ts-atc-model with confidence energy-conf based on metric accuracy, class specific is True.\n",
      "Opitimizing with 3000 samples...\n",
      "Not satisfied with initial optimization results of param for class 0, trying more initial states...\n",
      "Tried 1/5 times.\n",
      "Tried 2/5 times.\n",
      "Tried 3/5 times.\n",
      "Tried 4/5 times.\n",
      "Tried 5/5 times.\n",
      "Not satisfied with initial optimization results of param_ext for class 8, trying more initial states...\n",
      "Tried 1/5 times.\n",
      "Tried 2/5 times.\n",
      "Tried 3/5 times.\n",
      "Tried 4/5 times.\n",
      "Tried 5/5 times.\n",
      "Not satisfied with initial optimization results of param_ext for class 9, trying more initial states...\n",
      "Tried 1/5 times.\n",
      "Tried 2/5 times.\n",
      "Tried 3/5 times.\n",
      "Tried 4/5 times.\n",
      "Tried 5/5 times.\n",
      "Not satisfied with initial optimization results of param_ext for class 7, trying more initial states...\n",
      "Tried 1/5 times.\n",
      "Tried 2/5 times.\n",
      "Tried 3/5 times.\n",
      "Tried 4/5 times.\n",
      "Tried 5/5 times.\n",
      "Not satisfied with initial optimization results of param_ext for class 6, trying more initial states...\n",
      "Tried 1/5 times.\n",
      "Tried 2/5 times.\n",
      "Tried 3/5 times.\n",
      "Tried 4/5 times.\n",
      "Tried 5/5 times.\n",
      "Not satisfied with initial optimization results of param_ext for class 5, trying more initial states...\n",
      "Tried 1/5 times.\n",
      "Tried 2/5 times.\n",
      "Tried 3/5 times.\n",
      "Tried 4/5 times.\n",
      "Tried 5/5 times.\n",
      "Not satisfied with initial optimization results of param_ext for class 4, trying more initial states...\n",
      "Tried 1/5 times.\n",
      "Tried 2/5 times.\n",
      "Tried 3/5 times.\n",
      "Tried 4/5 times.\n",
      "Tried 5/5 times.\n",
      "Not satisfied with initial optimization results of param_ext for class 2, trying more initial states...\n",
      "Tried 1/5 times.\n",
      "Tried 2/5 times.\n",
      "Tried 3/5 times.\n",
      "Tried 4/5 times.\n",
      "Tried 5/5 times.\n",
      "Not satisfied with initial optimization results of param_ext for class 1, trying more initial states...\n",
      "Tried 1/5 times.\n",
      "Tried 2/5 times.\n",
      "Tried 3/5 times.\n",
      "Tried 4/5 times.\n",
      "Tried 5/5 times.\n",
      "Not satisfied with initial optimization results of param_ext for class 3, trying more initial states...\n",
      "Tried 1/5 times.\n",
      "Tried 2/5 times.\n",
      "Tried 3/5 times.\n",
      "Tried 4/5 times.\n",
      "Tried 5/5 times.\n",
      "Not satisfied with initial optimization results of param_ext for class 0, trying more initial states...\n",
      "Tried 1/5 times.\n",
      "Tried 2/5 times.\n",
      "Tried 3/5 times.\n",
      "Tried 4/5 times.\n",
      "Tried 5/5 times.\n",
      "Calculating and saving the fitted case-wise performance...\n"
     ]
    },
    {
     "name": "stderr",
     "output_type": "stream",
     "text": [
      " 89%|███████████████████████████████████████████████████████████████████████████████████████████████████████████████████████████████████████                 | 32/36 [00:34<00:10,  2.54s/it]"
     ]
    },
    {
     "name": "stdout",
     "output_type": "stream",
     "text": [
      "Starting optimizing for model ts-atc-model with confidence entropy-conf based on metric accuracy, class specific is False.\n",
      "Opitimizing with 3000 samples...\n",
      "Calculating and saving the fitted case-wise performance...\n"
     ]
    },
    {
     "name": "stderr",
     "output_type": "stream",
     "text": [
      " 92%|███████████████████████████████████████████████████████████████████████████████████████████████████████████████████████████████████████████▎            | 33/36 [00:34<00:05,  1.91s/it]"
     ]
    },
    {
     "name": "stdout",
     "output_type": "stream",
     "text": [
      "Starting optimizing for model ts-atc-model with confidence entropy-conf based on metric accuracy, class specific is False.\n",
      "Opitimizing with 3000 samples...\n",
      "Starting optimizing for model ts-atc-model with confidence entropy-conf based on metric accuracy, class specific is True.\n",
      "Opitimizing with 3000 samples...\n",
      "Not satisfied with initial optimization results of param_ext for class 9, trying more initial states...\n",
      "Tried 1/5 times.\n",
      "Tried 2/5 times.\n",
      "Tried 3/5 times.\n",
      "Tried 4/5 times.\n",
      "Tried 5/5 times.\n",
      "Not satisfied with initial optimization results of param_ext for class 6, trying more initial states...\n",
      "Tried 1/5 times.\n",
      "Tried 2/5 times.\n",
      "Tried 3/5 times.\n",
      "Tried 4/5 times.\n",
      "Tried 5/5 times.\n",
      "Calculating and saving the fitted case-wise performance...\n"
     ]
    },
    {
     "name": "stderr",
     "output_type": "stream",
     "text": [
      " 94%|███████████████████████████████████████████████████████████████████████████████████████████████████████████████████████████████████████████████▌        | 34/36 [00:39<00:05,  2.83s/it]"
     ]
    },
    {
     "name": "stdout",
     "output_type": "stream",
     "text": [
      "Starting optimizing for model ts-atc-model with confidence doctor-conf based on metric accuracy, class specific is False.\n",
      "Opitimizing with 3000 samples...\n",
      "Calculating and saving the fitted case-wise performance...\n"
     ]
    },
    {
     "name": "stderr",
     "output_type": "stream",
     "text": [
      " 97%|███████████████████████████████████████████████████████████████████████████████████████████████████████████████████████████████████████████████████▊    | 35/36 [00:40<00:02,  2.10s/it]"
     ]
    },
    {
     "name": "stdout",
     "output_type": "stream",
     "text": [
      "Starting optimizing for model ts-atc-model with confidence doctor-conf based on metric accuracy, class specific is False.\n",
      "Opitimizing with 3000 samples...\n",
      "Starting optimizing for model ts-atc-model with confidence doctor-conf based on metric accuracy, class specific is True.\n",
      "Opitimizing with 3000 samples...\n",
      "Not satisfied with initial optimization results of param_ext for class 8, trying more initial states...\n",
      "Tried 1/5 times.\n",
      "Tried 2/5 times.\n",
      "Tried 3/5 times.\n",
      "Tried 4/5 times.\n",
      "Tried 5/5 times.\n",
      "Not satisfied with initial optimization results of param_ext for class 6, trying more initial states...\n",
      "Tried 1/5 times.\n",
      "Tried 2/5 times.\n",
      "Tried 3/5 times.\n",
      "Tried 4/5 times.\n",
      "Tried 5/5 times.\n",
      "Not satisfied with initial optimization results of param_ext for class 5, trying more initial states...\n",
      "Tried 1/5 times.\n",
      "Tried 2/5 times.\n",
      "Tried 3/5 times.\n",
      "Tried 4/5 times.\n",
      "Tried 5/5 times.\n",
      "Not satisfied with initial optimization results of param_ext for class 2, trying more initial states...\n",
      "Tried 1/5 times.\n",
      "Tried 2/5 times.\n",
      "Tried 3/5 times.\n",
      "Tried 4/5 times.\n",
      "Tried 5/5 times.\n",
      "Not satisfied with initial optimization results of param_ext for class 1, trying more initial states...\n",
      "Tried 1/5 times.\n",
      "Tried 2/5 times.\n",
      "Tried 3/5 times.\n",
      "Tried 4/5 times.\n",
      "Tried 5/5 times.\n",
      "Not satisfied with initial optimization results of param_ext for class 0, trying more initial states...\n",
      "Tried 1/5 times.\n",
      "Tried 2/5 times.\n",
      "Tried 3/5 times.\n",
      "Tried 4/5 times.\n",
      "Tried 5/5 times.\n",
      "Calculating and saving the fitted case-wise performance...\n"
     ]
    },
    {
     "name": "stderr",
     "output_type": "stream",
     "text": [
      "100%|████████████████████████████████████████████████████████████████████████████████████████████████████████████████████████████████████████████████████████| 36/36 [00:45<00:00,  1.27s/it]\n"
     ]
    }
   ],
   "source": [
    "for k_cond in tqdm(range(len(moval_options))):\n",
    "    \n",
    "    err_test, moval_model = test_cls(\n",
    "        estim_algorithm = moval_options[k_cond][0], \n",
    "        mode = moval_options[k_cond][1], \n",
    "        metric = \"accuracy\",\n",
    "        confidence_scores = moval_options[k_cond][2],\n",
    "        class_specific = moval_options[k_cond][3],\n",
    "        logits = logits_val,\n",
    "        gt = gt_val,\n",
    "        logits_tests = logits_tests,\n",
    "        gt_tests = gt_tests\n",
    "    )\n",
    "    err_test_list.append(err_test)\n",
    "    moval_parameters.append(moval_model.model_.param)\n",
    "    if moval_model.model_.extend_param:\n",
    "        moval_parameters_.append(moval_model.model_.param_ext)\n",
    "    else:\n",
    "        moval_parameters_.append(0.)"
   ]
  },
  {
   "cell_type": "markdown",
   "id": "3813800b-936c-47ad-8828-503189b21181",
   "metadata": {},
   "source": [
    "## Compare estimation results"
   ]
  },
  {
   "cell_type": "code",
   "execution_count": 16,
   "id": "060d2d93-97a7-499d-9100-15b100c2cbce",
   "metadata": {},
   "outputs": [],
   "source": [
    "estim = []\n",
    "conf = []\n",
    "err = []\n",
    "err_mean = []\n",
    "novel = []\n",
    "k_option = 0\n",
    "for moval_option in moval_options:\n",
    "    for k_cond in range(len(err_test_list[k_option])):\n",
    "        #\n",
    "        if moval_option[3] == True:\n",
    "            estim_cs = 'CS '\n",
    "        else:\n",
    "            estim_cs = ''\n",
    "        #    \n",
    "        if moval_option[0] == 'ac-model':\n",
    "            estim.append(estim_cs + 'AC')\n",
    "        elif moval_option[0] == 'ts-model':\n",
    "            estim.append(estim_cs + 'TS')\n",
    "        elif moval_option[0] == 'doc-model':\n",
    "            estim.append(estim_cs + 'DoC')\n",
    "        elif moval_option[0] == 'atc-model':\n",
    "            estim.append(estim_cs + 'ATC')\n",
    "        else:\n",
    "            estim.append(estim_cs + 'TS-ATC')\n",
    "        #\n",
    "        if moval_option[2] == 'max_class_probability-conf':\n",
    "            conf.append('MCP')\n",
    "        elif moval_option[2] == 'energy-conf':\n",
    "            conf.append('Energy')\n",
    "        elif moval_option[2] == 'entropy-conf':\n",
    "            conf.append('Entropy')\n",
    "        else:\n",
    "            conf.append('Doctor')\n",
    "        #\n",
    "        if moval_option[2] == 'max_class_probability-conf' and moval_option[3] == False:\n",
    "            novel.append('Existing Methods')\n",
    "        else:\n",
    "            novel.append('Provided by MOVAL')\n",
    "        #\n",
    "        err.append(err_test_list[k_option][k_cond])\n",
    "        err_mean.append(np.mean(err_test_list[k_option]))\n",
    "    k_option += 1"
   ]
  },
  {
   "cell_type": "code",
   "execution_count": 17,
   "id": "68a6754d-429b-4189-9443-2db6250e7662",
   "metadata": {},
   "outputs": [],
   "source": [
    "d = {'Estimation Algorithm': estim, 'Confidence Score': conf, 'MAE': err_mean, 'MAE ': err, 'Category': novel}\n",
    "df = pd.DataFrame(data=d)\n",
    "#\n",
    "custom_order = ['AC', 'TS', 'DoC', 'ATC', 'TS-ATC', 'CS TS', 'CS DoC', 'CS ATC', 'CS TS-ATC']\n",
    "df['Estimation Algorithm'] = pd.Categorical(df['Estimation Algorithm'], categories=custom_order, ordered=True)\n",
    "df = df.sort_values(by='Estimation Algorithm')\n",
    "#\n",
    "custom_order = ['MCP', 'Doctor', 'Entropy', 'Energy']\n",
    "df['Confidence Score'] = pd.Categorical(df['Confidence Score'], categories=custom_order, ordered=True)\n",
    "df = df.sort_values(by='Confidence Score')"
   ]
  },
  {
   "cell_type": "code",
   "execution_count": 18,
   "id": "99b0672c-d149-4347-9185-651428ff2e17",
   "metadata": {},
   "outputs": [
    {
     "data": {
      "text/html": [
       "<div>\n",
       "<style scoped>\n",
       "    .dataframe tbody tr th:only-of-type {\n",
       "        vertical-align: middle;\n",
       "    }\n",
       "\n",
       "    .dataframe tbody tr th {\n",
       "        vertical-align: top;\n",
       "    }\n",
       "\n",
       "    .dataframe thead th {\n",
       "        text-align: right;\n",
       "    }\n",
       "</style>\n",
       "<table border=\"1\" class=\"dataframe\">\n",
       "  <thead>\n",
       "    <tr style=\"text-align: right;\">\n",
       "      <th></th>\n",
       "      <th>Estimation Algorithm</th>\n",
       "      <th>Confidence Score</th>\n",
       "      <th>MAE</th>\n",
       "      <th>MAE</th>\n",
       "      <th>Category</th>\n",
       "    </tr>\n",
       "  </thead>\n",
       "  <tbody>\n",
       "    <tr>\n",
       "      <th>0</th>\n",
       "      <td>AC</td>\n",
       "      <td>MCP</td>\n",
       "      <td>0.401485</td>\n",
       "      <td>0.310355</td>\n",
       "      <td>Existing Methods</td>\n",
       "    </tr>\n",
       "    <tr>\n",
       "      <th>25</th>\n",
       "      <td>CS TS</td>\n",
       "      <td>MCP</td>\n",
       "      <td>0.082242</td>\n",
       "      <td>0.047667</td>\n",
       "      <td>Provided by MOVAL</td>\n",
       "    </tr>\n",
       "    <tr>\n",
       "      <th>144</th>\n",
       "      <td>TS-ATC</td>\n",
       "      <td>MCP</td>\n",
       "      <td>0.102657</td>\n",
       "      <td>0.129429</td>\n",
       "      <td>Existing Methods</td>\n",
       "    </tr>\n",
       "    <tr>\n",
       "      <th>143</th>\n",
       "      <td>TS-ATC</td>\n",
       "      <td>MCP</td>\n",
       "      <td>0.102657</td>\n",
       "      <td>0.119571</td>\n",
       "      <td>Existing Methods</td>\n",
       "    </tr>\n",
       "    <tr>\n",
       "      <th>142</th>\n",
       "      <td>TS-ATC</td>\n",
       "      <td>MCP</td>\n",
       "      <td>0.102657</td>\n",
       "      <td>0.107000</td>\n",
       "      <td>Existing Methods</td>\n",
       "    </tr>\n",
       "  </tbody>\n",
       "</table>\n",
       "</div>"
      ],
      "text/plain": [
       "    Estimation Algorithm Confidence Score       MAE      MAE   \\\n",
       "0                     AC              MCP  0.401485  0.310355   \n",
       "25                 CS TS              MCP  0.082242  0.047667   \n",
       "144               TS-ATC              MCP  0.102657  0.129429   \n",
       "143               TS-ATC              MCP  0.102657  0.119571   \n",
       "142               TS-ATC              MCP  0.102657  0.107000   \n",
       "\n",
       "              Category  \n",
       "0     Existing Methods  \n",
       "25   Provided by MOVAL  \n",
       "144   Existing Methods  \n",
       "143   Existing Methods  \n",
       "142   Existing Methods  "
      ]
     },
     "execution_count": 18,
     "metadata": {},
     "output_type": "execute_result"
    }
   ],
   "source": [
    "df.head()"
   ]
  },
  {
   "cell_type": "code",
   "execution_count": 19,
   "id": "71dda52f-13bc-46f4-9702-e65ece9f1bfe",
   "metadata": {},
   "outputs": [
    {
     "data": {
      "image/png": "[encoded data removed]",
      "text/plain": [
       "<Figure size 600x300 with 1 Axes>"
      ]
     },
     "metadata": {},
     "output_type": "display_data"
    }
   ],
   "source": [
    "sns.set(rc={'figure.figsize':(6,3)})\n",
    "sns.set_style(\"darkgrid\")\n",
    "category_palette = {'Existing Methods': 'grey', 'Provided by MOVAL': '#1f77b4'}\n",
    "ax = sns.scatterplot(\n",
    "    data=df, x=\"Estimation Algorithm\", y=\"Confidence Score\", hue=\"Category\", size=\"MAE\",\n",
    "    sizes=(40, 1000), palette=category_palette\n",
    ")\n",
    "ax.set(ylim=(3.5, -0.5))\n",
    "ax.tick_params(axis='x', rotation=15)\n",
    "#\n",
    "# Get the handles and labels from the legend\n",
    "handles, labels = ax.get_legend_handles_labels()\n",
    "\n",
    "# Create a custom legend with only desired categories\n",
    "desired_labels = ['Category', 'Existing Methods', 'Provided by MOVAL', 'MAE', '0.08', '0.16']\n",
    "desired_handles = [h for h, l in zip(handles, labels) if l in desired_labels]\n",
    "\n",
    "legend = plt.legend(handles=desired_handles, labels=desired_labels, bbox_to_anchor=(1.2, 1), labelspacing=1)"
   ]
  },
  {
   "cell_type": "code",
   "execution_count": 20,
   "id": "3d1afafe-7490-4da1-8c88-5fbdf15ce128",
   "metadata": {},
   "outputs": [
    {
     "name": "stdout",
     "output_type": "stream",
     "text": [
      "p-value annotation legend:\n",
      "      ns: 5.00e-02 < p <= 1.00e+00\n",
      "       *: 1.00e-02 < p <= 5.00e-02\n",
      "      **: 1.00e-03 < p <= 1.00e-02\n",
      "     ***: 1.00e-04 < p <= 1.00e-03\n",
      "    ****: p <= 1.00e-04\n",
      "\n",
      "TS vs. CS TS: Mann-Whitney-Wilcoxon test two-sided, P_val:5.405e-08 U_stat=4.000e+02\n",
      "DoC vs. CS DoC: Mann-Whitney-Wilcoxon test two-sided, P_val:5.405e-08 U_stat=4.000e+02\n",
      "ATC vs. CS ATC: Mann-Whitney-Wilcoxon test two-sided, P_val:5.405e-08 U_stat=4.000e+02\n",
      "TS-ATC vs. CS TS-ATC: Mann-Whitney-Wilcoxon test two-sided, P_val:6.690e-03 U_stat=3.000e+02\n"
     ]
    },
    {
     "data": {
      "text/plain": [
       "(<Axes: xlabel='Estimation Algorithm', ylabel='MAE'>,\n",
       " [<statannotations.Annotation.Annotation at 0x7f88c9f6bfa0>,\n",
       "  <statannotations.Annotation.Annotation at 0x7f88f8c48160>,\n",
       "  <statannotations.Annotation.Annotation at 0x7f88c9f6bf40>,\n",
       "  <statannotations.Annotation.Annotation at 0x7f88c9f6be80>])"
      ]
     },
     "execution_count": 20,
     "metadata": {},
     "output_type": "execute_result"
    },
    {
     "data": {
      "image/png": "[encoded data removed]",
      "text/plain": [
       "<Figure size 600x200 with 1 Axes>"
      ]
     },
     "metadata": {},
     "output_type": "display_data"
    }
   ],
   "source": [
    "from statannotations.Annotator import Annotator\n",
    "sns.set(rc={'figure.figsize':(6,2)})\n",
    "sns.set_style(\"white\")\n",
    "ax = sns.barplot(df, x=\"Estimation Algorithm\", y=\"MAE\", color = '#1f77b4')\n",
    "ax.tick_params(axis='x', rotation=15)\n",
    "#\n",
    "ax.spines['top'].set_color('none')\n",
    "ax.spines['right'].set_color('none')\n",
    "ax.spines['bottom'].set_color('none')\n",
    "ax.spines['left'].set_color('none')\n",
    "#\n",
    "pairs=[(\"TS\", \"CS TS\"), (\"DoC\", \"CS DoC\"), (\"ATC\", \"CS ATC\"), (\"TS-ATC\", \"CS TS-ATC\")]\n",
    "\n",
    "annotator = Annotator(ax, pairs, data=df, x=\"Estimation Algorithm\", y=\"MAE\")\n",
    "annotator.configure(test='Mann-Whitney', text_format='star', loc='inside', text_offset=-4)\n",
    "annotator.apply_and_annotate()"
   ]
  },
  {
   "cell_type": "code",
   "execution_count": 21,
   "id": "ab3ff7bd-6395-446d-b645-69b5c4d220dd",
   "metadata": {},
   "outputs": [
    {
     "name": "stdout",
     "output_type": "stream",
     "text": [
      "p-value annotation legend:\n",
      "      ns: 5.00e-02 < p <= 1.00e+00\n",
      "       *: 1.00e-02 < p <= 5.00e-02\n",
      "      **: 1.00e-03 < p <= 1.00e-02\n",
      "     ***: 1.00e-04 < p <= 1.00e-03\n",
      "    ****: p <= 1.00e-04\n",
      "\n",
      "MCP vs. Doctor: Mann-Whitney-Wilcoxon test two-sided, P_val:9.227e-01 U_stat=1.000e+03\n",
      "MCP vs. Entropy: Mann-Whitney-Wilcoxon test two-sided, P_val:2.682e-01 U_stat=1.150e+03\n",
      "MCP vs. Energy: Mann-Whitney-Wilcoxon test two-sided, P_val:6.163e-01 U_stat=1.075e+03\n"
     ]
    },
    {
     "data": {
      "text/plain": [
       "(<Axes: xlabel='Confidence Score', ylabel='MAE'>,\n",
       " [<statannotations.Annotation.Annotation at 0x7f8908e5d160>,\n",
       "  <statannotations.Annotation.Annotation at 0x7f88f8c48790>,\n",
       "  <statannotations.Annotation.Annotation at 0x7f88f8c48760>])"
      ]
     },
     "execution_count": 21,
     "metadata": {},
     "output_type": "execute_result"
    },
    {
     "data": {
      "image/png": "[encoded data removed]",
      "text/plain": [
       "<Figure size 300x200 with 1 Axes>"
      ]
     },
     "metadata": {},
     "output_type": "display_data"
    }
   ],
   "source": [
    "sns.set(rc={'figure.figsize':(3,2)})\n",
    "sns.set_style(\"white\")\n",
    "ax = sns.barplot(df, x=\"Confidence Score\", y=\"MAE\", color = '#1f77b4')\n",
    "ax.tick_params(axis='x', rotation=15)\n",
    "#\n",
    "ax.spines['top'].set_color('none')\n",
    "ax.spines['right'].set_color('none')\n",
    "ax.spines['bottom'].set_color('none')\n",
    "ax.spines['left'].set_color('none')\n",
    "#\n",
    "pairs=[(\"MCP\", \"Doctor\"), (\"MCP\", \"Entropy\"), (\"MCP\", \"Energy\")]\n",
    "\n",
    "annotator = Annotator(ax, pairs, data=df, x=\"Confidence Score\", y=\"MAE\")\n",
    "annotator.configure(test='Mann-Whitney', text_format='star', loc='inside')\n",
    "annotator.apply_and_annotate()"
   ]
  },
  {
   "cell_type": "code",
   "execution_count": 22,
   "id": "36ef192e-b82e-4a68-ba7c-a1d4813cabfe",
   "metadata": {},
   "outputs": [
    {
     "name": "stdout",
     "output_type": "stream",
     "text": [
      "p-value annotation legend:\n",
      "      ns: 5.00e-02 < p <= 1.00e+00\n",
      "       *: 1.00e-02 < p <= 5.00e-02\n",
      "      **: 1.00e-03 < p <= 1.00e-02\n",
      "     ***: 1.00e-04 < p <= 1.00e-03\n",
      "    ****: p <= 1.00e-04\n",
      "\n",
      "ATC_MCP vs. CS TS-ATC_Energy: Mann-Whitney-Wilcoxon test two-sided, P_val:3.977e-03 U_stat=0.000e+00\n"
     ]
    },
    {
     "data": {
      "text/plain": [
       "(<Axes: xlabel='Estimation Algorithm', ylabel='MAE '>,\n",
       " [<statannotations.Annotation.Annotation at 0x7f88f8c2dc10>])"
      ]
     },
     "execution_count": 22,
     "metadata": {},
     "output_type": "execute_result"
    },
    {
     "data": {
      "image/png": "[encoded data removed]",
      "text/plain": [
       "<Figure size 1200x300 with 1 Axes>"
      ]
     },
     "metadata": {},
     "output_type": "display_data"
    }
   ],
   "source": [
    "sns.set(rc={'figure.figsize':(12,3)})\n",
    "category_palette = {'MCP': '#e5f0f8',\n",
    "                    'Doctor': '#99c6e4',\n",
    "                    'Entropy': '#4c9cd0',\n",
    "                    'Energy': '#0072bd'\n",
    "                   }\n",
    "ax = sns.boxplot(df, x=\"Estimation Algorithm\", y=\"MAE \", hue=\"Confidence Score\", palette=category_palette)\n",
    "ax.set(ylim=(-0.02, 0.5))\n",
    "sns.move_legend(ax, \"upper left\", bbox_to_anchor=(1, 1))\n",
    "\n",
    "pairs=[\n",
    "    [(\"ATC\", \"MCP\"), (\"CS TS-ATC\", \"Energy\")]\n",
    "]\n",
    "\n",
    "annotator = Annotator(ax, pairs, data=df, x=\"Estimation Algorithm\", y=\"MAE\", hue=\"Confidence Score\")\n",
    "annotator.configure(test='Mann-Whitney', text_format='star', loc='inside')\n",
    "annotator.apply_and_annotate()"
   ]
  },
  {
   "cell_type": "code",
   "execution_count": 27,
   "id": "4beee0c2-774a-47af-95cb-f008afb37acc",
   "metadata": {},
   "outputs": [
    {
     "name": "stdout",
     "output_type": "stream",
     "text": [
      "Starting optimizing for model ts-atc-model with confidence energy-conf based on metric accuracy, class specific is False.\n",
      "Opitimizing with 3000 samples...\n",
      "Not satisfied with initial optimization results of param, trying more initial states...\n"
     ]
    },
    {
     "name": "stderr",
     "output_type": "stream",
     "text": [
      "/Users/zejuli/opt/anaconda3/envs/moval/lib/python3.8/site-packages/moval/models/utils.py:39: RuntimeWarning: overflow encountered in exp\n",
      "  denominator = np.sum(np.exp(x.transpose() / T), axis=0)\n",
      "/Users/zejuli/opt/anaconda3/envs/moval/lib/python3.8/site-packages/moval/models/model.py:157: RuntimeWarning: invalid value encountered in subtract\n",
      "  normalized_scores = (scores - self.min_value) / (self.max_value - self.min_value + e1)\n",
      "/Users/zejuli/opt/anaconda3/envs/moval/lib/python3.8/site-packages/moval/models/model.py:157: RuntimeWarning: invalid value encountered in scalar subtract\n",
      "  normalized_scores = (scores - self.min_value) / (self.max_value - self.min_value + e1)\n",
      "/Users/zejuli/opt/anaconda3/envs/moval/lib/python3.8/site-packages/moval/models/model.py:157: RuntimeWarning: invalid value encountered in divide\n",
      "  normalized_scores = (scores - self.min_value) / (self.max_value - self.min_value + e1)\n"
     ]
    },
    {
     "name": "stdout",
     "output_type": "stream",
     "text": [
      "Tried 1/5 times.\n",
      "Tried 2/5 times.\n",
      "Tried 3/5 times.\n",
      "Tried 4/5 times.\n",
      "Tried 5/5 times.\n",
      "Starting optimizing for model ts-atc-model with confidence energy-conf based on metric accuracy, class specific is True.\n",
      "Opitimizing with 3000 samples...\n",
      "Not satisfied with initial optimization results of param for class 0, trying more initial states...\n",
      "Tried 1/5 times.\n",
      "Tried 2/5 times.\n",
      "Tried 3/5 times.\n",
      "Tried 4/5 times.\n",
      "Tried 5/5 times.\n",
      "Not satisfied with initial optimization results of param_ext for class 8, trying more initial states...\n",
      "Tried 1/5 times.\n",
      "Tried 2/5 times.\n",
      "Tried 3/5 times.\n",
      "Tried 4/5 times.\n",
      "Tried 5/5 times.\n",
      "Not satisfied with initial optimization results of param_ext for class 9, trying more initial states...\n",
      "Tried 1/5 times.\n",
      "Tried 2/5 times.\n",
      "Tried 3/5 times.\n",
      "Tried 4/5 times.\n",
      "Tried 5/5 times.\n",
      "Not satisfied with initial optimization results of param_ext for class 7, trying more initial states...\n",
      "Tried 1/5 times.\n",
      "Tried 2/5 times.\n",
      "Tried 3/5 times.\n",
      "Tried 4/5 times.\n",
      "Tried 5/5 times.\n",
      "Not satisfied with initial optimization results of param_ext for class 6, trying more initial states...\n",
      "Tried 1/5 times.\n",
      "Tried 2/5 times.\n",
      "Tried 3/5 times.\n",
      "Tried 4/5 times.\n",
      "Tried 5/5 times.\n",
      "Not satisfied with initial optimization results of param_ext for class 5, trying more initial states...\n",
      "Tried 1/5 times.\n",
      "Tried 2/5 times.\n",
      "Tried 3/5 times.\n",
      "Tried 4/5 times.\n",
      "Tried 5/5 times.\n",
      "Not satisfied with initial optimization results of param_ext for class 4, trying more initial states...\n",
      "Tried 1/5 times.\n",
      "Tried 2/5 times.\n",
      "Tried 3/5 times.\n",
      "Tried 4/5 times.\n",
      "Tried 5/5 times.\n",
      "Not satisfied with initial optimization results of param_ext for class 2, trying more initial states...\n",
      "Tried 1/5 times.\n",
      "Tried 2/5 times.\n",
      "Tried 3/5 times.\n",
      "Tried 4/5 times.\n",
      "Tried 5/5 times.\n",
      "Not satisfied with initial optimization results of param_ext for class 1, trying more initial states...\n",
      "Tried 1/5 times.\n",
      "Tried 2/5 times.\n",
      "Tried 3/5 times.\n",
      "Tried 4/5 times.\n",
      "Tried 5/5 times.\n",
      "Not satisfied with initial optimization results of param_ext for class 3, trying more initial states...\n",
      "Tried 1/5 times.\n",
      "Tried 2/5 times.\n",
      "Tried 3/5 times.\n",
      "Tried 4/5 times.\n",
      "Tried 5/5 times.\n",
      "Not satisfied with initial optimization results of param_ext for class 0, trying more initial states...\n",
      "Tried 1/5 times.\n",
      "Tried 2/5 times.\n",
      "Tried 3/5 times.\n",
      "Tried 4/5 times.\n",
      "Tried 5/5 times.\n",
      "Calculating and saving the fitted case-wise performance...\n"
     ]
    }
   ],
   "source": [
    "err_test, moval_model = test_cls(\n",
    "        estim_algorithm = moval_options[31][0], \n",
    "        mode = moval_options[31][1], \n",
    "        metric = \"accuracy\",\n",
    "        confidence_scores = moval_options[31][2],\n",
    "        class_specific = moval_options[31][3],\n",
    "        logits = logits_val,\n",
    "        gt = gt_val,\n",
    "        logits_tests = logits_tests,\n",
    "        gt_tests = gt_tests\n",
    "    )"
   ]
  },
  {
   "cell_type": "code",
   "execution_count": 28,
   "id": "df887b48-54cb-4daa-902e-dcbe9edd9e46",
   "metadata": {},
   "outputs": [
    {
     "data": {
      "text/plain": [
       "array([3.27423811e-02, 2.13219170e+01, 2.38092633e+01, 1.85556485e+01,\n",
       "       2.74925744e+01, 2.50896985e+01, 3.10156931e+01, 3.16926453e+01,\n",
       "       3.29111595e+01, 3.28917068e+01])"
      ]
     },
     "execution_count": 28,
     "metadata": {},
     "output_type": "execute_result"
    }
   ],
   "source": [
    "moval_model.model_.param"
   ]
  },
  {
   "cell_type": "code",
   "execution_count": 29,
   "id": "3febdd1e-c612-4b82-90d0-58456a3fee2e",
   "metadata": {},
   "outputs": [
    {
     "data": {
      "text/plain": [
       "array([0.118125, 0.01    , 0.01    , 0.01    , 0.01    , 0.01    ,\n",
       "       0.01    , 0.9     , 0.95    , 0.95    ])"
      ]
     },
     "execution_count": 29,
     "metadata": {},
     "output_type": "execute_result"
    }
   ],
   "source": [
    "moval_model.model_.param_ext"
   ]
  },
  {
   "cell_type": "code",
   "execution_count": null,
   "id": "729bea23-d38c-4e4e-8bb0-f6dd15cabacf",
   "metadata": {},
   "outputs": [],
   "source": []
  },
  {
   "cell_type": "markdown",
   "id": "c437718a",
   "metadata": {},
   "source": [
    "## Estimationg of other metrics"
   ]
  },
  {
   "cell_type": "code",
   "execution_count": 23,
   "id": "bdfd0fbb",
   "metadata": {},
   "outputs": [],
   "source": [
    "test_conditions = moval_options[4:6]"
   ]
  },
  {
   "cell_type": "code",
   "execution_count": 24,
   "id": "338c8896",
   "metadata": {},
   "outputs": [],
   "source": [
    "estimatation_metrics = [\"accuracy\", \"sensitivity\", \"precision\", \"f1score\", \"auc\"]"
   ]
  },
  {
   "cell_type": "code",
   "execution_count": 25,
   "id": "adb37656",
   "metadata": {},
   "outputs": [],
   "source": [
    "err_test_list = []\n",
    "moval_parameters = []\n",
    "moval_parameters_ = []"
   ]
  },
  {
   "cell_type": "code",
   "execution_count": 26,
   "id": "b38d6760",
   "metadata": {
    "scrolled": true
   },
   "outputs": [
    {
     "name": "stderr",
     "output_type": "stream",
     "text": [
      "  0%|                                                                                                                                                                  | 0/2 [00:00<?, ?it/s]"
     ]
    },
    {
     "name": "stdout",
     "output_type": "stream",
     "text": [
      "Starting optimizing for model ts-model with confidence max_class_probability-conf based on metric accuracy, class specific is False.\n",
      "Opitimizing with 3000 samples...\n",
      "Calculating and saving the fitted case-wise performance...\n",
      "Starting optimizing for model ts-model with confidence max_class_probability-conf based on metric sensitivity, class specific is False.\n",
      "Opitimizing with 3000 samples...\n",
      "Calculating and saving the fitted case-wise performance...\n",
      "Starting optimizing for model ts-model with confidence max_class_probability-conf based on metric precision, class specific is False.\n",
      "Opitimizing with 3000 samples...\n",
      "Calculating and saving the fitted case-wise performance...\n",
      "Starting optimizing for model ts-model with confidence max_class_probability-conf based on metric f1score, class specific is False.\n",
      "Opitimizing with 3000 samples...\n",
      "Calculating and saving the fitted case-wise performance...\n",
      "Starting optimizing for model ts-model with confidence max_class_probability-conf based on metric auc, class specific is False.\n",
      "Opitimizing with 3000 samples...\n",
      "Calculating and saving the fitted case-wise performance...\n"
     ]
    },
    {
     "name": "stderr",
     "output_type": "stream",
     "text": [
      " 50%|█████████████████████████████████████████████████████████████████████████████                                                                             | 1/2 [00:48<00:48, 48.14s/it]"
     ]
    },
    {
     "name": "stdout",
     "output_type": "stream",
     "text": [
      "Starting optimizing for model ts-model with confidence max_class_probability-conf based on metric accuracy, class specific is False.\n",
      "Opitimizing with 3000 samples...\n",
      "Starting optimizing for model ts-model with confidence max_class_probability-conf based on metric accuracy, class specific is True.\n",
      "Opitimizing with 3000 samples...\n",
      "Calculating and saving the fitted case-wise performance...\n",
      "Starting optimizing for model ts-model with confidence max_class_probability-conf based on metric accuracy, class specific is False.\n",
      "Opitimizing with 3000 samples...\n",
      "Starting optimizing for model ts-model with confidence max_class_probability-conf based on metric sensitivity, class specific is True.\n",
      "Opitimizing with 3000 samples...\n",
      "Calculating and saving the fitted case-wise performance...\n",
      "Starting optimizing for model ts-model with confidence max_class_probability-conf based on metric accuracy, class specific is False.\n",
      "Opitimizing with 3000 samples...\n",
      "Starting optimizing for model ts-model with confidence max_class_probability-conf based on metric precision, class specific is True.\n",
      "Opitimizing with 3000 samples...\n",
      "Not satisfied with initial optimization results of param for class 8, trying more initial states...\n",
      "Tried 1/5 times.\n",
      "Tried 2/5 times.\n",
      "Tried 3/5 times.\n",
      "Tried 4/5 times.\n",
      "Tried 5/5 times.\n",
      "Not satisfied with initial optimization results of param for class 9, trying more initial states...\n",
      "Tried 1/5 times.\n",
      "Tried 2/5 times.\n",
      "Tried 3/5 times.\n",
      "Tried 4/5 times.\n",
      "Tried 5/5 times.\n",
      "Not satisfied with initial optimization results of param for class 7, trying more initial states...\n",
      "Tried 1/5 times.\n",
      "Tried 2/5 times.\n",
      "Tried 3/5 times.\n",
      "Tried 4/5 times.\n",
      "Tried 5/5 times.\n",
      "Not satisfied with initial optimization results of param for class 6, trying more initial states...\n",
      "Tried 1/5 times.\n",
      "Tried 2/5 times.\n",
      "Tried 3/5 times.\n",
      "Tried 4/5 times.\n",
      "Tried 5/5 times.\n"
     ]
    },
    {
     "name": "stderr",
     "output_type": "stream",
     "text": [
      " 50%|█████████████████████████████████████████████████████████████████████████████                                                                             | 1/2 [00:52<00:52, 52.81s/it]\n"
     ]
    },
    {
     "ename": "KeyboardInterrupt",
     "evalue": "",
     "output_type": "error",
     "traceback": [
      "\u001b[0;31m---------------------------------------------------------------------------\u001b[0m",
      "\u001b[0;31mKeyboardInterrupt\u001b[0m                         Traceback (most recent call last)",
      "Cell \u001b[0;32mIn[26], line 3\u001b[0m\n\u001b[1;32m      1\u001b[0m \u001b[38;5;28;01mfor\u001b[39;00m k_cond \u001b[38;5;129;01min\u001b[39;00m tqdm(\u001b[38;5;28mrange\u001b[39m(\u001b[38;5;28mlen\u001b[39m(test_conditions))):\n\u001b[1;32m      2\u001b[0m     \u001b[38;5;28;01mfor\u001b[39;00m estimatation_metric \u001b[38;5;129;01min\u001b[39;00m estimatation_metrics:\n\u001b[0;32m----> 3\u001b[0m         err_test, moval_model \u001b[38;5;241m=\u001b[39m \u001b[43mtest_cls\u001b[49m\u001b[43m(\u001b[49m\n\u001b[1;32m      4\u001b[0m \u001b[43m            \u001b[49m\u001b[43mestim_algorithm\u001b[49m\u001b[43m \u001b[49m\u001b[38;5;241;43m=\u001b[39;49m\u001b[43m \u001b[49m\u001b[43mtest_conditions\u001b[49m\u001b[43m[\u001b[49m\u001b[43mk_cond\u001b[49m\u001b[43m]\u001b[49m\u001b[43m[\u001b[49m\u001b[38;5;241;43m0\u001b[39;49m\u001b[43m]\u001b[49m\u001b[43m,\u001b[49m\u001b[43m \u001b[49m\n\u001b[1;32m      5\u001b[0m \u001b[43m            \u001b[49m\u001b[43mmode\u001b[49m\u001b[43m \u001b[49m\u001b[38;5;241;43m=\u001b[39;49m\u001b[43m \u001b[49m\u001b[43mtest_conditions\u001b[49m\u001b[43m[\u001b[49m\u001b[43mk_cond\u001b[49m\u001b[43m]\u001b[49m\u001b[43m[\u001b[49m\u001b[38;5;241;43m1\u001b[39;49m\u001b[43m]\u001b[49m\u001b[43m,\u001b[49m\u001b[43m \u001b[49m\n\u001b[1;32m      6\u001b[0m \u001b[43m            \u001b[49m\u001b[43mmetric\u001b[49m\u001b[43m \u001b[49m\u001b[38;5;241;43m=\u001b[39;49m\u001b[43m \u001b[49m\u001b[43mestimatation_metric\u001b[49m\u001b[43m,\u001b[49m\n\u001b[1;32m      7\u001b[0m \u001b[43m            \u001b[49m\u001b[43mconfidence_scores\u001b[49m\u001b[43m \u001b[49m\u001b[38;5;241;43m=\u001b[39;49m\u001b[43m \u001b[49m\u001b[43mtest_conditions\u001b[49m\u001b[43m[\u001b[49m\u001b[43mk_cond\u001b[49m\u001b[43m]\u001b[49m\u001b[43m[\u001b[49m\u001b[38;5;241;43m2\u001b[39;49m\u001b[43m]\u001b[49m\u001b[43m,\u001b[49m\n\u001b[1;32m      8\u001b[0m \u001b[43m            \u001b[49m\u001b[43mclass_specific\u001b[49m\u001b[43m \u001b[49m\u001b[38;5;241;43m=\u001b[39;49m\u001b[43m \u001b[49m\u001b[43mtest_conditions\u001b[49m\u001b[43m[\u001b[49m\u001b[43mk_cond\u001b[49m\u001b[43m]\u001b[49m\u001b[43m[\u001b[49m\u001b[38;5;241;43m3\u001b[39;49m\u001b[43m]\u001b[49m\u001b[43m,\u001b[49m\n\u001b[1;32m      9\u001b[0m \u001b[43m            \u001b[49m\u001b[43mlogits\u001b[49m\u001b[43m \u001b[49m\u001b[38;5;241;43m=\u001b[39;49m\u001b[43m \u001b[49m\u001b[43mlogits_val\u001b[49m\u001b[43m,\u001b[49m\n\u001b[1;32m     10\u001b[0m \u001b[43m            \u001b[49m\u001b[43mgt\u001b[49m\u001b[43m \u001b[49m\u001b[38;5;241;43m=\u001b[39;49m\u001b[43m \u001b[49m\u001b[43mgt_val\u001b[49m\u001b[43m,\u001b[49m\n\u001b[1;32m     11\u001b[0m \u001b[43m            \u001b[49m\u001b[43mlogits_tests\u001b[49m\u001b[43m \u001b[49m\u001b[38;5;241;43m=\u001b[39;49m\u001b[43m \u001b[49m\u001b[43mlogits_tests\u001b[49m\u001b[43m,\u001b[49m\n\u001b[1;32m     12\u001b[0m \u001b[43m            \u001b[49m\u001b[43mgt_tests\u001b[49m\u001b[43m \u001b[49m\u001b[38;5;241;43m=\u001b[39;49m\u001b[43m \u001b[49m\u001b[43mgt_tests\u001b[49m\n\u001b[1;32m     13\u001b[0m \u001b[43m        \u001b[49m\u001b[43m)\u001b[49m\n\u001b[1;32m     14\u001b[0m         err_test_list\u001b[38;5;241m.\u001b[39mappend(err_test)\n\u001b[1;32m     15\u001b[0m         moval_parameters\u001b[38;5;241m.\u001b[39mappend(moval_model\u001b[38;5;241m.\u001b[39mmodel_\u001b[38;5;241m.\u001b[39mparam)\n",
      "Cell \u001b[0;32mIn[13], line 38\u001b[0m, in \u001b[0;36mtest_cls\u001b[0;34m(estim_algorithm, mode, metric, confidence_scores, class_specific, logits, gt, logits_tests, gt_tests)\u001b[0m\n\u001b[1;32m     29\u001b[0m moval_model \u001b[38;5;241m=\u001b[39m moval\u001b[38;5;241m.\u001b[39mMOVAL(\n\u001b[1;32m     30\u001b[0m             mode \u001b[38;5;241m=\u001b[39m mode,\n\u001b[1;32m     31\u001b[0m             metric \u001b[38;5;241m=\u001b[39m metric,\n\u001b[0;32m   (...)\u001b[0m\n\u001b[1;32m     34\u001b[0m             class_specific \u001b[38;5;241m=\u001b[39m class_specific\n\u001b[1;32m     35\u001b[0m             )\n\u001b[1;32m     37\u001b[0m \u001b[38;5;66;03m#\u001b[39;00m\n\u001b[0;32m---> 38\u001b[0m \u001b[43mmoval_model\u001b[49m\u001b[38;5;241;43m.\u001b[39;49m\u001b[43mfit\u001b[49m\u001b[43m(\u001b[49m\u001b[43mlogits\u001b[49m\u001b[43m,\u001b[49m\u001b[43m \u001b[49m\u001b[43mgt\u001b[49m\u001b[43m)\u001b[49m\n\u001b[1;32m     40\u001b[0m \u001b[38;5;66;03m# save the test err in the result files.\u001b[39;00m\n\u001b[1;32m     42\u001b[0m err_tests \u001b[38;5;241m=\u001b[39m []\n",
      "File \u001b[0;32m~/opt/anaconda3/envs/moval/lib/python3.8/site-packages/moval/integrations/sklearn/moval.py:233\u001b[0m, in \u001b[0;36mMOVAL.fit\u001b[0;34m(self, logits, gt)\u001b[0m\n\u001b[1;32m    230\u001b[0m     model\u001b[38;5;241m.\u001b[39mparam \u001b[38;5;241m=\u001b[39m np\u001b[38;5;241m.\u001b[39mones(\u001b[38;5;28mself\u001b[39m\u001b[38;5;241m.\u001b[39mnumclass) \u001b[38;5;241m*\u001b[39m model_pre\u001b[38;5;241m.\u001b[39mparam\n\u001b[1;32m    232\u001b[0m solver \u001b[38;5;241m=\u001b[39m moval\u001b[38;5;241m.\u001b[39msolvers\u001b[38;5;241m.\u001b[39minit(\u001b[38;5;124m\"\u001b[39m\u001b[38;5;124mbase-solver\u001b[39m\u001b[38;5;124m\"\u001b[39m, model \u001b[38;5;241m=\u001b[39m model, metric \u001b[38;5;241m=\u001b[39m \u001b[38;5;28mself\u001b[39m\u001b[38;5;241m.\u001b[39mmetric)\n\u001b[0;32m--> 233\u001b[0m \u001b[43msolver\u001b[49m\u001b[38;5;241;43m.\u001b[39;49m\u001b[43mfit\u001b[49m\u001b[43m(\u001b[49m\u001b[43mlogits\u001b[49m\u001b[43m,\u001b[49m\u001b[43m \u001b[49m\u001b[43mgt\u001b[49m\u001b[43m)\u001b[49m \u001b[38;5;66;03m# model fitting\u001b[39;00m\n\u001b[1;32m    235\u001b[0m \u001b[38;5;66;03m# save the results to self attributes.\u001b[39;00m\n\u001b[1;32m    236\u001b[0m \u001b[38;5;28mself\u001b[39m\u001b[38;5;241m.\u001b[39mmodel_ \u001b[38;5;241m=\u001b[39m model\n",
      "File \u001b[0;32m~/opt/anaconda3/envs/moval/lib/python3.8/site-packages/moval/solvers/solver.py:279\u001b[0m, in \u001b[0;36mSolver.fit\u001b[0;34m(self, inp, gt)\u001b[0m\n\u001b[1;32m    275\u001b[0m             flag_case_b \u001b[38;5;241m=\u001b[39m \u001b[38;5;28;01mTrue\u001b[39;00m\n\u001b[1;32m    277\u001b[0m \u001b[38;5;28;01mif\u001b[39;00m flag_case_a \u001b[38;5;129;01mand\u001b[39;00m flag_case_b:\n\u001b[0;32m--> 279\u001b[0m     optimization_result \u001b[38;5;241m=\u001b[39m \u001b[43mscipy\u001b[49m\u001b[38;5;241;43m.\u001b[39;49m\u001b[43moptimize\u001b[49m\u001b[38;5;241;43m.\u001b[39;49m\u001b[43mminimize\u001b[49m\u001b[43m(\u001b[49m\n\u001b[1;32m    280\u001b[0m \u001b[43m                    \u001b[49m\u001b[43mfun\u001b[49m\u001b[43m \u001b[49m\u001b[38;5;241;43m=\u001b[39;49m\u001b[43m \u001b[49m\u001b[38;5;28;43mself\u001b[39;49m\u001b[38;5;241;43m.\u001b[39;49m\u001b[43meval_func\u001b[49m\u001b[43m,\u001b[49m\n\u001b[1;32m    281\u001b[0m \u001b[43m                    \u001b[49m\u001b[43mx0\u001b[49m\u001b[43m \u001b[49m\u001b[38;5;241;43m=\u001b[39;49m\u001b[43m \u001b[49m\u001b[43mx0\u001b[49m\u001b[43m,\u001b[49m\n\u001b[1;32m    282\u001b[0m \u001b[43m                    \u001b[49m\u001b[43mmethod\u001b[49m\u001b[43m \u001b[49m\u001b[38;5;241;43m=\u001b[39;49m\u001b[43m \u001b[49m\u001b[43moptimization_method\u001b[49m\u001b[43m,\u001b[49m\n\u001b[1;32m    283\u001b[0m \u001b[43m                    \u001b[49m\u001b[43mbounds\u001b[49m\u001b[43m \u001b[49m\u001b[38;5;241;43m=\u001b[39;49m\u001b[43m \u001b[49m\u001b[43m[\u001b[49m\u001b[43m(\u001b[49m\u001b[38;5;241;43m1e-06\u001b[39;49m\u001b[43m,\u001b[49m\u001b[38;5;28;43;01mNone\u001b[39;49;00m\u001b[43m)\u001b[49m\u001b[43m]\u001b[49m\u001b[43m,\u001b[49m\n\u001b[1;32m    284\u001b[0m \u001b[43m                    \u001b[49m\u001b[43mtol\u001b[49m\u001b[43m \u001b[49m\u001b[38;5;241;43m=\u001b[39;49m\u001b[43m \u001b[49m\u001b[38;5;241;43m1e-07\u001b[39;49m\u001b[43m)\u001b[49m\n\u001b[1;32m    286\u001b[0m     optimized_param \u001b[38;5;241m=\u001b[39m optimization_result\u001b[38;5;241m.\u001b[39mx[\u001b[38;5;241m0\u001b[39m]\n\u001b[1;32m    288\u001b[0m     \u001b[38;5;28;01mif\u001b[39;00m optimization_result\u001b[38;5;241m.\u001b[39mfun \u001b[38;5;241m>\u001b[39m search_threshold:\n\u001b[1;32m    289\u001b[0m         \u001b[38;5;66;03m# change the initial state, if we are not satisfied with the optimization results.\u001b[39;00m\n",
      "File \u001b[0;32m~/opt/anaconda3/envs/moval/lib/python3.8/site-packages/scipy/optimize/_minimize.py:684\u001b[0m, in \u001b[0;36mminimize\u001b[0;34m(fun, x0, args, method, jac, hess, hessp, bounds, constraints, tol, callback, options)\u001b[0m\n\u001b[1;32m    681\u001b[0m     bounds \u001b[38;5;241m=\u001b[39m standardize_bounds(bounds, x0, meth)\n\u001b[1;32m    683\u001b[0m \u001b[38;5;28;01mif\u001b[39;00m meth \u001b[38;5;241m==\u001b[39m \u001b[38;5;124m'\u001b[39m\u001b[38;5;124mnelder-mead\u001b[39m\u001b[38;5;124m'\u001b[39m:\n\u001b[0;32m--> 684\u001b[0m     res \u001b[38;5;241m=\u001b[39m \u001b[43m_minimize_neldermead\u001b[49m\u001b[43m(\u001b[49m\u001b[43mfun\u001b[49m\u001b[43m,\u001b[49m\u001b[43m \u001b[49m\u001b[43mx0\u001b[49m\u001b[43m,\u001b[49m\u001b[43m \u001b[49m\u001b[43margs\u001b[49m\u001b[43m,\u001b[49m\u001b[43m \u001b[49m\u001b[43mcallback\u001b[49m\u001b[43m,\u001b[49m\u001b[43m \u001b[49m\u001b[43mbounds\u001b[49m\u001b[38;5;241;43m=\u001b[39;49m\u001b[43mbounds\u001b[49m\u001b[43m,\u001b[49m\n\u001b[1;32m    685\u001b[0m \u001b[43m                               \u001b[49m\u001b[38;5;241;43m*\u001b[39;49m\u001b[38;5;241;43m*\u001b[39;49m\u001b[43moptions\u001b[49m\u001b[43m)\u001b[49m\n\u001b[1;32m    686\u001b[0m \u001b[38;5;28;01melif\u001b[39;00m meth \u001b[38;5;241m==\u001b[39m \u001b[38;5;124m'\u001b[39m\u001b[38;5;124mpowell\u001b[39m\u001b[38;5;124m'\u001b[39m:\n\u001b[1;32m    687\u001b[0m     res \u001b[38;5;241m=\u001b[39m _minimize_powell(fun, x0, args, callback, bounds, \u001b[38;5;241m*\u001b[39m\u001b[38;5;241m*\u001b[39moptions)\n",
      "File \u001b[0;32m~/opt/anaconda3/envs/moval/lib/python3.8/site-packages/scipy/optimize/_optimize.py:870\u001b[0m, in \u001b[0;36m_minimize_neldermead\u001b[0;34m(func, x0, args, callback, maxiter, maxfev, disp, return_all, initial_simplex, xatol, fatol, adaptive, bounds, **unknown_options)\u001b[0m\n\u001b[1;32m    868\u001b[0m \u001b[38;5;28;01mif\u001b[39;00m bounds \u001b[38;5;129;01mis\u001b[39;00m \u001b[38;5;129;01mnot\u001b[39;00m \u001b[38;5;28;01mNone\u001b[39;00m:\n\u001b[1;32m    869\u001b[0m     xr \u001b[38;5;241m=\u001b[39m np\u001b[38;5;241m.\u001b[39mclip(xr, lower_bound, upper_bound)\n\u001b[0;32m--> 870\u001b[0m fxr \u001b[38;5;241m=\u001b[39m \u001b[43mfunc\u001b[49m\u001b[43m(\u001b[49m\u001b[43mxr\u001b[49m\u001b[43m)\u001b[49m\n\u001b[1;32m    871\u001b[0m doshrink \u001b[38;5;241m=\u001b[39m \u001b[38;5;241m0\u001b[39m\n\u001b[1;32m    873\u001b[0m \u001b[38;5;28;01mif\u001b[39;00m fxr \u001b[38;5;241m<\u001b[39m fsim[\u001b[38;5;241m0\u001b[39m]:\n",
      "File \u001b[0;32m~/opt/anaconda3/envs/moval/lib/python3.8/site-packages/scipy/optimize/_optimize.py:573\u001b[0m, in \u001b[0;36m_wrap_scalar_function_maxfun_validation.<locals>.function_wrapper\u001b[0;34m(x, *wrapper_args)\u001b[0m\n\u001b[1;32m    569\u001b[0m fx \u001b[38;5;241m=\u001b[39m function(np\u001b[38;5;241m.\u001b[39mcopy(x), \u001b[38;5;241m*\u001b[39m(wrapper_args \u001b[38;5;241m+\u001b[39m args))\n\u001b[1;32m    570\u001b[0m \u001b[38;5;66;03m# Ideally, we'd like to a have a true scalar returned from f(x). For\u001b[39;00m\n\u001b[1;32m    571\u001b[0m \u001b[38;5;66;03m# backwards-compatibility, also allow np.array([1.3]),\u001b[39;00m\n\u001b[1;32m    572\u001b[0m \u001b[38;5;66;03m# np.array([[1.3]]) etc.\u001b[39;00m\n\u001b[0;32m--> 573\u001b[0m \u001b[38;5;28;01mif\u001b[39;00m \u001b[38;5;129;01mnot\u001b[39;00m \u001b[43mnp\u001b[49m\u001b[38;5;241;43m.\u001b[39;49m\u001b[43misscalar\u001b[49m(fx):\n\u001b[1;32m    574\u001b[0m     \u001b[38;5;28;01mtry\u001b[39;00m:\n\u001b[1;32m    575\u001b[0m         fx \u001b[38;5;241m=\u001b[39m np\u001b[38;5;241m.\u001b[39masarray(fx)\u001b[38;5;241m.\u001b[39mitem()\n",
      "\u001b[0;31mKeyboardInterrupt\u001b[0m: "
     ]
    }
   ],
   "source": [
    "for k_cond in tqdm(range(len(test_conditions))):\n",
    "    for estimatation_metric in estimatation_metrics:\n",
    "        err_test, moval_model = test_cls(\n",
    "            estim_algorithm = test_conditions[k_cond][0], \n",
    "            mode = test_conditions[k_cond][1], \n",
    "            metric = estimatation_metric,\n",
    "            confidence_scores = test_conditions[k_cond][2],\n",
    "            class_specific = test_conditions[k_cond][3],\n",
    "            logits = logits_val,\n",
    "            gt = gt_val,\n",
    "            logits_tests = logits_tests,\n",
    "            gt_tests = gt_tests\n",
    "        )\n",
    "        err_test_list.append(err_test)\n",
    "        moval_parameters.append(moval_model.model_.param)\n",
    "        if moval_model.model_.extend_param:\n",
    "            moval_parameters_.append(moval_model.model_.param_ext)\n",
    "        else:\n",
    "            moval_parameters_.append(0.)"
   ]
  },
  {
   "cell_type": "code",
   "execution_count": null,
   "id": "ddf69d4c",
   "metadata": {},
   "outputs": [],
   "source": [
    "estim = []\n",
    "conf = []\n",
    "metric = []\n",
    "err = []\n",
    "err_mean = []\n",
    "novel = []\n",
    "k_option = 0\n",
    "for moval_option in test_conditions:\n",
    "    for estimatation_metric in estimatation_metrics:\n",
    "        for k_cond in range(len(err_test_list[k_option])):\n",
    "            #\n",
    "            if moval_option[3] == True:\n",
    "                estim_cs = 'CS '\n",
    "            else:\n",
    "                estim_cs = ''\n",
    "            #    \n",
    "            if moval_option[0] == 'ac-model':\n",
    "                estim.append(estim_cs + 'AC')\n",
    "            elif moval_option[0] == 'ts-model':\n",
    "                estim.append(estim_cs + 'TS')\n",
    "            elif moval_option[0] == 'doc-model':\n",
    "                estim.append(estim_cs + 'DoC')\n",
    "            elif moval_option[0] == 'atc-model':\n",
    "                estim.append(estim_cs + 'ATC')\n",
    "            else:\n",
    "                estim.append(estim_cs + 'TS-ATC')\n",
    "            #\n",
    "            metric.append(estimatation_metric)\n",
    "            if moval_option[2] == 'max_class_probability-conf':\n",
    "                conf.append('MCP')\n",
    "            elif moval_option[2] == 'energy-conf':\n",
    "                conf.append('Energy')\n",
    "            elif moval_option[2] == 'entropy-conf':\n",
    "                conf.append('Entropy')\n",
    "            else:\n",
    "                conf.append('Doctor')\n",
    "            #\n",
    "            if moval_option[2] == 'max_class_probability-conf' and moval_option[3] == False:\n",
    "                novel.append('Existing Methods')\n",
    "            else:\n",
    "                novel.append('Provided by MOVAL')\n",
    "            #\n",
    "            err.append(err_test_list[k_option][k_cond])\n",
    "            err_mean.append(np.mean(err_test_list[k_option]))\n",
    "        k_option += 1"
   ]
  },
  {
   "cell_type": "code",
   "execution_count": null,
   "id": "818ebed5",
   "metadata": {},
   "outputs": [],
   "source": [
    "d = {'Estimation Algorithm': estim, 'Confidence Score': conf, 'MAE': err_mean, 'MAE ': err, 'Category': novel, 'Metric': metric}\n",
    "df = pd.DataFrame(data=d)\n",
    "#\n",
    "custom_order = ['accuracy', 'sensitivity', 'precision', 'f1score', 'auc']\n",
    "df['Metric'] = pd.Categorical(df['Metric'], categories=custom_order, ordered=True)\n",
    "df = df.sort_values(by='Metric')"
   ]
  },
  {
   "cell_type": "code",
   "execution_count": null,
   "id": "fca80c70",
   "metadata": {},
   "outputs": [],
   "source": [
    "df"
   ]
  },
  {
   "cell_type": "code",
   "execution_count": null,
   "id": "73268631",
   "metadata": {},
   "outputs": [],
   "source": [
    "ax = sns.boxplot(df, x=\"Metric\", y=\"MAE \", hue=\"Estimation Algorithm\")"
   ]
  },
  {
   "cell_type": "code",
   "execution_count": null,
   "id": "1a38470c",
   "metadata": {},
   "outputs": [],
   "source": []
  },
  {
   "cell_type": "code",
   "execution_count": null,
   "id": "ba0a827b",
   "metadata": {},
   "outputs": [],
   "source": []
  },
  {
   "cell_type": "code",
   "execution_count": null,
   "id": "5122fa81",
   "metadata": {},
   "outputs": [],
   "source": []
  },
  {
   "cell_type": "code",
   "execution_count": null,
   "id": "f1442f03",
   "metadata": {},
   "outputs": [],
   "source": []
  }
 ],
 "metadata": {
  "kernelspec": {
   "display_name": "Python 3 (ipykernel)",
   "language": "python",
   "name": "python3"
  },
  "language_info": {
   "codemirror_mode": {
    "name": "ipython",
    "version": 3
   },
   "file_extension": ".py",
   "mimetype": "text/x-python",
   "name": "python",
   "nbconvert_exporter": "python",
   "pygments_lexer": "ipython3",
   "version": "3.8.0"
  }
 },
 "nbformat": 4,
 "nbformat_minor": 5
}
