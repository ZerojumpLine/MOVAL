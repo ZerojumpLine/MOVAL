{
 "cells": [
  {
   "cell_type": "markdown",
   "id": "78e1590e-fe81-42a5-baeb-b5734c62df1a",
   "metadata": {},
   "source": [
    "# Performance Estimation of Classification"
   ]
  },
  {
   "cell_type": "markdown",
   "id": "8ba3dd68-4dba-4638-9de1-ab7847d24d90",
   "metadata": {},
   "source": [
    "Consider to download this Jupyter Notebook and run locally, or test it with Colab.\n",
    "<br>\n",
    "[![Download](https://img.shields.io/badge/Download-jupyter-blue)](https://github.com/ZerojumpLine/MOVAL/blob/main/docs/source/demos/estim_cls.ipynb)\n",
    "[![Open In Colab](https://colab.research.google.com/assets/colab-badge.svg)](https://colab.research.google.com/drive/1PHd9a4okUQpJ9EtlzTXCT6LIGphfPqUt)"
   ]
  },
  {
   "cell_type": "markdown",
   "id": "c9b5661b-b953-408e-9b23-b05ccdb8a241",
   "metadata": {},
   "source": [
    "* In this notebook, we will show how to evaluate the performance of classification tasks.\n",
    "<br>\n",
    "* More specifically, we show an example of estimating the performance under domain shifts on CIFAR10-LT based on ResNet. We will utilize the calculated logits on test dataset with sythesized motion blur condition.\n",
    "<br>\n",
    "* We will calculated model confidence with different confidence scores and varied calibration methods."
   ]
  },
  {
   "cell_type": "code",
   "execution_count": 1,
   "id": "015ad97d-ae79-4b0b-9a01-6ce2d6b14233",
   "metadata": {
    "scrolled": true
   },
   "outputs": [
    {
     "name": "stdout",
     "output_type": "stream",
     "text": [
      "Requirement already satisfied: moval in /Users/zejuli/opt/anaconda3/lib/python3.9/site-packages (0.1.20)\n",
      "Requirement already satisfied: scipy>=1.8.0 in /Users/zejuli/opt/anaconda3/lib/python3.9/site-packages (from moval) (1.9.1)\n",
      "Requirement already satisfied: gdown in /Users/zejuli/opt/anaconda3/lib/python3.9/site-packages (from moval) (4.7.1)\n",
      "Requirement already satisfied: pytest in /Users/zejuli/opt/anaconda3/lib/python3.9/site-packages (from moval) (7.1.2)\n",
      "Requirement already satisfied: pandas in /Users/zejuli/opt/anaconda3/lib/python3.9/site-packages (from moval) (1.4.4)\n",
      "Requirement already satisfied: scikit-learn>=1.3.0 in /Users/zejuli/opt/anaconda3/lib/python3.9/site-packages (from moval) (1.3.0)\n",
      "Requirement already satisfied: nibabel in /Users/zejuli/opt/anaconda3/lib/python3.9/site-packages (from moval) (5.0.1)\n",
      "Requirement already satisfied: joblib>=1.1.1 in /Users/zejuli/opt/anaconda3/lib/python3.9/site-packages (from scikit-learn>=1.3.0->moval) (1.3.1)\n",
      "Requirement already satisfied: numpy>=1.17.3 in /Users/zejuli/opt/anaconda3/lib/python3.9/site-packages (from scikit-learn>=1.3.0->moval) (1.21.5)\n",
      "Requirement already satisfied: threadpoolctl>=2.0.0 in /Users/zejuli/opt/anaconda3/lib/python3.9/site-packages (from scikit-learn>=1.3.0->moval) (2.2.0)\n",
      "Requirement already satisfied: beautifulsoup4 in /Users/zejuli/opt/anaconda3/lib/python3.9/site-packages (from gdown->moval) (4.11.1)\n",
      "Requirement already satisfied: tqdm in /Users/zejuli/opt/anaconda3/lib/python3.9/site-packages (from gdown->moval) (4.64.1)\n",
      "Requirement already satisfied: requests[socks] in /Users/zejuli/opt/anaconda3/lib/python3.9/site-packages (from gdown->moval) (2.28.1)\n",
      "Requirement already satisfied: six in /Users/zejuli/opt/anaconda3/lib/python3.9/site-packages (from gdown->moval) (1.16.0)\n",
      "Requirement already satisfied: filelock in /Users/zejuli/opt/anaconda3/lib/python3.9/site-packages (from gdown->moval) (3.6.0)\n",
      "Requirement already satisfied: setuptools in /Users/zejuli/opt/anaconda3/lib/python3.9/site-packages (from nibabel->moval) (63.4.1)\n",
      "Requirement already satisfied: packaging>=17 in /Users/zejuli/opt/anaconda3/lib/python3.9/site-packages (from nibabel->moval) (21.3)\n",
      "Requirement already satisfied: python-dateutil>=2.8.1 in /Users/zejuli/opt/anaconda3/lib/python3.9/site-packages (from pandas->moval) (2.8.2)\n",
      "Requirement already satisfied: pytz>=2020.1 in /Users/zejuli/opt/anaconda3/lib/python3.9/site-packages (from pandas->moval) (2022.1)\n",
      "Requirement already satisfied: attrs>=19.2.0 in /Users/zejuli/opt/anaconda3/lib/python3.9/site-packages (from pytest->moval) (21.4.0)\n",
      "Requirement already satisfied: iniconfig in /Users/zejuli/opt/anaconda3/lib/python3.9/site-packages (from pytest->moval) (1.1.1)\n",
      "Requirement already satisfied: pluggy<2.0,>=0.12 in /Users/zejuli/opt/anaconda3/lib/python3.9/site-packages (from pytest->moval) (1.0.0)\n",
      "Requirement already satisfied: py>=1.8.2 in /Users/zejuli/opt/anaconda3/lib/python3.9/site-packages (from pytest->moval) (1.11.0)\n",
      "Requirement already satisfied: tomli>=1.0.0 in /Users/zejuli/opt/anaconda3/lib/python3.9/site-packages (from pytest->moval) (2.0.1)\n",
      "Requirement already satisfied: pyparsing!=3.0.5,>=2.0.2 in /Users/zejuli/opt/anaconda3/lib/python3.9/site-packages (from packaging>=17->nibabel->moval) (3.0.9)\n",
      "Requirement already satisfied: soupsieve>1.2 in /Users/zejuli/opt/anaconda3/lib/python3.9/site-packages (from beautifulsoup4->gdown->moval) (2.3.1)\n",
      "Requirement already satisfied: charset-normalizer<3,>=2 in /Users/zejuli/opt/anaconda3/lib/python3.9/site-packages (from requests[socks]->gdown->moval) (2.0.4)\n",
      "Requirement already satisfied: urllib3<1.27,>=1.21.1 in /Users/zejuli/opt/anaconda3/lib/python3.9/site-packages (from requests[socks]->gdown->moval) (1.26.11)\n",
      "Requirement already satisfied: idna<4,>=2.5 in /Users/zejuli/opt/anaconda3/lib/python3.9/site-packages (from requests[socks]->gdown->moval) (3.3)\n",
      "Requirement already satisfied: certifi>=2017.4.17 in /Users/zejuli/opt/anaconda3/lib/python3.9/site-packages (from requests[socks]->gdown->moval) (2022.9.24)\n",
      "Requirement already satisfied: PySocks!=1.5.7,>=1.5.6 in /Users/zejuli/opt/anaconda3/lib/python3.9/site-packages (from requests[socks]->gdown->moval) (1.7.1)\n",
      "Requirement already satisfied: statannotations in /Users/zejuli/opt/anaconda3/lib/python3.9/site-packages (0.6.0)\n",
      "Requirement already satisfied: numpy>=1.12.1 in /Users/zejuli/opt/anaconda3/lib/python3.9/site-packages (from statannotations) (1.21.5)\n",
      "Requirement already satisfied: matplotlib>=2.2.2 in /Users/zejuli/opt/anaconda3/lib/python3.9/site-packages (from statannotations) (3.5.2)\n",
      "Requirement already satisfied: pandas<2.0.0,>=0.23.0 in /Users/zejuli/opt/anaconda3/lib/python3.9/site-packages (from statannotations) (1.4.4)\n",
      "Requirement already satisfied: scipy>=1.1.0 in /Users/zejuli/opt/anaconda3/lib/python3.9/site-packages (from statannotations) (1.9.1)\n",
      "Collecting seaborn<0.12,>=0.9.0\n",
      "  Using cached seaborn-0.11.2-py3-none-any.whl (292 kB)\n",
      "Requirement already satisfied: fonttools>=4.22.0 in /Users/zejuli/opt/anaconda3/lib/python3.9/site-packages (from matplotlib>=2.2.2->statannotations) (4.25.0)\n",
      "Requirement already satisfied: kiwisolver>=1.0.1 in /Users/zejuli/opt/anaconda3/lib/python3.9/site-packages (from matplotlib>=2.2.2->statannotations) (1.4.2)\n",
      "Requirement already satisfied: cycler>=0.10 in /Users/zejuli/opt/anaconda3/lib/python3.9/site-packages (from matplotlib>=2.2.2->statannotations) (0.11.0)\n",
      "Requirement already satisfied: pillow>=6.2.0 in /Users/zejuli/opt/anaconda3/lib/python3.9/site-packages (from matplotlib>=2.2.2->statannotations) (9.2.0)\n",
      "Requirement already satisfied: python-dateutil>=2.7 in /Users/zejuli/opt/anaconda3/lib/python3.9/site-packages (from matplotlib>=2.2.2->statannotations) (2.8.2)\n",
      "Requirement already satisfied: packaging>=20.0 in /Users/zejuli/opt/anaconda3/lib/python3.9/site-packages (from matplotlib>=2.2.2->statannotations) (21.3)\n",
      "Requirement already satisfied: pyparsing>=2.2.1 in /Users/zejuli/opt/anaconda3/lib/python3.9/site-packages (from matplotlib>=2.2.2->statannotations) (3.0.9)\n",
      "Requirement already satisfied: pytz>=2020.1 in /Users/zejuli/opt/anaconda3/lib/python3.9/site-packages (from pandas<2.0.0,>=0.23.0->statannotations) (2022.1)\n",
      "Requirement already satisfied: six>=1.5 in /Users/zejuli/opt/anaconda3/lib/python3.9/site-packages (from python-dateutil>=2.7->matplotlib>=2.2.2->statannotations) (1.16.0)\n",
      "Installing collected packages: seaborn\n",
      "  Attempting uninstall: seaborn\n",
      "    Found existing installation: seaborn 0.12.0\n",
      "    Uninstalling seaborn-0.12.0:\n",
      "      Successfully uninstalled seaborn-0.12.0\n",
      "Successfully installed seaborn-0.11.2\n",
      "Requirement already satisfied: pandas in /Users/zejuli/opt/anaconda3/lib/python3.9/site-packages (1.4.4)\n",
      "Requirement already satisfied: python-dateutil>=2.8.1 in /Users/zejuli/opt/anaconda3/lib/python3.9/site-packages (from pandas) (2.8.2)\n",
      "Requirement already satisfied: pytz>=2020.1 in /Users/zejuli/opt/anaconda3/lib/python3.9/site-packages (from pandas) (2022.1)\n",
      "Requirement already satisfied: numpy>=1.18.5 in /Users/zejuli/opt/anaconda3/lib/python3.9/site-packages (from pandas) (1.21.5)\n",
      "Requirement already satisfied: six>=1.5 in /Users/zejuli/opt/anaconda3/lib/python3.9/site-packages (from python-dateutil>=2.8.1->pandas) (1.16.0)\n",
      "Requirement already satisfied: tqdm in /Users/zejuli/opt/anaconda3/lib/python3.9/site-packages (4.64.1)\n",
      "Requirement already satisfied: matplotlib in /Users/zejuli/opt/anaconda3/lib/python3.9/site-packages (3.5.2)\n",
      "Requirement already satisfied: cycler>=0.10 in /Users/zejuli/opt/anaconda3/lib/python3.9/site-packages (from matplotlib) (0.11.0)\n",
      "Requirement already satisfied: packaging>=20.0 in /Users/zejuli/opt/anaconda3/lib/python3.9/site-packages (from matplotlib) (21.3)\n",
      "Requirement already satisfied: python-dateutil>=2.7 in /Users/zejuli/opt/anaconda3/lib/python3.9/site-packages (from matplotlib) (2.8.2)\n",
      "Requirement already satisfied: fonttools>=4.22.0 in /Users/zejuli/opt/anaconda3/lib/python3.9/site-packages (from matplotlib) (4.25.0)\n",
      "Requirement already satisfied: numpy>=1.17 in /Users/zejuli/opt/anaconda3/lib/python3.9/site-packages (from matplotlib) (1.21.5)\n",
      "Requirement already satisfied: pillow>=6.2.0 in /Users/zejuli/opt/anaconda3/lib/python3.9/site-packages (from matplotlib) (9.2.0)\n",
      "Requirement already satisfied: kiwisolver>=1.0.1 in /Users/zejuli/opt/anaconda3/lib/python3.9/site-packages (from matplotlib) (1.4.2)\n",
      "Requirement already satisfied: pyparsing>=2.2.1 in /Users/zejuli/opt/anaconda3/lib/python3.9/site-packages (from matplotlib) (3.0.9)\n",
      "Requirement already satisfied: six>=1.5 in /Users/zejuli/opt/anaconda3/lib/python3.9/site-packages (from python-dateutil>=2.7->matplotlib) (1.16.0)\n"
     ]
    },
    {
     "name": "stdout",
     "output_type": "stream",
     "text": [
      "Collecting seaborn==0.12\n",
      "  Using cached seaborn-0.12.0-py3-none-any.whl (285 kB)\n",
      "Requirement already satisfied: numpy>=1.17 in /Users/zejuli/opt/anaconda3/lib/python3.9/site-packages (from seaborn==0.12) (1.21.5)\n",
      "Requirement already satisfied: pandas>=0.25 in /Users/zejuli/opt/anaconda3/lib/python3.9/site-packages (from seaborn==0.12) (1.4.4)\n",
      "Requirement already satisfied: matplotlib>=3.1 in /Users/zejuli/opt/anaconda3/lib/python3.9/site-packages (from seaborn==0.12) (3.5.2)\n",
      "Requirement already satisfied: pillow>=6.2.0 in /Users/zejuli/opt/anaconda3/lib/python3.9/site-packages (from matplotlib>=3.1->seaborn==0.12) (9.2.0)\n",
      "Requirement already satisfied: cycler>=0.10 in /Users/zejuli/opt/anaconda3/lib/python3.9/site-packages (from matplotlib>=3.1->seaborn==0.12) (0.11.0)\n",
      "Requirement already satisfied: fonttools>=4.22.0 in /Users/zejuli/opt/anaconda3/lib/python3.9/site-packages (from matplotlib>=3.1->seaborn==0.12) (4.25.0)\n",
      "Requirement already satisfied: kiwisolver>=1.0.1 in /Users/zejuli/opt/anaconda3/lib/python3.9/site-packages (from matplotlib>=3.1->seaborn==0.12) (1.4.2)\n",
      "Requirement already satisfied: packaging>=20.0 in /Users/zejuli/opt/anaconda3/lib/python3.9/site-packages (from matplotlib>=3.1->seaborn==0.12) (21.3)\n",
      "Requirement already satisfied: python-dateutil>=2.7 in /Users/zejuli/opt/anaconda3/lib/python3.9/site-packages (from matplotlib>=3.1->seaborn==0.12) (2.8.2)\n",
      "Requirement already satisfied: pyparsing>=2.2.1 in /Users/zejuli/opt/anaconda3/lib/python3.9/site-packages (from matplotlib>=3.1->seaborn==0.12) (3.0.9)\n",
      "Requirement already satisfied: pytz>=2020.1 in /Users/zejuli/opt/anaconda3/lib/python3.9/site-packages (from pandas>=0.25->seaborn==0.12) (2022.1)\n",
      "Requirement already satisfied: six>=1.5 in /Users/zejuli/opt/anaconda3/lib/python3.9/site-packages (from python-dateutil>=2.7->matplotlib>=3.1->seaborn==0.12) (1.16.0)\n",
      "Installing collected packages: seaborn\n",
      "  Attempting uninstall: seaborn\n",
      "    Found existing installation: seaborn 0.11.2\n",
      "    Uninstalling seaborn-0.11.2:\n",
      "      Successfully uninstalled seaborn-0.11.2\n",
      "\u001b[31mERROR: pip's dependency resolver does not currently take into account all the packages that are installed. This behaviour is the source of the following dependency conflicts.\n",
      "statannotations 0.6.0 requires seaborn<0.12,>=0.9.0, but you have seaborn 0.12.0 which is incompatible.\u001b[0m\u001b[31m\n",
      "\u001b[0mSuccessfully installed seaborn-0.12.0\n"
     ]
    }
   ],
   "source": [
    "!pip install moval\n",
    "!pip install statannotations\n",
    "!pip install pandas\n",
    "!pip install tqdm\n",
    "!pip install matplotlib\n",
    "!pip install seaborn==0.12 # because statannotations not support the latest"
   ]
  },
  {
   "cell_type": "code",
   "execution_count": 2,
   "id": "e59b52b4-b5fe-469c-aa24-1449de534cae",
   "metadata": {},
   "outputs": [],
   "source": [
    "import os\n",
    "import gdown\n",
    "import itertools\n",
    "import zipfile\n",
    "import pandas as pd\n",
    "import numpy as np\n",
    "import moval\n",
    "from tqdm import tqdm\n",
    "import seaborn as sns\n",
    "import matplotlib.pyplot as plt"
   ]
  },
  {
   "cell_type": "code",
   "execution_count": 3,
   "id": "6977ce44-fe9b-4ee4-ba98-4bcb1cc406ec",
   "metadata": {},
   "outputs": [
    {
     "name": "stdout",
     "output_type": "stream",
     "text": [
      "The installed MOVAL verision is 0.1.20\n",
      "The installed seaborn verision is 0.12.0\n"
     ]
    }
   ],
   "source": [
    "print(f\"The installed MOVAL verision is {moval.__version__}\")\n",
    "print(f\"The installed seaborn verision is {sns.__version__}\")"
   ]
  },
  {
   "cell_type": "markdown",
   "id": "fe14651d-7f62-41dc-8aaf-dcdb4f80e4fd",
   "metadata": {},
   "source": [
    "## Load the data"
   ]
  },
  {
   "cell_type": "code",
   "execution_count": 4,
   "id": "f1dd6df0-d477-408c-96bb-3f560d4dc3d5",
   "metadata": {},
   "outputs": [],
   "source": [
    "# download the data, which we used for MICCAI 2022\n",
    "\n",
    "output = \"data_moval.zip\"\n",
    "if not os.path.exists(output):\n",
    "    url = \"https://drive.google.com/u/0/uc?id=139pqxkG2ccIFq6qNArnFJWQ2by2Spbxt&export=download\"\n",
    "    output = \"data_moval.zip\"\n",
    "    gdown.download(url, output, quiet=False)\n",
    "\n",
    "directory_data = \"data_moval\"\n",
    "if not os.path.exists(directory_data):\n",
    "    with zipfile.ZipFile(output, 'r') as zip_ref:\n",
    "        zip_ref.extractall(directory_data)"
   ]
  },
  {
   "cell_type": "code",
   "execution_count": 5,
   "id": "988c917a-97eb-4b9c-a5ab-5443cfe9e9d6",
   "metadata": {},
   "outputs": [
    {
     "name": "stdout",
     "output_type": "stream",
     "text": [
      "analysis_cls.ipynb    data_moval_supp.zip   \u001b[34mimg_cifar\u001b[m\u001b[m/\r\n",
      "analysis_seg2d.ipynb  estim_cls.ipynb       img_cifar.zip\r\n",
      "analysis_seg3d.ipynb  estim_seg2d.ipynb     \u001b[34mimg_prostate\u001b[m\u001b[m/\r\n",
      "\u001b[34mdata_moval\u001b[m\u001b[m/           estim_seg3d.ipynb     img_prostate.zip\r\n",
      "data_moval.zip        \u001b[34mimg_cardiac\u001b[m\u001b[m/\r\n",
      "\u001b[34mdata_moval_supp\u001b[m\u001b[m/      img_cardiac.zip\r\n"
     ]
    }
   ],
   "source": [
    "ls"
   ]
  },
  {
   "cell_type": "code",
   "execution_count": 6,
   "id": "ee78b79d-d4a4-4019-b011-39b2eb11d96d",
   "metadata": {},
   "outputs": [],
   "source": [
    "# now I am playing with cifar10 classification\n",
    "val_data =  \"data_moval/cifar10results/predictions_val.csv\"\n",
    "test_data = \"data_moval/cifar10results/predictions_val_motion_blur.csv\"\n",
    "# validation data\n",
    "cnn_pred = pd.read_csv(val_data)\n",
    "targets_all = np.array(cnn_pred[['target_0', 'target_1', 'target_2', 'target_3', 'target_4', \n",
    "                                 'target_5', 'target_6', 'target_7', 'target_8', 'target_9']])\n",
    "logits = np.array(cnn_pred[['logit_0', 'logit_1', 'logit_2', 'logit_3', 'logit_4', \n",
    "                               'logit_5', 'logit_6', 'logit_7', 'logit_8', 'logit_9']])\n",
    "gt = np.argmax(targets_all, axis = 1)\n",
    "# logits is of shape ``(n, d)``\n",
    "# gt is of shape ``(n, )``\n",
    "\n",
    "# test data\n",
    "cnn_pred_test = pd.read_csv(test_data)\n",
    "targets_all_test = np.array(cnn_pred_test[['target_0', 'target_1', 'target_2', 'target_3', 'target_4', \n",
    "                                           'target_5', 'target_6', 'target_7', 'target_8', 'target_9']])\n",
    "logits_test = np.array(cnn_pred_test[['logit_0', 'logit_1', 'logit_2', 'logit_3', 'logit_4', \n",
    "                                      'logit_5', 'logit_6', 'logit_7', 'logit_8', 'logit_9']])\n",
    "gt_test = np.argmax(targets_all_test, axis = 1)"
   ]
  },
  {
   "cell_type": "code",
   "execution_count": 7,
   "id": "c74fe922-256a-4ac6-b6cc-e126d8cf0d02",
   "metadata": {},
   "outputs": [],
   "source": [
    "# Here I want to split the test data such that they are not overlapped.\n",
    "import random\n",
    "random.seed(79)\n",
    "test_ind = list(range(10000))\n",
    "random.shuffle(test_ind)\n",
    "#\n",
    "val_ind = test_ind[:3000]\n",
    "testc_indx_1 = test_ind[3000:]\n",
    "testc_indx_2 = [x+10000 for x in test_ind[3000:]]\n",
    "testc_indx_3 = [x+20000 for x in test_ind[3000:]]\n",
    "testc_indx_4 = [x+30000 for x in test_ind[3000:]]\n",
    "testc_indx_5 = [x+40000 for x in test_ind[3000:]]\n",
    "testc_indxs = [testc_indx_1, testc_indx_2, testc_indx_3, testc_indx_4, testc_indx_5]\n",
    "#"
   ]
  },
  {
   "cell_type": "code",
   "execution_count": 8,
   "id": "cd0206ef-02a4-4f99-b27a-caf7eb62da83",
   "metadata": {},
   "outputs": [],
   "source": [
    "logits_val = logits[val_ind, :]\n",
    "gt_val = gt[val_ind]\n",
    "#\n",
    "logits_tests = []\n",
    "gt_tests = []\n",
    "#\n",
    "for testc_indx in testc_indxs:\n",
    "    #\n",
    "    logits_tests.append(logits_test[testc_indx, :])\n",
    "    gt_tests.append(gt_test[testc_indx])"
   ]
  },
  {
   "cell_type": "code",
   "execution_count": 9,
   "id": "891ccb3c-af2f-4d68-87bc-129630c4f6a4",
   "metadata": {},
   "outputs": [
    {
     "name": "stdout",
     "output_type": "stream",
     "text": [
      "The validation predictions, ``logits`` are of shape (n, d), which are now (3000, 10)\n",
      "The validation labels, ``gt`` are of shape (n, ), which are now (3000,)\n",
      "\n",
      "The number of test conditions is 5\n",
      "The test predictions, ``logits_test`` are of shape (n', d), which are now (7000, 10)\n",
      "The test labels, ``gt_test`` are of shape (n', ), which are now (7000,)\n"
     ]
    }
   ],
   "source": [
    "print(f\"The validation predictions, ``logits`` are of shape (n, d), which are now {logits_val.shape}\")\n",
    "print(f\"The validation labels, ``gt`` are of shape (n, ), which are now {gt_val.shape}\\n\")\n",
    "print(f\"The number of test conditions is {len(logits_tests)}\")\n",
    "print(f\"The test predictions, ``logits_test`` are of shape (n', d), which are now {logits_tests[0].shape}\")\n",
    "print(f\"The test labels, ``gt_test`` are of shape (n', ), which are now {gt_tests[0].shape}\")"
   ]
  },
  {
   "cell_type": "markdown",
   "id": "b530131b-feee-4cad-a54e-7acf506063db",
   "metadata": {},
   "source": [
    "## MOVAL estimation on accuracy"
   ]
  },
  {
   "cell_type": "code",
   "execution_count": 10,
   "id": "29c9b3f1-8d3e-4f0d-aacb-9cb362f6d5de",
   "metadata": {},
   "outputs": [],
   "source": [
    "moval_options = list(itertools.product(moval.models.get_estim_options(),\n",
    "                               [\"classification\"],\n",
    "                               moval.models.get_conf_options(),\n",
    "                               [False, True]))"
   ]
  },
  {
   "cell_type": "code",
   "execution_count": 11,
   "id": "c7ec3b5e-54da-49e0-bd53-c94ecf2b89f4",
   "metadata": {},
   "outputs": [],
   "source": [
    "# ac-model does not need class-speicfic variants\n",
    "for moval_option in moval_options:\n",
    "    if moval_option[0] == 'ac-model' and moval_option[-1] == True:\n",
    "        moval_options.remove(moval_option)"
   ]
  },
  {
   "cell_type": "code",
   "execution_count": 12,
   "id": "cdb30ae2-84e5-452a-8d8c-6795df9d30cf",
   "metadata": {},
   "outputs": [
    {
     "name": "stdout",
     "output_type": "stream",
     "text": [
      "The number of moval options is 36\n"
     ]
    }
   ],
   "source": [
    "print(f\"The number of moval options is {len(moval_options)}\")"
   ]
  },
  {
   "cell_type": "code",
   "execution_count": 13,
   "id": "f712cb2c-3abc-4da9-b1bc-055ee70f0120",
   "metadata": {},
   "outputs": [],
   "source": [
    "def test_cls(estim_algorithm, mode, metric, confidence_scores, class_specific, logits, gt, logits_tests, gt_tests):\n",
    "    \"\"\"Test MOVAL with different conditions for classification tasks\n",
    "        \n",
    "    Args:\n",
    "        mode (str): The given task to estimate model performance.\n",
    "        confidence_scores (str):\n",
    "            The method to calculate the confidence scores. We provide a list of confidence score calculation methods which \n",
    "            can be displayed by running :py:func:`moval.models.get_conf_options`.\n",
    "        estim_algorithm (str):\n",
    "            The algorithm to estimate model performance. We also provide a list of estimation algorithm which can be displayed by\n",
    "            running :py:func:`moval.models.get_estim_options`.\n",
    "        class_specific (bool):\n",
    "            If ``True``, the calculation will match class-wise confidence to class-wise accuracy.\n",
    "        logits: The network output (logits) of shape ``(n, d)`` for classification. \n",
    "        gt: The cooresponding annotation of shape ``(n, )`` for classification.\n",
    "        logits_tests:  A list of m test conditions ``(n', d)``.\n",
    "        gt_test: The cooresponding annotation of a list of m ``(n', )``.\n",
    "\n",
    "    Returns:\n",
    "        err_test: A list of m test err.\n",
    "        moval_model: Optimized moval model.\n",
    "\n",
    "    \"\"\"\n",
    "    \n",
    "    moval_model = moval.MOVAL(\n",
    "                mode = mode,\n",
    "                metric = metric,\n",
    "                confidence_scores = confidence_scores,\n",
    "                estim_algorithm = estim_algorithm,\n",
    "                class_specific = class_specific\n",
    "                )\n",
    "\n",
    "    #\n",
    "    moval_model.fit(logits, gt)\n",
    "\n",
    "    # save the test err in the result files.\n",
    "\n",
    "    err_tests = []\n",
    "    for k_test in range(len(logits_tests)):\n",
    "\n",
    "        _logits_test = logits_tests[k_test]\n",
    "        _gt_test = gt_tests[k_test]\n",
    "        \n",
    "        estim_acc_test = moval_model.estimate(_logits_test)\n",
    "        pred_test = np.argmax(_logits_test, axis = 1)\n",
    "        err_test = np.abs( np.sum(_gt_test == pred_test) / len(_gt_test) - estim_acc_test )\n",
    "        err_tests.append(err_test)\n",
    "\n",
    "    return err_tests, moval_model"
   ]
  },
  {
   "cell_type": "code",
   "execution_count": null,
   "id": "651dd91b",
   "metadata": {},
   "outputs": [],
   "source": []
  },
  {
   "cell_type": "code",
   "execution_count": null,
   "id": "d71ba732",
   "metadata": {},
   "outputs": [],
   "source": []
  },
  {
   "cell_type": "code",
   "execution_count": null,
   "id": "6b3fe43e",
   "metadata": {},
   "outputs": [],
   "source": []
  },
  {
   "cell_type": "code",
   "execution_count": 24,
   "id": "fb16960c",
   "metadata": {},
   "outputs": [
    {
     "data": {
      "text/plain": [
       "[('ac-model', 'classification', 'max_class_probability-conf', False),\n",
       " ('ac-model', 'classification', 'energy-conf', False),\n",
       " ('ac-model', 'classification', 'entropy-conf', False),\n",
       " ('ac-model', 'classification', 'doctor-conf', False),\n",
       " ('ts-model', 'classification', 'max_class_probability-conf', False),\n",
       " ('ts-model', 'classification', 'max_class_probability-conf', True),\n",
       " ('ts-model', 'classification', 'energy-conf', False),\n",
       " ('ts-model', 'classification', 'energy-conf', True),\n",
       " ('ts-model', 'classification', 'entropy-conf', False),\n",
       " ('ts-model', 'classification', 'entropy-conf', True),\n",
       " ('ts-model', 'classification', 'doctor-conf', False),\n",
       " ('ts-model', 'classification', 'doctor-conf', True),\n",
       " ('doc-model', 'classification', 'max_class_probability-conf', False),\n",
       " ('doc-model', 'classification', 'max_class_probability-conf', True),\n",
       " ('doc-model', 'classification', 'energy-conf', False),\n",
       " ('doc-model', 'classification', 'energy-conf', True),\n",
       " ('doc-model', 'classification', 'entropy-conf', False),\n",
       " ('doc-model', 'classification', 'entropy-conf', True),\n",
       " ('doc-model', 'classification', 'doctor-conf', False),\n",
       " ('doc-model', 'classification', 'doctor-conf', True),\n",
       " ('atc-model', 'classification', 'max_class_probability-conf', False),\n",
       " ('atc-model', 'classification', 'max_class_probability-conf', True),\n",
       " ('atc-model', 'classification', 'energy-conf', False),\n",
       " ('atc-model', 'classification', 'energy-conf', True),\n",
       " ('atc-model', 'classification', 'entropy-conf', False),\n",
       " ('atc-model', 'classification', 'entropy-conf', True),\n",
       " ('atc-model', 'classification', 'doctor-conf', False),\n",
       " ('atc-model', 'classification', 'doctor-conf', True),\n",
       " ('ts-atc-model', 'classification', 'max_class_probability-conf', False),\n",
       " ('ts-atc-model', 'classification', 'max_class_probability-conf', True),\n",
       " ('ts-atc-model', 'classification', 'energy-conf', False),\n",
       " ('ts-atc-model', 'classification', 'energy-conf', True),\n",
       " ('ts-atc-model', 'classification', 'entropy-conf', False),\n",
       " ('ts-atc-model', 'classification', 'entropy-conf', True),\n",
       " ('ts-atc-model', 'classification', 'doctor-conf', False),\n",
       " ('ts-atc-model', 'classification', 'doctor-conf', True)]"
      ]
     },
     "execution_count": 24,
     "metadata": {},
     "output_type": "execute_result"
    }
   ],
   "source": [
    "moval_options"
   ]
  },
  {
   "cell_type": "code",
   "execution_count": 39,
   "id": "5679891d",
   "metadata": {},
   "outputs": [],
   "source": [
    "moval_model = moval.MOVAL(\n",
    "                mode = 'classification',\n",
    "                metric = 'accuracy',\n",
    "                confidence_scores = 'energy-conf',\n",
    "                estim_algorithm = 'ts-model',\n",
    "                class_specific = False\n",
    "                )"
   ]
  },
  {
   "cell_type": "code",
   "execution_count": 41,
   "id": "0f0dab1c",
   "metadata": {},
   "outputs": [
    {
     "name": "stdout",
     "output_type": "stream",
     "text": [
      "Starting optimizing for model ts-model with confidence energy-conf based on metric accuracy, class specific is False.\n",
      "Opitimizing with 10000 samples...\n",
      "Not satisfied with initial optimization results of param, trying more initial states...\n",
      "Tried 1/5 times.\n",
      "Tried 2/5 times.\n",
      "Tried 3/5 times.\n",
      "Tried 4/5 times.\n",
      "Tried 5/5 times.\n",
      "Calculating and saving the fitted case-wise performance...\n"
     ]
    },
    {
     "data": {
      "text/html": [
       "<style>#sk-container-id-3 {color: black;}#sk-container-id-3 pre{padding: 0;}#sk-container-id-3 div.sk-toggleable {background-color: white;}#sk-container-id-3 label.sk-toggleable__label {cursor: pointer;display: block;width: 100%;margin-bottom: 0;padding: 0.3em;box-sizing: border-box;text-align: center;}#sk-container-id-3 label.sk-toggleable__label-arrow:before {content: \"▸\";float: left;margin-right: 0.25em;color: #696969;}#sk-container-id-3 label.sk-toggleable__label-arrow:hover:before {color: black;}#sk-container-id-3 div.sk-estimator:hover label.sk-toggleable__label-arrow:before {color: black;}#sk-container-id-3 div.sk-toggleable__content {max-height: 0;max-width: 0;overflow: hidden;text-align: left;background-color: #f0f8ff;}#sk-container-id-3 div.sk-toggleable__content pre {margin: 0.2em;color: black;border-radius: 0.25em;background-color: #f0f8ff;}#sk-container-id-3 input.sk-toggleable__control:checked~div.sk-toggleable__content {max-height: 200px;max-width: 100%;overflow: auto;}#sk-container-id-3 input.sk-toggleable__control:checked~label.sk-toggleable__label-arrow:before {content: \"▾\";}#sk-container-id-3 div.sk-estimator input.sk-toggleable__control:checked~label.sk-toggleable__label {background-color: #d4ebff;}#sk-container-id-3 div.sk-label input.sk-toggleable__control:checked~label.sk-toggleable__label {background-color: #d4ebff;}#sk-container-id-3 input.sk-hidden--visually {border: 0;clip: rect(1px 1px 1px 1px);clip: rect(1px, 1px, 1px, 1px);height: 1px;margin: -1px;overflow: hidden;padding: 0;position: absolute;width: 1px;}#sk-container-id-3 div.sk-estimator {font-family: monospace;background-color: #f0f8ff;border: 1px dotted black;border-radius: 0.25em;box-sizing: border-box;margin-bottom: 0.5em;}#sk-container-id-3 div.sk-estimator:hover {background-color: #d4ebff;}#sk-container-id-3 div.sk-parallel-item::after {content: \"\";width: 100%;border-bottom: 1px solid gray;flex-grow: 1;}#sk-container-id-3 div.sk-label:hover label.sk-toggleable__label {background-color: #d4ebff;}#sk-container-id-3 div.sk-serial::before {content: \"\";position: absolute;border-left: 1px solid gray;box-sizing: border-box;top: 0;bottom: 0;left: 50%;z-index: 0;}#sk-container-id-3 div.sk-serial {display: flex;flex-direction: column;align-items: center;background-color: white;padding-right: 0.2em;padding-left: 0.2em;position: relative;}#sk-container-id-3 div.sk-item {position: relative;z-index: 1;}#sk-container-id-3 div.sk-parallel {display: flex;align-items: stretch;justify-content: center;background-color: white;position: relative;}#sk-container-id-3 div.sk-item::before, #sk-container-id-3 div.sk-parallel-item::before {content: \"\";position: absolute;border-left: 1px solid gray;box-sizing: border-box;top: 0;bottom: 0;left: 50%;z-index: -1;}#sk-container-id-3 div.sk-parallel-item {display: flex;flex-direction: column;z-index: 1;position: relative;background-color: white;}#sk-container-id-3 div.sk-parallel-item:first-child::after {align-self: flex-end;width: 50%;}#sk-container-id-3 div.sk-parallel-item:last-child::after {align-self: flex-start;width: 50%;}#sk-container-id-3 div.sk-parallel-item:only-child::after {width: 0;}#sk-container-id-3 div.sk-dashed-wrapped {border: 1px dashed gray;margin: 0 0.4em 0.5em 0.4em;box-sizing: border-box;padding-bottom: 0.4em;background-color: white;}#sk-container-id-3 div.sk-label label {font-family: monospace;font-weight: bold;display: inline-block;line-height: 1.2em;}#sk-container-id-3 div.sk-label-container {text-align: center;}#sk-container-id-3 div.sk-container {/* jupyter's `normalize.less` sets `[hidden] { display: none; }` but bootstrap.min.css set `[hidden] { display: none !important; }` so we also need the `!important` here to be able to override the default hidden behavior on the sphinx rendered scikit-learn.org. See: https://github.com/scikit-learn/scikit-learn/issues/21755 */display: inline-block !important;position: relative;}#sk-container-id-3 div.sk-text-repr-fallback {display: none;}</style><div id=\"sk-container-id-3\" class=\"sk-top-container\"><div class=\"sk-text-repr-fallback\"><pre>MOVAL(confidence_scores=&#x27;energy-conf&#x27;, estim_algorithm=&#x27;ts-model&#x27;)</pre><b>In a Jupyter environment, please rerun this cell to show the HTML representation or trust the notebook. <br />On GitHub, the HTML representation is unable to render, please try loading this page with nbviewer.org.</b></div><div class=\"sk-container\" hidden><div class=\"sk-item\"><div class=\"sk-estimator sk-toggleable\"><input class=\"sk-toggleable__control sk-hidden--visually\" id=\"sk-estimator-id-3\" type=\"checkbox\" checked><label for=\"sk-estimator-id-3\" class=\"sk-toggleable__label sk-toggleable__label-arrow\">MOVAL</label><div class=\"sk-toggleable__content\"><pre>MOVAL(confidence_scores=&#x27;energy-conf&#x27;, estim_algorithm=&#x27;ts-model&#x27;)</pre></div></div></div></div></div>"
      ],
      "text/plain": [
       "MOVAL(confidence_scores='energy-conf', estim_algorithm='ts-model')"
      ]
     },
     "execution_count": 41,
     "metadata": {},
     "output_type": "execute_result"
    }
   ],
   "source": [
    "moval_model.fit(logits, gt)"
   ]
  },
  {
   "cell_type": "code",
   "execution_count": 52,
   "id": "40ef0305",
   "metadata": {},
   "outputs": [
    {
     "data": {
      "text/plain": [
       "array([10.])"
      ]
     },
     "execution_count": 52,
     "metadata": {},
     "output_type": "execute_result"
    }
   ],
   "source": [
    "moval_model.model_.param"
   ]
  },
  {
   "cell_type": "code",
   "execution_count": 83,
   "id": "fdfaa0b0",
   "metadata": {},
   "outputs": [
    {
     "data": {
      "text/plain": [
       "inf"
      ]
     },
     "execution_count": 83,
     "metadata": {},
     "output_type": "execute_result"
    }
   ],
   "source": [
    "moval_model.model_.max_value"
   ]
  },
  {
   "cell_type": "code",
   "execution_count": 84,
   "id": "2ffaa8a3",
   "metadata": {},
   "outputs": [
    {
     "data": {
      "text/plain": [
       "2.38830935328496"
      ]
     },
     "execution_count": 84,
     "metadata": {},
     "output_type": "execute_result"
    }
   ],
   "source": [
    "moval_model.model_.min_value"
   ]
  },
  {
   "cell_type": "code",
   "execution_count": 100,
   "id": "aea6efdc",
   "metadata": {},
   "outputs": [],
   "source": [
    "pred = np.argmax(logits, axis = 1)\n",
    "real_metric_val = np.sum(gt == pred) / len(gt)"
   ]
  },
  {
   "cell_type": "code",
   "execution_count": 101,
   "id": "25000bee",
   "metadata": {},
   "outputs": [
    {
     "data": {
      "text/plain": [
       "0.7054"
      ]
     },
     "execution_count": 101,
     "metadata": {},
     "output_type": "execute_result"
    }
   ],
   "source": [
    "real_metric_val"
   ]
  },
  {
   "cell_type": "code",
   "execution_count": 162,
   "id": "3147e5d7",
   "metadata": {},
   "outputs": [],
   "source": [
    "moval_model.model_.train()"
   ]
  },
  {
   "cell_type": "code",
   "execution_count": 163,
   "id": "6e82ef33",
   "metadata": {},
   "outputs": [],
   "source": [
    "estim_metric_val = moval_model.estimate(logits)"
   ]
  },
  {
   "cell_type": "code",
   "execution_count": 164,
   "id": "8fe5e49b",
   "metadata": {},
   "outputs": [
    {
     "data": {
      "text/plain": [
       "0.3046546034345739"
      ]
     },
     "execution_count": 164,
     "metadata": {},
     "output_type": "execute_result"
    }
   ],
   "source": [
    "estim_metric_val"
   ]
  },
  {
   "cell_type": "code",
   "execution_count": 161,
   "id": "cf2fb4e4",
   "metadata": {},
   "outputs": [],
   "source": [
    "moval_model.model_.param = np.ones(1)*1"
   ]
  },
  {
   "cell_type": "code",
   "execution_count": 40,
   "id": "e68fce99",
   "metadata": {},
   "outputs": [
    {
     "ename": "AttributeError",
     "evalue": "'MOVAL' object has no attribute 'n_dim_'",
     "output_type": "error",
     "traceback": [
      "\u001b[0;31m---------------------------------------------------------------------------\u001b[0m",
      "\u001b[0;31mAttributeError\u001b[0m                            Traceback (most recent call last)",
      "\u001b[0;32m/var/folders/nl/7_2jcxd12wb5z06jvsj1v4240000gn/T/ipykernel_69776/2857947216.py\u001b[0m in \u001b[0;36m<module>\u001b[0;34m\u001b[0m\n\u001b[0;32m----> 1\u001b[0;31m \u001b[0mestim_metric_val\u001b[0m \u001b[0;34m=\u001b[0m \u001b[0mmoval_model\u001b[0m\u001b[0;34m.\u001b[0m\u001b[0mestimate\u001b[0m\u001b[0;34m(\u001b[0m\u001b[0mlogits\u001b[0m\u001b[0;34m)\u001b[0m\u001b[0;34m\u001b[0m\u001b[0;34m\u001b[0m\u001b[0m\n\u001b[0m",
      "\u001b[0;32m~/opt/anaconda3/lib/python3.9/site-packages/moval/integrations/sklearn/moval.py\u001b[0m in \u001b[0;36mestimate\u001b[0;34m(self, logits, gt_guide)\u001b[0m\n\u001b[1;32m    434\u001b[0m \u001b[0;34m\u001b[0m\u001b[0m\n\u001b[1;32m    435\u001b[0m         \u001b[0;32mif\u001b[0m \u001b[0mself\u001b[0m\u001b[0;34m.\u001b[0m\u001b[0mmetric\u001b[0m \u001b[0;34m==\u001b[0m \u001b[0;34m\"accuracy\"\u001b[0m\u001b[0;34m:\u001b[0m\u001b[0;34m\u001b[0m\u001b[0;34m\u001b[0m\u001b[0m\n\u001b[0;32m--> 436\u001b[0;31m             \u001b[0;32mreturn\u001b[0m \u001b[0mself\u001b[0m\u001b[0;34m.\u001b[0m\u001b[0mestimate_accuracy\u001b[0m\u001b[0;34m(\u001b[0m\u001b[0mlogits\u001b[0m\u001b[0;34m,\u001b[0m \u001b[0mgt_guide\u001b[0m\u001b[0;34m)\u001b[0m\u001b[0;34m\u001b[0m\u001b[0;34m\u001b[0m\u001b[0m\n\u001b[0m\u001b[1;32m    437\u001b[0m         \u001b[0;32melif\u001b[0m \u001b[0mself\u001b[0m\u001b[0;34m.\u001b[0m\u001b[0mmetric\u001b[0m \u001b[0;34m==\u001b[0m \u001b[0;34m\"sensitivity\"\u001b[0m\u001b[0;34m:\u001b[0m\u001b[0;34m\u001b[0m\u001b[0;34m\u001b[0m\u001b[0m\n\u001b[1;32m    438\u001b[0m             \u001b[0;32mreturn\u001b[0m \u001b[0mself\u001b[0m\u001b[0;34m.\u001b[0m\u001b[0mestimate_sensitivity\u001b[0m\u001b[0;34m(\u001b[0m\u001b[0mlogits\u001b[0m\u001b[0;34m,\u001b[0m \u001b[0mgt_guide\u001b[0m\u001b[0;34m)\u001b[0m\u001b[0;34m\u001b[0m\u001b[0;34m\u001b[0m\u001b[0m\n",
      "\u001b[0;32m~/opt/anaconda3/lib/python3.9/site-packages/moval/integrations/sklearn/moval.py\u001b[0m in \u001b[0;36mestimate_accuracy\u001b[0;34m(self, logits, gt_guide)\u001b[0m\n\u001b[1;32m    508\u001b[0m         \u001b[0;31m# Input validation\u001b[0m\u001b[0;34m\u001b[0m\u001b[0;34m\u001b[0m\u001b[0m\n\u001b[1;32m    509\u001b[0m         \u001b[0;32mif\u001b[0m \u001b[0mself\u001b[0m\u001b[0;34m.\u001b[0m\u001b[0mmode\u001b[0m \u001b[0;34m==\u001b[0m \u001b[0;34m\"classification\"\u001b[0m\u001b[0;34m:\u001b[0m\u001b[0;34m\u001b[0m\u001b[0;34m\u001b[0m\u001b[0m\n\u001b[0;32m--> 510\u001b[0;31m             \u001b[0;32mif\u001b[0m \u001b[0mself\u001b[0m\u001b[0;34m.\u001b[0m\u001b[0mn_dim_\u001b[0m \u001b[0;34m!=\u001b[0m \u001b[0mlen\u001b[0m\u001b[0;34m(\u001b[0m\u001b[0mlogits\u001b[0m\u001b[0;34m.\u001b[0m\u001b[0mshape\u001b[0m\u001b[0;34m)\u001b[0m\u001b[0;34m:\u001b[0m\u001b[0;34m\u001b[0m\u001b[0;34m\u001b[0m\u001b[0m\n\u001b[0m\u001b[1;32m    511\u001b[0m                 raise ValueError(\n\u001b[1;32m    512\u001b[0m                         \u001b[0;34mf\"Inconsistent input dimension: training and test samples have different dimenstions\"\u001b[0m\u001b[0;34m\u001b[0m\u001b[0;34m\u001b[0m\u001b[0m\n",
      "\u001b[0;31mAttributeError\u001b[0m: 'MOVAL' object has no attribute 'n_dim_'"
     ]
    }
   ],
   "source": [
    "estim_metric_val = moval_model.estimate(logits)"
   ]
  },
  {
   "cell_type": "code",
   "execution_count": 38,
   "id": "8ffc3b7a",
   "metadata": {},
   "outputs": [
    {
     "data": {
      "text/plain": [
       "0.0"
      ]
     },
     "execution_count": 38,
     "metadata": {},
     "output_type": "execute_result"
    }
   ],
   "source": [
    "estim_metric_val"
   ]
  },
  {
   "cell_type": "code",
   "execution_count": null,
   "id": "a9a82b01",
   "metadata": {},
   "outputs": [],
   "source": []
  },
  {
   "cell_type": "code",
   "execution_count": null,
   "id": "b7d557c7",
   "metadata": {},
   "outputs": [],
   "source": []
  },
  {
   "cell_type": "code",
   "execution_count": null,
   "id": "59888770",
   "metadata": {},
   "outputs": [],
   "source": []
  },
  {
   "cell_type": "code",
   "execution_count": null,
   "id": "573d27ad",
   "metadata": {},
   "outputs": [],
   "source": []
  },
  {
   "cell_type": "code",
   "execution_count": 14,
   "id": "5d464f40-8cf5-45ca-a006-6cd1eeaa402a",
   "metadata": {},
   "outputs": [],
   "source": [
    "err_test_list = []\n",
    "moval_parameters = []\n",
    "moval_parameters_ = []"
   ]
  },
  {
   "cell_type": "code",
   "execution_count": 15,
   "id": "02be912a-16dc-4bd2-9476-3ab798ac41d4",
   "metadata": {
    "scrolled": true
   },
   "outputs": [
    {
     "name": "stderr",
     "output_type": "stream",
     "text": [
      "  0%|                                                                                                                                      | 0/36 [00:00<?, ?it/s]/Users/zejuli/opt/anaconda3/lib/python3.9/site-packages/numpy/core/fromnumeric.py:3440: RuntimeWarning: Mean of empty slice.\n",
      "  return _methods._mean(a, axis=axis, dtype=dtype,\n",
      "/Users/zejuli/opt/anaconda3/lib/python3.9/site-packages/numpy/core/_methods.py:189: RuntimeWarning: invalid value encountered in double_scalars\n",
      "  ret = ret.dtype.type(ret / rcount)\n"
     ]
    },
    {
     "name": "stdout",
     "output_type": "stream",
     "text": [
      "Starting optimizing for model ac-model with confidence max_class_probability-conf based on metric accuracy, class specific is False.\n",
      "Calculating and saving the fitted case-wise performance...\n"
     ]
    },
    {
     "name": "stderr",
     "output_type": "stream",
     "text": [
      "\r",
      "  3%|███▌                                                                                                                          | 1/36 [00:00<00:14,  2.45it/s]"
     ]
    },
    {
     "name": "stdout",
     "output_type": "stream",
     "text": [
      "Starting optimizing for model ac-model with confidence energy-conf based on metric accuracy, class specific is False.\n",
      "Calculating and saving the fitted case-wise performance...\n"
     ]
    },
    {
     "name": "stderr",
     "output_type": "stream",
     "text": [
      "\r",
      "  6%|███████                                                                                                                       | 2/36 [00:00<00:13,  2.55it/s]"
     ]
    },
    {
     "name": "stdout",
     "output_type": "stream",
     "text": [
      "Starting optimizing for model ac-model with confidence entropy-conf based on metric accuracy, class specific is False.\n",
      "Calculating and saving the fitted case-wise performance...\n"
     ]
    },
    {
     "name": "stderr",
     "output_type": "stream",
     "text": [
      "\r",
      "  8%|██████████▌                                                                                                                   | 3/36 [00:01<00:14,  2.34it/s]"
     ]
    },
    {
     "name": "stdout",
     "output_type": "stream",
     "text": [
      "Starting optimizing for model ac-model with confidence doctor-conf based on metric accuracy, class specific is False.\n",
      "Calculating and saving the fitted case-wise performance...\n"
     ]
    },
    {
     "name": "stderr",
     "output_type": "stream",
     "text": [
      "\r",
      " 11%|██████████████                                                                                                                | 4/36 [00:01<00:13,  2.33it/s]"
     ]
    },
    {
     "name": "stdout",
     "output_type": "stream",
     "text": [
      "Starting optimizing for model ts-model with confidence max_class_probability-conf based on metric accuracy, class specific is False.\n",
      "Opitimizing with 3000 samples...\n",
      "Calculating and saving the fitted case-wise performance...\n"
     ]
    },
    {
     "name": "stderr",
     "output_type": "stream",
     "text": [
      "\r",
      " 14%|█████████████████▌                                                                                                            | 5/36 [00:02<00:13,  2.28it/s]"
     ]
    },
    {
     "name": "stdout",
     "output_type": "stream",
     "text": [
      "Starting optimizing for model ts-model with confidence max_class_probability-conf based on metric accuracy, class specific is True.\n",
      "Opitimizing with 3000 samples...\n",
      "Not satisfied with initial optimization results of param for class 0, trying more initial states...\n",
      "Tried 1/5 times.\n",
      "Tried 2/5 times.\n",
      "Tried 3/5 times.\n",
      "Tried 4/5 times.\n",
      "Tried 5/5 times.\n",
      "Not satisfied with initial optimization results of param for class 3, trying more initial states...\n",
      "Tried 1/5 times.\n",
      "Tried 2/5 times.\n",
      "Tried 3/5 times.\n",
      "Tried 4/5 times.\n",
      "Tried 5/5 times.\n",
      "Not satisfied with initial optimization results of param for class 1, trying more initial states...\n",
      "Tried 1/5 times.\n",
      "Tried 2/5 times.\n",
      "Tried 3/5 times.\n",
      "Tried 4/5 times.\n",
      "Tried 5/5 times.\n",
      "Not satisfied with initial optimization results of param for class 2, trying more initial states...\n",
      "Tried 1/5 times.\n",
      "Tried 2/5 times.\n",
      "Tried 3/5 times.\n",
      "Tried 4/5 times.\n",
      "Tried 5/5 times.\n",
      "Not satisfied with initial optimization results of param for class 4, trying more initial states...\n",
      "Tried 1/5 times.\n",
      "Tried 2/5 times.\n",
      "Tried 3/5 times.\n",
      "Tried 4/5 times.\n",
      "Tried 5/5 times.\n",
      "Not satisfied with initial optimization results of param for class 5, trying more initial states...\n",
      "Tried 1/5 times.\n",
      "Tried 2/5 times.\n",
      "Tried 3/5 times.\n",
      "Tried 4/5 times.\n",
      "Tried 5/5 times.\n",
      "Not satisfied with initial optimization results of param for class 6, trying more initial states...\n",
      "Tried 1/5 times.\n",
      "Tried 2/5 times.\n",
      "Tried 3/5 times.\n",
      "Tried 4/5 times.\n",
      "Tried 5/5 times.\n",
      "Not satisfied with initial optimization results of param for class 7, trying more initial states...\n",
      "Tried 1/5 times.\n",
      "Tried 2/5 times.\n",
      "Tried 3/5 times.\n",
      "Tried 4/5 times.\n",
      "Tried 5/5 times.\n",
      "Calculating and saving the fitted case-wise performance...\n"
     ]
    },
    {
     "name": "stderr",
     "output_type": "stream",
     "text": [
      " 17%|█████████████████████                                                                                                         | 6/36 [00:07<01:01,  2.06s/it]/Users/zejuli/opt/anaconda3/lib/python3.9/site-packages/moval/models/utils.py:39: RuntimeWarning: overflow encountered in exp\n",
      "  denominator = np.sum(np.exp(x.transpose() / T), axis=0)\n",
      "/Users/zejuli/opt/anaconda3/lib/python3.9/site-packages/moval/models/model.py:157: RuntimeWarning: invalid value encountered in subtract\n",
      "  normalized_scores = (scores - self.min_value) / (self.max_value - self.min_value + e1)\n",
      "/Users/zejuli/opt/anaconda3/lib/python3.9/site-packages/moval/models/model.py:157: RuntimeWarning: invalid value encountered in double_scalars\n",
      "  normalized_scores = (scores - self.min_value) / (self.max_value - self.min_value + e1)\n",
      "/Users/zejuli/opt/anaconda3/lib/python3.9/site-packages/moval/models/model.py:157: RuntimeWarning: invalid value encountered in true_divide\n",
      "  normalized_scores = (scores - self.min_value) / (self.max_value - self.min_value + e1)\n"
     ]
    },
    {
     "name": "stdout",
     "output_type": "stream",
     "text": [
      "Starting optimizing for model ts-model with confidence energy-conf based on metric accuracy, class specific is False.\n",
      "Opitimizing with 3000 samples...\n",
      "Not satisfied with initial optimization results of param, trying more initial states...\n",
      "Tried 1/5 times.\n",
      "Tried 2/5 times.\n",
      "Tried 3/5 times.\n",
      "Tried 4/5 times.\n",
      "Tried 5/5 times.\n",
      "Calculating and saving the fitted case-wise performance...\n"
     ]
    },
    {
     "name": "stderr",
     "output_type": "stream",
     "text": [
      "\r",
      " 19%|████████████████████████▌                                                                                                     | 7/36 [00:08<00:46,  1.62s/it]"
     ]
    },
    {
     "name": "stdout",
     "output_type": "stream",
     "text": [
      "Starting optimizing for model ts-model with confidence energy-conf based on metric accuracy, class specific is True.\n",
      "Opitimizing with 3000 samples...\n",
      "Not satisfied with initial optimization results of param for class 0, trying more initial states...\n",
      "Tried 1/5 times.\n",
      "Tried 2/5 times.\n",
      "Tried 3/5 times.\n",
      "Tried 4/5 times.\n",
      "Tried 5/5 times.\n",
      "Not satisfied with initial optimization results of param for class 3, trying more initial states...\n",
      "Tried 1/5 times.\n",
      "Tried 2/5 times.\n",
      "Tried 3/5 times.\n",
      "Tried 4/5 times.\n",
      "Tried 5/5 times.\n",
      "Not satisfied with initial optimization results of param for class 1, trying more initial states...\n",
      "Tried 1/5 times.\n",
      "Tried 2/5 times.\n",
      "Tried 3/5 times.\n",
      "Tried 4/5 times.\n",
      "Tried 5/5 times.\n",
      "Not satisfied with initial optimization results of param for class 2, trying more initial states...\n",
      "Tried 1/5 times.\n",
      "Tried 2/5 times.\n",
      "Tried 3/5 times.\n",
      "Tried 4/5 times.\n",
      "Tried 5/5 times.\n",
      "Not satisfied with initial optimization results of param for class 4, trying more initial states...\n",
      "Tried 1/5 times.\n",
      "Tried 2/5 times.\n",
      "Tried 3/5 times.\n",
      "Tried 4/5 times.\n",
      "Tried 5/5 times.\n",
      "Not satisfied with initial optimization results of param for class 5, trying more initial states...\n",
      "Tried 1/5 times.\n",
      "Tried 2/5 times.\n",
      "Tried 3/5 times.\n",
      "Tried 4/5 times.\n",
      "Tried 5/5 times.\n",
      "Not satisfied with initial optimization results of param for class 6, trying more initial states...\n",
      "Tried 1/5 times.\n",
      "Tried 2/5 times.\n",
      "Tried 3/5 times.\n",
      "Tried 4/5 times.\n",
      "Tried 5/5 times.\n",
      "Not satisfied with initial optimization results of param for class 7, trying more initial states...\n",
      "Tried 1/5 times.\n",
      "Tried 2/5 times.\n",
      "Tried 3/5 times.\n",
      "Tried 4/5 times.\n",
      "Tried 5/5 times.\n",
      "Not satisfied with initial optimization results of param for class 9, trying more initial states...\n",
      "Tried 1/5 times.\n",
      "Tried 2/5 times.\n",
      "Tried 3/5 times.\n",
      "Tried 4/5 times.\n",
      "Tried 5/5 times.\n",
      "Not satisfied with initial optimization results of param for class 8, trying more initial states...\n",
      "Tried 1/5 times.\n",
      "Tried 2/5 times.\n",
      "Tried 3/5 times.\n",
      "Tried 4/5 times.\n",
      "Tried 5/5 times.\n",
      "Calculating and saving the fitted case-wise performance...\n"
     ]
    },
    {
     "name": "stderr",
     "output_type": "stream",
     "text": [
      "\r",
      " 22%|████████████████████████████                                                                                                  | 8/36 [00:13<01:16,  2.72s/it]"
     ]
    },
    {
     "name": "stdout",
     "output_type": "stream",
     "text": [
      "Starting optimizing for model ts-model with confidence entropy-conf based on metric accuracy, class specific is False.\n",
      "Opitimizing with 3000 samples...\n",
      "Calculating and saving the fitted case-wise performance...\n"
     ]
    },
    {
     "name": "stderr",
     "output_type": "stream",
     "text": [
      "\r",
      " 25%|███████████████████████████████▌                                                                                              | 9/36 [00:13<00:54,  2.03s/it]"
     ]
    },
    {
     "name": "stdout",
     "output_type": "stream",
     "text": [
      "Starting optimizing for model ts-model with confidence entropy-conf based on metric accuracy, class specific is True.\n",
      "Opitimizing with 3000 samples...\n",
      "Not satisfied with initial optimization results of param for class 0, trying more initial states...\n",
      "Tried 1/5 times.\n",
      "Tried 2/5 times.\n",
      "Tried 3/5 times.\n",
      "Tried 4/5 times.\n",
      "Tried 5/5 times.\n",
      "Not satisfied with initial optimization results of param for class 3, trying more initial states...\n",
      "Tried 1/5 times.\n",
      "Tried 2/5 times.\n",
      "Tried 3/5 times.\n",
      "Tried 4/5 times.\n",
      "Tried 5/5 times.\n",
      "Not satisfied with initial optimization results of param for class 1, trying more initial states...\n",
      "Tried 1/5 times.\n",
      "Tried 2/5 times.\n",
      "Tried 3/5 times.\n",
      "Tried 4/5 times.\n",
      "Tried 5/5 times.\n",
      "Not satisfied with initial optimization results of param for class 2, trying more initial states...\n",
      "Tried 1/5 times.\n",
      "Tried 2/5 times.\n",
      "Tried 3/5 times.\n",
      "Tried 4/5 times.\n",
      "Tried 5/5 times.\n",
      "Not satisfied with initial optimization results of param for class 4, trying more initial states...\n",
      "Tried 1/5 times.\n",
      "Tried 2/5 times.\n",
      "Tried 3/5 times.\n",
      "Tried 4/5 times.\n",
      "Tried 5/5 times.\n",
      "Not satisfied with initial optimization results of param for class 5, trying more initial states...\n",
      "Tried 1/5 times.\n",
      "Tried 2/5 times.\n",
      "Tried 3/5 times.\n",
      "Tried 4/5 times.\n",
      "Tried 5/5 times.\n",
      "Not satisfied with initial optimization results of param for class 6, trying more initial states...\n",
      "Tried 1/5 times.\n",
      "Tried 2/5 times.\n",
      "Tried 3/5 times.\n",
      "Tried 4/5 times.\n",
      "Tried 5/5 times.\n",
      "Not satisfied with initial optimization results of param for class 7, trying more initial states...\n",
      "Tried 1/5 times.\n",
      "Tried 2/5 times.\n",
      "Tried 3/5 times.\n",
      "Tried 4/5 times.\n",
      "Tried 5/5 times.\n"
     ]
    },
    {
     "name": "stderr",
     "output_type": "stream",
     "text": [
      "\r",
      " 28%|██████████████████████████████████▋                                                                                          | 10/36 [00:20<01:29,  3.43s/it]"
     ]
    },
    {
     "name": "stdout",
     "output_type": "stream",
     "text": [
      "Calculating and saving the fitted case-wise performance...\n",
      "Starting optimizing for model ts-model with confidence doctor-conf based on metric accuracy, class specific is False.\n",
      "Opitimizing with 3000 samples...\n",
      "Calculating and saving the fitted case-wise performance...\n"
     ]
    },
    {
     "name": "stderr",
     "output_type": "stream",
     "text": [
      "\r",
      " 31%|██████████████████████████████████████▏                                                                                      | 11/36 [00:20<01:03,  2.54s/it]"
     ]
    },
    {
     "name": "stdout",
     "output_type": "stream",
     "text": [
      "Starting optimizing for model ts-model with confidence doctor-conf based on metric accuracy, class specific is True.\n",
      "Opitimizing with 3000 samples...\n",
      "Not satisfied with initial optimization results of param for class 0, trying more initial states...\n",
      "Tried 1/5 times.\n",
      "Tried 2/5 times.\n",
      "Tried 3/5 times.\n",
      "Tried 4/5 times.\n",
      "Tried 5/5 times.\n",
      "Not satisfied with initial optimization results of param for class 3, trying more initial states...\n",
      "Tried 1/5 times.\n",
      "Tried 2/5 times.\n",
      "Tried 3/5 times.\n",
      "Tried 4/5 times.\n",
      "Tried 5/5 times.\n",
      "Not satisfied with initial optimization results of param for class 1, trying more initial states...\n",
      "Tried 1/5 times.\n",
      "Tried 2/5 times.\n",
      "Tried 3/5 times.\n",
      "Tried 4/5 times.\n",
      "Tried 5/5 times.\n",
      "Not satisfied with initial optimization results of param for class 2, trying more initial states...\n",
      "Tried 1/5 times.\n",
      "Tried 2/5 times.\n",
      "Tried 3/5 times.\n",
      "Tried 4/5 times.\n",
      "Tried 5/5 times.\n",
      "Not satisfied with initial optimization results of param for class 4, trying more initial states...\n",
      "Tried 1/5 times.\n",
      "Tried 2/5 times.\n",
      "Tried 3/5 times.\n",
      "Tried 4/5 times.\n",
      "Tried 5/5 times.\n",
      "Not satisfied with initial optimization results of param for class 5, trying more initial states...\n",
      "Tried 1/5 times.\n",
      "Tried 2/5 times.\n",
      "Tried 3/5 times.\n",
      "Tried 4/5 times.\n",
      "Tried 5/5 times.\n",
      "Calculating and saving the fitted case-wise performance...\n"
     ]
    },
    {
     "name": "stderr",
     "output_type": "stream",
     "text": [
      "\r",
      " 33%|█████████████████████████████████████████▋                                                                                   | 12/36 [00:25<01:15,  3.16s/it]"
     ]
    },
    {
     "name": "stdout",
     "output_type": "stream",
     "text": [
      "Starting optimizing for model doc-model with confidence max_class_probability-conf based on metric accuracy, class specific is False.\n",
      "Opitimizing with 3000 samples...\n",
      "Calculating and saving the fitted case-wise performance...\n"
     ]
    },
    {
     "name": "stderr",
     "output_type": "stream",
     "text": [
      "\r",
      " 36%|█████████████████████████████████████████████▏                                                                               | 13/36 [00:25<00:53,  2.34s/it]"
     ]
    },
    {
     "name": "stdout",
     "output_type": "stream",
     "text": [
      "Starting optimizing for model doc-model with confidence max_class_probability-conf based on metric accuracy, class specific is True.\n",
      "Opitimizing with 3000 samples...\n",
      "Not satisfied with initial optimization results of param for class 0, trying more initial states...\n",
      "Tried 1/5 times.\n",
      "Tried 2/5 times.\n",
      "Tried 3/5 times.\n",
      "Tried 4/5 times.\n",
      "Tried 5/5 times.\n",
      "Not satisfied with initial optimization results of param for class 3, trying more initial states...\n",
      "Tried 1/5 times.\n",
      "Tried 2/5 times.\n",
      "Tried 3/5 times.\n",
      "Tried 4/5 times.\n",
      "Tried 5/5 times.\n",
      "Not satisfied with initial optimization results of param for class 1, trying more initial states...\n",
      "Tried 1/5 times.\n",
      "Tried 2/5 times.\n",
      "Tried 3/5 times.\n",
      "Tried 4/5 times.\n",
      "Tried 5/5 times.\n",
      "Not satisfied with initial optimization results of param for class 2, trying more initial states...\n",
      "Tried 1/5 times.\n",
      "Tried 2/5 times.\n",
      "Tried 3/5 times.\n",
      "Tried 4/5 times.\n",
      "Tried 5/5 times.\n",
      "Not satisfied with initial optimization results of param for class 4, trying more initial states...\n",
      "Tried 1/5 times.\n",
      "Tried 2/5 times.\n",
      "Tried 3/5 times.\n",
      "Tried 4/5 times.\n",
      "Tried 5/5 times.\n",
      "Not satisfied with initial optimization results of param for class 5, trying more initial states...\n",
      "Tried 1/5 times.\n",
      "Tried 2/5 times.\n",
      "Tried 3/5 times.\n",
      "Tried 4/5 times.\n",
      "Tried 5/5 times.\n",
      "Not satisfied with initial optimization results of param for class 6, trying more initial states...\n",
      "Tried 1/5 times.\n",
      "Tried 2/5 times.\n",
      "Tried 3/5 times.\n",
      "Tried 4/5 times.\n",
      "Tried 5/5 times.\n",
      "Not satisfied with initial optimization results of param for class 7, trying more initial states...\n",
      "Tried 1/5 times.\n",
      "Tried 2/5 times.\n",
      "Tried 3/5 times.\n",
      "Tried 4/5 times.\n",
      "Tried 5/5 times.\n",
      "Calculating and saving the fitted case-wise performance...\n"
     ]
    },
    {
     "name": "stderr",
     "output_type": "stream",
     "text": [
      "\r",
      " 39%|████████████████████████████████████████████████▌                                                                            | 14/36 [00:30<01:04,  2.95s/it]"
     ]
    },
    {
     "name": "stdout",
     "output_type": "stream",
     "text": [
      "Starting optimizing for model doc-model with confidence energy-conf based on metric accuracy, class specific is False.\n",
      "Opitimizing with 3000 samples...\n",
      "Calculating and saving the fitted case-wise performance...\n"
     ]
    },
    {
     "name": "stderr",
     "output_type": "stream",
     "text": [
      "\r",
      " 42%|████████████████████████████████████████████████████                                                                         | 15/36 [00:30<00:46,  2.19s/it]"
     ]
    },
    {
     "name": "stdout",
     "output_type": "stream",
     "text": [
      "Starting optimizing for model doc-model with confidence energy-conf based on metric accuracy, class specific is True.\n",
      "Opitimizing with 3000 samples...\n",
      "Not satisfied with initial optimization results of param for class 0, trying more initial states...\n",
      "Tried 1/5 times.\n",
      "Tried 2/5 times.\n",
      "Tried 3/5 times.\n",
      "Tried 4/5 times.\n",
      "Tried 5/5 times.\n",
      "Not satisfied with initial optimization results of param for class 3, trying more initial states...\n",
      "Tried 1/5 times.\n",
      "Tried 2/5 times.\n",
      "Tried 3/5 times.\n",
      "Tried 4/5 times.\n",
      "Tried 5/5 times.\n",
      "Not satisfied with initial optimization results of param for class 1, trying more initial states...\n",
      "Tried 1/5 times.\n",
      "Tried 2/5 times.\n",
      "Tried 3/5 times.\n",
      "Tried 4/5 times.\n",
      "Tried 5/5 times.\n",
      "Not satisfied with initial optimization results of param for class 2, trying more initial states...\n",
      "Tried 1/5 times.\n",
      "Tried 2/5 times.\n",
      "Tried 3/5 times.\n",
      "Tried 4/5 times.\n",
      "Tried 5/5 times.\n",
      "Not satisfied with initial optimization results of param for class 4, trying more initial states...\n",
      "Tried 1/5 times.\n",
      "Tried 2/5 times.\n",
      "Tried 3/5 times.\n",
      "Tried 4/5 times.\n",
      "Tried 5/5 times.\n",
      "Not satisfied with initial optimization results of param for class 5, trying more initial states...\n",
      "Tried 1/5 times.\n",
      "Tried 2/5 times.\n",
      "Tried 3/5 times.\n",
      "Tried 4/5 times.\n",
      "Tried 5/5 times.\n",
      "Not satisfied with initial optimization results of param for class 6, trying more initial states...\n",
      "Tried 1/5 times.\n",
      "Tried 2/5 times.\n",
      "Tried 3/5 times.\n",
      "Tried 4/5 times.\n",
      "Tried 5/5 times.\n",
      "Not satisfied with initial optimization results of param for class 7, trying more initial states...\n",
      "Tried 1/5 times.\n",
      "Tried 2/5 times.\n",
      "Tried 3/5 times.\n",
      "Tried 4/5 times.\n",
      "Tried 5/5 times.\n",
      "Not satisfied with initial optimization results of param for class 9, trying more initial states...\n",
      "Tried 1/5 times.\n",
      "Tried 2/5 times.\n",
      "Tried 3/5 times.\n",
      "Tried 4/5 times.\n",
      "Tried 5/5 times.\n",
      "Calculating and saving the fitted case-wise performance...\n"
     ]
    },
    {
     "name": "stderr",
     "output_type": "stream",
     "text": [
      "\r",
      " 44%|███████████████████████████████████████████████████████▌                                                                     | 16/36 [00:33<00:46,  2.33s/it]"
     ]
    },
    {
     "name": "stdout",
     "output_type": "stream",
     "text": [
      "Starting optimizing for model doc-model with confidence entropy-conf based on metric accuracy, class specific is False.\n",
      "Opitimizing with 3000 samples...\n",
      "Calculating and saving the fitted case-wise performance...\n"
     ]
    },
    {
     "name": "stderr",
     "output_type": "stream",
     "text": [
      "\r",
      " 47%|███████████████████████████████████████████████████████████                                                                  | 17/36 [00:33<00:34,  1.80s/it]"
     ]
    },
    {
     "name": "stdout",
     "output_type": "stream",
     "text": [
      "Starting optimizing for model doc-model with confidence entropy-conf based on metric accuracy, class specific is True.\n",
      "Opitimizing with 3000 samples...\n",
      "Not satisfied with initial optimization results of param for class 0, trying more initial states...\n",
      "Tried 1/5 times.\n",
      "Tried 2/5 times.\n",
      "Tried 3/5 times.\n",
      "Tried 4/5 times.\n",
      "Tried 5/5 times.\n",
      "Not satisfied with initial optimization results of param for class 3, trying more initial states...\n",
      "Tried 1/5 times.\n",
      "Tried 2/5 times.\n",
      "Tried 3/5 times.\n",
      "Tried 4/5 times.\n",
      "Tried 5/5 times.\n",
      "Not satisfied with initial optimization results of param for class 1, trying more initial states...\n",
      "Tried 1/5 times.\n",
      "Tried 2/5 times.\n",
      "Tried 3/5 times.\n",
      "Tried 4/5 times.\n",
      "Tried 5/5 times.\n",
      "Not satisfied with initial optimization results of param for class 2, trying more initial states...\n",
      "Tried 1/5 times.\n",
      "Tried 2/5 times.\n",
      "Tried 3/5 times.\n",
      "Tried 4/5 times.\n",
      "Tried 5/5 times.\n",
      "Not satisfied with initial optimization results of param for class 4, trying more initial states...\n",
      "Tried 1/5 times.\n",
      "Tried 2/5 times.\n",
      "Tried 3/5 times.\n",
      "Tried 4/5 times.\n",
      "Tried 5/5 times.\n",
      "Not satisfied with initial optimization results of param for class 5, trying more initial states...\n",
      "Tried 1/5 times.\n",
      "Tried 2/5 times.\n",
      "Tried 3/5 times.\n",
      "Tried 4/5 times.\n",
      "Tried 5/5 times.\n",
      "Not satisfied with initial optimization results of param for class 6, trying more initial states...\n",
      "Tried 1/5 times.\n",
      "Tried 2/5 times.\n",
      "Tried 3/5 times.\n",
      "Tried 4/5 times.\n",
      "Tried 5/5 times.\n",
      "Not satisfied with initial optimization results of param for class 7, trying more initial states...\n",
      "Tried 1/5 times.\n",
      "Tried 2/5 times.\n",
      "Tried 3/5 times.\n",
      "Tried 4/5 times.\n",
      "Tried 5/5 times.\n",
      "Calculating and saving the fitted case-wise performance...\n"
     ]
    },
    {
     "name": "stderr",
     "output_type": "stream",
     "text": [
      "\r",
      " 50%|██████████████████████████████████████████████████████████████▌                                                              | 18/36 [00:38<00:47,  2.65s/it]"
     ]
    },
    {
     "name": "stdout",
     "output_type": "stream",
     "text": [
      "Starting optimizing for model doc-model with confidence doctor-conf based on metric accuracy, class specific is False.\n",
      "Opitimizing with 3000 samples...\n",
      "Calculating and saving the fitted case-wise performance...\n"
     ]
    },
    {
     "name": "stderr",
     "output_type": "stream",
     "text": [
      "\r",
      " 53%|█████████████████████████████████████████████████████████████████▉                                                           | 19/36 [00:38<00:34,  2.00s/it]"
     ]
    },
    {
     "name": "stdout",
     "output_type": "stream",
     "text": [
      "Starting optimizing for model doc-model with confidence doctor-conf based on metric accuracy, class specific is True.\n",
      "Opitimizing with 3000 samples...\n",
      "Not satisfied with initial optimization results of param for class 0, trying more initial states...\n",
      "Tried 1/5 times.\n",
      "Tried 2/5 times.\n",
      "Tried 3/5 times.\n",
      "Tried 4/5 times.\n",
      "Tried 5/5 times.\n",
      "Not satisfied with initial optimization results of param for class 3, trying more initial states...\n",
      "Tried 1/5 times.\n",
      "Tried 2/5 times.\n",
      "Tried 3/5 times.\n",
      "Tried 4/5 times.\n",
      "Tried 5/5 times.\n",
      "Not satisfied with initial optimization results of param for class 1, trying more initial states...\n",
      "Tried 1/5 times.\n",
      "Tried 2/5 times.\n",
      "Tried 3/5 times.\n",
      "Tried 4/5 times.\n",
      "Tried 5/5 times.\n",
      "Not satisfied with initial optimization results of param for class 2, trying more initial states...\n",
      "Tried 1/5 times.\n",
      "Tried 2/5 times.\n",
      "Tried 3/5 times.\n",
      "Tried 4/5 times.\n",
      "Tried 5/5 times.\n",
      "Not satisfied with initial optimization results of param for class 4, trying more initial states...\n",
      "Tried 1/5 times.\n",
      "Tried 2/5 times.\n",
      "Tried 3/5 times.\n",
      "Tried 4/5 times.\n",
      "Tried 5/5 times.\n",
      "Not satisfied with initial optimization results of param for class 5, trying more initial states...\n",
      "Tried 1/5 times.\n",
      "Tried 2/5 times.\n",
      "Tried 3/5 times.\n",
      "Tried 4/5 times.\n",
      "Tried 5/5 times.\n"
     ]
    },
    {
     "name": "stderr",
     "output_type": "stream",
     "text": [
      "\r",
      " 56%|█████████████████████████████████████████████████████████████████████▍                                                       | 20/36 [00:42<00:38,  2.40s/it]"
     ]
    },
    {
     "name": "stdout",
     "output_type": "stream",
     "text": [
      "Calculating and saving the fitted case-wise performance...\n",
      "Starting optimizing for model atc-model with confidence max_class_probability-conf based on metric accuracy, class specific is False.\n",
      "Opitimizing with 3000 samples...\n",
      "Calculating and saving the fitted case-wise performance...\n"
     ]
    },
    {
     "name": "stderr",
     "output_type": "stream",
     "text": [
      "\r",
      " 58%|████████████████████████████████████████████████████████████████████████▉                                                    | 21/36 [00:42<00:27,  1.82s/it]"
     ]
    },
    {
     "name": "stdout",
     "output_type": "stream",
     "text": [
      "Starting optimizing for model atc-model with confidence max_class_probability-conf based on metric accuracy, class specific is True.\n",
      "Opitimizing with 3000 samples...\n",
      "Not satisfied with initial optimization results of param for class 0, trying more initial states...\n",
      "Tried 1/5 times.\n",
      "Tried 2/5 times.\n",
      "Tried 3/5 times.\n",
      "Tried 4/5 times.\n",
      "Tried 5/5 times.\n",
      "Not satisfied with initial optimization results of param for class 3, trying more initial states...\n",
      "Tried 1/5 times.\n",
      "Tried 2/5 times.\n",
      "Tried 3/5 times.\n",
      "Tried 4/5 times.\n",
      "Tried 5/5 times.\n",
      "Not satisfied with initial optimization results of param for class 1, trying more initial states...\n",
      "Tried 1/5 times.\n",
      "Tried 2/5 times.\n",
      "Tried 3/5 times.\n",
      "Tried 4/5 times.\n",
      "Tried 5/5 times.\n",
      "Not satisfied with initial optimization results of param for class 2, trying more initial states...\n",
      "Tried 1/5 times.\n",
      "Tried 2/5 times.\n",
      "Tried 3/5 times.\n",
      "Tried 4/5 times.\n",
      "Tried 5/5 times.\n",
      "Not satisfied with initial optimization results of param for class 4, trying more initial states...\n",
      "Tried 1/5 times.\n",
      "Tried 2/5 times.\n",
      "Tried 3/5 times.\n",
      "Tried 4/5 times.\n",
      "Tried 5/5 times.\n",
      "Not satisfied with initial optimization results of param for class 5, trying more initial states...\n",
      "Tried 1/5 times.\n",
      "Tried 2/5 times.\n",
      "Tried 3/5 times.\n",
      "Tried 4/5 times.\n",
      "Tried 5/5 times.\n",
      "Not satisfied with initial optimization results of param for class 6, trying more initial states...\n",
      "Tried 1/5 times.\n",
      "Tried 2/5 times.\n",
      "Tried 3/5 times.\n",
      "Tried 4/5 times.\n",
      "Tried 5/5 times.\n",
      "Not satisfied with initial optimization results of param for class 7, trying more initial states...\n",
      "Tried 1/5 times.\n",
      "Tried 2/5 times.\n",
      "Tried 3/5 times.\n",
      "Tried 4/5 times.\n",
      "Tried 5/5 times.\n",
      "Not satisfied with initial optimization results of param for class 9, trying more initial states...\n",
      "Tried 1/5 times.\n",
      "Tried 2/5 times.\n",
      "Tried 3/5 times.\n",
      "Tried 4/5 times.\n",
      "Tried 5/5 times.\n",
      "Calculating and saving the fitted case-wise performance...\n"
     ]
    },
    {
     "name": "stderr",
     "output_type": "stream",
     "text": [
      "\r",
      " 61%|████████████████████████████████████████████████████████████████████████████▍                                                | 22/36 [00:47<00:37,  2.71s/it]"
     ]
    },
    {
     "name": "stdout",
     "output_type": "stream",
     "text": [
      "Starting optimizing for model atc-model with confidence energy-conf based on metric accuracy, class specific is False.\n",
      "Opitimizing with 3000 samples...\n",
      "Calculating and saving the fitted case-wise performance...\n"
     ]
    },
    {
     "name": "stderr",
     "output_type": "stream",
     "text": [
      "\r",
      " 64%|███████████████████████████████████████████████████████████████████████████████▊                                             | 23/36 [00:47<00:26,  2.02s/it]"
     ]
    },
    {
     "name": "stdout",
     "output_type": "stream",
     "text": [
      "Starting optimizing for model atc-model with confidence energy-conf based on metric accuracy, class specific is True.\n",
      "Opitimizing with 3000 samples...\n",
      "Not satisfied with initial optimization results of param for class 0, trying more initial states...\n",
      "Tried 1/5 times.\n",
      "Tried 2/5 times.\n",
      "Tried 3/5 times.\n",
      "Tried 4/5 times.\n",
      "Tried 5/5 times.\n",
      "Not satisfied with initial optimization results of param for class 3, trying more initial states...\n",
      "Tried 1/5 times.\n",
      "Tried 2/5 times.\n",
      "Tried 3/5 times.\n",
      "Tried 4/5 times.\n",
      "Tried 5/5 times.\n",
      "Not satisfied with initial optimization results of param for class 1, trying more initial states...\n",
      "Tried 1/5 times.\n",
      "Tried 2/5 times.\n",
      "Tried 3/5 times.\n",
      "Tried 4/5 times.\n",
      "Tried 5/5 times.\n",
      "Not satisfied with initial optimization results of param for class 2, trying more initial states...\n",
      "Tried 1/5 times.\n",
      "Tried 2/5 times.\n",
      "Tried 3/5 times.\n",
      "Tried 4/5 times.\n",
      "Tried 5/5 times.\n",
      "Not satisfied with initial optimization results of param for class 4, trying more initial states...\n",
      "Tried 1/5 times.\n",
      "Tried 2/5 times.\n",
      "Tried 3/5 times.\n",
      "Tried 4/5 times.\n",
      "Tried 5/5 times.\n",
      "Not satisfied with initial optimization results of param for class 5, trying more initial states...\n",
      "Tried 1/5 times.\n",
      "Tried 2/5 times.\n",
      "Tried 3/5 times.\n",
      "Tried 4/5 times.\n",
      "Tried 5/5 times.\n",
      "Not satisfied with initial optimization results of param for class 6, trying more initial states...\n",
      "Tried 1/5 times.\n",
      "Tried 2/5 times.\n",
      "Tried 3/5 times.\n",
      "Tried 4/5 times.\n",
      "Tried 5/5 times.\n",
      "Not satisfied with initial optimization results of param for class 7, trying more initial states...\n",
      "Tried 1/5 times.\n",
      "Tried 2/5 times.\n",
      "Tried 3/5 times.\n",
      "Tried 4/5 times.\n",
      "Tried 5/5 times.\n",
      "Not satisfied with initial optimization results of param for class 9, trying more initial states...\n",
      "Tried 1/5 times.\n",
      "Tried 2/5 times.\n",
      "Tried 3/5 times.\n",
      "Tried 4/5 times.\n",
      "Tried 5/5 times.\n",
      "Not satisfied with initial optimization results of param for class 8, trying more initial states...\n",
      "Tried 1/5 times.\n",
      "Tried 2/5 times.\n",
      "Tried 3/5 times.\n",
      "Tried 4/5 times.\n",
      "Tried 5/5 times.\n",
      "Calculating and saving the fitted case-wise performance...\n"
     ]
    },
    {
     "name": "stderr",
     "output_type": "stream",
     "text": [
      "\r",
      " 67%|███████████████████████████████████████████████████████████████████████████████████▎                                         | 24/36 [00:50<00:27,  2.33s/it]"
     ]
    },
    {
     "name": "stdout",
     "output_type": "stream",
     "text": [
      "Starting optimizing for model atc-model with confidence entropy-conf based on metric accuracy, class specific is False.\n",
      "Opitimizing with 3000 samples...\n",
      "Calculating and saving the fitted case-wise performance...\n"
     ]
    },
    {
     "name": "stderr",
     "output_type": "stream",
     "text": [
      "\r",
      " 69%|██████████████████████████████████████████████████████████████████████████████████████▊                                      | 25/36 [00:51<00:19,  1.79s/it]"
     ]
    },
    {
     "name": "stdout",
     "output_type": "stream",
     "text": [
      "Starting optimizing for model atc-model with confidence entropy-conf based on metric accuracy, class specific is True.\n",
      "Opitimizing with 3000 samples...\n",
      "Not satisfied with initial optimization results of param for class 0, trying more initial states...\n",
      "Tried 1/5 times.\n",
      "Tried 2/5 times.\n",
      "Tried 3/5 times.\n",
      "Tried 4/5 times.\n",
      "Tried 5/5 times.\n",
      "Not satisfied with initial optimization results of param for class 3, trying more initial states...\n",
      "Tried 1/5 times.\n",
      "Tried 2/5 times.\n",
      "Tried 3/5 times.\n",
      "Tried 4/5 times.\n",
      "Tried 5/5 times.\n",
      "Not satisfied with initial optimization results of param for class 1, trying more initial states...\n",
      "Tried 1/5 times.\n",
      "Tried 2/5 times.\n",
      "Tried 3/5 times.\n",
      "Tried 4/5 times.\n",
      "Tried 5/5 times.\n",
      "Not satisfied with initial optimization results of param for class 2, trying more initial states...\n",
      "Tried 1/5 times.\n",
      "Tried 2/5 times.\n",
      "Tried 3/5 times.\n",
      "Tried 4/5 times.\n",
      "Tried 5/5 times.\n",
      "Not satisfied with initial optimization results of param for class 4, trying more initial states...\n",
      "Tried 1/5 times.\n",
      "Tried 2/5 times.\n",
      "Tried 3/5 times.\n",
      "Tried 4/5 times.\n",
      "Tried 5/5 times.\n",
      "Not satisfied with initial optimization results of param for class 5, trying more initial states...\n",
      "Tried 1/5 times.\n",
      "Tried 2/5 times.\n",
      "Tried 3/5 times.\n",
      "Tried 4/5 times.\n",
      "Tried 5/5 times.\n",
      "Not satisfied with initial optimization results of param for class 6, trying more initial states...\n",
      "Tried 1/5 times.\n",
      "Tried 2/5 times.\n",
      "Tried 3/5 times.\n",
      "Tried 4/5 times.\n",
      "Tried 5/5 times.\n",
      "Not satisfied with initial optimization results of param for class 7, trying more initial states...\n",
      "Tried 1/5 times.\n",
      "Tried 2/5 times.\n",
      "Tried 3/5 times.\n",
      "Tried 4/5 times.\n",
      "Tried 5/5 times.\n",
      "Not satisfied with initial optimization results of param for class 9, trying more initial states...\n",
      "Tried 1/5 times.\n",
      "Tried 2/5 times.\n",
      "Tried 3/5 times.\n",
      "Tried 4/5 times.\n",
      "Tried 5/5 times.\n",
      "Calculating and saving the fitted case-wise performance...\n"
     ]
    },
    {
     "name": "stderr",
     "output_type": "stream",
     "text": [
      "\r",
      " 72%|██████████████████████████████████████████████████████████████████████████████████████████▎                                  | 26/36 [00:56<00:27,  2.80s/it]"
     ]
    },
    {
     "name": "stdout",
     "output_type": "stream",
     "text": [
      "Starting optimizing for model atc-model with confidence doctor-conf based on metric accuracy, class specific is False.\n",
      "Opitimizing with 3000 samples...\n",
      "Calculating and saving the fitted case-wise performance...\n"
     ]
    },
    {
     "name": "stderr",
     "output_type": "stream",
     "text": [
      "\r",
      " 75%|█████████████████████████████████████████████████████████████████████████████████████████████▊                               | 27/36 [00:57<00:18,  2.11s/it]"
     ]
    },
    {
     "name": "stdout",
     "output_type": "stream",
     "text": [
      "Starting optimizing for model atc-model with confidence doctor-conf based on metric accuracy, class specific is True.\n",
      "Opitimizing with 3000 samples...\n",
      "Not satisfied with initial optimization results of param for class 0, trying more initial states...\n",
      "Tried 1/5 times.\n",
      "Tried 2/5 times.\n",
      "Tried 3/5 times.\n",
      "Tried 4/5 times.\n",
      "Tried 5/5 times.\n",
      "Not satisfied with initial optimization results of param for class 3, trying more initial states...\n",
      "Tried 1/5 times.\n",
      "Tried 2/5 times.\n",
      "Tried 3/5 times.\n",
      "Tried 4/5 times.\n",
      "Tried 5/5 times.\n",
      "Not satisfied with initial optimization results of param for class 1, trying more initial states...\n",
      "Tried 1/5 times.\n",
      "Tried 2/5 times.\n",
      "Tried 3/5 times.\n",
      "Tried 4/5 times.\n",
      "Tried 5/5 times.\n",
      "Not satisfied with initial optimization results of param for class 2, trying more initial states...\n",
      "Tried 1/5 times.\n",
      "Tried 2/5 times.\n",
      "Tried 3/5 times.\n",
      "Tried 4/5 times.\n",
      "Tried 5/5 times.\n",
      "Not satisfied with initial optimization results of param for class 4, trying more initial states...\n",
      "Tried 1/5 times.\n",
      "Tried 2/5 times.\n",
      "Tried 3/5 times.\n",
      "Tried 4/5 times.\n",
      "Tried 5/5 times.\n",
      "Not satisfied with initial optimization results of param for class 5, trying more initial states...\n",
      "Tried 1/5 times.\n",
      "Tried 2/5 times.\n",
      "Tried 3/5 times.\n",
      "Tried 4/5 times.\n",
      "Tried 5/5 times.\n",
      "Not satisfied with initial optimization results of param for class 6, trying more initial states...\n",
      "Tried 1/5 times.\n",
      "Tried 2/5 times.\n",
      "Tried 3/5 times.\n",
      "Tried 4/5 times.\n",
      "Tried 5/5 times.\n",
      "Not satisfied with initial optimization results of param for class 7, trying more initial states...\n",
      "Tried 1/5 times.\n",
      "Tried 2/5 times.\n",
      "Tried 3/5 times.\n",
      "Tried 4/5 times.\n",
      "Tried 5/5 times.\n",
      "Not satisfied with initial optimization results of param for class 9, trying more initial states...\n",
      "Tried 1/5 times.\n",
      "Tried 2/5 times.\n",
      "Tried 3/5 times.\n",
      "Tried 4/5 times.\n",
      "Tried 5/5 times.\n",
      "Calculating and saving the fitted case-wise performance...\n"
     ]
    },
    {
     "name": "stderr",
     "output_type": "stream",
     "text": [
      "\r",
      " 78%|█████████████████████████████████████████████████████████████████████████████████████████████████▏                           | 28/36 [01:01<00:22,  2.81s/it]"
     ]
    },
    {
     "name": "stdout",
     "output_type": "stream",
     "text": [
      "Starting optimizing for model ts-atc-model with confidence max_class_probability-conf based on metric accuracy, class specific is False.\n",
      "Opitimizing with 3000 samples...\n",
      "Calculating and saving the fitted case-wise performance...\n"
     ]
    },
    {
     "name": "stderr",
     "output_type": "stream",
     "text": [
      "\r",
      " 81%|████████████████████████████████████████████████████████████████████████████████████████████████████▋                        | 29/36 [01:02<00:14,  2.13s/it]"
     ]
    },
    {
     "name": "stdout",
     "output_type": "stream",
     "text": [
      "Starting optimizing for model ts-atc-model with confidence max_class_probability-conf based on metric accuracy, class specific is True.\n",
      "Opitimizing with 3000 samples...\n",
      "Not satisfied with initial optimization results of param for class 0, trying more initial states...\n",
      "Tried 1/5 times.\n",
      "Tried 2/5 times.\n",
      "Tried 3/5 times.\n",
      "Tried 4/5 times.\n",
      "Tried 5/5 times.\n",
      "Not satisfied with initial optimization results of param for class 3, trying more initial states...\n",
      "Tried 1/5 times.\n",
      "Tried 2/5 times.\n",
      "Tried 3/5 times.\n",
      "Tried 4/5 times.\n",
      "Tried 5/5 times.\n",
      "Not satisfied with initial optimization results of param for class 1, trying more initial states...\n",
      "Tried 1/5 times.\n",
      "Tried 2/5 times.\n",
      "Tried 3/5 times.\n",
      "Tried 4/5 times.\n",
      "Tried 5/5 times.\n",
      "Not satisfied with initial optimization results of param for class 2, trying more initial states...\n",
      "Tried 1/5 times.\n",
      "Tried 2/5 times.\n",
      "Tried 3/5 times.\n",
      "Tried 4/5 times.\n",
      "Tried 5/5 times.\n",
      "Not satisfied with initial optimization results of param for class 4, trying more initial states...\n",
      "Tried 1/5 times.\n",
      "Tried 2/5 times.\n",
      "Tried 3/5 times.\n",
      "Tried 4/5 times.\n",
      "Tried 5/5 times.\n",
      "Not satisfied with initial optimization results of param for class 5, trying more initial states...\n",
      "Tried 1/5 times.\n",
      "Tried 2/5 times.\n",
      "Tried 3/5 times.\n",
      "Tried 4/5 times.\n",
      "Tried 5/5 times.\n",
      "Not satisfied with initial optimization results of param for class 6, trying more initial states...\n",
      "Tried 1/5 times.\n",
      "Tried 2/5 times.\n",
      "Tried 3/5 times.\n",
      "Tried 4/5 times.\n",
      "Tried 5/5 times.\n",
      "Not satisfied with initial optimization results of param for class 7, trying more initial states...\n",
      "Tried 1/5 times.\n",
      "Tried 2/5 times.\n",
      "Tried 3/5 times.\n",
      "Tried 4/5 times.\n",
      "Tried 5/5 times.\n",
      "Not satisfied with initial optimization results of param for class 0, trying more initial states...\n",
      "Tried 1/5 times.\n",
      "Tried 2/5 times.\n",
      "Tried 3/5 times.\n",
      "Tried 4/5 times.\n",
      "Tried 5/5 times.\n",
      "Calculating and saving the fitted case-wise performance...\n"
     ]
    },
    {
     "name": "stderr",
     "output_type": "stream",
     "text": [
      "\r",
      " 83%|████████████████████████████████████████████████████████████████████████████████████████████████████████▏                    | 30/36 [01:08<00:21,  3.55s/it]"
     ]
    },
    {
     "name": "stdout",
     "output_type": "stream",
     "text": [
      "Starting optimizing for model ts-atc-model with confidence energy-conf based on metric accuracy, class specific is False.\n",
      "Opitimizing with 3000 samples...\n",
      "Not satisfied with initial optimization results of param, trying more initial states...\n",
      "Tried 1/5 times.\n",
      "Tried 2/5 times.\n",
      "Tried 3/5 times.\n",
      "Tried 4/5 times.\n",
      "Tried 5/5 times.\n",
      "Calculating and saving the fitted case-wise performance...\n"
     ]
    },
    {
     "name": "stderr",
     "output_type": "stream",
     "text": [
      "\r",
      " 86%|███████████████████████████████████████████████████████████████████████████████████████████████████████████▋                 | 31/36 [01:09<00:13,  2.72s/it]"
     ]
    },
    {
     "name": "stdout",
     "output_type": "stream",
     "text": [
      "Starting optimizing for model ts-atc-model with confidence energy-conf based on metric accuracy, class specific is True.\n",
      "Opitimizing with 3000 samples...\n",
      "Not satisfied with initial optimization results of param for class 0, trying more initial states...\n",
      "Tried 1/5 times.\n",
      "Tried 2/5 times.\n",
      "Tried 3/5 times.\n",
      "Tried 4/5 times.\n",
      "Tried 5/5 times.\n",
      "Not satisfied with initial optimization results of param for class 3, trying more initial states...\n",
      "Tried 1/5 times.\n",
      "Tried 2/5 times.\n",
      "Tried 3/5 times.\n",
      "Tried 4/5 times.\n",
      "Tried 5/5 times.\n",
      "Not satisfied with initial optimization results of param for class 1, trying more initial states...\n",
      "Tried 1/5 times.\n",
      "Tried 2/5 times.\n",
      "Tried 3/5 times.\n",
      "Tried 4/5 times.\n",
      "Tried 5/5 times.\n",
      "Not satisfied with initial optimization results of param for class 2, trying more initial states...\n",
      "Tried 1/5 times.\n",
      "Tried 2/5 times.\n",
      "Tried 3/5 times.\n",
      "Tried 4/5 times.\n",
      "Tried 5/5 times.\n",
      "Not satisfied with initial optimization results of param for class 4, trying more initial states...\n",
      "Tried 1/5 times.\n",
      "Tried 2/5 times.\n",
      "Tried 3/5 times.\n",
      "Tried 4/5 times.\n",
      "Tried 5/5 times.\n",
      "Not satisfied with initial optimization results of param for class 5, trying more initial states...\n",
      "Tried 1/5 times.\n",
      "Tried 2/5 times.\n",
      "Tried 3/5 times.\n",
      "Tried 4/5 times.\n",
      "Tried 5/5 times.\n",
      "Not satisfied with initial optimization results of param for class 6, trying more initial states...\n",
      "Tried 1/5 times.\n",
      "Tried 2/5 times.\n",
      "Tried 3/5 times.\n",
      "Tried 4/5 times.\n",
      "Tried 5/5 times.\n",
      "Not satisfied with initial optimization results of param for class 7, trying more initial states...\n",
      "Tried 1/5 times.\n",
      "Tried 2/5 times.\n",
      "Tried 3/5 times.\n",
      "Tried 4/5 times.\n",
      "Tried 5/5 times.\n",
      "Not satisfied with initial optimization results of param for class 9, trying more initial states...\n",
      "Tried 1/5 times.\n",
      "Tried 2/5 times.\n",
      "Tried 3/5 times.\n",
      "Tried 4/5 times.\n",
      "Tried 5/5 times.\n",
      "Not satisfied with initial optimization results of param for class 8, trying more initial states...\n",
      "Tried 1/5 times.\n",
      "Tried 2/5 times.\n",
      "Tried 3/5 times.\n",
      "Tried 4/5 times.\n",
      "Tried 5/5 times.\n",
      "Not satisfied with initial optimization results of param for class 8, trying more initial states...\n",
      "Tried 1/5 times.\n",
      "Tried 2/5 times.\n",
      "Tried 3/5 times.\n",
      "Tried 4/5 times.\n",
      "Tried 5/5 times.\n",
      "Not satisfied with initial optimization results of param for class 9, trying more initial states...\n",
      "Tried 1/5 times.\n",
      "Tried 2/5 times.\n",
      "Tried 3/5 times.\n",
      "Tried 4/5 times.\n",
      "Tried 5/5 times.\n",
      "Not satisfied with initial optimization results of param for class 6, trying more initial states...\n",
      "Tried 1/5 times.\n",
      "Tried 2/5 times.\n",
      "Tried 3/5 times.\n",
      "Tried 4/5 times.\n",
      "Tried 5/5 times.\n",
      "Not satisfied with initial optimization results of param for class 5, trying more initial states...\n",
      "Tried 1/5 times.\n",
      "Tried 2/5 times.\n",
      "Tried 3/5 times.\n",
      "Tried 4/5 times.\n",
      "Tried 5/5 times.\n",
      "Not satisfied with initial optimization results of param for class 2, trying more initial states...\n",
      "Tried 1/5 times.\n",
      "Tried 2/5 times.\n",
      "Tried 3/5 times.\n",
      "Tried 4/5 times.\n",
      "Tried 5/5 times.\n",
      "Not satisfied with initial optimization results of param for class 0, trying more initial states...\n",
      "Tried 1/5 times.\n",
      "Tried 2/5 times.\n",
      "Tried 3/5 times.\n",
      "Tried 4/5 times.\n",
      "Tried 5/5 times.\n",
      "Calculating and saving the fitted case-wise performance...\n"
     ]
    },
    {
     "name": "stderr",
     "output_type": "stream",
     "text": [
      "\r",
      " 89%|███████████████████████████████████████████████████████████████████████████████████████████████████████████████              | 32/36 [01:17<00:17,  4.29s/it]"
     ]
    },
    {
     "name": "stdout",
     "output_type": "stream",
     "text": [
      "Starting optimizing for model ts-atc-model with confidence entropy-conf based on metric accuracy, class specific is False.\n",
      "Opitimizing with 3000 samples...\n",
      "Calculating and saving the fitted case-wise performance...\n"
     ]
    },
    {
     "name": "stderr",
     "output_type": "stream",
     "text": [
      "\r",
      " 92%|██████████████████████████████████████████████████████████████████████████████████████████████████████████████████▌          | 33/36 [01:18<00:09,  3.19s/it]"
     ]
    },
    {
     "name": "stdout",
     "output_type": "stream",
     "text": [
      "Starting optimizing for model ts-atc-model with confidence entropy-conf based on metric accuracy, class specific is True.\n",
      "Opitimizing with 3000 samples...\n",
      "Not satisfied with initial optimization results of param for class 0, trying more initial states...\n",
      "Tried 1/5 times.\n",
      "Tried 2/5 times.\n",
      "Tried 3/5 times.\n",
      "Tried 4/5 times.\n",
      "Tried 5/5 times.\n",
      "Not satisfied with initial optimization results of param for class 3, trying more initial states...\n",
      "Tried 1/5 times.\n",
      "Tried 2/5 times.\n",
      "Tried 3/5 times.\n",
      "Tried 4/5 times.\n",
      "Tried 5/5 times.\n",
      "Not satisfied with initial optimization results of param for class 1, trying more initial states...\n",
      "Tried 1/5 times.\n",
      "Tried 2/5 times.\n",
      "Tried 3/5 times.\n",
      "Tried 4/5 times.\n",
      "Tried 5/5 times.\n",
      "Not satisfied with initial optimization results of param for class 2, trying more initial states...\n",
      "Tried 1/5 times.\n",
      "Tried 2/5 times.\n",
      "Tried 3/5 times.\n",
      "Tried 4/5 times.\n",
      "Tried 5/5 times.\n",
      "Not satisfied with initial optimization results of param for class 4, trying more initial states...\n",
      "Tried 1/5 times.\n",
      "Tried 2/5 times.\n",
      "Tried 3/5 times.\n",
      "Tried 4/5 times.\n",
      "Tried 5/5 times.\n",
      "Not satisfied with initial optimization results of param for class 5, trying more initial states...\n",
      "Tried 1/5 times.\n",
      "Tried 2/5 times.\n",
      "Tried 3/5 times.\n",
      "Tried 4/5 times.\n",
      "Tried 5/5 times.\n",
      "Not satisfied with initial optimization results of param for class 6, trying more initial states...\n",
      "Tried 1/5 times.\n",
      "Tried 2/5 times.\n",
      "Tried 3/5 times.\n",
      "Tried 4/5 times.\n",
      "Tried 5/5 times.\n",
      "Not satisfied with initial optimization results of param for class 7, trying more initial states...\n",
      "Tried 1/5 times.\n",
      "Tried 2/5 times.\n",
      "Tried 3/5 times.\n",
      "Tried 4/5 times.\n",
      "Tried 5/5 times.\n",
      "Calculating and saving the fitted case-wise performance...\n"
     ]
    },
    {
     "name": "stderr",
     "output_type": "stream",
     "text": [
      "\r",
      " 94%|██████████████████████████████████████████████████████████████████████████████████████████████████████████████████████       | 34/36 [01:26<00:09,  4.63s/it]"
     ]
    },
    {
     "name": "stdout",
     "output_type": "stream",
     "text": [
      "Starting optimizing for model ts-atc-model with confidence doctor-conf based on metric accuracy, class specific is False.\n",
      "Opitimizing with 3000 samples...\n",
      "Calculating and saving the fitted case-wise performance...\n"
     ]
    },
    {
     "name": "stderr",
     "output_type": "stream",
     "text": [
      "\r",
      " 97%|█████████████████████████████████████████████████████████████████████████████████████████████████████████████████████████▌   | 35/36 [01:26<00:03,  3.41s/it]"
     ]
    },
    {
     "name": "stdout",
     "output_type": "stream",
     "text": [
      "Starting optimizing for model ts-atc-model with confidence doctor-conf based on metric accuracy, class specific is True.\n",
      "Opitimizing with 3000 samples...\n",
      "Not satisfied with initial optimization results of param for class 0, trying more initial states...\n",
      "Tried 1/5 times.\n",
      "Tried 2/5 times.\n",
      "Tried 3/5 times.\n",
      "Tried 4/5 times.\n",
      "Tried 5/5 times.\n",
      "Not satisfied with initial optimization results of param for class 3, trying more initial states...\n",
      "Tried 1/5 times.\n",
      "Tried 2/5 times.\n",
      "Tried 3/5 times.\n",
      "Tried 4/5 times.\n",
      "Tried 5/5 times.\n",
      "Not satisfied with initial optimization results of param for class 1, trying more initial states...\n",
      "Tried 1/5 times.\n",
      "Tried 2/5 times.\n",
      "Tried 3/5 times.\n",
      "Tried 4/5 times.\n",
      "Tried 5/5 times.\n",
      "Not satisfied with initial optimization results of param for class 2, trying more initial states...\n",
      "Tried 1/5 times.\n",
      "Tried 2/5 times.\n",
      "Tried 3/5 times.\n",
      "Tried 4/5 times.\n",
      "Tried 5/5 times.\n",
      "Not satisfied with initial optimization results of param for class 4, trying more initial states...\n",
      "Tried 1/5 times.\n",
      "Tried 2/5 times.\n",
      "Tried 3/5 times.\n",
      "Tried 4/5 times.\n",
      "Tried 5/5 times.\n",
      "Not satisfied with initial optimization results of param for class 5, trying more initial states...\n",
      "Tried 1/5 times.\n",
      "Tried 2/5 times.\n",
      "Tried 3/5 times.\n",
      "Tried 4/5 times.\n",
      "Tried 5/5 times.\n",
      "Not satisfied with initial optimization results of param for class 0, trying more initial states...\n",
      "Tried 1/5 times.\n",
      "Tried 2/5 times.\n",
      "Tried 3/5 times.\n",
      "Tried 4/5 times.\n",
      "Tried 5/5 times.\n",
      "Calculating and saving the fitted case-wise performance...\n"
     ]
    },
    {
     "name": "stderr",
     "output_type": "stream",
     "text": [
      "100%|█████████████████████████████████████████████████████████████████████████████████████████████████████████████████████████████| 36/36 [01:33<00:00,  2.59s/it]\n"
     ]
    }
   ],
   "source": [
    "for k_cond in tqdm(range(len(moval_options))):\n",
    "    \n",
    "    err_test, moval_model = test_cls(\n",
    "        estim_algorithm = moval_options[k_cond][0], \n",
    "        mode = moval_options[k_cond][1], \n",
    "        metric = \"accuracy\",\n",
    "        confidence_scores = moval_options[k_cond][2],\n",
    "        class_specific = moval_options[k_cond][3],\n",
    "        logits = logits_val,\n",
    "        gt = gt_val,\n",
    "        logits_tests = logits_tests,\n",
    "        gt_tests = gt_tests\n",
    "    )\n",
    "    err_test_list.append(err_test)\n",
    "    moval_parameters.append(moval_model.model_.param)\n",
    "    if moval_model.model_.extend_param:\n",
    "        moval_parameters_.append(moval_model.model_.param_ext)\n",
    "    else:\n",
    "        moval_parameters_.append(0.)"
   ]
  },
  {
   "cell_type": "markdown",
   "id": "3813800b-936c-47ad-8828-503189b21181",
   "metadata": {},
   "source": [
    "## Compare estimataion results"
   ]
  },
  {
   "cell_type": "code",
   "execution_count": 16,
   "id": "060d2d93-97a7-499d-9100-15b100c2cbce",
   "metadata": {},
   "outputs": [],
   "source": [
    "estim = []\n",
    "conf = []\n",
    "err = []\n",
    "err_mean = []\n",
    "novel = []\n",
    "k_option = 0\n",
    "for moval_option in moval_options:\n",
    "    for k_cond in range(len(err_test_list[k_option])):\n",
    "        #\n",
    "        if moval_option[3] == True:\n",
    "            estim_cs = 'CS '\n",
    "        else:\n",
    "            estim_cs = ''\n",
    "        #    \n",
    "        if moval_option[0] == 'ac-model':\n",
    "            estim.append(estim_cs + 'AC')\n",
    "        elif moval_option[0] == 'ts-model':\n",
    "            estim.append(estim_cs + 'TS')\n",
    "        elif moval_option[0] == 'doc-model':\n",
    "            estim.append(estim_cs + 'DoC')\n",
    "        elif moval_option[0] == 'atc-model':\n",
    "            estim.append(estim_cs + 'ATC')\n",
    "        else:\n",
    "            estim.append(estim_cs + 'TS-ATC')\n",
    "        #\n",
    "        if moval_option[2] == 'max_class_probability-conf':\n",
    "            conf.append('MCP')\n",
    "        elif moval_option[2] == 'energy-conf':\n",
    "            conf.append('Energy')\n",
    "        elif moval_option[2] == 'entropy-conf':\n",
    "            conf.append('Entropy')\n",
    "        else:\n",
    "            conf.append('Doctor')\n",
    "        #\n",
    "        if moval_option[2] == 'max_class_probability-conf' and moval_option[3] == False:\n",
    "            novel.append('Existing Methods')\n",
    "        else:\n",
    "            novel.append('Provided by MOVAL')\n",
    "        #\n",
    "        err.append(err_test_list[k_option][k_cond])\n",
    "        err_mean.append(np.mean(err_test_list[k_option]))\n",
    "    k_option += 1"
   ]
  },
  {
   "cell_type": "code",
   "execution_count": 17,
   "id": "68a6754d-429b-4189-9443-2db6250e7662",
   "metadata": {},
   "outputs": [],
   "source": [
    "d = {'Estimation Algorithm': estim, 'Confidence Score': conf, 'MAE': err_mean, 'MAE ': err, 'Category': novel}\n",
    "df = pd.DataFrame(data=d)\n",
    "#\n",
    "custom_order = ['AC', 'TS', 'DoC', 'ATC', 'TS-ATC', 'CS TS', 'CS DoC', 'CS ATC', 'CS TS-ATC']\n",
    "df['Estimation Algorithm'] = pd.Categorical(df['Estimation Algorithm'], categories=custom_order, ordered=True)\n",
    "df = df.sort_values(by='Estimation Algorithm')\n",
    "#\n",
    "custom_order = ['MCP', 'Doctor', 'Entropy', 'Energy']\n",
    "df['Confidence Score'] = pd.Categorical(df['Confidence Score'], categories=custom_order, ordered=True)\n",
    "df = df.sort_values(by='Confidence Score')"
   ]
  },
  {
   "cell_type": "code",
   "execution_count": 18,
   "id": "99b0672c-d149-4347-9185-651428ff2e17",
   "metadata": {},
   "outputs": [
    {
     "data": {
      "text/html": [
       "<div>\n",
       "<style scoped>\n",
       "    .dataframe tbody tr th:only-of-type {\n",
       "        vertical-align: middle;\n",
       "    }\n",
       "\n",
       "    .dataframe tbody tr th {\n",
       "        vertical-align: top;\n",
       "    }\n",
       "\n",
       "    .dataframe thead th {\n",
       "        text-align: right;\n",
       "    }\n",
       "</style>\n",
       "<table border=\"1\" class=\"dataframe\">\n",
       "  <thead>\n",
       "    <tr style=\"text-align: right;\">\n",
       "      <th></th>\n",
       "      <th>Estimation Algorithm</th>\n",
       "      <th>Confidence Score</th>\n",
       "      <th>MAE</th>\n",
       "      <th>MAE</th>\n",
       "      <th>Category</th>\n",
       "    </tr>\n",
       "  </thead>\n",
       "  <tbody>\n",
       "    <tr>\n",
       "      <th>0</th>\n",
       "      <td>AC</td>\n",
       "      <td>MCP</td>\n",
       "      <td>0.401485</td>\n",
       "      <td>0.310355</td>\n",
       "      <td>Existing Methods</td>\n",
       "    </tr>\n",
       "    <tr>\n",
       "      <th>25</th>\n",
       "      <td>CS TS</td>\n",
       "      <td>MCP</td>\n",
       "      <td>0.082242</td>\n",
       "      <td>0.047667</td>\n",
       "      <td>Provided by MOVAL</td>\n",
       "    </tr>\n",
       "    <tr>\n",
       "      <th>144</th>\n",
       "      <td>TS-ATC</td>\n",
       "      <td>MCP</td>\n",
       "      <td>0.102657</td>\n",
       "      <td>0.129429</td>\n",
       "      <td>Existing Methods</td>\n",
       "    </tr>\n",
       "    <tr>\n",
       "      <th>143</th>\n",
       "      <td>TS-ATC</td>\n",
       "      <td>MCP</td>\n",
       "      <td>0.102657</td>\n",
       "      <td>0.119571</td>\n",
       "      <td>Existing Methods</td>\n",
       "    </tr>\n",
       "    <tr>\n",
       "      <th>142</th>\n",
       "      <td>TS-ATC</td>\n",
       "      <td>MCP</td>\n",
       "      <td>0.102657</td>\n",
       "      <td>0.107000</td>\n",
       "      <td>Existing Methods</td>\n",
       "    </tr>\n",
       "  </tbody>\n",
       "</table>\n",
       "</div>"
      ],
      "text/plain": [
       "    Estimation Algorithm Confidence Score       MAE      MAE   \\\n",
       "0                     AC              MCP  0.401485  0.310355   \n",
       "25                 CS TS              MCP  0.082242  0.047667   \n",
       "144               TS-ATC              MCP  0.102657  0.129429   \n",
       "143               TS-ATC              MCP  0.102657  0.119571   \n",
       "142               TS-ATC              MCP  0.102657  0.107000   \n",
       "\n",
       "              Category  \n",
       "0     Existing Methods  \n",
       "25   Provided by MOVAL  \n",
       "144   Existing Methods  \n",
       "143   Existing Methods  \n",
       "142   Existing Methods  "
      ]
     },
     "execution_count": 18,
     "metadata": {},
     "output_type": "execute_result"
    }
   ],
   "source": [
    "df.head()"
   ]
  },
  {
   "cell_type": "code",
   "execution_count": 19,
   "id": "71dda52f-13bc-46f4-9702-e65ece9f1bfe",
   "metadata": {},
   "outputs": [
    {
     "data": {
      "image/png": "[encoded data removed]",
      "text/plain": [
       "<Figure size 600x300 with 1 Axes>"
      ]
     },
     "metadata": {},
     "output_type": "display_data"
    }
   ],
   "source": [
    "sns.set(rc={'figure.figsize':(6,3)})\n",
    "sns.set_style(\"darkgrid\")\n",
    "category_palette = {'Existing Methods': 'grey', 'Provided by MOVAL': '#1f77b4'}\n",
    "ax = sns.scatterplot(\n",
    "    data=df, x=\"Estimation Algorithm\", y=\"Confidence Score\", hue=\"Category\", size=\"MAE\",\n",
    "    sizes=(40, 1000), palette=category_palette\n",
    ")\n",
    "ax.set(ylim=(3.5, -0.5))\n",
    "ax.tick_params(axis='x', rotation=15)\n",
    "#\n",
    "# Get the handles and labels from the legend\n",
    "handles, labels = ax.get_legend_handles_labels()\n",
    "\n",
    "# Create a custom legend with only desired categories\n",
    "desired_labels = ['Category', 'Existing Methods', 'Provided by MOVAL', 'MAE', '0.08', '0.16']\n",
    "desired_handles = [h for h, l in zip(handles, labels) if l in desired_labels]\n",
    "\n",
    "legend = plt.legend(handles=desired_handles, labels=desired_labels, bbox_to_anchor=(1.2, 1), labelspacing=1)"
   ]
  },
  {
   "cell_type": "code",
   "execution_count": 20,
   "id": "3d1afafe-7490-4da1-8c88-5fbdf15ce128",
   "metadata": {},
   "outputs": [
    {
     "name": "stdout",
     "output_type": "stream",
     "text": [
      "p-value annotation legend:\n",
      "      ns: 5.00e-02 < p <= 1.00e+00\n",
      "       *: 1.00e-02 < p <= 5.00e-02\n",
      "      **: 1.00e-03 < p <= 1.00e-02\n",
      "     ***: 1.00e-04 < p <= 1.00e-03\n",
      "    ****: p <= 1.00e-04\n",
      "\n",
      "TS vs. CS TS: Mann-Whitney-Wilcoxon test two-sided, P_val:5.405e-08 U_stat=4.000e+02\n",
      "DoC vs. CS DoC: Mann-Whitney-Wilcoxon test two-sided, P_val:5.405e-08 U_stat=4.000e+02\n",
      "ATC vs. CS ATC: Mann-Whitney-Wilcoxon test two-sided, P_val:5.405e-08 U_stat=4.000e+02\n",
      "TS-ATC vs. CS TS-ATC: Mann-Whitney-Wilcoxon test two-sided, P_val:5.405e-08 U_stat=4.000e+02\n"
     ]
    },
    {
     "data": {
      "text/plain": [
       "(<AxesSubplot:xlabel='Estimation Algorithm', ylabel='MAE'>,\n",
       " [<statannotations.Annotation.Annotation at 0x7fe32aef3e50>,\n",
       "  <statannotations.Annotation.Annotation at 0x7fe32ae470a0>,\n",
       "  <statannotations.Annotation.Annotation at 0x7fe32ae47f70>,\n",
       "  <statannotations.Annotation.Annotation at 0x7fe32ae471c0>])"
      ]
     },
     "execution_count": 20,
     "metadata": {},
     "output_type": "execute_result"
    },
    {
     "data": {
      "image/png": "[encoded data removed]",
      "text/plain": [
       "<Figure size 600x200 with 1 Axes>"
      ]
     },
     "metadata": {},
     "output_type": "display_data"
    }
   ],
   "source": [
    "from statannotations.Annotator import Annotator\n",
    "sns.set(rc={'figure.figsize':(6,2)})\n",
    "sns.set_style(\"white\")\n",
    "ax = sns.barplot(df, x=\"Estimation Algorithm\", y=\"MAE\", color = '#1f77b4')\n",
    "ax.tick_params(axis='x', rotation=15)\n",
    "#\n",
    "ax.spines['top'].set_color('none')\n",
    "ax.spines['right'].set_color('none')\n",
    "ax.spines['bottom'].set_color('none')\n",
    "ax.spines['left'].set_color('none')\n",
    "#\n",
    "pairs=[(\"TS\", \"CS TS\"), (\"DoC\", \"CS DoC\"), (\"ATC\", \"CS ATC\"), (\"TS-ATC\", \"CS TS-ATC\")]\n",
    "\n",
    "annotator = Annotator(ax, pairs, data=df, x=\"Estimation Algorithm\", y=\"MAE\")\n",
    "annotator.configure(test='Mann-Whitney', text_format='star', loc='inside', text_offset=-4)\n",
    "annotator.apply_and_annotate()"
   ]
  },
  {
   "cell_type": "code",
   "execution_count": 21,
   "id": "ab3ff7bd-6395-446d-b645-69b5c4d220dd",
   "metadata": {},
   "outputs": [
    {
     "name": "stdout",
     "output_type": "stream",
     "text": [
      "p-value annotation legend:\n",
      "      ns: 5.00e-02 < p <= 1.00e+00\n",
      "       *: 1.00e-02 < p <= 5.00e-02\n",
      "      **: 1.00e-03 < p <= 1.00e-02\n",
      "     ***: 1.00e-04 < p <= 1.00e-03\n",
      "    ****: p <= 1.00e-04\n",
      "\n",
      "MCP vs. Doctor: Mann-Whitney-Wilcoxon test two-sided, P_val:9.227e-01 U_stat=1.025e+03\n",
      "MCP vs. Entropy: Mann-Whitney-Wilcoxon test two-sided, P_val:2.682e-01 U_stat=1.150e+03\n",
      "MCP vs. Energy: Mann-Whitney-Wilcoxon test two-sided, P_val:1.307e-01 U_stat=1.200e+03\n"
     ]
    },
    {
     "data": {
      "text/plain": [
       "(<AxesSubplot:xlabel='Confidence Score', ylabel='MAE'>,\n",
       " [<statannotations.Annotation.Annotation at 0x7fe32aef3fa0>,\n",
       "  <statannotations.Annotation.Annotation at 0x7fe32aef3f10>,\n",
       "  <statannotations.Annotation.Annotation at 0x7fe32aef3ca0>])"
      ]
     },
     "execution_count": 21,
     "metadata": {},
     "output_type": "execute_result"
    },
    {
     "data": {
      "image/png": "[encoded data removed]",
      "text/plain": [
       "<Figure size 300x200 with 1 Axes>"
      ]
     },
     "metadata": {},
     "output_type": "display_data"
    }
   ],
   "source": [
    "sns.set(rc={'figure.figsize':(3,2)})\n",
    "sns.set_style(\"white\")\n",
    "ax = sns.barplot(df, x=\"Confidence Score\", y=\"MAE\", color = '#1f77b4')\n",
    "ax.tick_params(axis='x', rotation=15)\n",
    "#\n",
    "ax.spines['top'].set_color('none')\n",
    "ax.spines['right'].set_color('none')\n",
    "ax.spines['bottom'].set_color('none')\n",
    "ax.spines['left'].set_color('none')\n",
    "#\n",
    "pairs=[(\"MCP\", \"Doctor\"), (\"MCP\", \"Entropy\"), (\"MCP\", \"Energy\")]\n",
    "\n",
    "annotator = Annotator(ax, pairs, data=df, x=\"Confidence Score\", y=\"MAE\")\n",
    "annotator.configure(test='Mann-Whitney', text_format='star', loc='inside')\n",
    "annotator.apply_and_annotate()"
   ]
  },
  {
   "cell_type": "code",
   "execution_count": 22,
   "id": "36ef192e-b82e-4a68-ba7c-a1d4813cabfe",
   "metadata": {},
   "outputs": [
    {
     "name": "stdout",
     "output_type": "stream",
     "text": [
      "p-value annotation legend:\n",
      "      ns: 5.00e-02 < p <= 1.00e+00\n",
      "       *: 1.00e-02 < p <= 5.00e-02\n",
      "      **: 1.00e-03 < p <= 1.00e-02\n",
      "     ***: 1.00e-04 < p <= 1.00e-03\n",
      "    ****: p <= 1.00e-04\n",
      "\n",
      "ATC_MCP vs. CS TS-ATC_Energy: Mann-Whitney-Wilcoxon test two-sided, P_val:3.977e-03 U_stat=2.500e+01\n"
     ]
    },
    {
     "data": {
      "text/plain": [
       "(<AxesSubplot:xlabel='Estimation Algorithm', ylabel='MAE '>,\n",
       " [<statannotations.Annotation.Annotation at 0x7fe31a24f220>])"
      ]
     },
     "execution_count": 22,
     "metadata": {},
     "output_type": "execute_result"
    },
    {
     "data": {
      "image/png": "[encoded data removed]",
      "text/plain": [
       "<Figure size 1200x300 with 1 Axes>"
      ]
     },
     "metadata": {},
     "output_type": "display_data"
    }
   ],
   "source": [
    "sns.set(rc={'figure.figsize':(12,3)})\n",
    "category_palette = {'MCP': '#e5f0f8',\n",
    "                    'Doctor': '#99c6e4',\n",
    "                    'Entropy': '#4c9cd0',\n",
    "                    'Energy': '#0072bd'\n",
    "                   }\n",
    "ax = sns.boxplot(df, x=\"Estimation Algorithm\", y=\"MAE \", hue=\"Confidence Score\", palette=category_palette)\n",
    "ax.set(ylim=(-0.02, 0.5))\n",
    "sns.move_legend(ax, \"upper left\", bbox_to_anchor=(1, 1))\n",
    "\n",
    "pairs=[\n",
    "    [(\"ATC\", \"MCP\"), (\"CS TS-ATC\", \"Energy\")]\n",
    "]\n",
    "\n",
    "annotator = Annotator(ax, pairs, data=df, x=\"Estimation Algorithm\", y=\"MAE\", hue=\"Confidence Score\")\n",
    "annotator.configure(test='Mann-Whitney', text_format='star', loc='inside')\n",
    "annotator.apply_and_annotate()"
   ]
  },
  {
   "cell_type": "markdown",
   "id": "c437718a",
   "metadata": {},
   "source": [
    "## Estimationg of other metrics"
   ]
  },
  {
   "cell_type": "code",
   "execution_count": null,
   "id": "bdfd0fbb",
   "metadata": {},
   "outputs": [],
   "source": []
  },
  {
   "cell_type": "code",
   "execution_count": null,
   "id": "338c8896",
   "metadata": {},
   "outputs": [],
   "source": []
  }
 ],
 "metadata": {
  "kernelspec": {
   "display_name": "Python 3 (ipykernel)",
   "language": "python",
   "name": "python3"
  },
  "language_info": {
   "codemirror_mode": {
    "name": "ipython",
    "version": 3
   },
   "file_extension": ".py",
   "mimetype": "text/x-python",
   "name": "python",
   "nbconvert_exporter": "python",
   "pygments_lexer": "ipython3",
   "version": "3.9.13"
  }
 },
 "nbformat": 4,
 "nbformat_minor": 5
}
