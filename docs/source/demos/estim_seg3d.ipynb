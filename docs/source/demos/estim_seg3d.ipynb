{
 "cells": [
  {
   "cell_type": "markdown",
   "id": "78e1590e-fe81-42a5-baeb-b5734c62df1a",
   "metadata": {},
   "source": [
    "# Performance Estimation of 3D Segmentation"
   ]
  },
  {
   "cell_type": "markdown",
   "id": "8ba3dd68-4dba-4638-9de1-ab7847d24d90",
   "metadata": {},
   "source": [
    "Consider to download this Jupyter Notebook and run locally, or test it with Colab.\n",
    "<br>\n",
    "[![Download](https://img.shields.io/badge/Download-jupyter-blue)](https://github.com/ZerojumpLine/MOVAL/blob/main/docs/source/demos/estim_seg3d.ipynb)\n",
    "[![Open In Colab](https://colab.research.google.com/assets/colab-badge.svg)](https://colab.research.google.com/drive/1hba4-D7uPKfLsbwy9EY5tFu9syXEEl_L#scrollTo=8ba3dd68-4dba-4638-9de1-ab7847d24d90)"
   ]
  },
  {
   "cell_type": "markdown",
   "id": "c9b5661b-b953-408e-9b23-b05ccdb8a241",
   "metadata": {},
   "source": [
    "* In this notebook, we will show how to evaluate the performance of 3D segmentation tasks.\n",
    "<br>\n",
    "* We provide the model predicted 3D segmentation results (network logits) for this tutorial, which will be download automatically. We also provide the model training code in https://github.com/ZerojumpLine/Robust-Medical-Segmentation.\n",
    "<br>\n",
    "* More specifically, we show an example of estimating the performance under domain shifts on Prostate MRI segmentation (into 2 classes including background and prostate) based on a 3D U-Net. We will utilize the calculated logits on test dataset acquired with a different scanner.\n",
    "<br>\n",
    "* We will calculated model confidence with different confidence scores and varied calibration methods."
   ]
  },
  {
   "cell_type": "code",
   "execution_count": 1,
   "id": "015ad97d-ae79-4b0b-9a01-6ce2d6b14233",
   "metadata": {
    "scrolled": true
   },
   "outputs": [
    {
     "name": "stdout",
     "output_type": "stream",
     "text": [
      "Requirement already satisfied: moval in /Users/zejuli/opt/anaconda3/envs/moval/lib/python3.8/site-packages (0.2.19)\n",
      "Requirement already satisfied: scikit-learn>=1.3.0 in /Users/zejuli/opt/anaconda3/envs/moval/lib/python3.8/site-packages (from moval) (1.3.0)\n",
      "Requirement already satisfied: scipy>=1.8.0 in /Users/zejuli/opt/anaconda3/envs/moval/lib/python3.8/site-packages (from moval) (1.10.1)\n",
      "Requirement already satisfied: pytest in /Users/zejuli/opt/anaconda3/envs/moval/lib/python3.8/site-packages (from moval) (7.4.3)\n",
      "Requirement already satisfied: gdown in /Users/zejuli/opt/anaconda3/envs/moval/lib/python3.8/site-packages (from moval) (4.7.1)\n",
      "Requirement already satisfied: pandas in /Users/zejuli/opt/anaconda3/envs/moval/lib/python3.8/site-packages (from moval) (1.5.3)\n",
      "Requirement already satisfied: nibabel in /Users/zejuli/opt/anaconda3/envs/moval/lib/python3.8/site-packages (from moval) (5.1.0)\n",
      "Requirement already satisfied: numpy>=1.17.3 in /Users/zejuli/opt/anaconda3/envs/moval/lib/python3.8/site-packages (from scikit-learn>=1.3.0->moval) (1.24.4)\n",
      "Requirement already satisfied: joblib>=1.1.1 in /Users/zejuli/opt/anaconda3/envs/moval/lib/python3.8/site-packages (from scikit-learn>=1.3.0->moval) (1.3.1)\n",
      "Requirement already satisfied: threadpoolctl>=2.0.0 in /Users/zejuli/opt/anaconda3/envs/moval/lib/python3.8/site-packages (from scikit-learn>=1.3.0->moval) (3.1.0)\n",
      "Requirement already satisfied: filelock in /Users/zejuli/opt/anaconda3/envs/moval/lib/python3.8/site-packages (from gdown->moval) (3.13.1)\n",
      "Requirement already satisfied: requests[socks] in /Users/zejuli/.local/lib/python3.8/site-packages (from gdown->moval) (2.31.0)\n",
      "Requirement already satisfied: six in /Users/zejuli/.local/lib/python3.8/site-packages (from gdown->moval) (1.16.0)\n",
      "Requirement already satisfied: tqdm in /Users/zejuli/opt/anaconda3/envs/moval/lib/python3.8/site-packages (from gdown->moval) (4.65.0)\n",
      "Requirement already satisfied: beautifulsoup4 in /Users/zejuli/opt/anaconda3/envs/moval/lib/python3.8/site-packages (from gdown->moval) (4.12.2)\n",
      "Requirement already satisfied: importlib-resources>=1.3 in /Users/zejuli/.local/lib/python3.8/site-packages (from nibabel->moval) (5.12.0)\n",
      "Requirement already satisfied: packaging>=17 in /Users/zejuli/opt/anaconda3/envs/moval/lib/python3.8/site-packages (from nibabel->moval) (23.1)\n",
      "Requirement already satisfied: python-dateutil>=2.8.1 in /Users/zejuli/opt/anaconda3/envs/moval/lib/python3.8/site-packages (from pandas->moval) (2.8.2)\n",
      "Requirement already satisfied: pytz>=2020.1 in /Users/zejuli/opt/anaconda3/envs/moval/lib/python3.8/site-packages (from pandas->moval) (2023.3.post1)\n",
      "Requirement already satisfied: iniconfig in /Users/zejuli/opt/anaconda3/envs/moval/lib/python3.8/site-packages (from pytest->moval) (2.0.0)\n",
      "Requirement already satisfied: pluggy<2.0,>=0.12 in /Users/zejuli/opt/anaconda3/envs/moval/lib/python3.8/site-packages (from pytest->moval) (1.3.0)\n",
      "Requirement already satisfied: exceptiongroup>=1.0.0rc8 in /Users/zejuli/opt/anaconda3/envs/moval/lib/python3.8/site-packages (from pytest->moval) (1.1.3)\n",
      "Requirement already satisfied: tomli>=1.0.0 in /Users/zejuli/opt/anaconda3/envs/moval/lib/python3.8/site-packages (from pytest->moval) (2.0.1)\n",
      "Requirement already satisfied: zipp>=3.1.0 in /Users/zejuli/.local/lib/python3.8/site-packages (from importlib-resources>=1.3->nibabel->moval) (3.15.0)\n",
      "Requirement already satisfied: soupsieve>1.2 in /Users/zejuli/opt/anaconda3/envs/moval/lib/python3.8/site-packages (from beautifulsoup4->gdown->moval) (2.5)\n",
      "Requirement already satisfied: charset-normalizer<4,>=2 in /Users/zejuli/.local/lib/python3.8/site-packages (from requests[socks]->gdown->moval) (3.1.0)\n",
      "Requirement already satisfied: idna<4,>=2.5 in /Users/zejuli/.local/lib/python3.8/site-packages (from requests[socks]->gdown->moval) (3.4)\n",
      "Requirement already satisfied: urllib3<3,>=1.21.1 in /Users/zejuli/.local/lib/python3.8/site-packages (from requests[socks]->gdown->moval) (2.0.3)\n",
      "Requirement already satisfied: certifi>=2017.4.17 in /Users/zejuli/.local/lib/python3.8/site-packages (from requests[socks]->gdown->moval) (2023.5.7)\n",
      "Requirement already satisfied: PySocks!=1.5.7,>=1.5.6 in /Users/zejuli/opt/anaconda3/envs/moval/lib/python3.8/site-packages (from requests[socks]->gdown->moval) (1.7.1)\n",
      "Requirement already satisfied: statannotations in /Users/zejuli/opt/anaconda3/envs/moval/lib/python3.8/site-packages (0.6.0)\n",
      "Requirement already satisfied: numpy>=1.12.1 in /Users/zejuli/opt/anaconda3/envs/moval/lib/python3.8/site-packages (from statannotations) (1.24.4)\n",
      "Requirement already satisfied: seaborn<0.12,>=0.9.0 in /Users/zejuli/opt/anaconda3/envs/moval/lib/python3.8/site-packages (from statannotations) (0.11.2)\n",
      "Requirement already satisfied: matplotlib>=2.2.2 in /Users/zejuli/opt/anaconda3/envs/moval/lib/python3.8/site-packages (from statannotations) (3.7.4)\n",
      "Requirement already satisfied: pandas<2.0.0,>=0.23.0 in /Users/zejuli/opt/anaconda3/envs/moval/lib/python3.8/site-packages (from statannotations) (1.5.3)\n",
      "Requirement already satisfied: scipy>=1.1.0 in /Users/zejuli/opt/anaconda3/envs/moval/lib/python3.8/site-packages (from statannotations) (1.10.1)\n",
      "Requirement already satisfied: contourpy>=1.0.1 in /Users/zejuli/opt/anaconda3/envs/moval/lib/python3.8/site-packages (from matplotlib>=2.2.2->statannotations) (1.1.1)\n",
      "Requirement already satisfied: cycler>=0.10 in /Users/zejuli/opt/anaconda3/envs/moval/lib/python3.8/site-packages (from matplotlib>=2.2.2->statannotations) (0.12.1)\n",
      "Requirement already satisfied: fonttools>=4.22.0 in /Users/zejuli/opt/anaconda3/envs/moval/lib/python3.8/site-packages (from matplotlib>=2.2.2->statannotations) (4.46.0)\n",
      "Requirement already satisfied: kiwisolver>=1.0.1 in /Users/zejuli/opt/anaconda3/envs/moval/lib/python3.8/site-packages (from matplotlib>=2.2.2->statannotations) (1.4.5)\n",
      "Requirement already satisfied: packaging>=20.0 in /Users/zejuli/opt/anaconda3/envs/moval/lib/python3.8/site-packages (from matplotlib>=2.2.2->statannotations) (23.1)\n",
      "Requirement already satisfied: pillow>=6.2.0 in /Users/zejuli/opt/anaconda3/envs/moval/lib/python3.8/site-packages (from matplotlib>=2.2.2->statannotations) (10.1.0)\n",
      "Requirement already satisfied: pyparsing>=2.3.1 in /Users/zejuli/opt/anaconda3/envs/moval/lib/python3.8/site-packages (from matplotlib>=2.2.2->statannotations) (3.1.1)\n",
      "Requirement already satisfied: python-dateutil>=2.7 in /Users/zejuli/opt/anaconda3/envs/moval/lib/python3.8/site-packages (from matplotlib>=2.2.2->statannotations) (2.8.2)\n",
      "Requirement already satisfied: importlib-resources>=3.2.0 in /Users/zejuli/.local/lib/python3.8/site-packages (from matplotlib>=2.2.2->statannotations) (5.12.0)\n",
      "Requirement already satisfied: pytz>=2020.1 in /Users/zejuli/opt/anaconda3/envs/moval/lib/python3.8/site-packages (from pandas<2.0.0,>=0.23.0->statannotations) (2023.3.post1)\n",
      "Requirement already satisfied: zipp>=3.1.0 in /Users/zejuli/.local/lib/python3.8/site-packages (from importlib-resources>=3.2.0->matplotlib>=2.2.2->statannotations) (3.15.0)\n",
      "Requirement already satisfied: six>=1.5 in /Users/zejuli/.local/lib/python3.8/site-packages (from python-dateutil>=2.7->matplotlib>=2.2.2->statannotations) (1.16.0)\n",
      "Requirement already satisfied: pandas in /Users/zejuli/opt/anaconda3/envs/moval/lib/python3.8/site-packages (1.5.3)\n",
      "Requirement already satisfied: python-dateutil>=2.8.1 in /Users/zejuli/opt/anaconda3/envs/moval/lib/python3.8/site-packages (from pandas) (2.8.2)\n",
      "Requirement already satisfied: pytz>=2020.1 in /Users/zejuli/opt/anaconda3/envs/moval/lib/python3.8/site-packages (from pandas) (2023.3.post1)\n",
      "Requirement already satisfied: numpy>=1.20.3 in /Users/zejuli/opt/anaconda3/envs/moval/lib/python3.8/site-packages (from pandas) (1.24.4)\n",
      "Requirement already satisfied: six>=1.5 in /Users/zejuli/.local/lib/python3.8/site-packages (from python-dateutil>=2.8.1->pandas) (1.16.0)\n",
      "Requirement already satisfied: tqdm in /Users/zejuli/opt/anaconda3/envs/moval/lib/python3.8/site-packages (4.65.0)\n",
      "\u001b[33mWARNING: Error parsing requirements for seaborn: [Errno 2] No such file or directory: '/Users/zejuli/opt/anaconda3/envs/moval/lib/python3.8/site-packages/seaborn-0.11.2.dist-info/METADATA'\u001b[0m\u001b[33m\n",
      "\u001b[0mRequirement already satisfied: matplotlib in /Users/zejuli/opt/anaconda3/envs/moval/lib/python3.8/site-packages (3.7.4)\n",
      "Requirement already satisfied: contourpy>=1.0.1 in /Users/zejuli/opt/anaconda3/envs/moval/lib/python3.8/site-packages (from matplotlib) (1.1.1)\n",
      "Requirement already satisfied: cycler>=0.10 in /Users/zejuli/opt/anaconda3/envs/moval/lib/python3.8/site-packages (from matplotlib) (0.12.1)\n",
      "Requirement already satisfied: fonttools>=4.22.0 in /Users/zejuli/opt/anaconda3/envs/moval/lib/python3.8/site-packages (from matplotlib) (4.46.0)\n",
      "Requirement already satisfied: kiwisolver>=1.0.1 in /Users/zejuli/opt/anaconda3/envs/moval/lib/python3.8/site-packages (from matplotlib) (1.4.5)\n",
      "Requirement already satisfied: numpy<2,>=1.20 in /Users/zejuli/opt/anaconda3/envs/moval/lib/python3.8/site-packages (from matplotlib) (1.24.4)\n",
      "Requirement already satisfied: packaging>=20.0 in /Users/zejuli/opt/anaconda3/envs/moval/lib/python3.8/site-packages (from matplotlib) (23.1)\n",
      "Requirement already satisfied: pillow>=6.2.0 in /Users/zejuli/opt/anaconda3/envs/moval/lib/python3.8/site-packages (from matplotlib) (10.1.0)\n",
      "Requirement already satisfied: pyparsing>=2.3.1 in /Users/zejuli/opt/anaconda3/envs/moval/lib/python3.8/site-packages (from matplotlib) (3.1.1)\n",
      "Requirement already satisfied: python-dateutil>=2.7 in /Users/zejuli/opt/anaconda3/envs/moval/lib/python3.8/site-packages (from matplotlib) (2.8.2)\n",
      "Requirement already satisfied: importlib-resources>=3.2.0 in /Users/zejuli/.local/lib/python3.8/site-packages (from matplotlib) (5.12.0)\n",
      "Requirement already satisfied: zipp>=3.1.0 in /Users/zejuli/.local/lib/python3.8/site-packages (from importlib-resources>=3.2.0->matplotlib) (3.15.0)\n",
      "Requirement already satisfied: six>=1.5 in /Users/zejuli/.local/lib/python3.8/site-packages (from python-dateutil>=2.7->matplotlib) (1.16.0)\n",
      "Requirement already satisfied: nibabel in /Users/zejuli/opt/anaconda3/envs/moval/lib/python3.8/site-packages (5.1.0)\n",
      "Requirement already satisfied: importlib-resources>=1.3 in /Users/zejuli/.local/lib/python3.8/site-packages (from nibabel) (5.12.0)\n",
      "Requirement already satisfied: numpy>=1.19 in /Users/zejuli/opt/anaconda3/envs/moval/lib/python3.8/site-packages (from nibabel) (1.24.4)\n",
      "Requirement already satisfied: packaging>=17 in /Users/zejuli/opt/anaconda3/envs/moval/lib/python3.8/site-packages (from nibabel) (23.1)\n",
      "Requirement already satisfied: zipp>=3.1.0 in /Users/zejuli/.local/lib/python3.8/site-packages (from importlib-resources>=1.3->nibabel) (3.15.0)\n",
      "Requirement already satisfied: seaborn==0.12 in /Users/zejuli/opt/anaconda3/envs/moval/lib/python3.8/site-packages (0.12.0)\n",
      "Requirement already satisfied: numpy>=1.17 in /Users/zejuli/opt/anaconda3/envs/moval/lib/python3.8/site-packages (from seaborn==0.12) (1.24.4)\n",
      "Requirement already satisfied: pandas>=0.25 in /Users/zejuli/opt/anaconda3/envs/moval/lib/python3.8/site-packages (from seaborn==0.12) (1.5.3)\n",
      "Requirement already satisfied: matplotlib>=3.1 in /Users/zejuli/opt/anaconda3/envs/moval/lib/python3.8/site-packages (from seaborn==0.12) (3.7.4)\n",
      "Requirement already satisfied: contourpy>=1.0.1 in /Users/zejuli/opt/anaconda3/envs/moval/lib/python3.8/site-packages (from matplotlib>=3.1->seaborn==0.12) (1.1.1)\n",
      "Requirement already satisfied: cycler>=0.10 in /Users/zejuli/opt/anaconda3/envs/moval/lib/python3.8/site-packages (from matplotlib>=3.1->seaborn==0.12) (0.12.1)\n",
      "Requirement already satisfied: fonttools>=4.22.0 in /Users/zejuli/opt/anaconda3/envs/moval/lib/python3.8/site-packages (from matplotlib>=3.1->seaborn==0.12) (4.46.0)\n",
      "Requirement already satisfied: kiwisolver>=1.0.1 in /Users/zejuli/opt/anaconda3/envs/moval/lib/python3.8/site-packages (from matplotlib>=3.1->seaborn==0.12) (1.4.5)\n",
      "Requirement already satisfied: packaging>=20.0 in /Users/zejuli/opt/anaconda3/envs/moval/lib/python3.8/site-packages (from matplotlib>=3.1->seaborn==0.12) (23.1)\n",
      "Requirement already satisfied: pillow>=6.2.0 in /Users/zejuli/opt/anaconda3/envs/moval/lib/python3.8/site-packages (from matplotlib>=3.1->seaborn==0.12) (10.1.0)\n",
      "Requirement already satisfied: pyparsing>=2.3.1 in /Users/zejuli/opt/anaconda3/envs/moval/lib/python3.8/site-packages (from matplotlib>=3.1->seaborn==0.12) (3.1.1)\n",
      "Requirement already satisfied: python-dateutil>=2.7 in /Users/zejuli/opt/anaconda3/envs/moval/lib/python3.8/site-packages (from matplotlib>=3.1->seaborn==0.12) (2.8.2)\n",
      "Requirement already satisfied: importlib-resources>=3.2.0 in /Users/zejuli/.local/lib/python3.8/site-packages (from matplotlib>=3.1->seaborn==0.12) (5.12.0)\n",
      "Requirement already satisfied: pytz>=2020.1 in /Users/zejuli/opt/anaconda3/envs/moval/lib/python3.8/site-packages (from pandas>=0.25->seaborn==0.12) (2023.3.post1)\n",
      "Requirement already satisfied: zipp>=3.1.0 in /Users/zejuli/.local/lib/python3.8/site-packages (from importlib-resources>=3.2.0->matplotlib>=3.1->seaborn==0.12) (3.15.0)\n",
      "Requirement already satisfied: six>=1.5 in /Users/zejuli/.local/lib/python3.8/site-packages (from python-dateutil>=2.7->matplotlib>=3.1->seaborn==0.12) (1.16.0)\n"
     ]
    }
   ],
   "source": [
    "!pip install moval\n",
    "!pip install statannotations\n",
    "!pip install pandas\n",
    "!pip install tqdm\n",
    "!pip install matplotlib\n",
    "!pip install nibabel\n",
    "!pip install seaborn==0.12 # because statannotations not support the latest"
   ]
  },
  {
   "cell_type": "code",
   "execution_count": 2,
   "id": "e59b52b4-b5fe-469c-aa24-1449de534cae",
   "metadata": {},
   "outputs": [],
   "source": [
    "import os\n",
    "import gdown\n",
    "import itertools\n",
    "import zipfile\n",
    "import pandas as pd\n",
    "import numpy as np\n",
    "import nibabel as nib\n",
    "import moval\n",
    "from moval.solvers.utils import ComputMetric\n",
    "from tqdm import tqdm\n",
    "import seaborn as sns\n",
    "import matplotlib.pyplot as plt"
   ]
  },
  {
   "cell_type": "code",
   "execution_count": 3,
   "id": "cdf2d2e8-3a26-4193-9583-4d7c8ad6d1aa",
   "metadata": {},
   "outputs": [
    {
     "name": "stdout",
     "output_type": "stream",
     "text": [
      "The installed MOVAL verision is 0.2.19\n",
      "The installed seaborn verision is 0.12.0\n"
     ]
    }
   ],
   "source": [
    "print(f\"The installed MOVAL verision is {moval.__version__}\")\n",
    "print(f\"The installed seaborn verision is {sns.__version__}\")"
   ]
  },
  {
   "cell_type": "markdown",
   "id": "fe14651d-7f62-41dc-8aaf-dcdb4f80e4fd",
   "metadata": {},
   "source": [
    "## Load the data"
   ]
  },
  {
   "cell_type": "code",
   "execution_count": 4,
   "id": "f1dd6df0-d477-408c-96bb-3f560d4dc3d5",
   "metadata": {},
   "outputs": [],
   "source": [
    "# download the data, which we used for MICCAI 2022\n",
    "\n",
    "output = \"data_moval.zip\"\n",
    "if not os.path.exists(output):\n",
    "    url = \"https://drive.google.com/u/0/uc?id=139pqxkG2ccIFq6qNArnFJWQ2by2Spbxt&export=download\"\n",
    "    output = \"data_moval.zip\"\n",
    "    gdown.download(url, output, quiet=False)\n",
    "\n",
    "directory_data = \"data_moval\"\n",
    "if not os.path.exists(directory_data):\n",
    "    with zipfile.ZipFile(output, 'r') as zip_ref:\n",
    "        zip_ref.extractall(directory_data)"
   ]
  },
  {
   "cell_type": "code",
   "execution_count": 5,
   "id": "988c917a-97eb-4b9c-a5ab-5443cfe9e9d6",
   "metadata": {},
   "outputs": [
    {
     "name": "stdout",
     "output_type": "stream",
     "text": [
      "analysis_cls.ipynb    data_moval_supp.zip   \u001b[34mimg_cifar\u001b[m\u001b[m/\n",
      "analysis_seg2d.ipynb  estim_cls.ipynb       img_cifar.zip\n",
      "analysis_seg3d.ipynb  estim_seg2d.ipynb     \u001b[34mimg_prostate\u001b[m\u001b[m/\n",
      "\u001b[34mdata_moval\u001b[m\u001b[m/           estim_seg3d.ipynb     img_prostate.zip\n",
      "data_moval.zip        \u001b[34mimg_cardiac\u001b[m\u001b[m/\n",
      "\u001b[34mdata_moval_supp\u001b[m\u001b[m/      img_cardiac.zip\n"
     ]
    }
   ],
   "source": [
    "ls"
   ]
  },
  {
   "cell_type": "code",
   "execution_count": 6,
   "id": "ee78b79d-d4a4-4019-b011-39b2eb11d96d",
   "metadata": {},
   "outputs": [],
   "source": [
    "# now I am playing with prostate segmentation\n",
    "Datafile_eval = \"data_moval/Prostateresults/seg-eval.txt\"\n",
    "Imglist_eval = open(Datafile_eval)\n",
    "Imglist_eval_read = Imglist_eval.read().splitlines()\n",
    "\n",
    "logits = []\n",
    "gt = []\n",
    "# to accelerate the debugging speed, crop the middel 60 x 60 x 30 cub for training/inference.\n",
    "for Imgname_eval in Imglist_eval_read:\n",
    "    GT_file = Imgname_eval.replace(\"data\", \"data_moval\")\n",
    "    caseID = Imgname_eval.split(\"/\")[-1][:6]\n",
    "    logit_cls0_file = \"data_moval/Prostateresults/prostateval/results/pred_\" + caseID + \"cls0_prob.nii.gz\"\n",
    "    logit_cls1_file = \"data_moval/Prostateresults/prostateval/results/pred_\" + caseID + \"cls1_prob.nii.gz\"\n",
    "    logit_cls0_read = nib.load(logit_cls0_file)\n",
    "    logit_cls1_read = nib.load(logit_cls1_file)\n",
    "    logit_cls0      = logit_cls0_read.get_fdata()   # ``(H, W, D)``\n",
    "    logit_cls1      = logit_cls1_read.get_fdata()\n",
    "    GT_read         = nib.load(GT_file)\n",
    "    GTimg           = GT_read.get_fdata()           # ``(H, W, D)``\n",
    "    logit_cls0      = logit_cls0[logit_cls0.shape[0] //2 - 30: logit_cls0.shape[0] //2 + 30,\n",
    "                                 logit_cls0.shape[1] //2 - 30: logit_cls0.shape[1] //2 + 30,\n",
    "                                 logit_cls0.shape[2] //2 - 15: logit_cls0.shape[2] //2 + 15]\n",
    "    logit_cls1      = logit_cls1[logit_cls1.shape[0] //2 - 30: logit_cls1.shape[0] //2 + 30,\n",
    "                                 logit_cls1.shape[1] //2 - 30: logit_cls1.shape[1] //2 + 30,\n",
    "                                 logit_cls1.shape[2] //2 - 15: logit_cls1.shape[2] //2 + 15]\n",
    "    GTimg           = GTimg[GTimg.shape[0] //2 - 30: GTimg.shape[0] //2 + 30,\n",
    "                            GTimg.shape[1] //2 - 30: GTimg.shape[1] //2 + 30,\n",
    "                            GTimg.shape[2] //2 - 15: GTimg.shape[2] //2 + 15]\n",
    "    logit_cls = np.stack((logit_cls0, logit_cls1))  # ``(d, H, W, D)``\n",
    "    logits.append(logit_cls)\n",
    "    gt.append(GTimg)\n",
    "\n",
    "# logits is a list of length ``n``,  each element has ``(d, H, W, D)``. \n",
    "# gt is a list of length ``n``,  each element has ``(H, W, D)``.\n",
    "# H, W and D could differ for different cases.\n",
    "\n",
    "Datafile_test = \"data_moval/Prostateresults/seg-testA.txt\"\n",
    "Imglist_test = open(Datafile_test)\n",
    "Imglist_test_read = Imglist_test.read().splitlines()\n",
    "\n",
    "logits_test = []\n",
    "gt_test = []\n",
    "for Imgname_test in Imglist_test_read:\n",
    "    GT_file = Imgname_test.replace(\"data\", \"data_moval\")\n",
    "\n",
    "    caseID = Imgname_test.split(\"/\")[-1][:6]\n",
    "\n",
    "    logit_cls0_file = \"data_moval/Prostateresults/prostattestcondition_A/results/pred_\" + caseID + \"cls0_prob.nii.gz\"\n",
    "    logit_cls1_file = \"data_moval/Prostateresults/prostattestcondition_A/results/pred_\" + caseID + \"cls1_prob.nii.gz\"\n",
    "\n",
    "    logit_cls0_read = nib.load(logit_cls0_file)\n",
    "    logit_cls1_read = nib.load(logit_cls1_file)\n",
    "    logit_cls0      = logit_cls0_read.get_fdata()\n",
    "    logit_cls1      = logit_cls1_read.get_fdata()\n",
    "    GT_read         = nib.load(GT_file)\n",
    "    GTimg           = GT_read.get_fdata()           # ``(H', W', D')``\n",
    "\n",
    "    logit_cls = np.stack((logit_cls0, logit_cls1))  # ``(n', H', W', D')``\n",
    "    \n",
    "    logits_test.append(logit_cls)\n",
    "    gt_test.append(GTimg)\n",
    "\n",
    "\n",
    "# logits_test is a list of length ``n'``,  each element has ``(d, H', W', D')``. \n",
    "# gt_test is a list of length ``n'``,  each element has ``(H', W', D')``.\n",
    "# H, W and D could differ for different cases."
   ]
  },
  {
   "cell_type": "code",
   "execution_count": 7,
   "id": "891ccb3c-af2f-4d68-87bc-129630c4f6a4",
   "metadata": {},
   "outputs": [
    {
     "name": "stdout",
     "output_type": "stream",
     "text": [
      "The validation predictions, ``logits`` are a list of length 10 each element has approximately (2, 60, 60, 30)\n",
      "The validation labels, ``gt`` are a list of length 10, each element has approximately (60, 60, 30)\n",
      "\n",
      "The test predictions, ``logits_test`` are a list of length 2 each element has approximately (2, 256, 256, 40)\n",
      "The test labels, ``gt_test`` are a list of length 2, each element has approximately (256, 256, 40)\n"
     ]
    }
   ],
   "source": [
    "print(f\"The validation predictions, ``logits`` are a list of length {len(logits)} each element has approximately {logits[0].shape}\")\n",
    "print(f\"The validation labels, ``gt`` are a list of length {len(gt)}, each element has approximately {gt[0].shape}\\n\")\n",
    "print(f\"The test predictions, ``logits_test`` are a list of length {len(logits_test)} each element has approximately {logits_test[0].shape}\")\n",
    "print(f\"The test labels, ``gt_test`` are a list of length {len(gt_test)}, each element has approximately {gt_test[0].shape}\")"
   ]
  },
  {
   "cell_type": "markdown",
   "id": "b530131b-feee-4cad-a54e-7acf506063db",
   "metadata": {},
   "source": [
    "## MOVAL estimation"
   ]
  },
  {
   "cell_type": "code",
   "execution_count": 8,
   "id": "29c9b3f1-8d3e-4f0d-aacb-9cb362f6d5de",
   "metadata": {},
   "outputs": [],
   "source": [
    "moval_options = list(itertools.product(moval.models.get_estim_options(),\n",
    "                               [\"segmentation\"],\n",
    "                               moval.models.get_conf_options(),\n",
    "                               [False, True]))"
   ]
  },
  {
   "cell_type": "code",
   "execution_count": 9,
   "id": "c7ec3b5e-54da-49e0-bd53-c94ecf2b89f4",
   "metadata": {},
   "outputs": [],
   "source": [
    "# ac-model does not need class-speicfic variants\n",
    "for moval_option in moval_options:\n",
    "    if moval_option[0] == 'ac-model' and moval_option[-1] == True:\n",
    "        moval_options.remove(moval_option)"
   ]
  },
  {
   "cell_type": "code",
   "execution_count": 10,
   "id": "cdb30ae2-84e5-452a-8d8c-6795df9d30cf",
   "metadata": {},
   "outputs": [
    {
     "name": "stdout",
     "output_type": "stream",
     "text": [
      "The number of moval options is 36\n"
     ]
    }
   ],
   "source": [
    "print(f\"The number of moval options is {len(moval_options)}\")"
   ]
  },
  {
   "cell_type": "code",
   "execution_count": 11,
   "id": "f712cb2c-3abc-4da9-b1bc-055ee70f0120",
   "metadata": {},
   "outputs": [],
   "source": [
    "def test_cls(estim_algorithm, mode, confidence_scores, class_specific, logits, gt, logits_test, gt_test):\n",
    "    \"\"\"Test MOVAL with different conditions for segmentation tasks\n",
    "        \n",
    "    Args:\n",
    "        mode (str): The given task to estimate model performance.\n",
    "        confidence_scores (str):\n",
    "            The method to calculate the confidence scores. We provide a list of confidence score calculation methods which \n",
    "            can be displayed by running :py:func:`moval.models.get_conf_options`.\n",
    "        estim_algorithm (str):\n",
    "            The algorithm to estimate model performance. We also provide a list of estimation algorithm which can be displayed by\n",
    "            running :py:func:`moval.models.get_estim_options`.\n",
    "        class_specific (bool):\n",
    "            If ``True``, the calculation will match class-wise confidence to class-wise accuracy.\n",
    "        logits: The network output (logits) of a list of n ``(d, H, W, (D))`` for segmentation. \n",
    "        gt: The cooresponding annotation of a list of n ``(H, W, (D))`` for segmentation.\n",
    "        logits_test:  The network testing output (logits) of a list of n' ``(d, H', W', (D'))`` for segmentation. \n",
    "        gt_test: The cooresponding testing annotation of a list of n' ``(H', W', (D'))`` for segmentation.\n",
    "\n",
    "    Returns:\n",
    "        err_test (float): testing error.\n",
    "        moval_model: Optimized moval model.\n",
    "\n",
    "    \"\"\"\n",
    "    \n",
    "    moval_model = moval.MOVAL(\n",
    "                mode = mode,\n",
    "                metric = \"f1score\",\n",
    "                confidence_scores = confidence_scores,\n",
    "                estim_algorithm = estim_algorithm,\n",
    "                class_specific = class_specific\n",
    "                )\n",
    "\n",
    "    #\n",
    "    moval_model.fit(logits, gt)\n",
    "\n",
    "    # save the test err in the result files.\n",
    "\n",
    "    estim_dsc_test = moval_model.estimate(logits_test)\n",
    "\n",
    "    DSC_list_test = []\n",
    "    for n_case in range(len(logits_test)):\n",
    "        pred_case   = np.argmax(logits_test[n_case], axis = 0) # ``(H', W', (D'))``\n",
    "        gt_case     = gt_test[n_case] # ``(H', W', (D'))``\n",
    "\n",
    "        DSC, _, _ = ComputMetric(pred_case == 1, gt_case == 1)\n",
    "        DSC_list_test.append(DSC)\n",
    "    m_DSC_test = np.mean(np.array(DSC_list_test))\n",
    "\n",
    "    err_test = np.abs( m_DSC_test - estim_dsc_test[1:] )\n",
    "\n",
    "    return err_test, moval_model"
   ]
  },
  {
   "cell_type": "code",
   "execution_count": 12,
   "id": "5d464f40-8cf5-45ca-a006-6cd1eeaa402a",
   "metadata": {},
   "outputs": [],
   "source": [
    "err_test_list = []\n",
    "moval_parameters = []\n",
    "moval_parameters_ = []"
   ]
  },
  {
   "cell_type": "code",
   "execution_count": 13,
   "id": "02be912a-16dc-4bd2-9476-3ab798ac41d4",
   "metadata": {
    "scrolled": true
   },
   "outputs": [
    {
     "name": "stderr",
     "output_type": "stream",
     "text": [
      "  0%|                                                                                                                                                                 | 0/36 [00:00<?, ?it/s]"
     ]
    },
    {
     "name": "stdout",
     "output_type": "stream",
     "text": [
      "Starting optimizing for model ac-model with confidence max_class_probability-conf based on metric f1score, class specific is False.\n",
      "Calculating and saving the fitted case-wise performance...\n"
     ]
    },
    {
     "name": "stderr",
     "output_type": "stream",
     "text": [
      "  3%|████▎                                                                                                                                                    | 1/36 [00:01<01:07,  1.94s/it]"
     ]
    },
    {
     "name": "stdout",
     "output_type": "stream",
     "text": [
      "Starting optimizing for model ac-model with confidence energy-conf based on metric f1score, class specific is False.\n",
      "Calculating and saving the fitted case-wise performance...\n"
     ]
    },
    {
     "name": "stderr",
     "output_type": "stream",
     "text": [
      "  6%|████████▌                                                                                                                                                | 2/36 [00:03<00:53,  1.58s/it]"
     ]
    },
    {
     "name": "stdout",
     "output_type": "stream",
     "text": [
      "Starting optimizing for model ac-model with confidence entropy-conf based on metric f1score, class specific is False.\n",
      "Calculating and saving the fitted case-wise performance...\n"
     ]
    },
    {
     "name": "stderr",
     "output_type": "stream",
     "text": [
      "  8%|████████████▊                                                                                                                                            | 3/36 [00:04<00:53,  1.62s/it]"
     ]
    },
    {
     "name": "stdout",
     "output_type": "stream",
     "text": [
      "Starting optimizing for model ac-model with confidence doctor-conf based on metric f1score, class specific is False.\n",
      "Calculating and saving the fitted case-wise performance...\n"
     ]
    },
    {
     "name": "stderr",
     "output_type": "stream",
     "text": [
      " 11%|█████████████████                                                                                                                                        | 4/36 [00:06<00:52,  1.64s/it]"
     ]
    },
    {
     "name": "stdout",
     "output_type": "stream",
     "text": [
      "Starting optimizing for model ts-model with confidence max_class_probability-conf based on metric f1score, class specific is False.\n",
      "Opitimizing with 10 samples...\n",
      "Be patient, it should take a while...\n",
      "Calculating and saving the fitted case-wise performance...\n"
     ]
    },
    {
     "name": "stderr",
     "output_type": "stream",
     "text": [
      " 14%|█████████████████████▎                                                                                                                                   | 5/36 [00:16<02:18,  4.45s/it]"
     ]
    },
    {
     "name": "stdout",
     "output_type": "stream",
     "text": [
      "Starting optimizing for model ts-model with confidence max_class_probability-conf based on metric accuracy, class specific is False.\n",
      "Opitimizing with 10 samples...\n",
      "Be patient, it should take a while...\n",
      "Starting optimizing for model ts-model with confidence max_class_probability-conf based on metric f1score, class specific is True.\n",
      "Opitimizing with 10 samples...\n",
      "Be patient, it should take a while...\n",
      "Calculating and saving the fitted case-wise performance...\n"
     ]
    },
    {
     "name": "stderr",
     "output_type": "stream",
     "text": [
      " 17%|█████████████████████████▌                                                                                                                               | 6/36 [00:38<05:21, 10.72s/it]"
     ]
    },
    {
     "name": "stdout",
     "output_type": "stream",
     "text": [
      "Starting optimizing for model ts-model with confidence energy-conf based on metric f1score, class specific is False.\n",
      "Opitimizing with 10 samples...\n",
      "Be patient, it should take a while...\n"
     ]
    },
    {
     "name": "stderr",
     "output_type": "stream",
     "text": [
      "/Users/zejuli/opt/anaconda3/envs/moval/lib/python3.8/site-packages/moval/models/utils.py:39: RuntimeWarning: overflow encountered in exp\n",
      "  denominator = np.sum(np.exp(x.transpose() / T), axis=0)\n",
      "/Users/zejuli/opt/anaconda3/envs/moval/lib/python3.8/site-packages/moval/models/utils.py:40: RuntimeWarning: divide by zero encountered in log\n",
      "  energy = - T * np.log(denominator)\n",
      "/Users/zejuli/opt/anaconda3/envs/moval/lib/python3.8/site-packages/moval/models/model.py:150: RuntimeWarning: invalid value encountered in subtract\n",
      "  normalized_score =  (scores[n_case] - self.min_value) / (self.max_value - self.min_value + e1)\n",
      "/Users/zejuli/opt/anaconda3/envs/moval/lib/python3.8/site-packages/moval/models/model.py:150: RuntimeWarning: invalid value encountered in divide\n",
      "  normalized_score =  (scores[n_case] - self.min_value) / (self.max_value - self.min_value + e1)\n"
     ]
    },
    {
     "name": "stdout",
     "output_type": "stream",
     "text": [
      "Not satisfied with initial optimization results of param, trying more initial states...\n",
      "Tried 1/2 times.\n",
      "Tried 2/2 times.\n",
      "Calculating and saving the fitted case-wise performance...\n"
     ]
    },
    {
     "name": "stderr",
     "output_type": "stream",
     "text": [
      " 19%|█████████████████████████████▊                                                                                                                           | 7/36 [01:17<09:34, 19.82s/it]"
     ]
    },
    {
     "name": "stdout",
     "output_type": "stream",
     "text": [
      "Starting optimizing for model ts-model with confidence energy-conf based on metric accuracy, class specific is False.\n",
      "Opitimizing with 10 samples...\n",
      "Be patient, it should take a while...\n",
      "Not satisfied with initial optimization results of param, trying more initial states...\n",
      "Tried 1/2 times.\n",
      "Tried 2/2 times.\n",
      "Starting optimizing for model ts-model with confidence energy-conf based on metric f1score, class specific is True.\n",
      "Opitimizing with 10 samples...\n",
      "Be patient, it should take a while...\n",
      "Calculating and saving the fitted case-wise performance...\n"
     ]
    },
    {
     "name": "stderr",
     "output_type": "stream",
     "text": [
      " 22%|██████████████████████████████████                                                                                                                       | 8/36 [02:12<14:30, 31.08s/it]"
     ]
    },
    {
     "name": "stdout",
     "output_type": "stream",
     "text": [
      "Starting optimizing for model ts-model with confidence entropy-conf based on metric f1score, class specific is False.\n",
      "Opitimizing with 10 samples...\n",
      "Be patient, it should take a while...\n",
      "Calculating and saving the fitted case-wise performance...\n"
     ]
    },
    {
     "name": "stderr",
     "output_type": "stream",
     "text": [
      " 25%|██████████████████████████████████████▎                                                                                                                  | 9/36 [02:21<10:51, 24.13s/it]"
     ]
    },
    {
     "name": "stdout",
     "output_type": "stream",
     "text": [
      "Starting optimizing for model ts-model with confidence entropy-conf based on metric accuracy, class specific is False.\n",
      "Opitimizing with 10 samples...\n",
      "Be patient, it should take a while...\n",
      "Starting optimizing for model ts-model with confidence entropy-conf based on metric f1score, class specific is True.\n",
      "Opitimizing with 10 samples...\n",
      "Be patient, it should take a while...\n",
      "Calculating and saving the fitted case-wise performance...\n"
     ]
    },
    {
     "name": "stderr",
     "output_type": "stream",
     "text": [
      " 28%|██████████████████████████████████████████▏                                                                                                             | 10/36 [02:40<09:48, 22.63s/it]"
     ]
    },
    {
     "name": "stdout",
     "output_type": "stream",
     "text": [
      "Starting optimizing for model ts-model with confidence doctor-conf based on metric f1score, class specific is False.\n",
      "Opitimizing with 10 samples...\n",
      "Be patient, it should take a while...\n",
      "Calculating and saving the fitted case-wise performance...\n"
     ]
    },
    {
     "name": "stderr",
     "output_type": "stream",
     "text": [
      " 31%|██████████████████████████████████████████████▍                                                                                                         | 11/36 [02:49<07:38, 18.35s/it]"
     ]
    },
    {
     "name": "stdout",
     "output_type": "stream",
     "text": [
      "Starting optimizing for model ts-model with confidence doctor-conf based on metric accuracy, class specific is False.\n",
      "Opitimizing with 10 samples...\n",
      "Be patient, it should take a while...\n",
      "Starting optimizing for model ts-model with confidence doctor-conf based on metric f1score, class specific is True.\n",
      "Opitimizing with 10 samples...\n",
      "Be patient, it should take a while...\n",
      "Calculating and saving the fitted case-wise performance...\n"
     ]
    },
    {
     "name": "stderr",
     "output_type": "stream",
     "text": [
      " 33%|██████████████████████████████████████████████████▋                                                                                                     | 12/36 [03:11<07:44, 19.35s/it]"
     ]
    },
    {
     "name": "stdout",
     "output_type": "stream",
     "text": [
      "Starting optimizing for model doc-model with confidence max_class_probability-conf based on metric f1score, class specific is False.\n",
      "Opitimizing with 10 samples...\n",
      "Be patient, it should take a while...\n",
      "Calculating and saving the fitted case-wise performance...\n"
     ]
    },
    {
     "name": "stderr",
     "output_type": "stream",
     "text": [
      " 36%|██████████████████████████████████████████████████████▉                                                                                                 | 13/36 [03:19<06:06, 15.92s/it]"
     ]
    },
    {
     "name": "stdout",
     "output_type": "stream",
     "text": [
      "Starting optimizing for model doc-model with confidence max_class_probability-conf based on metric accuracy, class specific is False.\n",
      "Opitimizing with 10 samples...\n",
      "Be patient, it should take a while...\n",
      "Starting optimizing for model doc-model with confidence max_class_probability-conf based on metric f1score, class specific is True.\n",
      "Opitimizing with 10 samples...\n",
      "Be patient, it should take a while...\n",
      "Calculating and saving the fitted case-wise performance...\n"
     ]
    },
    {
     "name": "stderr",
     "output_type": "stream",
     "text": [
      " 39%|███████████████████████████████████████████████████████████                                                                                             | 14/36 [03:38<06:11, 16.86s/it]"
     ]
    },
    {
     "name": "stdout",
     "output_type": "stream",
     "text": [
      "Starting optimizing for model doc-model with confidence energy-conf based on metric f1score, class specific is False.\n",
      "Opitimizing with 10 samples...\n",
      "Be patient, it should take a while...\n",
      "Calculating and saving the fitted case-wise performance...\n"
     ]
    },
    {
     "name": "stderr",
     "output_type": "stream",
     "text": [
      " 42%|███████████████████████████████████████████████████████████████▎                                                                                        | 15/36 [03:44<04:50, 13.81s/it]"
     ]
    },
    {
     "name": "stdout",
     "output_type": "stream",
     "text": [
      "Starting optimizing for model doc-model with confidence energy-conf based on metric accuracy, class specific is False.\n",
      "Opitimizing with 10 samples...\n",
      "Be patient, it should take a while...\n",
      "Starting optimizing for model doc-model with confidence energy-conf based on metric f1score, class specific is True.\n",
      "Opitimizing with 10 samples...\n",
      "Be patient, it should take a while...\n",
      "Calculating and saving the fitted case-wise performance...\n"
     ]
    },
    {
     "name": "stderr",
     "output_type": "stream",
     "text": [
      " 44%|███████████████████████████████████████████████████████████████████▌                                                                                    | 16/36 [04:01<04:53, 14.69s/it]"
     ]
    },
    {
     "name": "stdout",
     "output_type": "stream",
     "text": [
      "Starting optimizing for model doc-model with confidence entropy-conf based on metric f1score, class specific is False.\n",
      "Opitimizing with 10 samples...\n",
      "Be patient, it should take a while...\n",
      "Calculating and saving the fitted case-wise performance...\n"
     ]
    },
    {
     "name": "stderr",
     "output_type": "stream",
     "text": [
      " 47%|███████████████████████████████████████████████████████████████████████▊                                                                                | 17/36 [04:09<04:02, 12.76s/it]"
     ]
    },
    {
     "name": "stdout",
     "output_type": "stream",
     "text": [
      "Starting optimizing for model doc-model with confidence entropy-conf based on metric accuracy, class specific is False.\n",
      "Opitimizing with 10 samples...\n",
      "Be patient, it should take a while...\n",
      "Starting optimizing for model doc-model with confidence entropy-conf based on metric f1score, class specific is True.\n",
      "Opitimizing with 10 samples...\n",
      "Be patient, it should take a while...\n",
      "Calculating and saving the fitted case-wise performance...\n"
     ]
    },
    {
     "name": "stderr",
     "output_type": "stream",
     "text": [
      " 50%|████████████████████████████████████████████████████████████████████████████                                                                            | 18/36 [04:28<04:21, 14.52s/it]"
     ]
    },
    {
     "name": "stdout",
     "output_type": "stream",
     "text": [
      "Starting optimizing for model doc-model with confidence doctor-conf based on metric f1score, class specific is False.\n",
      "Opitimizing with 10 samples...\n",
      "Be patient, it should take a while...\n",
      "Calculating and saving the fitted case-wise performance...\n"
     ]
    },
    {
     "name": "stderr",
     "output_type": "stream",
     "text": [
      " 53%|████████████████████████████████████████████████████████████████████████████████▏                                                                       | 19/36 [04:35<03:30, 12.40s/it]"
     ]
    },
    {
     "name": "stdout",
     "output_type": "stream",
     "text": [
      "Starting optimizing for model doc-model with confidence doctor-conf based on metric accuracy, class specific is False.\n",
      "Opitimizing with 10 samples...\n",
      "Be patient, it should take a while...\n",
      "Starting optimizing for model doc-model with confidence doctor-conf based on metric f1score, class specific is True.\n",
      "Opitimizing with 10 samples...\n",
      "Be patient, it should take a while...\n",
      "Calculating and saving the fitted case-wise performance...\n"
     ]
    },
    {
     "name": "stderr",
     "output_type": "stream",
     "text": [
      " 56%|████████████████████████████████████████████████████████████████████████████████████▍                                                                   | 20/36 [04:53<03:44, 14.03s/it]"
     ]
    },
    {
     "name": "stdout",
     "output_type": "stream",
     "text": [
      "Starting optimizing for model atc-model with confidence max_class_probability-conf based on metric f1score, class specific is False.\n",
      "Opitimizing with 10 samples...\n",
      "Be patient, it should take a while...\n",
      "Calculating and saving the fitted case-wise performance...\n"
     ]
    },
    {
     "name": "stderr",
     "output_type": "stream",
     "text": [
      " 58%|████████████████████████████████████████████████████████████████████████████████████████▋                                                               | 21/36 [05:02<03:07, 12.53s/it]"
     ]
    },
    {
     "name": "stdout",
     "output_type": "stream",
     "text": [
      "Starting optimizing for model atc-model with confidence max_class_probability-conf based on metric accuracy, class specific is False.\n",
      "Opitimizing with 10 samples...\n",
      "Be patient, it should take a while...\n",
      "Starting optimizing for model atc-model with confidence max_class_probability-conf based on metric f1score, class specific is True.\n",
      "Opitimizing with 10 samples...\n",
      "Be patient, it should take a while...\n",
      "Calculating and saving the fitted case-wise performance...\n"
     ]
    },
    {
     "name": "stderr",
     "output_type": "stream",
     "text": [
      " 61%|████████████████████████████████████████████████████████████████████████████████████████████▉                                                           | 22/36 [05:23<03:28, 14.89s/it]"
     ]
    },
    {
     "name": "stdout",
     "output_type": "stream",
     "text": [
      "Starting optimizing for model atc-model with confidence energy-conf based on metric f1score, class specific is False.\n",
      "Opitimizing with 10 samples...\n",
      "Be patient, it should take a while...\n",
      "Not satisfied with initial optimization results of param, trying more initial states...\n",
      "Tried 1/2 times.\n",
      "Tried 2/2 times.\n",
      "Calculating and saving the fitted case-wise performance...\n"
     ]
    },
    {
     "name": "stderr",
     "output_type": "stream",
     "text": [
      " 64%|█████████████████████████████████████████████████████████████████████████████████████████████████                                                       | 23/36 [05:34<02:59, 13.79s/it]"
     ]
    },
    {
     "name": "stdout",
     "output_type": "stream",
     "text": [
      "Starting optimizing for model atc-model with confidence energy-conf based on metric accuracy, class specific is False.\n",
      "Opitimizing with 10 samples...\n",
      "Be patient, it should take a while...\n",
      "Not satisfied with initial optimization results of param, trying more initial states...\n",
      "Tried 1/2 times.\n",
      "Tried 2/2 times.\n",
      "Starting optimizing for model atc-model with confidence energy-conf based on metric f1score, class specific is True.\n",
      "Opitimizing with 10 samples...\n",
      "Be patient, it should take a while...\n",
      "Not satisfied with initial optimization results of param for class 1, trying more initial states...\n",
      "Tried 1/2 times.\n",
      "Tried 2/2 times.\n",
      "Calculating and saving the fitted case-wise performance...\n"
     ]
    },
    {
     "name": "stderr",
     "output_type": "stream",
     "text": [
      " 67%|█████████████████████████████████████████████████████████████████████████████████████████████████████▎                                                  | 24/36 [06:15<04:23, 21.95s/it]"
     ]
    },
    {
     "name": "stdout",
     "output_type": "stream",
     "text": [
      "Starting optimizing for model atc-model with confidence entropy-conf based on metric f1score, class specific is False.\n",
      "Opitimizing with 10 samples...\n",
      "Be patient, it should take a while...\n",
      "Calculating and saving the fitted case-wise performance...\n"
     ]
    },
    {
     "name": "stderr",
     "output_type": "stream",
     "text": [
      " 69%|█████████████████████████████████████████████████████████████████████████████████████████████████████████▌                                              | 25/36 [06:25<03:23, 18.49s/it]"
     ]
    },
    {
     "name": "stdout",
     "output_type": "stream",
     "text": [
      "Starting optimizing for model atc-model with confidence entropy-conf based on metric accuracy, class specific is False.\n",
      "Opitimizing with 10 samples...\n",
      "Be patient, it should take a while...\n",
      "Starting optimizing for model atc-model with confidence entropy-conf based on metric f1score, class specific is True.\n",
      "Opitimizing with 10 samples...\n",
      "Be patient, it should take a while...\n",
      "Calculating and saving the fitted case-wise performance...\n"
     ]
    },
    {
     "name": "stderr",
     "output_type": "stream",
     "text": [
      " 72%|█████████████████████████████████████████████████████████████████████████████████████████████████████████████▊                                          | 26/36 [06:49<03:20, 20.06s/it]"
     ]
    },
    {
     "name": "stdout",
     "output_type": "stream",
     "text": [
      "Starting optimizing for model atc-model with confidence doctor-conf based on metric f1score, class specific is False.\n",
      "Opitimizing with 10 samples...\n",
      "Be patient, it should take a while...\n",
      "Calculating and saving the fitted case-wise performance...\n"
     ]
    },
    {
     "name": "stderr",
     "output_type": "stream",
     "text": [
      " 75%|██████████████████████████████████████████████████████████████████████████████████████████████████████████████████                                      | 27/36 [06:58<02:30, 16.76s/it]"
     ]
    },
    {
     "name": "stdout",
     "output_type": "stream",
     "text": [
      "Starting optimizing for model atc-model with confidence doctor-conf based on metric accuracy, class specific is False.\n",
      "Opitimizing with 10 samples...\n",
      "Be patient, it should take a while...\n",
      "Starting optimizing for model atc-model with confidence doctor-conf based on metric f1score, class specific is True.\n",
      "Opitimizing with 10 samples...\n",
      "Be patient, it should take a while...\n",
      "Calculating and saving the fitted case-wise performance...\n"
     ]
    },
    {
     "name": "stderr",
     "output_type": "stream",
     "text": [
      " 78%|██████████████████████████████████████████████████████████████████████████████████████████████████████████████████████▏                                 | 28/36 [07:19<02:24, 18.11s/it]"
     ]
    },
    {
     "name": "stdout",
     "output_type": "stream",
     "text": [
      "Starting optimizing for model ts-atc-model with confidence max_class_probability-conf based on metric f1score, class specific is False.\n",
      "Opitimizing with 10 samples...\n",
      "Be patient, it should take a while...\n",
      "Calculating and saving the fitted case-wise performance...\n"
     ]
    },
    {
     "name": "stderr",
     "output_type": "stream",
     "text": [
      " 81%|██████████████████████████████████████████████████████████████████████████████████████████████████████████████████████████▍                             | 29/36 [07:36<02:04, 17.73s/it]"
     ]
    },
    {
     "name": "stdout",
     "output_type": "stream",
     "text": [
      "Starting optimizing for model ts-atc-model with confidence max_class_probability-conf based on metric accuracy, class specific is False.\n",
      "Opitimizing with 10 samples...\n",
      "Be patient, it should take a while...\n",
      "Starting optimizing for model ts-atc-model with confidence max_class_probability-conf based on metric f1score, class specific is True.\n",
      "Opitimizing with 10 samples...\n",
      "Be patient, it should take a while...\n",
      "Calculating and saving the fitted case-wise performance...\n"
     ]
    },
    {
     "name": "stderr",
     "output_type": "stream",
     "text": [
      " 83%|██████████████████████████████████████████████████████████████████████████████████████████████████████████████████████████████▋                         | 30/36 [08:20<02:33, 25.58s/it]"
     ]
    },
    {
     "name": "stdout",
     "output_type": "stream",
     "text": [
      "Starting optimizing for model ts-atc-model with confidence energy-conf based on metric f1score, class specific is False.\n",
      "Opitimizing with 10 samples...\n",
      "Be patient, it should take a while...\n",
      "Not satisfied with initial optimization results of param, trying more initial states...\n",
      "Tried 1/2 times.\n",
      "Tried 2/2 times.\n",
      "Not satisfied with initial optimization results of param_ext, trying more initial states...\n",
      "Tried 1/2 times.\n",
      "Tried 2/2 times.\n",
      "Calculating and saving the fitted case-wise performance...\n"
     ]
    },
    {
     "name": "stderr",
     "output_type": "stream",
     "text": [
      " 86%|██████████████████████████████████████████████████████████████████████████████████████████████████████████████████████████████████▉                     | 31/36 [09:11<02:46, 33.21s/it]"
     ]
    },
    {
     "name": "stdout",
     "output_type": "stream",
     "text": [
      "Starting optimizing for model ts-atc-model with confidence energy-conf based on metric accuracy, class specific is False.\n",
      "Opitimizing with 10 samples...\n",
      "Be patient, it should take a while...\n",
      "Not satisfied with initial optimization results of param, trying more initial states...\n",
      "Tried 1/2 times.\n",
      "Tried 2/2 times.\n",
      "Not satisfied with initial optimization results of param_ext, trying more initial states...\n",
      "Tried 1/2 times.\n",
      "Tried 2/2 times.\n",
      "Starting optimizing for model ts-atc-model with confidence energy-conf based on metric f1score, class specific is True.\n",
      "Opitimizing with 10 samples...\n",
      "Be patient, it should take a while...\n",
      "Not satisfied with initial optimization results of param_ext for class 1, trying more initial states...\n",
      "Tried 1/2 times.\n",
      "Tried 2/2 times.\n",
      "[(0.9304117706049815, 1.0), (2.0998442107345028e-07, 0.8692247859713023), (0.069588229123139, 0.8262631444713193)]\n",
      "Calculating and saving the fitted case-wise performance...\n"
     ]
    },
    {
     "name": "stderr",
     "output_type": "stream",
     "text": [
      " 89%|███████████████████████████████████████████████████████████████████████████████████████████████████████████████████████████████████████                 | 32/36 [10:58<03:41, 55.33s/it]"
     ]
    },
    {
     "name": "stdout",
     "output_type": "stream",
     "text": [
      "Starting optimizing for model ts-atc-model with confidence entropy-conf based on metric f1score, class specific is False.\n",
      "Opitimizing with 10 samples...\n",
      "Be patient, it should take a while...\n",
      "Calculating and saving the fitted case-wise performance...\n"
     ]
    },
    {
     "name": "stderr",
     "output_type": "stream",
     "text": [
      " 92%|███████████████████████████████████████████████████████████████████████████████████████████████████████████████████████████████████████████▎            | 33/36 [11:15<02:11, 43.92s/it]"
     ]
    },
    {
     "name": "stdout",
     "output_type": "stream",
     "text": [
      "Starting optimizing for model ts-atc-model with confidence entropy-conf based on metric accuracy, class specific is False.\n",
      "Opitimizing with 10 samples...\n",
      "Be patient, it should take a while...\n",
      "Starting optimizing for model ts-atc-model with confidence entropy-conf based on metric f1score, class specific is True.\n",
      "Opitimizing with 10 samples...\n",
      "Be patient, it should take a while...\n",
      "Calculating and saving the fitted case-wise performance...\n"
     ]
    },
    {
     "name": "stderr",
     "output_type": "stream",
     "text": [
      " 94%|███████████████████████████████████████████████████████████████████████████████████████████████████████████████████████████████████████████████▌        | 34/36 [11:58<01:26, 43.39s/it]"
     ]
    },
    {
     "name": "stdout",
     "output_type": "stream",
     "text": [
      "Starting optimizing for model ts-atc-model with confidence doctor-conf based on metric f1score, class specific is False.\n",
      "Opitimizing with 10 samples...\n",
      "Be patient, it should take a while...\n",
      "Calculating and saving the fitted case-wise performance...\n"
     ]
    },
    {
     "name": "stderr",
     "output_type": "stream",
     "text": [
      " 97%|███████████████████████████████████████████████████████████████████████████████████████████████████████████████████████████████████████████████████▊    | 35/36 [12:14<00:35, 35.46s/it]"
     ]
    },
    {
     "name": "stdout",
     "output_type": "stream",
     "text": [
      "Starting optimizing for model ts-atc-model with confidence doctor-conf based on metric accuracy, class specific is False.\n",
      "Opitimizing with 10 samples...\n",
      "Be patient, it should take a while...\n",
      "Starting optimizing for model ts-atc-model with confidence doctor-conf based on metric f1score, class specific is True.\n",
      "Opitimizing with 10 samples...\n",
      "Be patient, it should take a while...\n",
      "Calculating and saving the fitted case-wise performance...\n"
     ]
    },
    {
     "name": "stderr",
     "output_type": "stream",
     "text": [
      "100%|████████████████████████████████████████████████████████████████████████████████████████████████████████████████████████████████████████████████████████| 36/36 [12:59<00:00, 21.64s/it]\n"
     ]
    }
   ],
   "source": [
    "for k_cond in tqdm(range(len(moval_options))):\n",
    "    \n",
    "    err_test, moval_model = test_cls(\n",
    "        estim_algorithm = moval_options[k_cond][0], \n",
    "        mode = moval_options[k_cond][1], \n",
    "        confidence_scores = moval_options[k_cond][2],\n",
    "        class_specific = moval_options[k_cond][3],\n",
    "        logits = logits,\n",
    "        gt = gt,\n",
    "        logits_test = logits_test,\n",
    "        gt_test = gt_test\n",
    "    )\n",
    "    err_test_list.append(err_test)\n",
    "    moval_parameters.append(moval_model.model_.param)\n",
    "    if moval_model.model_.extend_param:\n",
    "        moval_parameters_.append(moval_model.model_.param_ext)\n",
    "    else:\n",
    "        moval_parameters_.append(0.)"
   ]
  },
  {
   "cell_type": "markdown",
   "id": "3813800b-936c-47ad-8828-503189b21181",
   "metadata": {},
   "source": [
    "## Compare estimation results"
   ]
  },
  {
   "cell_type": "code",
   "execution_count": 14,
   "id": "060d2d93-97a7-499d-9100-15b100c2cbce",
   "metadata": {},
   "outputs": [],
   "source": [
    "estim = []\n",
    "conf = []\n",
    "err = []\n",
    "err_mean = []\n",
    "novel = []\n",
    "k_option = 0\n",
    "for moval_option in moval_options:\n",
    "    for k_cond in range(len(err_test_list[k_option])):\n",
    "        #\n",
    "        if moval_option[3] == True:\n",
    "            estim_cs = 'CS '\n",
    "        else:\n",
    "            estim_cs = ''\n",
    "        #    \n",
    "        if moval_option[0] == 'ac-model':\n",
    "            estim.append(estim_cs + 'AC')\n",
    "        elif moval_option[0] == 'ts-model':\n",
    "            estim.append(estim_cs + 'TS')\n",
    "        elif moval_option[0] == 'doc-model':\n",
    "            estim.append(estim_cs + 'DoC')\n",
    "        elif moval_option[0] == 'atc-model':\n",
    "            estim.append(estim_cs + 'ATC')\n",
    "        else:\n",
    "            estim.append(estim_cs + 'TS-ATC')\n",
    "        #\n",
    "        if moval_option[2] == 'max_class_probability-conf':\n",
    "            conf.append('MCP')\n",
    "        elif moval_option[2] == 'energy-conf':\n",
    "            conf.append('Energy')\n",
    "        elif moval_option[2] == 'entropy-conf':\n",
    "            conf.append('Entropy')\n",
    "        else:\n",
    "            conf.append('Doctor')\n",
    "        #\n",
    "        if moval_option[2] == 'max_class_probability-conf' and moval_option[3] == False:\n",
    "            novel.append('Existing Methods')\n",
    "        else:\n",
    "            novel.append('Provided by MOVAL')\n",
    "        #\n",
    "        err.append(err_test_list[k_option][k_cond])\n",
    "        err_mean.append(np.mean(err_test_list[k_option]))\n",
    "    k_option += 1"
   ]
  },
  {
   "cell_type": "code",
   "execution_count": 15,
   "id": "68a6754d-429b-4189-9443-2db6250e7662",
   "metadata": {},
   "outputs": [],
   "source": [
    "d = {'Estimation Algorithm': estim, 'Confidence Score': conf, 'MAE': err_mean, 'MAE ': err, 'Category': novel}\n",
    "df = pd.DataFrame(data=d)\n",
    "#\n",
    "custom_order = ['AC', 'TS', 'DoC', 'ATC', 'TS-ATC', 'CS TS', 'CS DoC', 'CS ATC', 'CS TS-ATC']\n",
    "df['Estimation Algorithm'] = pd.Categorical(df['Estimation Algorithm'], categories=custom_order, ordered=True)\n",
    "df = df.sort_values(by='Estimation Algorithm')\n",
    "#\n",
    "custom_order = ['MCP', 'Doctor', 'Entropy', 'Energy']\n",
    "df['Confidence Score'] = pd.Categorical(df['Confidence Score'], categories=custom_order, ordered=True)\n",
    "df = df.sort_values(by='Confidence Score')"
   ]
  },
  {
   "cell_type": "code",
   "execution_count": 16,
   "id": "99b0672c-d149-4347-9185-651428ff2e17",
   "metadata": {},
   "outputs": [
    {
     "data": {
      "text/html": [
       "<div>\n",
       "<style scoped>\n",
       "    .dataframe tbody tr th:only-of-type {\n",
       "        vertical-align: middle;\n",
       "    }\n",
       "\n",
       "    .dataframe tbody tr th {\n",
       "        vertical-align: top;\n",
       "    }\n",
       "\n",
       "    .dataframe thead th {\n",
       "        text-align: right;\n",
       "    }\n",
       "</style>\n",
       "<table border=\"1\" class=\"dataframe\">\n",
       "  <thead>\n",
       "    <tr style=\"text-align: right;\">\n",
       "      <th></th>\n",
       "      <th>Estimation Algorithm</th>\n",
       "      <th>Confidence Score</th>\n",
       "      <th>MAE</th>\n",
       "      <th>MAE</th>\n",
       "      <th>Category</th>\n",
       "    </tr>\n",
       "  </thead>\n",
       "  <tbody>\n",
       "    <tr>\n",
       "      <th>0</th>\n",
       "      <td>AC</td>\n",
       "      <td>MCP</td>\n",
       "      <td>0.169580</td>\n",
       "      <td>0.169580</td>\n",
       "      <td>Existing Methods</td>\n",
       "    </tr>\n",
       "    <tr>\n",
       "      <th>29</th>\n",
       "      <td>CS TS-ATC</td>\n",
       "      <td>MCP</td>\n",
       "      <td>0.003049</td>\n",
       "      <td>0.003049</td>\n",
       "      <td>Provided by MOVAL</td>\n",
       "    </tr>\n",
       "    <tr>\n",
       "      <th>21</th>\n",
       "      <td>CS ATC</td>\n",
       "      <td>MCP</td>\n",
       "      <td>0.003049</td>\n",
       "      <td>0.003049</td>\n",
       "      <td>Provided by MOVAL</td>\n",
       "    </tr>\n",
       "    <tr>\n",
       "      <th>4</th>\n",
       "      <td>TS</td>\n",
       "      <td>MCP</td>\n",
       "      <td>0.126593</td>\n",
       "      <td>0.126593</td>\n",
       "      <td>Existing Methods</td>\n",
       "    </tr>\n",
       "    <tr>\n",
       "      <th>13</th>\n",
       "      <td>CS DoC</td>\n",
       "      <td>MCP</td>\n",
       "      <td>0.110844</td>\n",
       "      <td>0.110844</td>\n",
       "      <td>Provided by MOVAL</td>\n",
       "    </tr>\n",
       "  </tbody>\n",
       "</table>\n",
       "</div>"
      ],
      "text/plain": [
       "   Estimation Algorithm Confidence Score       MAE      MAE   \\\n",
       "0                    AC              MCP  0.169580  0.169580   \n",
       "29            CS TS-ATC              MCP  0.003049  0.003049   \n",
       "21               CS ATC              MCP  0.003049  0.003049   \n",
       "4                    TS              MCP  0.126593  0.126593   \n",
       "13               CS DoC              MCP  0.110844  0.110844   \n",
       "\n",
       "             Category  \n",
       "0    Existing Methods  \n",
       "29  Provided by MOVAL  \n",
       "21  Provided by MOVAL  \n",
       "4    Existing Methods  \n",
       "13  Provided by MOVAL  "
      ]
     },
     "execution_count": 16,
     "metadata": {},
     "output_type": "execute_result"
    }
   ],
   "source": [
    "df.head()"
   ]
  },
  {
   "cell_type": "code",
   "execution_count": 17,
   "id": "71dda52f-13bc-46f4-9702-e65ece9f1bfe",
   "metadata": {},
   "outputs": [
    {
     "data": {
      "image/png": "[encoded data removed]",
      "text/plain": [
       "<Figure size 600x300 with 1 Axes>"
      ]
     },
     "metadata": {},
     "output_type": "display_data"
    }
   ],
   "source": [
    "sns.set(rc={'figure.figsize':(6,3)})\n",
    "sns.set_style(\"darkgrid\")\n",
    "category_palette = {'Existing Methods': 'grey', 'Provided by MOVAL': '#1f77b4'}\n",
    "ax = sns.scatterplot(\n",
    "    data=df, x=\"Estimation Algorithm\", y=\"Confidence Score\", hue=\"Category\", size=\"MAE\",\n",
    "    sizes=(40, 1000), palette=category_palette\n",
    ")\n",
    "ax.set(ylim=(3.5, -0.5))\n",
    "ax.tick_params(axis='x', rotation=15)\n",
    "#\n",
    "# Get the handles and labels from the legend\n",
    "handles, labels = ax.get_legend_handles_labels()\n",
    "\n",
    "# Create a custom legend with only desired categories\n",
    "desired_labels = ['Category', 'Existing Methods', 'Provided by MOVAL', 'MAE', '0.15', '0.30']\n",
    "desired_handles = [h for h, l in zip(handles, labels) if l in desired_labels]\n",
    "\n",
    "legend = plt.legend(handles=desired_handles, labels=desired_labels, bbox_to_anchor=(1.2, 1), labelspacing=1)"
   ]
  },
  {
   "cell_type": "code",
   "execution_count": 18,
   "id": "3d1afafe-7490-4da1-8c88-5fbdf15ce128",
   "metadata": {},
   "outputs": [
    {
     "name": "stdout",
     "output_type": "stream",
     "text": [
      "p-value annotation legend:\n",
      "      ns: 5.00e-02 < p <= 1.00e+00\n",
      "       *: 1.00e-02 < p <= 5.00e-02\n",
      "      **: 1.00e-03 < p <= 1.00e-02\n",
      "     ***: 1.00e-04 < p <= 1.00e-03\n",
      "    ****: p <= 1.00e-04\n",
      "\n",
      "TS vs. CS TS: Mann-Whitney-Wilcoxon test two-sided, P_val:4.857e-01 U_stat=1.100e+01\n",
      "DoC vs. CS DoC: Mann-Whitney-Wilcoxon test two-sided, P_val:3.429e-01 U_stat=1.200e+01\n",
      "ATC vs. CS ATC: Mann-Whitney-Wilcoxon test two-sided, P_val:2.558e-02 U_stat=1.600e+01\n",
      "TS-ATC vs. CS TS-ATC: Mann-Whitney-Wilcoxon test two-sided, P_val:2.558e-02 U_stat=1.600e+01\n"
     ]
    },
    {
     "data": {
      "text/plain": [
       "(<Axes: xlabel='Estimation Algorithm', ylabel='MAE'>,\n",
       " [<statannotations.Annotation.Annotation at 0x7faed8118460>,\n",
       "  <statannotations.Annotation.Annotation at 0x7faef9197c10>,\n",
       "  <statannotations.Annotation.Annotation at 0x7faef9197c40>,\n",
       "  <statannotations.Annotation.Annotation at 0x7faef9197dc0>])"
      ]
     },
     "execution_count": 18,
     "metadata": {},
     "output_type": "execute_result"
    },
    {
     "data": {
      "image/png": "[encoded data removed]",
      "text/plain": [
       "<Figure size 600x200 with 1 Axes>"
      ]
     },
     "metadata": {},
     "output_type": "display_data"
    }
   ],
   "source": [
    "from statannotations.Annotator import Annotator\n",
    "sns.set(rc={'figure.figsize':(6,2)})\n",
    "sns.set_style(\"white\")\n",
    "ax = sns.barplot(df, x=\"Estimation Algorithm\", y=\"MAE\", color = '#1f77b4')\n",
    "ax.tick_params(axis='x', rotation=15)\n",
    "#\n",
    "ax.spines['top'].set_color('none')\n",
    "ax.spines['right'].set_color('none')\n",
    "ax.spines['bottom'].set_color('none')\n",
    "ax.spines['left'].set_color('none')\n",
    "#\n",
    "pairs=[(\"TS\", \"CS TS\"), (\"DoC\", \"CS DoC\"), (\"ATC\", \"CS ATC\"), (\"TS-ATC\", \"CS TS-ATC\")]\n",
    "\n",
    "annotator = Annotator(ax, pairs, data=df, x=\"Estimation Algorithm\", y=\"MAE\")\n",
    "annotator.configure(test='Mann-Whitney', text_format='star', loc='inside')\n",
    "annotator.apply_and_annotate()"
   ]
  },
  {
   "cell_type": "code",
   "execution_count": 19,
   "id": "ab3ff7bd-6395-446d-b645-69b5c4d220dd",
   "metadata": {},
   "outputs": [
    {
     "name": "stdout",
     "output_type": "stream",
     "text": [
      "p-value annotation legend:\n",
      "      ns: 5.00e-02 < p <= 1.00e+00\n",
      "       *: 1.00e-02 < p <= 5.00e-02\n",
      "      **: 1.00e-03 < p <= 1.00e-02\n",
      "     ***: 1.00e-04 < p <= 1.00e-03\n",
      "    ****: p <= 1.00e-04\n",
      "\n",
      "MCP vs. Doctor: Mann-Whitney-Wilcoxon test two-sided, P_val:1.826e-01 U_stat=5.600e+01\n",
      "MCP vs. Entropy: Mann-Whitney-Wilcoxon test two-sided, P_val:9.103e-02 U_stat=6.000e+01\n",
      "MCP vs. Energy: Mann-Whitney-Wilcoxon test two-sided, P_val:4.263e-01 U_stat=3.100e+01\n"
     ]
    },
    {
     "data": {
      "text/plain": [
       "(<Axes: xlabel='Confidence Score', ylabel='MAE'>,\n",
       " [<statannotations.Annotation.Annotation at 0x7faef917cfa0>,\n",
       "  <statannotations.Annotation.Annotation at 0x7faed8118580>,\n",
       "  <statannotations.Annotation.Annotation at 0x7faed81181f0>])"
      ]
     },
     "execution_count": 19,
     "metadata": {},
     "output_type": "execute_result"
    },
    {
     "data": {
      "image/png": "[encoded data removed]",
      "text/plain": [
       "<Figure size 300x200 with 1 Axes>"
      ]
     },
     "metadata": {},
     "output_type": "display_data"
    }
   ],
   "source": [
    "sns.set(rc={'figure.figsize':(3,2)})\n",
    "sns.set_style(\"white\")\n",
    "ax = sns.barplot(df, x=\"Confidence Score\", y=\"MAE\", color = '#1f77b4')\n",
    "ax.tick_params(axis='x', rotation=15)\n",
    "#\n",
    "ax.spines['top'].set_color('none')\n",
    "ax.spines['right'].set_color('none')\n",
    "ax.spines['bottom'].set_color('none')\n",
    "ax.spines['left'].set_color('none')\n",
    "#\n",
    "pairs=[(\"MCP\", \"Doctor\"), (\"MCP\", \"Entropy\"), (\"MCP\", \"Energy\")]\n",
    "\n",
    "annotator = Annotator(ax, pairs, data=df, x=\"Confidence Score\", y=\"MAE\")\n",
    "annotator.configure(test='Mann-Whitney', text_format='star', loc='inside')\n",
    "annotator.apply_and_annotate()"
   ]
  },
  {
   "cell_type": "code",
   "execution_count": 20,
   "id": "36ef192e-b82e-4a68-ba7c-a1d4813cabfe",
   "metadata": {},
   "outputs": [
    {
     "name": "stdout",
     "output_type": "stream",
     "text": [
      "p-value annotation legend:\n",
      "      ns: 5.00e-02 < p <= 1.00e+00\n",
      "       *: 1.00e-02 < p <= 5.00e-02\n",
      "      **: 1.00e-03 < p <= 1.00e-02\n",
      "     ***: 1.00e-04 < p <= 1.00e-03\n",
      "    ****: p <= 1.00e-04\n",
      "\n",
      "ATC_MCP vs. CS TS-ATC_MCP: Mann-Whitney-Wilcoxon test two-sided, P_val:1.000e+00 U_stat=1.000e+00\n"
     ]
    },
    {
     "data": {
      "text/plain": [
       "[(-0.02, 0.3)]"
      ]
     },
     "execution_count": 20,
     "metadata": {},
     "output_type": "execute_result"
    },
    {
     "data": {
      "image/png": "[encoded data removed]",
      "text/plain": [
       "<Figure size 1200x300 with 1 Axes>"
      ]
     },
     "metadata": {},
     "output_type": "display_data"
    }
   ],
   "source": [
    "sns.set(rc={'figure.figsize':(12,3)})\n",
    "category_palette = {'MCP': '#e5f0f8',\n",
    "                    'Doctor': '#99c6e4',\n",
    "                    'Entropy': '#4c9cd0',\n",
    "                    'Energy': '#0072bd'\n",
    "                   }\n",
    "ax = sns.barplot(df, x=\"Estimation Algorithm\", y=\"MAE \", hue=\"Confidence Score\", palette=category_palette, edgecolor=\"0\")\n",
    "sns.move_legend(ax, \"upper left\", bbox_to_anchor=(1, 1))\n",
    "\n",
    "\n",
    "pairs=[\n",
    "    [(\"ATC\", \"MCP\"), (\"CS TS-ATC\", \"MCP\")]\n",
    "]\n",
    "\n",
    "annotator = Annotator(ax, pairs, data=df, x=\"Estimation Algorithm\", y=\"MAE\", hue=\"Confidence Score\")\n",
    "annotator.configure(test='Mann-Whitney', text_format='star', loc='inside')\n",
    "annotator.apply_and_annotate()\n",
    "\n",
    "ax.set(ylim=(-0.02, 0.3))"
   ]
  },
  {
   "cell_type": "code",
   "execution_count": null,
   "id": "28493480",
   "metadata": {},
   "outputs": [],
   "source": []
  },
  {
   "cell_type": "code",
   "execution_count": null,
   "id": "80de9062",
   "metadata": {},
   "outputs": [],
   "source": []
  }
 ],
 "metadata": {
  "kernelspec": {
   "display_name": "Python 3 (ipykernel)",
   "language": "python",
   "name": "python3"
  },
  "language_info": {
   "codemirror_mode": {
    "name": "ipython",
    "version": 3
   },
   "file_extension": ".py",
   "mimetype": "text/x-python",
   "name": "python",
   "nbconvert_exporter": "python",
   "pygments_lexer": "ipython3",
   "version": "3.8.0"
  }
 },
 "nbformat": 4,
 "nbformat_minor": 5
}
