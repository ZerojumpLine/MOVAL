{
 "cells": [
  {
   "cell_type": "markdown",
   "id": "78e1590e-fe81-42a5-baeb-b5734c62df1a",
   "metadata": {},
   "source": [
    "# Performance Estimation of multi-class 2D Segmentation"
   ]
  },
  {
   "cell_type": "markdown",
   "id": "8ba3dd68-4dba-4638-9de1-ab7847d24d90",
   "metadata": {},
   "source": [
    "Consider to download this Jupyter Notebook and run locally, or test it with Colab.\n",
    "<br>\n",
    "[![Download](https://img.shields.io/badge/Download-jupyter-blue)](https://github.com/ZerojumpLine/MOVAL/blob/main/docs/source/demos/estim_seg2d.ipynb)\n",
    "[![Open In Colab](https://colab.research.google.com/assets/colab-badge.svg)](https://colab.research.google.com/drive/1QXv_1ma680dDFh2jpos3NxirXyeku7bt#scrollTo=8ba3dd68-4dba-4638-9de1-ab7847d24d90)"
   ]
  },
  {
   "cell_type": "markdown",
   "id": "c9b5661b-b953-408e-9b23-b05ccdb8a241",
   "metadata": {},
   "source": [
    "* In this notebook, we will show how to evaluate the performance of multi-class 2D segmentation tasks.\n",
    "<br>\n",
    "* More specifically, we show an example of estimating the performance under domain shifts on Cardiac MRI segmentation (into 4 classes including background, left ventricle (LV), myocardium(MYO) and right ventricle (RV)) based on a 3D U-Net. We will utilize the calculated logits on test dataset acquired with a different scanner.\n",
    "<br>\n",
    "* We will calculated model confidence with different confidence scores and varied calibration methods."
   ]
  },
  {
   "cell_type": "code",
   "execution_count": 1,
   "id": "015ad97d-ae79-4b0b-9a01-6ce2d6b14233",
   "metadata": {
    "scrolled": true
   },
   "outputs": [
    {
     "name": "stdout",
     "output_type": "stream",
     "text": [
      "Requirement already satisfied: moval in /Users/zejuli/opt/anaconda3/envs/moval/lib/python3.8/site-packages (0.1.16)\n",
      "Requirement already satisfied: scikit-learn>=1.3.0 in /Users/zejuli/opt/anaconda3/envs/moval/lib/python3.8/site-packages (from moval) (1.3.0)\n",
      "Requirement already satisfied: scipy>=1.8.0 in /Users/zejuli/opt/anaconda3/envs/moval/lib/python3.8/site-packages (from moval) (1.10.1)\n",
      "Requirement already satisfied: pytest in /Users/zejuli/opt/anaconda3/envs/moval/lib/python3.8/site-packages (from moval) (7.4.3)\n",
      "Requirement already satisfied: gdown in /Users/zejuli/opt/anaconda3/envs/moval/lib/python3.8/site-packages (from moval) (4.7.1)\n",
      "Requirement already satisfied: pandas in /Users/zejuli/opt/anaconda3/envs/moval/lib/python3.8/site-packages (from moval) (1.5.3)\n",
      "Requirement already satisfied: nibabel in /Users/zejuli/opt/anaconda3/envs/moval/lib/python3.8/site-packages (from moval) (5.1.0)\n",
      "Requirement already satisfied: numpy>=1.17.3 in /Users/zejuli/opt/anaconda3/envs/moval/lib/python3.8/site-packages (from scikit-learn>=1.3.0->moval) (1.24.4)\n",
      "Requirement already satisfied: joblib>=1.1.1 in /Users/zejuli/opt/anaconda3/envs/moval/lib/python3.8/site-packages (from scikit-learn>=1.3.0->moval) (1.3.1)\n",
      "Requirement already satisfied: threadpoolctl>=2.0.0 in /Users/zejuli/opt/anaconda3/envs/moval/lib/python3.8/site-packages (from scikit-learn>=1.3.0->moval) (3.1.0)\n",
      "Requirement already satisfied: filelock in /Users/zejuli/opt/anaconda3/envs/moval/lib/python3.8/site-packages (from gdown->moval) (3.13.1)\n",
      "Requirement already satisfied: requests[socks] in /Users/zejuli/.local/lib/python3.8/site-packages (from gdown->moval) (2.31.0)\n",
      "Requirement already satisfied: six in /Users/zejuli/.local/lib/python3.8/site-packages (from gdown->moval) (1.16.0)\n",
      "Requirement already satisfied: tqdm in /Users/zejuli/opt/anaconda3/envs/moval/lib/python3.8/site-packages (from gdown->moval) (4.65.0)\n",
      "Requirement already satisfied: beautifulsoup4 in /Users/zejuli/opt/anaconda3/envs/moval/lib/python3.8/site-packages (from gdown->moval) (4.12.2)\n",
      "Requirement already satisfied: importlib-resources>=1.3 in /Users/zejuli/.local/lib/python3.8/site-packages (from nibabel->moval) (5.12.0)\n",
      "Requirement already satisfied: packaging>=17 in /Users/zejuli/opt/anaconda3/envs/moval/lib/python3.8/site-packages (from nibabel->moval) (23.1)\n",
      "Requirement already satisfied: python-dateutil>=2.8.1 in /Users/zejuli/opt/anaconda3/envs/moval/lib/python3.8/site-packages (from pandas->moval) (2.8.2)\n",
      "Requirement already satisfied: pytz>=2020.1 in /Users/zejuli/opt/anaconda3/envs/moval/lib/python3.8/site-packages (from pandas->moval) (2023.3.post1)\n",
      "Requirement already satisfied: iniconfig in /Users/zejuli/opt/anaconda3/envs/moval/lib/python3.8/site-packages (from pytest->moval) (2.0.0)\n",
      "Requirement already satisfied: pluggy<2.0,>=0.12 in /Users/zejuli/opt/anaconda3/envs/moval/lib/python3.8/site-packages (from pytest->moval) (1.3.0)\n",
      "Requirement already satisfied: exceptiongroup>=1.0.0rc8 in /Users/zejuli/opt/anaconda3/envs/moval/lib/python3.8/site-packages (from pytest->moval) (1.1.3)\n",
      "Requirement already satisfied: tomli>=1.0.0 in /Users/zejuli/opt/anaconda3/envs/moval/lib/python3.8/site-packages (from pytest->moval) (2.0.1)\n",
      "Requirement already satisfied: zipp>=3.1.0 in /Users/zejuli/.local/lib/python3.8/site-packages (from importlib-resources>=1.3->nibabel->moval) (3.15.0)\n",
      "Requirement already satisfied: soupsieve>1.2 in /Users/zejuli/opt/anaconda3/envs/moval/lib/python3.8/site-packages (from beautifulsoup4->gdown->moval) (2.5)\n",
      "Requirement already satisfied: charset-normalizer<4,>=2 in /Users/zejuli/.local/lib/python3.8/site-packages (from requests[socks]->gdown->moval) (3.1.0)\n",
      "Requirement already satisfied: idna<4,>=2.5 in /Users/zejuli/.local/lib/python3.8/site-packages (from requests[socks]->gdown->moval) (3.4)\n",
      "Requirement already satisfied: urllib3<3,>=1.21.1 in /Users/zejuli/.local/lib/python3.8/site-packages (from requests[socks]->gdown->moval) (2.0.3)\n",
      "Requirement already satisfied: certifi>=2017.4.17 in /Users/zejuli/.local/lib/python3.8/site-packages (from requests[socks]->gdown->moval) (2023.5.7)\n",
      "Requirement already satisfied: PySocks!=1.5.7,>=1.5.6 in /Users/zejuli/opt/anaconda3/envs/moval/lib/python3.8/site-packages (from requests[socks]->gdown->moval) (1.7.1)\n",
      "Requirement already satisfied: statannotations in /Users/zejuli/opt/anaconda3/envs/moval/lib/python3.8/site-packages (0.6.0)\n",
      "Requirement already satisfied: numpy>=1.12.1 in /Users/zejuli/opt/anaconda3/envs/moval/lib/python3.8/site-packages (from statannotations) (1.24.4)\n",
      "Collecting seaborn<0.12,>=0.9.0 (from statannotations)\n",
      "  Using cached seaborn-0.11.2-py3-none-any.whl (292 kB)\n",
      "Requirement already satisfied: matplotlib>=2.2.2 in /Users/zejuli/opt/anaconda3/envs/moval/lib/python3.8/site-packages (from statannotations) (3.7.4)\n",
      "Requirement already satisfied: pandas<2.0.0,>=0.23.0 in /Users/zejuli/opt/anaconda3/envs/moval/lib/python3.8/site-packages (from statannotations) (1.5.3)\n",
      "Requirement already satisfied: scipy>=1.1.0 in /Users/zejuli/opt/anaconda3/envs/moval/lib/python3.8/site-packages (from statannotations) (1.10.1)\n",
      "Requirement already satisfied: contourpy>=1.0.1 in /Users/zejuli/opt/anaconda3/envs/moval/lib/python3.8/site-packages (from matplotlib>=2.2.2->statannotations) (1.1.1)\n",
      "Requirement already satisfied: cycler>=0.10 in /Users/zejuli/opt/anaconda3/envs/moval/lib/python3.8/site-packages (from matplotlib>=2.2.2->statannotations) (0.12.1)\n",
      "Requirement already satisfied: fonttools>=4.22.0 in /Users/zejuli/opt/anaconda3/envs/moval/lib/python3.8/site-packages (from matplotlib>=2.2.2->statannotations) (4.46.0)\n",
      "Requirement already satisfied: kiwisolver>=1.0.1 in /Users/zejuli/opt/anaconda3/envs/moval/lib/python3.8/site-packages (from matplotlib>=2.2.2->statannotations) (1.4.5)\n",
      "Requirement already satisfied: packaging>=20.0 in /Users/zejuli/opt/anaconda3/envs/moval/lib/python3.8/site-packages (from matplotlib>=2.2.2->statannotations) (23.1)\n",
      "Requirement already satisfied: pillow>=6.2.0 in /Users/zejuli/opt/anaconda3/envs/moval/lib/python3.8/site-packages (from matplotlib>=2.2.2->statannotations) (10.1.0)\n",
      "Requirement already satisfied: pyparsing>=2.3.1 in /Users/zejuli/opt/anaconda3/envs/moval/lib/python3.8/site-packages (from matplotlib>=2.2.2->statannotations) (3.1.1)\n",
      "Requirement already satisfied: python-dateutil>=2.7 in /Users/zejuli/opt/anaconda3/envs/moval/lib/python3.8/site-packages (from matplotlib>=2.2.2->statannotations) (2.8.2)\n",
      "Requirement already satisfied: importlib-resources>=3.2.0 in /Users/zejuli/.local/lib/python3.8/site-packages (from matplotlib>=2.2.2->statannotations) (5.12.0)\n",
      "Requirement already satisfied: pytz>=2020.1 in /Users/zejuli/opt/anaconda3/envs/moval/lib/python3.8/site-packages (from pandas<2.0.0,>=0.23.0->statannotations) (2023.3.post1)\n",
      "Requirement already satisfied: zipp>=3.1.0 in /Users/zejuli/.local/lib/python3.8/site-packages (from importlib-resources>=3.2.0->matplotlib>=2.2.2->statannotations) (3.15.0)\n",
      "Requirement already satisfied: six>=1.5 in /Users/zejuli/.local/lib/python3.8/site-packages (from python-dateutil>=2.7->matplotlib>=2.2.2->statannotations) (1.16.0)\n",
      "Installing collected packages: seaborn\n",
      "  Attempting uninstall: seaborn\n",
      "    Found existing installation: seaborn 0.12.0\n",
      "    Uninstalling seaborn-0.12.0:\n",
      "      Successfully uninstalled seaborn-0.12.0\n",
      "Successfully installed seaborn-0.11.2\n",
      "Requirement already satisfied: pandas in /Users/zejuli/opt/anaconda3/envs/moval/lib/python3.8/site-packages (1.5.3)\n",
      "Requirement already satisfied: python-dateutil>=2.8.1 in /Users/zejuli/opt/anaconda3/envs/moval/lib/python3.8/site-packages (from pandas) (2.8.2)\n",
      "Requirement already satisfied: pytz>=2020.1 in /Users/zejuli/opt/anaconda3/envs/moval/lib/python3.8/site-packages (from pandas) (2023.3.post1)\n",
      "Requirement already satisfied: numpy>=1.20.3 in /Users/zejuli/opt/anaconda3/envs/moval/lib/python3.8/site-packages (from pandas) (1.24.4)\n",
      "Requirement already satisfied: six>=1.5 in /Users/zejuli/.local/lib/python3.8/site-packages (from python-dateutil>=2.8.1->pandas) (1.16.0)\n",
      "Requirement already satisfied: tqdm in /Users/zejuli/opt/anaconda3/envs/moval/lib/python3.8/site-packages (4.65.0)\n",
      "Requirement already satisfied: matplotlib in /Users/zejuli/opt/anaconda3/envs/moval/lib/python3.8/site-packages (3.7.4)\n",
      "Requirement already satisfied: contourpy>=1.0.1 in /Users/zejuli/opt/anaconda3/envs/moval/lib/python3.8/site-packages (from matplotlib) (1.1.1)\n",
      "Requirement already satisfied: cycler>=0.10 in /Users/zejuli/opt/anaconda3/envs/moval/lib/python3.8/site-packages (from matplotlib) (0.12.1)\n",
      "Requirement already satisfied: fonttools>=4.22.0 in /Users/zejuli/opt/anaconda3/envs/moval/lib/python3.8/site-packages (from matplotlib) (4.46.0)\n",
      "Requirement already satisfied: kiwisolver>=1.0.1 in /Users/zejuli/opt/anaconda3/envs/moval/lib/python3.8/site-packages (from matplotlib) (1.4.5)\n",
      "Requirement already satisfied: numpy<2,>=1.20 in /Users/zejuli/opt/anaconda3/envs/moval/lib/python3.8/site-packages (from matplotlib) (1.24.4)\n",
      "Requirement already satisfied: packaging>=20.0 in /Users/zejuli/opt/anaconda3/envs/moval/lib/python3.8/site-packages (from matplotlib) (23.1)\n",
      "Requirement already satisfied: pillow>=6.2.0 in /Users/zejuli/opt/anaconda3/envs/moval/lib/python3.8/site-packages (from matplotlib) (10.1.0)\n",
      "Requirement already satisfied: pyparsing>=2.3.1 in /Users/zejuli/opt/anaconda3/envs/moval/lib/python3.8/site-packages (from matplotlib) (3.1.1)\n",
      "Requirement already satisfied: python-dateutil>=2.7 in /Users/zejuli/opt/anaconda3/envs/moval/lib/python3.8/site-packages (from matplotlib) (2.8.2)\n",
      "Requirement already satisfied: importlib-resources>=3.2.0 in /Users/zejuli/.local/lib/python3.8/site-packages (from matplotlib) (5.12.0)\n",
      "Requirement already satisfied: zipp>=3.1.0 in /Users/zejuli/.local/lib/python3.8/site-packages (from importlib-resources>=3.2.0->matplotlib) (3.15.0)\n",
      "Requirement already satisfied: six>=1.5 in /Users/zejuli/.local/lib/python3.8/site-packages (from python-dateutil>=2.7->matplotlib) (1.16.0)\n",
      "Requirement already satisfied: nibabel in /Users/zejuli/opt/anaconda3/envs/moval/lib/python3.8/site-packages (5.1.0)\n",
      "Requirement already satisfied: importlib-resources>=1.3 in /Users/zejuli/.local/lib/python3.8/site-packages (from nibabel) (5.12.0)\n",
      "Requirement already satisfied: numpy>=1.19 in /Users/zejuli/opt/anaconda3/envs/moval/lib/python3.8/site-packages (from nibabel) (1.24.4)\n",
      "Requirement already satisfied: packaging>=17 in /Users/zejuli/opt/anaconda3/envs/moval/lib/python3.8/site-packages (from nibabel) (23.1)\n",
      "Requirement already satisfied: zipp>=3.1.0 in /Users/zejuli/.local/lib/python3.8/site-packages (from importlib-resources>=1.3->nibabel) (3.15.0)\n",
      "Collecting seaborn==0.12\n",
      "  Using cached seaborn-0.12.0-py3-none-any.whl (285 kB)\n",
      "Requirement already satisfied: numpy>=1.17 in /Users/zejuli/opt/anaconda3/envs/moval/lib/python3.8/site-packages (from seaborn==0.12) (1.24.4)\n",
      "Requirement already satisfied: pandas>=0.25 in /Users/zejuli/opt/anaconda3/envs/moval/lib/python3.8/site-packages (from seaborn==0.12) (1.5.3)\n",
      "Requirement already satisfied: matplotlib>=3.1 in /Users/zejuli/opt/anaconda3/envs/moval/lib/python3.8/site-packages (from seaborn==0.12) (3.7.4)\n",
      "Requirement already satisfied: contourpy>=1.0.1 in /Users/zejuli/opt/anaconda3/envs/moval/lib/python3.8/site-packages (from matplotlib>=3.1->seaborn==0.12) (1.1.1)\n",
      "Requirement already satisfied: cycler>=0.10 in /Users/zejuli/opt/anaconda3/envs/moval/lib/python3.8/site-packages (from matplotlib>=3.1->seaborn==0.12) (0.12.1)\n",
      "Requirement already satisfied: fonttools>=4.22.0 in /Users/zejuli/opt/anaconda3/envs/moval/lib/python3.8/site-packages (from matplotlib>=3.1->seaborn==0.12) (4.46.0)\n",
      "Requirement already satisfied: kiwisolver>=1.0.1 in /Users/zejuli/opt/anaconda3/envs/moval/lib/python3.8/site-packages (from matplotlib>=3.1->seaborn==0.12) (1.4.5)\n",
      "Requirement already satisfied: packaging>=20.0 in /Users/zejuli/opt/anaconda3/envs/moval/lib/python3.8/site-packages (from matplotlib>=3.1->seaborn==0.12) (23.1)\n",
      "Requirement already satisfied: pillow>=6.2.0 in /Users/zejuli/opt/anaconda3/envs/moval/lib/python3.8/site-packages (from matplotlib>=3.1->seaborn==0.12) (10.1.0)\n",
      "Requirement already satisfied: pyparsing>=2.3.1 in /Users/zejuli/opt/anaconda3/envs/moval/lib/python3.8/site-packages (from matplotlib>=3.1->seaborn==0.12) (3.1.1)\n",
      "Requirement already satisfied: python-dateutil>=2.7 in /Users/zejuli/opt/anaconda3/envs/moval/lib/python3.8/site-packages (from matplotlib>=3.1->seaborn==0.12) (2.8.2)\n",
      "Requirement already satisfied: importlib-resources>=3.2.0 in /Users/zejuli/.local/lib/python3.8/site-packages (from matplotlib>=3.1->seaborn==0.12) (5.12.0)\n",
      "Requirement already satisfied: pytz>=2020.1 in /Users/zejuli/opt/anaconda3/envs/moval/lib/python3.8/site-packages (from pandas>=0.25->seaborn==0.12) (2023.3.post1)\n",
      "Requirement already satisfied: zipp>=3.1.0 in /Users/zejuli/.local/lib/python3.8/site-packages (from importlib-resources>=3.2.0->matplotlib>=3.1->seaborn==0.12) (3.15.0)\n",
      "Requirement already satisfied: six>=1.5 in /Users/zejuli/.local/lib/python3.8/site-packages (from python-dateutil>=2.7->matplotlib>=3.1->seaborn==0.12) (1.16.0)\n",
      "Installing collected packages: seaborn\n",
      "  Attempting uninstall: seaborn\n",
      "    Found existing installation: seaborn 0.11.2\n",
      "    Uninstalling seaborn-0.11.2:\n",
      "      Successfully uninstalled seaborn-0.11.2\n",
      "\u001b[31mERROR: pip's dependency resolver does not currently take into account all the packages that are installed. This behaviour is the source of the following dependency conflicts.\n",
      "statannotations 0.6.0 requires seaborn<0.12,>=0.9.0, but you have seaborn 0.12.0 which is incompatible.\u001b[0m\u001b[31m\n",
      "\u001b[0mSuccessfully installed seaborn-0.12.0\n"
     ]
    }
   ],
   "source": [
    "!pip install moval\n",
    "!pip install statannotations\n",
    "!pip install pandas\n",
    "!pip install tqdm\n",
    "!pip install matplotlib\n",
    "!pip install nibabel\n",
    "!pip install seaborn==0.12 # because statannotations not support the latest"
   ]
  },
  {
   "cell_type": "code",
   "execution_count": 2,
   "id": "e59b52b4-b5fe-469c-aa24-1449de534cae",
   "metadata": {},
   "outputs": [],
   "source": [
    "import os\n",
    "import gdown\n",
    "import itertools\n",
    "import zipfile\n",
    "import pandas as pd\n",
    "import numpy as np\n",
    "import nibabel as nib\n",
    "import moval\n",
    "from moval.solvers.utils import ComputMetric\n",
    "from tqdm import tqdm\n",
    "import seaborn as sns\n",
    "import matplotlib.pyplot as plt"
   ]
  },
  {
   "cell_type": "code",
   "execution_count": 3,
   "id": "55653f96-c99d-40b4-8e74-af28a0ac476f",
   "metadata": {},
   "outputs": [
    {
     "name": "stdout",
     "output_type": "stream",
     "text": [
      "The installed MOVAL verision is 0.1.16\n",
      "The installed seaborn verision is 0.12.0\n"
     ]
    }
   ],
   "source": [
    "print(f\"The installed MOVAL verision is {moval.__version__}\")\n",
    "print(f\"The installed seaborn verision is {sns.__version__}\")"
   ]
  },
  {
   "cell_type": "markdown",
   "id": "fe14651d-7f62-41dc-8aaf-dcdb4f80e4fd",
   "metadata": {},
   "source": [
    "## Load the data"
   ]
  },
  {
   "cell_type": "code",
   "execution_count": 4,
   "id": "f1dd6df0-d477-408c-96bb-3f560d4dc3d5",
   "metadata": {},
   "outputs": [],
   "source": [
    "# download the data of cardiac\n",
    "\n",
    "output = \"data_moval_supp.zip\"\n",
    "if not os.path.exists(output):\n",
    "    url = \"https://drive.google.com/u/0/uc?id=1ZlC66MGmPlf05aYYCKBaRT2q5uod8GFk&export=download\"\n",
    "    output = \"data_moval_supp.zip\"\n",
    "    gdown.download(url, output, quiet=False)\n",
    "\n",
    "directory_data = \"data_moval_supp\"\n",
    "if not os.path.exists(directory_data):\n",
    "    with zipfile.ZipFile(output, 'r') as zip_ref:\n",
    "        zip_ref.extractall(directory_data)"
   ]
  },
  {
   "cell_type": "code",
   "execution_count": 5,
   "id": "988c917a-97eb-4b9c-a5ab-5443cfe9e9d6",
   "metadata": {},
   "outputs": [
    {
     "name": "stdout",
     "output_type": "stream",
     "text": [
      "analysis_cls.ipynb    data_moval_supp.zip   \u001b[34mimg_cifar\u001b[m\u001b[m/\n",
      "analysis_seg2d.ipynb  estim_cls.ipynb       img_cifar.zip\n",
      "analysis_seg3d.ipynb  estim_seg2d.ipynb     \u001b[34mimg_prostate\u001b[m\u001b[m/\n",
      "\u001b[34mdata_moval\u001b[m\u001b[m/           estim_seg3d.ipynb     img_prostate.zip\n",
      "data_moval.zip        \u001b[34mimg_cardiac\u001b[m\u001b[m/\n",
      "\u001b[34mdata_moval_supp\u001b[m\u001b[m/      img_cardiac.zip\n"
     ]
    }
   ],
   "source": [
    "ls"
   ]
  },
  {
   "cell_type": "code",
   "execution_count": 6,
   "id": "ee78b79d-d4a4-4019-b011-39b2eb11d96d",
   "metadata": {},
   "outputs": [],
   "source": [
    "# now I am playing with cardiac segmentation\n",
    "\n",
    "Datafile_eval = \"data_moval_supp/Cardiacresults/seg-eval.txt\"\n",
    "Imglist_eval = open(Datafile_eval)\n",
    "Imglist_eval_read = Imglist_eval.read().splitlines()\n",
    "\n",
    "logits = []\n",
    "gt = []\n",
    "for Imgname_eval in Imglist_eval_read:\n",
    "    #\n",
    "    caseID = Imgname_eval.split(\"/\")[-2]\n",
    "    #\n",
    "    GT_file = f\"data_moval_supp/Cardiacresults/GT/1/{caseID}/seg.nii.gz\"\n",
    "    #\n",
    "    logit_cls0_file = \"data_moval_supp/Cardiacresults/cardiacval/results/pred_\" + caseID + \"cls0_prob.nii.gz\"\n",
    "    logit_cls1_file = \"data_moval_supp/Cardiacresults/cardiacval/results/pred_\" + caseID + \"cls1_prob.nii.gz\"\n",
    "    logit_cls2_file = \"data_moval_supp/Cardiacresults/cardiacval/results/pred_\" + caseID + \"cls2_prob.nii.gz\"\n",
    "    logit_cls3_file = \"data_moval_supp/Cardiacresults/cardiacval/results/pred_\" + caseID + \"cls3_prob.nii.gz\"\n",
    "    #\n",
    "    logit_cls0_read = nib.load(logit_cls0_file)\n",
    "    logit_cls1_read = nib.load(logit_cls1_file)\n",
    "    logit_cls2_read = nib.load(logit_cls2_file)\n",
    "    logit_cls3_read = nib.load(logit_cls3_file)\n",
    "    #\n",
    "    logit_cls0      = logit_cls0_read.get_fdata()   # ``(H, W, D)``\n",
    "    logit_cls1      = logit_cls1_read.get_fdata()\n",
    "    logit_cls2      = logit_cls2_read.get_fdata()\n",
    "    logit_cls3      = logit_cls3_read.get_fdata()\n",
    "    #\n",
    "    GT_read         = nib.load(GT_file)\n",
    "    GTimg           = GT_read.get_fdata()           # ``(H, W, D)``\n",
    "    #\n",
    "    logit_cls = np.stack((logit_cls0, logit_cls1, logit_cls2, logit_cls3))  # ``(d, H, W, D)``\n",
    "    # only including the slices that contains labels\n",
    "    for dslice in range(GTimg.shape[2]):\n",
    "        if np.sum(GTimg[:, :, dslice]) > 0:\n",
    "            logits.append(logit_cls[:, :, :, dslice])\n",
    "            gt.append(GTimg[:, :, dslice])\n",
    "\n",
    "# logits is a list of length ``n``,  each element has ``(d, H, W)``. \n",
    "# gt is a list of length ``n``,  each element has ``(H, W)``.\n",
    "# H and W could differ for different cases.\n",
    "\n",
    "Datafile_test = \"data_moval_supp/Cardiacresults/seg-testA.txt\"\n",
    "Imglist_test = open(Datafile_test)\n",
    "Imglist_test_read = Imglist_test.read().splitlines()\n",
    "\n",
    "logits_test = []\n",
    "gt_test = []\n",
    "for Imgname_eval in Imglist_test_read:\n",
    "    caseID = Imgname_eval.split(\"/\")[-2]\n",
    "    #\n",
    "    GT_file = f\"data_moval_supp/Cardiacresults/GT/2/{caseID}/seg.nii.gz\"\n",
    "    #\n",
    "    logit_cls0_file = \"data_moval_supp/Cardiacresults/cardiactest_2/results/pred_\" + caseID + \"cls0_prob.nii.gz\"\n",
    "    logit_cls1_file = \"data_moval_supp/Cardiacresults/cardiactest_2/results/pred_\" + caseID + \"cls1_prob.nii.gz\"\n",
    "    logit_cls2_file = \"data_moval_supp/Cardiacresults/cardiactest_2/results/pred_\" + caseID + \"cls2_prob.nii.gz\"\n",
    "    logit_cls3_file = \"data_moval_supp/Cardiacresults/cardiactest_2/results/pred_\" + caseID + \"cls3_prob.nii.gz\"\n",
    "    #\n",
    "    logit_cls0_read = nib.load(logit_cls0_file)\n",
    "    logit_cls1_read = nib.load(logit_cls1_file)\n",
    "    logit_cls2_read = nib.load(logit_cls2_file)\n",
    "    logit_cls3_read = nib.load(logit_cls3_file)\n",
    "    #\n",
    "    logit_cls0      = logit_cls0_read.get_fdata()   # ``(H, W, D)``\n",
    "    logit_cls1      = logit_cls1_read.get_fdata()\n",
    "    logit_cls2      = logit_cls2_read.get_fdata()\n",
    "    logit_cls3      = logit_cls3_read.get_fdata()\n",
    "    #\n",
    "    GT_read         = nib.load(GT_file)\n",
    "    GTimg           = GT_read.get_fdata()           # ``(H, W, D)``\n",
    "    logit_cls = np.stack((logit_cls0, logit_cls1, logit_cls2, logit_cls3))  # ``(d, H, W, D)``\n",
    "    # only including the slices that contains labels\n",
    "    for dslice in range(GTimg.shape[2]):\n",
    "        if np.sum(GTimg[:, :, dslice]) > 0:\n",
    "            logits_test.append(logit_cls[:, :, :, dslice])\n",
    "            gt_test.append(GTimg[:, :, dslice])\n",
    "\n",
    "# logits_test is a list of length ``n``,  each element has ``(d, H, W)``. \n",
    "# gt_test is a list of length ``n``,  each element has ``(H, W)``.\n",
    "# H and W could differ for different cases."
   ]
  },
  {
   "cell_type": "code",
   "execution_count": 7,
   "id": "891ccb3c-af2f-4d68-87bc-129630c4f6a4",
   "metadata": {},
   "outputs": [
    {
     "name": "stdout",
     "output_type": "stream",
     "text": [
      "The validation predictions, ``logits`` are a list of length 156 each element has approximately (4, 210, 257)\n",
      "The validation labels, ``gt`` are a list of length 156, each element has approximately (210, 257)\n",
      "\n",
      "The test predictions, ``logits_test`` are a list of length 74 each element has approximately (4, 303, 303)\n",
      "The test labels, ``gt_test`` are a list of length 74, each element has approximately (303, 303)\n"
     ]
    }
   ],
   "source": [
    "print(f\"The validation predictions, ``logits`` are a list of length {len(logits)} each element has approximately {logits[0].shape}\")\n",
    "print(f\"The validation labels, ``gt`` are a list of length {len(gt)}, each element has approximately {gt[0].shape}\\n\")\n",
    "print(f\"The test predictions, ``logits_test`` are a list of length {len(logits_test)} each element has approximately {logits_test[0].shape}\")\n",
    "print(f\"The test labels, ``gt_test`` are a list of length {len(gt_test)}, each element has approximately {gt_test[0].shape}\")"
   ]
  },
  {
   "cell_type": "code",
   "execution_count": 8,
   "id": "78e09782-500b-4eb8-b45b-bd12dea5ddd5",
   "metadata": {},
   "outputs": [
    {
     "name": "stdout",
     "output_type": "stream",
     "text": [
      "The validation predictions, ``logits`` are a list of length 100 each element has approximately (4, 223, 272)\n",
      "The validation labels, ``gt`` are a list of length 100, each element has approximately (223, 272)\n"
     ]
    }
   ],
   "source": [
    "import random\n",
    "random.seed(79)\n",
    "test_inds = list(range(len(logits)))\n",
    "random.shuffle(test_inds)\n",
    "test_inds = test_inds[:100]\n",
    "#\n",
    "_logits = []\n",
    "_gt = []\n",
    "for test_ind in test_inds:\n",
    "    _logits.append(logits[test_ind])\n",
    "    _gt.append(gt[test_ind])\n",
    "logits = _logits\n",
    "gt = _gt\n",
    "#\n",
    "print(f\"The validation predictions, ``logits`` are a list of length {len(logits)} each element has approximately {logits[0].shape}\")\n",
    "print(f\"The validation labels, ``gt`` are a list of length {len(gt)}, each element has approximately {gt[0].shape}\")"
   ]
  },
  {
   "cell_type": "markdown",
   "id": "b530131b-feee-4cad-a54e-7acf506063db",
   "metadata": {},
   "source": [
    "## MOVAL estimataion"
   ]
  },
  {
   "cell_type": "code",
   "execution_count": 9,
   "id": "29c9b3f1-8d3e-4f0d-aacb-9cb362f6d5de",
   "metadata": {},
   "outputs": [],
   "source": [
    "moval_options = list(itertools.product(moval.models.get_estim_options(),\n",
    "                               [\"segmentation\"],\n",
    "                               moval.models.get_conf_options(),\n",
    "                               [False, True]))"
   ]
  },
  {
   "cell_type": "code",
   "execution_count": 10,
   "id": "c7ec3b5e-54da-49e0-bd53-c94ecf2b89f4",
   "metadata": {},
   "outputs": [],
   "source": [
    "# ac-model does not need class-speicfic variants\n",
    "for moval_option in moval_options:\n",
    "    if moval_option[0] == 'ac-model' and moval_option[-1] == True:\n",
    "        moval_options.remove(moval_option)"
   ]
  },
  {
   "cell_type": "code",
   "execution_count": 11,
   "id": "cdb30ae2-84e5-452a-8d8c-6795df9d30cf",
   "metadata": {},
   "outputs": [
    {
     "name": "stdout",
     "output_type": "stream",
     "text": [
      "The number of moval options is 36\n"
     ]
    }
   ],
   "source": [
    "print(f\"The number of moval options is {len(moval_options)}\")"
   ]
  },
  {
   "cell_type": "code",
   "execution_count": 12,
   "id": "f712cb2c-3abc-4da9-b1bc-055ee70f0120",
   "metadata": {},
   "outputs": [],
   "source": [
    "def test_cls(estim_algorithm, mode, confidence_scores, class_specific, logits, gt, logits_tests, gt_tests):\n",
    "    \"\"\"Test MOVAL with different conditions for segmentation tasks\n",
    "        \n",
    "    Args:\n",
    "        mode (str): The given task to estimate model performance.\n",
    "        confidence_scores (str):\n",
    "            The method to calculate the confidence scores. We provide a list of confidence score calculation methods which \n",
    "            can be displayed by running :py:func:`moval.models.get_conf_options`.\n",
    "        estim_algorithm (str):\n",
    "            The algorithm to estimate model performance. We also provide a list of estimation algorithm which can be displayed by\n",
    "            running :py:func:`moval.models.get_estim_options`.\n",
    "        class_specific (bool):\n",
    "            If ``True``, the calculation will match class-wise confidence to class-wise accuracy.\n",
    "        logits: The network output (logits) of a list of n ``(d, H, W, (D))`` for segmentation. \n",
    "        gt: The cooresponding annotation of a list of n ``(H, W, (D))`` for segmentation.\n",
    "        logits_tests:  The network testing output (logits) of a list of n' ``(d, H', W', (D'))`` for segmentation. \n",
    "        gt_test: The cooresponding testing annotation of a list of n' ``(H', W', (D'))`` for segmentation.\n",
    "\n",
    "    Returns:\n",
    "        err_test (float): testing error.\n",
    "        moval_model: Optimized moval model.\n",
    "\n",
    "    \"\"\"\n",
    "    \n",
    "    moval_model = moval.MOVAL(\n",
    "                mode = mode,\n",
    "                confidence_scores = confidence_scores,\n",
    "                estim_algorithm = estim_algorithm,\n",
    "                class_specific = class_specific,\n",
    "                approximate = True,\n",
    "                approximate_boundary = 10\n",
    "                )\n",
    "\n",
    "    #\n",
    "    moval_model.fit(logits, gt)\n",
    "\n",
    "    # save the test err in the result files.\n",
    "    # the gt_guide for test data is optional\n",
    "    gt_guide_test = []\n",
    "    for n_case in range(len(logits_test)):\n",
    "        gt_case_test     = gt_test[n_case]\n",
    "        gt_exist_test = []\n",
    "        for k_cls in range(logit_cls[0].shape[0]):\n",
    "            gt_exist_test.append(np.sum(gt_case_test == k_cls) > 0)\n",
    "        gt_guide_test.append(gt_exist_test)\n",
    "    \n",
    "    estim_dsc_test = moval_model.estimate(logits_test, gt_guide = gt_guide_test)\n",
    "\n",
    "    DSC_list_test = []\n",
    "    for n_case in range(len(logits_test)):\n",
    "        pred_case   = np.argmax(logits_test[n_case], axis = 0) # ``(H', W', (D'))``\n",
    "        gt_case     = gt_test[n_case] # ``(H', W', (D'))``\n",
    "\n",
    "        dsc_case = np.zeros(logits_test[n_case].shape[0])\n",
    "        for kcls in range(1, logits_test[n_case].shape[0]):\n",
    "            if np.sum(gt_case == kcls) == 0:\n",
    "                dsc_case[kcls] = -1\n",
    "            else:\n",
    "                dsc_case[kcls] = ComputMetric(pred_case == kcls, gt_case == kcls)\n",
    "        DSC_list_test.append(dsc_case)\n",
    "        \n",
    "    # only aggregate the ones which are not -1\n",
    "    DSC_list_test = np.array(DSC_list_test) # ``(n, d)``\n",
    "    m_DSC_test = []\n",
    "    m_DSC_test.append(0.)\n",
    "    for kcls in range(1, logits_test[n_case].shape[0]):\n",
    "        m_DSC_test.append(DSC_list_test[:, kcls][DSC_list_test[:,kcls] >= 0].mean())\n",
    "        \n",
    "    m_DSC_test = np.array(m_DSC_test)\n",
    "    err_test = np.abs( m_DSC_test[1:] - estim_dsc_test )\n",
    "\n",
    "    return err_test, moval_model"
   ]
  },
  {
   "cell_type": "code",
   "execution_count": 13,
   "id": "5d464f40-8cf5-45ca-a006-6cd1eeaa402a",
   "metadata": {},
   "outputs": [],
   "source": [
    "err_test_list = []\n",
    "moval_parameters = []\n",
    "moval_parameters_ = []"
   ]
  },
  {
   "cell_type": "code",
   "execution_count": 14,
   "id": "02be912a-16dc-4bd2-9476-3ab798ac41d4",
   "metadata": {
    "scrolled": true
   },
   "outputs": [
    {
     "name": "stderr",
     "output_type": "stream",
     "text": [
      "  0%|                                                                                                                                                                                              | 0/36 [00:00<?, ?it/s]"
     ]
    },
    {
     "name": "stdout",
     "output_type": "stream",
     "text": [
      "Starting optimizing for model ac-model with confidence max_class_probability-conf, class specific is False.\n"
     ]
    },
    {
     "name": "stderr",
     "output_type": "stream",
     "text": [
      "  3%|█████                                                                                                                                                                                 | 1/36 [00:03<01:49,  3.14s/it]"
     ]
    },
    {
     "name": "stdout",
     "output_type": "stream",
     "text": [
      "Starting optimizing for model ac-model with confidence energy-conf, class specific is False.\n"
     ]
    },
    {
     "name": "stderr",
     "output_type": "stream",
     "text": [
      "  6%|██████████                                                                                                                                                                            | 2/36 [00:05<01:37,  2.88s/it]"
     ]
    },
    {
     "name": "stdout",
     "output_type": "stream",
     "text": [
      "Starting optimizing for model ac-model with confidence entropy-conf, class specific is False.\n"
     ]
    },
    {
     "name": "stderr",
     "output_type": "stream",
     "text": [
      "  8%|███████████████▏                                                                                                                                                                      | 3/36 [00:08<01:38,  2.98s/it]"
     ]
    },
    {
     "name": "stdout",
     "output_type": "stream",
     "text": [
      "Starting optimizing for model ac-model with confidence doctor-conf, class specific is False.\n"
     ]
    },
    {
     "name": "stderr",
     "output_type": "stream",
     "text": [
      " 11%|████████████████████▏                                                                                                                                                                 | 4/36 [00:11<01:35,  2.99s/it]"
     ]
    },
    {
     "name": "stdout",
     "output_type": "stream",
     "text": [
      "Starting optimizing for model ts-model with confidence max_class_probability-conf, class specific is False.\n",
      "Opitimizing with 100 samples...\n",
      "Be patient, it should take a while...\n"
     ]
    },
    {
     "name": "stderr",
     "output_type": "stream",
     "text": [
      " 14%|█████████████████████████▎                                                                                                                                                            | 5/36 [00:24<03:21,  6.48s/it]"
     ]
    },
    {
     "name": "stdout",
     "output_type": "stream",
     "text": [
      "Starting optimizing for model ts-model with confidence max_class_probability-conf, class specific is True.\n",
      "Opitimizing with 100 samples...\n",
      "Be patient, it should take a while...\n",
      "Not satisfied with initial optimization results of param, trying more initial states...\n",
      "Tried 1/2 times.\n",
      "Tried 2/2 times.\n",
      "Not satisfied with initial optimization results of param, trying more initial states...\n",
      "Tried 1/2 times.\n",
      "Tried 2/2 times.\n",
      "Not satisfied with initial optimization results of param, trying more initial states...\n",
      "Tried 1/2 times.\n",
      "Tried 2/2 times.\n"
     ]
    },
    {
     "name": "stderr",
     "output_type": "stream",
     "text": [
      " 17%|██████████████████████████████▎                                                                                                                                                       | 6/36 [02:59<28:29, 56.98s/it]"
     ]
    },
    {
     "name": "stdout",
     "output_type": "stream",
     "text": [
      "Starting optimizing for model ts-model with confidence energy-conf, class specific is False.\n",
      "Opitimizing with 100 samples...\n",
      "Be patient, it should take a while...\n",
      "Not satisfied with initial optimization results of param, trying more initial states...\n",
      "Tried 1/2 times.\n",
      "Tried 2/2 times.\n"
     ]
    },
    {
     "name": "stderr",
     "output_type": "stream",
     "text": [
      " 19%|███████████████████████████████████▍                                                                                                                                                  | 7/36 [03:19<21:42, 44.91s/it]"
     ]
    },
    {
     "name": "stdout",
     "output_type": "stream",
     "text": [
      "Starting optimizing for model ts-model with confidence energy-conf, class specific is True.\n",
      "Opitimizing with 100 samples...\n",
      "Be patient, it should take a while...\n",
      "Not satisfied with initial optimization results of param, trying more initial states...\n",
      "Tried 1/2 times.\n",
      "Tried 2/2 times.\n",
      "Not satisfied with initial optimization results of param, trying more initial states...\n",
      "Tried 1/2 times.\n",
      "Tried 2/2 times.\n",
      "Not satisfied with initial optimization results of param, trying more initial states...\n",
      "Tried 1/2 times.\n",
      "Tried 2/2 times.\n"
     ]
    },
    {
     "name": "stderr",
     "output_type": "stream",
     "text": [
      " 22%|████████████████████████████████████████▍                                                                                                                                             | 8/36 [04:59<29:03, 62.27s/it]"
     ]
    },
    {
     "name": "stdout",
     "output_type": "stream",
     "text": [
      "Starting optimizing for model ts-model with confidence entropy-conf, class specific is False.\n",
      "Opitimizing with 100 samples...\n",
      "Be patient, it should take a while...\n"
     ]
    },
    {
     "name": "stderr",
     "output_type": "stream",
     "text": [
      " 25%|█████████████████████████████████████████████▌                                                                                                                                        | 9/36 [05:12<21:06, 46.91s/it]"
     ]
    },
    {
     "name": "stdout",
     "output_type": "stream",
     "text": [
      "Starting optimizing for model ts-model with confidence entropy-conf, class specific is True.\n",
      "Opitimizing with 100 samples...\n",
      "Be patient, it should take a while...\n",
      "Not satisfied with initial optimization results of param, trying more initial states...\n",
      "Tried 1/2 times.\n",
      "Tried 2/2 times.\n",
      "Not satisfied with initial optimization results of param, trying more initial states...\n",
      "Tried 1/2 times.\n",
      "Tried 2/2 times.\n",
      "Not satisfied with initial optimization results of param, trying more initial states...\n",
      "Tried 1/2 times.\n",
      "Tried 2/2 times.\n"
     ]
    },
    {
     "name": "stderr",
     "output_type": "stream",
     "text": [
      " 28%|██████████████████████████████████████████████████▎                                                                                                                                  | 10/36 [07:54<35:42, 82.39s/it]"
     ]
    },
    {
     "name": "stdout",
     "output_type": "stream",
     "text": [
      "Starting optimizing for model ts-model with confidence doctor-conf, class specific is False.\n",
      "Opitimizing with 100 samples...\n",
      "Be patient, it should take a while...\n"
     ]
    },
    {
     "name": "stderr",
     "output_type": "stream",
     "text": [
      " 31%|███████████████████████████████████████████████████████▎                                                                                                                             | 11/36 [08:08<25:41, 61.66s/it]"
     ]
    },
    {
     "name": "stdout",
     "output_type": "stream",
     "text": [
      "Starting optimizing for model ts-model with confidence doctor-conf, class specific is True.\n",
      "Opitimizing with 100 samples...\n",
      "Be patient, it should take a while...\n",
      "Not satisfied with initial optimization results of param, trying more initial states...\n",
      "Tried 1/2 times.\n",
      "Tried 2/2 times.\n",
      "Not satisfied with initial optimization results of param, trying more initial states...\n",
      "Tried 1/2 times.\n",
      "Tried 2/2 times.\n",
      "Not satisfied with initial optimization results of param, trying more initial states...\n",
      "Tried 1/2 times.\n",
      "Tried 2/2 times.\n",
      "Not satisfied with initial optimization results of param, trying more initial states...\n",
      "Tried 1/2 times.\n",
      "Tried 2/2 times.\n"
     ]
    },
    {
     "name": "stderr",
     "output_type": "stream",
     "text": [
      " 33%|████████████████████████████████████████████████████████████                                                                                                                        | 12/36 [12:03<45:42, 114.27s/it]"
     ]
    },
    {
     "name": "stdout",
     "output_type": "stream",
     "text": [
      "Starting optimizing for model doc-model with confidence max_class_probability-conf, class specific is False.\n",
      "Opitimizing with 100 samples...\n",
      "Be patient, it should take a while...\n"
     ]
    },
    {
     "name": "stderr",
     "output_type": "stream",
     "text": [
      " 36%|█████████████████████████████████████████████████████████████████▎                                                                                                                   | 13/36 [12:13<31:45, 82.83s/it]"
     ]
    },
    {
     "name": "stdout",
     "output_type": "stream",
     "text": [
      "Starting optimizing for model doc-model with confidence max_class_probability-conf, class specific is True.\n",
      "Opitimizing with 100 samples...\n",
      "Be patient, it should take a while...\n",
      "Not satisfied with initial optimization results of param, trying more initial states...\n"
     ]
    },
    {
     "name": "stderr",
     "output_type": "stream",
     "text": [
      "/Users/zejuli/opt/anaconda3/envs/moval/lib/python3.8/site-packages/moval/models/model.py:288: RuntimeWarning: Mean of empty slice.\n",
      "  m_estim_dsc.append(estim_dsc_list[:, kcls][estim_dsc_list[:,kcls] >= 0].mean())\n",
      "/Users/zejuli/opt/anaconda3/envs/moval/lib/python3.8/site-packages/numpy/core/_methods.py:192: RuntimeWarning: invalid value encountered in scalar divide\n",
      "  ret = ret.dtype.type(ret / rcount)\n"
     ]
    },
    {
     "name": "stdout",
     "output_type": "stream",
     "text": [
      "Tried 1/2 times.\n",
      "Tried 2/2 times.\n",
      "Not satisfied with initial optimization results of param, trying more initial states...\n",
      "Tried 1/2 times.\n",
      "Tried 2/2 times.\n",
      "Not satisfied with initial optimization results of param, trying more initial states...\n",
      "Tried 1/2 times.\n",
      "Tried 2/2 times.\n"
     ]
    },
    {
     "name": "stderr",
     "output_type": "stream",
     "text": [
      " 39%|██████████████████████████████████████████████████████████████████████▍                                                                                                              | 14/36 [13:58<32:44, 89.28s/it]"
     ]
    },
    {
     "name": "stdout",
     "output_type": "stream",
     "text": [
      "Starting optimizing for model doc-model with confidence energy-conf, class specific is False.\n",
      "Opitimizing with 100 samples...\n",
      "Be patient, it should take a while...\n"
     ]
    },
    {
     "name": "stderr",
     "output_type": "stream",
     "text": [
      " 42%|███████████████████████████████████████████████████████████████████████████▍                                                                                                         | 15/36 [14:07<22:46, 65.08s/it]"
     ]
    },
    {
     "name": "stdout",
     "output_type": "stream",
     "text": [
      "Starting optimizing for model doc-model with confidence energy-conf, class specific is True.\n",
      "Opitimizing with 100 samples...\n",
      "Be patient, it should take a while...\n",
      "Not satisfied with initial optimization results of param, trying more initial states...\n",
      "Tried 1/2 times.\n",
      "Tried 2/2 times.\n",
      "Not satisfied with initial optimization results of param, trying more initial states...\n",
      "Tried 1/2 times.\n",
      "Tried 2/2 times.\n",
      "Not satisfied with initial optimization results of param, trying more initial states...\n",
      "Tried 1/2 times.\n",
      "Tried 2/2 times.\n"
     ]
    },
    {
     "name": "stderr",
     "output_type": "stream",
     "text": [
      " 44%|████████████████████████████████████████████████████████████████████████████████▍                                                                                                    | 16/36 [15:34<23:57, 71.85s/it]"
     ]
    },
    {
     "name": "stdout",
     "output_type": "stream",
     "text": [
      "Starting optimizing for model doc-model with confidence entropy-conf, class specific is False.\n",
      "Opitimizing with 100 samples...\n",
      "Be patient, it should take a while...\n"
     ]
    },
    {
     "name": "stderr",
     "output_type": "stream",
     "text": [
      " 47%|█████████████████████████████████████████████████████████████████████████████████████▍                                                                                               | 17/36 [15:45<16:57, 53.56s/it]"
     ]
    },
    {
     "name": "stdout",
     "output_type": "stream",
     "text": [
      "Starting optimizing for model doc-model with confidence entropy-conf, class specific is True.\n",
      "Opitimizing with 100 samples...\n",
      "Be patient, it should take a while...\n",
      "Not satisfied with initial optimization results of param, trying more initial states...\n",
      "Tried 1/2 times.\n",
      "Tried 2/2 times.\n",
      "Not satisfied with initial optimization results of param, trying more initial states...\n",
      "Tried 1/2 times.\n",
      "Tried 2/2 times.\n",
      "Not satisfied with initial optimization results of param, trying more initial states...\n",
      "Tried 1/2 times.\n",
      "Tried 2/2 times.\n"
     ]
    },
    {
     "name": "stderr",
     "output_type": "stream",
     "text": [
      " 50%|██████████████████████████████████████████████████████████████████████████████████████████▌                                                                                          | 18/36 [17:36<21:12, 70.71s/it]"
     ]
    },
    {
     "name": "stdout",
     "output_type": "stream",
     "text": [
      "Starting optimizing for model doc-model with confidence doctor-conf, class specific is False.\n",
      "Opitimizing with 100 samples...\n",
      "Be patient, it should take a while...\n"
     ]
    },
    {
     "name": "stderr",
     "output_type": "stream",
     "text": [
      " 53%|███████████████████████████████████████████████████████████████████████████████████████████████▌                                                                                     | 19/36 [17:46<14:53, 52.54s/it]"
     ]
    },
    {
     "name": "stdout",
     "output_type": "stream",
     "text": [
      "Starting optimizing for model doc-model with confidence doctor-conf, class specific is True.\n",
      "Opitimizing with 100 samples...\n",
      "Be patient, it should take a while...\n",
      "Not satisfied with initial optimization results of param, trying more initial states...\n",
      "Tried 1/2 times.\n",
      "Tried 2/2 times.\n",
      "Not satisfied with initial optimization results of param, trying more initial states...\n",
      "Tried 1/2 times.\n",
      "Tried 2/2 times.\n",
      "Not satisfied with initial optimization results of param, trying more initial states...\n",
      "Tried 1/2 times.\n",
      "Tried 2/2 times.\n"
     ]
    },
    {
     "name": "stderr",
     "output_type": "stream",
     "text": [
      " 56%|████████████████████████████████████████████████████████████████████████████████████████████████████▌                                                                                | 20/36 [19:27<17:55, 67.20s/it]"
     ]
    },
    {
     "name": "stdout",
     "output_type": "stream",
     "text": [
      "Starting optimizing for model atc-model with confidence max_class_probability-conf, class specific is False.\n",
      "Opitimizing with 100 samples...\n",
      "Be patient, it should take a while...\n"
     ]
    },
    {
     "name": "stderr",
     "output_type": "stream",
     "text": [
      " 58%|█████████████████████████████████████████████████████████████████████████████████████████████████████████▌                                                                           | 21/36 [19:38<12:35, 50.36s/it]"
     ]
    },
    {
     "name": "stdout",
     "output_type": "stream",
     "text": [
      "Starting optimizing for model atc-model with confidence max_class_probability-conf, class specific is True.\n",
      "Opitimizing with 100 samples...\n",
      "Be patient, it should take a while...\n",
      "Not satisfied with initial optimization results of param, trying more initial states...\n",
      "Tried 1/2 times.\n",
      "Tried 2/2 times.\n",
      "Not satisfied with initial optimization results of param, trying more initial states...\n",
      "Tried 1/2 times.\n",
      "Tried 2/2 times.\n",
      "Not satisfied with initial optimization results of param, trying more initial states...\n",
      "Tried 1/2 times.\n",
      "Tried 2/2 times.\n"
     ]
    },
    {
     "name": "stderr",
     "output_type": "stream",
     "text": [
      " 61%|██████████████████████████████████████████████████████████████████████████████████████████████████████████████▌                                                                      | 22/36 [21:27<15:49, 67.81s/it]"
     ]
    },
    {
     "name": "stdout",
     "output_type": "stream",
     "text": [
      "Starting optimizing for model atc-model with confidence energy-conf, class specific is False.\n",
      "Opitimizing with 100 samples...\n",
      "Be patient, it should take a while...\n",
      "Not satisfied with initial optimization results of param, trying more initial states...\n",
      "Tried 1/2 times.\n",
      "Tried 2/2 times.\n"
     ]
    },
    {
     "name": "stderr",
     "output_type": "stream",
     "text": [
      " 64%|███████████████████████████████████████████████████████████████████████████████████████████████████████████████████▋                                                                 | 23/36 [21:42<11:14, 51.87s/it]"
     ]
    },
    {
     "name": "stdout",
     "output_type": "stream",
     "text": [
      "Starting optimizing for model atc-model with confidence energy-conf, class specific is True.\n",
      "Opitimizing with 100 samples...\n",
      "Be patient, it should take a while...\n",
      "Not satisfied with initial optimization results of param, trying more initial states...\n",
      "Tried 1/2 times.\n",
      "Tried 2/2 times.\n",
      "Not satisfied with initial optimization results of param, trying more initial states...\n",
      "Tried 1/2 times.\n",
      "Tried 2/2 times.\n",
      "Not satisfied with initial optimization results of param, trying more initial states...\n",
      "Tried 1/2 times.\n",
      "Tried 2/2 times.\n",
      "Not satisfied with initial optimization results of param, trying more initial states...\n",
      "Tried 1/2 times.\n",
      "Tried 2/2 times.\n"
     ]
    },
    {
     "name": "stderr",
     "output_type": "stream",
     "text": [
      " 67%|████████████████████████████████████████████████████████████████████████████████████████████████████████████████████████▋                                                            | 24/36 [23:15<12:51, 64.28s/it]"
     ]
    },
    {
     "name": "stdout",
     "output_type": "stream",
     "text": [
      "Starting optimizing for model atc-model with confidence entropy-conf, class specific is False.\n",
      "Opitimizing with 100 samples...\n",
      "Be patient, it should take a while...\n"
     ]
    },
    {
     "name": "stderr",
     "output_type": "stream",
     "text": [
      " 69%|█████████████████████████████████████████████████████████████████████████████████████████████████████████████████████████████▋                                                       | 25/36 [23:27<08:55, 48.65s/it]"
     ]
    },
    {
     "name": "stdout",
     "output_type": "stream",
     "text": [
      "Starting optimizing for model atc-model with confidence entropy-conf, class specific is True.\n",
      "Opitimizing with 100 samples...\n",
      "Be patient, it should take a while...\n",
      "Not satisfied with initial optimization results of param, trying more initial states...\n",
      "Tried 1/2 times.\n",
      "Tried 2/2 times.\n",
      "Not satisfied with initial optimization results of param, trying more initial states...\n",
      "Tried 1/2 times.\n",
      "Tried 2/2 times.\n",
      "Not satisfied with initial optimization results of param, trying more initial states...\n",
      "Tried 1/2 times.\n",
      "Tried 2/2 times.\n"
     ]
    },
    {
     "name": "stderr",
     "output_type": "stream",
     "text": [
      " 72%|██████████████████████████████████████████████████████████████████████████████████████████████████████████████████████████████████▋                                                  | 26/36 [25:19<11:15, 67.59s/it]"
     ]
    },
    {
     "name": "stdout",
     "output_type": "stream",
     "text": [
      "Starting optimizing for model atc-model with confidence doctor-conf, class specific is False.\n",
      "Opitimizing with 100 samples...\n",
      "Be patient, it should take a while...\n"
     ]
    },
    {
     "name": "stderr",
     "output_type": "stream",
     "text": [
      " 75%|███████████████████████████████████████████████████████████████████████████████████████████████████████████████████████████████████████▊                                             | 27/36 [25:30<07:36, 50.73s/it]"
     ]
    },
    {
     "name": "stdout",
     "output_type": "stream",
     "text": [
      "Starting optimizing for model atc-model with confidence doctor-conf, class specific is True.\n",
      "Opitimizing with 100 samples...\n",
      "Be patient, it should take a while...\n",
      "Not satisfied with initial optimization results of param, trying more initial states...\n",
      "Tried 1/2 times.\n",
      "Tried 2/2 times.\n",
      "Not satisfied with initial optimization results of param, trying more initial states...\n",
      "Tried 1/2 times.\n",
      "Tried 2/2 times.\n",
      "Not satisfied with initial optimization results of param, trying more initial states...\n",
      "Tried 1/2 times.\n",
      "Tried 2/2 times.\n"
     ]
    },
    {
     "name": "stderr",
     "output_type": "stream",
     "text": [
      " 78%|████████████████████████████████████████████████████████████████████████████████████████████████████████████████████████████████████████████▊                                        | 28/36 [27:16<08:57, 67.21s/it]"
     ]
    },
    {
     "name": "stdout",
     "output_type": "stream",
     "text": [
      "Starting optimizing for model ts-atc-model with confidence max_class_probability-conf, class specific is False.\n",
      "Opitimizing with 100 samples...\n",
      "Be patient, it should take a while...\n"
     ]
    },
    {
     "name": "stderr",
     "output_type": "stream",
     "text": [
      " 81%|█████████████████████████████████████████████████████████████████████████████████████████████████████████████████████████████████████████████████▊                                   | 29/36 [27:38<06:15, 53.60s/it]"
     ]
    },
    {
     "name": "stdout",
     "output_type": "stream",
     "text": [
      "Starting optimizing for model ts-atc-model with confidence max_class_probability-conf, class specific is True.\n",
      "Opitimizing with 100 samples...\n",
      "Be patient, it should take a while...\n",
      "Not satisfied with initial optimization results of param, trying more initial states...\n",
      "Tried 1/2 times.\n",
      "Tried 2/2 times.\n",
      "Not satisfied with initial optimization results of param, trying more initial states...\n",
      "Tried 1/2 times.\n",
      "Tried 2/2 times.\n",
      "Not satisfied with initial optimization results of param, trying more initial states...\n",
      "Tried 1/2 times.\n",
      "Tried 2/2 times.\n",
      "Not satisfied with initial optimization results of param_ext, trying more initial states...\n",
      "Tried 1/2 times.\n",
      "Tried 2/2 times.\n"
     ]
    },
    {
     "name": "stderr",
     "output_type": "stream",
     "text": [
      " 83%|██████████████████████████████████████████████████████████████████████████████████████████████████████████████████████████████████████████████████████                              | 30/36 [31:26<10:36, 106.07s/it]"
     ]
    },
    {
     "name": "stdout",
     "output_type": "stream",
     "text": [
      "Starting optimizing for model ts-atc-model with confidence energy-conf, class specific is False.\n",
      "Opitimizing with 100 samples...\n",
      "Be patient, it should take a while...\n",
      "Not satisfied with initial optimization results of param, trying more initial states...\n",
      "Tried 1/2 times.\n",
      "Tried 2/2 times.\n",
      "Not satisfied with initial optimization results of param_ext, trying more initial states...\n",
      "Tried 1/2 times.\n",
      "Tried 2/2 times.\n"
     ]
    },
    {
     "name": "stderr",
     "output_type": "stream",
     "text": [
      " 86%|███████████████████████████████████████████████████████████████████████████████████████████████████████████████████████████████████████████████████████████▊                         | 31/36 [31:59<07:00, 84.17s/it]"
     ]
    },
    {
     "name": "stdout",
     "output_type": "stream",
     "text": [
      "Starting optimizing for model ts-atc-model with confidence energy-conf, class specific is True.\n",
      "Opitimizing with 100 samples...\n",
      "Be patient, it should take a while...\n",
      "Not satisfied with initial optimization results of param, trying more initial states...\n",
      "Tried 1/2 times.\n",
      "Tried 2/2 times.\n",
      "Not satisfied with initial optimization results of param, trying more initial states...\n",
      "Tried 1/2 times.\n",
      "Tried 2/2 times.\n",
      "Not satisfied with initial optimization results of param, trying more initial states...\n",
      "Tried 1/2 times.\n",
      "Tried 2/2 times.\n",
      "Not satisfied with initial optimization results of param_ext, trying more initial states...\n",
      "Tried 1/2 times.\n",
      "Tried 2/2 times.\n",
      "Not satisfied with initial optimization results of param_ext, trying more initial states...\n",
      "Tried 1/2 times.\n",
      "Tried 2/2 times.\n",
      "Not satisfied with initial optimization results of param_ext, trying more initial states...\n",
      "Tried 1/2 times.\n",
      "Tried 2/2 times.\n",
      "Not satisfied with initial optimization results of param_ext, trying more initial states...\n",
      "Tried 1/2 times.\n",
      "Tried 2/2 times.\n"
     ]
    },
    {
     "name": "stderr",
     "output_type": "stream",
     "text": [
      " 89%|████████████████████████████████████████████████████████████████████████████████████████████████████████████████████████████████████████████████████████████████                    | 32/36 [35:30<08:08, 122.05s/it]"
     ]
    },
    {
     "name": "stdout",
     "output_type": "stream",
     "text": [
      "Starting optimizing for model ts-atc-model with confidence entropy-conf, class specific is False.\n",
      "Opitimizing with 100 samples...\n",
      "Be patient, it should take a while...\n"
     ]
    },
    {
     "name": "stderr",
     "output_type": "stream",
     "text": [
      " 92%|█████████████████████████████████████████████████████████████████████████████████████████████████████████████████████████████████████████████████████████████████████▉               | 33/36 [35:53<04:37, 92.39s/it]"
     ]
    },
    {
     "name": "stdout",
     "output_type": "stream",
     "text": [
      "Starting optimizing for model ts-atc-model with confidence entropy-conf, class specific is True.\n",
      "Opitimizing with 100 samples...\n",
      "Be patient, it should take a while...\n",
      "Not satisfied with initial optimization results of param, trying more initial states...\n",
      "Tried 1/2 times.\n",
      "Tried 2/2 times.\n",
      "Not satisfied with initial optimization results of param, trying more initial states...\n",
      "Tried 1/2 times.\n",
      "Tried 2/2 times.\n",
      "Not satisfied with initial optimization results of param, trying more initial states...\n",
      "Tried 1/2 times.\n",
      "Tried 2/2 times.\n"
     ]
    },
    {
     "name": "stderr",
     "output_type": "stream",
     "text": [
      " 94%|██████████████████████████████████████████████████████████████████████████████████████████████████████████████████████████████████████████████████████████████████████████          | 34/36 [39:39<04:25, 132.58s/it]"
     ]
    },
    {
     "name": "stdout",
     "output_type": "stream",
     "text": [
      "Starting optimizing for model ts-atc-model with confidence doctor-conf, class specific is False.\n",
      "Opitimizing with 100 samples...\n",
      "Be patient, it should take a while...\n"
     ]
    },
    {
     "name": "stderr",
     "output_type": "stream",
     "text": [
      " 97%|███████████████████████████████████████████████████████████████████████████████████████████████████████████████████████████████████████████████████████████████████████████████     | 35/36 [40:03<01:39, 100.00s/it]"
     ]
    },
    {
     "name": "stdout",
     "output_type": "stream",
     "text": [
      "Starting optimizing for model ts-atc-model with confidence doctor-conf, class specific is True.\n",
      "Opitimizing with 100 samples...\n",
      "Be patient, it should take a while...\n",
      "Not satisfied with initial optimization results of param, trying more initial states...\n",
      "Tried 1/2 times.\n",
      "Tried 2/2 times.\n",
      "Not satisfied with initial optimization results of param, trying more initial states...\n",
      "Tried 1/2 times.\n",
      "Tried 2/2 times.\n",
      "Not satisfied with initial optimization results of param, trying more initial states...\n",
      "Tried 1/2 times.\n",
      "Tried 2/2 times.\n",
      "Not satisfied with initial optimization results of param, trying more initial states...\n",
      "Tried 1/2 times.\n",
      "Tried 2/2 times.\n"
     ]
    },
    {
     "name": "stderr",
     "output_type": "stream",
     "text": [
      "100%|█████████████████████████████████████████████████████████████████████████████████████████████████████████████████████████████████████████████████████████████████████████████████████| 36/36 [44:50<00:00, 74.73s/it]\n"
     ]
    }
   ],
   "source": [
    "for k_cond in tqdm(range(len(moval_options))):\n",
    "    \n",
    "    err_test, moval_model = test_cls(\n",
    "        estim_algorithm = moval_options[k_cond][0], \n",
    "        mode = moval_options[k_cond][1], \n",
    "        confidence_scores = moval_options[k_cond][2],\n",
    "        class_specific = moval_options[k_cond][3],\n",
    "        logits = logits,\n",
    "        gt = gt,\n",
    "        logits_tests = logits_test,\n",
    "        gt_tests = gt_test\n",
    "    )\n",
    "    err_test_list.append(err_test)\n",
    "    moval_parameters.append(moval_model.model_.param)\n",
    "    if moval_model.model_.extend_param:\n",
    "        moval_parameters_.append(moval_model.model_.param_ext)\n",
    "    else:\n",
    "        moval_parameters_.append(0.)"
   ]
  },
  {
   "cell_type": "markdown",
   "id": "3813800b-936c-47ad-8828-503189b21181",
   "metadata": {},
   "source": [
    "## Compare estimataion results"
   ]
  },
  {
   "cell_type": "code",
   "execution_count": 15,
   "id": "060d2d93-97a7-499d-9100-15b100c2cbce",
   "metadata": {},
   "outputs": [],
   "source": [
    "estim = []\n",
    "conf = []\n",
    "err = []\n",
    "err_mean = []\n",
    "novel = []\n",
    "k_option = 0\n",
    "# attach the class-wise segmentation error\n",
    "for moval_option in moval_options:\n",
    "    for k_cond in range(len(err_test_list[k_option])):\n",
    "        #\n",
    "        if moval_option[3] == True:\n",
    "            estim_cs = 'CS '\n",
    "        else:\n",
    "            estim_cs = ''\n",
    "        #    \n",
    "        if moval_option[0] == 'ac-model':\n",
    "            estim.append(estim_cs + 'AC')\n",
    "        elif moval_option[0] == 'ts-model':\n",
    "            estim.append(estim_cs + 'TS')\n",
    "        elif moval_option[0] == 'doc-model':\n",
    "            estim.append(estim_cs + 'DoC')\n",
    "        elif moval_option[0] == 'atc-model':\n",
    "            estim.append(estim_cs + 'ATC')\n",
    "        else:\n",
    "            estim.append(estim_cs + 'TS-ATC')\n",
    "        #\n",
    "        if moval_option[2] == 'max_class_probability-conf':\n",
    "            conf.append('MCP')\n",
    "        elif moval_option[2] == 'energy-conf':\n",
    "            conf.append('Energy')\n",
    "        elif moval_option[2] == 'entropy-conf':\n",
    "            conf.append('Entropy')\n",
    "        else:\n",
    "            conf.append('Doctor')\n",
    "        #\n",
    "        if moval_option[2] == 'max_class_probability-conf' and moval_option[3] == False:\n",
    "            novel.append('Existing Methods')\n",
    "        else:\n",
    "            novel.append('Provided by MOVAL')\n",
    "        #\n",
    "        err.append(err_test_list[k_option][k_cond])\n",
    "        err_mean.append(np.mean(err_test_list[k_option]))\n",
    "    k_option += 1"
   ]
  },
  {
   "cell_type": "code",
   "execution_count": 16,
   "id": "68a6754d-429b-4189-9443-2db6250e7662",
   "metadata": {},
   "outputs": [],
   "source": [
    "d = {'Estimation Algorithm': estim, 'Confidence Score': conf, 'MAE': err_mean, 'MAE ': err, 'Category': novel}\n",
    "df = pd.DataFrame(data=d)\n",
    "#\n",
    "custom_order = ['AC', 'TS', 'DoC', 'ATC', 'TS-ATC', 'CS TS', 'CS DoC', 'CS ATC', 'CS TS-ATC']\n",
    "df['Estimation Algorithm'] = pd.Categorical(df['Estimation Algorithm'], categories=custom_order, ordered=True)\n",
    "df = df.sort_values(by='Estimation Algorithm')\n",
    "#\n",
    "custom_order = ['MCP', 'Doctor', 'Entropy', 'Energy']\n",
    "df['Confidence Score'] = pd.Categorical(df['Confidence Score'], categories=custom_order, ordered=True)\n",
    "df = df.sort_values(by='Confidence Score')"
   ]
  },
  {
   "cell_type": "code",
   "execution_count": 17,
   "id": "99b0672c-d149-4347-9185-651428ff2e17",
   "metadata": {},
   "outputs": [
    {
     "data": {
      "text/html": [
       "<div>\n",
       "<style scoped>\n",
       "    .dataframe tbody tr th:only-of-type {\n",
       "        vertical-align: middle;\n",
       "    }\n",
       "\n",
       "    .dataframe tbody tr th {\n",
       "        vertical-align: top;\n",
       "    }\n",
       "\n",
       "    .dataframe thead th {\n",
       "        text-align: right;\n",
       "    }\n",
       "</style>\n",
       "<table border=\"1\" class=\"dataframe\">\n",
       "  <thead>\n",
       "    <tr style=\"text-align: right;\">\n",
       "      <th></th>\n",
       "      <th>Estimation Algorithm</th>\n",
       "      <th>Confidence Score</th>\n",
       "      <th>MAE</th>\n",
       "      <th>MAE</th>\n",
       "      <th>Category</th>\n",
       "    </tr>\n",
       "  </thead>\n",
       "  <tbody>\n",
       "    <tr>\n",
       "      <th>0</th>\n",
       "      <td>AC</td>\n",
       "      <td>MCP</td>\n",
       "      <td>0.180960</td>\n",
       "      <td>0.160946</td>\n",
       "      <td>Existing Methods</td>\n",
       "    </tr>\n",
       "    <tr>\n",
       "      <th>38</th>\n",
       "      <td>DoC</td>\n",
       "      <td>MCP</td>\n",
       "      <td>0.147394</td>\n",
       "      <td>0.149014</td>\n",
       "      <td>Existing Methods</td>\n",
       "    </tr>\n",
       "    <tr>\n",
       "      <th>61</th>\n",
       "      <td>ATC</td>\n",
       "      <td>MCP</td>\n",
       "      <td>0.084708</td>\n",
       "      <td>0.096688</td>\n",
       "      <td>Existing Methods</td>\n",
       "    </tr>\n",
       "    <tr>\n",
       "      <th>62</th>\n",
       "      <td>ATC</td>\n",
       "      <td>MCP</td>\n",
       "      <td>0.084708</td>\n",
       "      <td>0.045736</td>\n",
       "      <td>Existing Methods</td>\n",
       "    </tr>\n",
       "    <tr>\n",
       "      <th>60</th>\n",
       "      <td>ATC</td>\n",
       "      <td>MCP</td>\n",
       "      <td>0.084708</td>\n",
       "      <td>0.111699</td>\n",
       "      <td>Existing Methods</td>\n",
       "    </tr>\n",
       "  </tbody>\n",
       "</table>\n",
       "</div>"
      ],
      "text/plain": [
       "   Estimation Algorithm Confidence Score       MAE      MAE           Category\n",
       "0                    AC              MCP  0.180960  0.160946  Existing Methods\n",
       "38                  DoC              MCP  0.147394  0.149014  Existing Methods\n",
       "61                  ATC              MCP  0.084708  0.096688  Existing Methods\n",
       "62                  ATC              MCP  0.084708  0.045736  Existing Methods\n",
       "60                  ATC              MCP  0.084708  0.111699  Existing Methods"
      ]
     },
     "execution_count": 17,
     "metadata": {},
     "output_type": "execute_result"
    }
   ],
   "source": [
    "df.head()"
   ]
  },
  {
   "cell_type": "code",
   "execution_count": 51,
   "id": "71dda52f-13bc-46f4-9702-e65ece9f1bfe",
   "metadata": {},
   "outputs": [
    {
     "data": {
      "image/png": "[encoded data removed]",
      "text/plain": [
       "<Figure size 600x300 with 1 Axes>"
      ]
     },
     "metadata": {},
     "output_type": "display_data"
    }
   ],
   "source": [
    "sns.set(rc={'figure.figsize':(6,3)})\n",
    "sns.set_style(\"darkgrid\")\n",
    "category_palette = {'Existing Methods': 'grey', 'Provided by MOVAL': '#1f77b4'}\n",
    "ax = sns.scatterplot(\n",
    "    data=df, x=\"Estimation Algorithm\", y=\"Confidence Score\", hue=\"Category\", size=\"MAE\",\n",
    "    sizes=(40, 1000), palette=category_palette\n",
    ")\n",
    "ax.set(ylim=(3.5, -0.5))\n",
    "ax.tick_params(axis='x', rotation=15)\n",
    "#\n",
    "# Get the handles and labels from the legend\n",
    "handles, labels = ax.get_legend_handles_labels()\n",
    "\n",
    "# Create a custom legend with only desired categories\n",
    "desired_labels = ['Category', 'Existing Methods', 'Provided by MOVAL', 'MAE', '0.06', '0.12']\n",
    "desired_handles = [h for h, l in zip(handles, labels) if l in desired_labels]\n",
    "\n",
    "legend = plt.legend(handles=desired_handles, labels=desired_labels, bbox_to_anchor=(1.2, 1), labelspacing=1)\n",
    "\n",
    "# Increase the line spacing by adjusting position"
   ]
  },
  {
   "cell_type": "code",
   "execution_count": 23,
   "id": "3d1afafe-7490-4da1-8c88-5fbdf15ce128",
   "metadata": {},
   "outputs": [
    {
     "name": "stdout",
     "output_type": "stream",
     "text": [
      "p-value annotation legend:\n",
      "      ns: 5.00e-02 < p <= 1.00e+00\n",
      "       *: 1.00e-02 < p <= 5.00e-02\n",
      "      **: 1.00e-03 < p <= 1.00e-02\n",
      "     ***: 1.00e-04 < p <= 1.00e-03\n",
      "    ****: p <= 1.00e-04\n",
      "\n",
      "TS vs. CS TS: Mann-Whitney-Wilcoxon test two-sided, P_val:3.223e-05 U_stat=1.440e+02\n",
      "DoC vs. CS DoC: Mann-Whitney-Wilcoxon test two-sided, P_val:3.223e-05 U_stat=1.440e+02\n",
      "ATC vs. CS ATC: Mann-Whitney-Wilcoxon test two-sided, P_val:3.223e-05 U_stat=1.440e+02\n",
      "TS-ATC vs. CS TS-ATC: Mann-Whitney-Wilcoxon test two-sided, P_val:3.223e-05 U_stat=1.440e+02\n"
     ]
    },
    {
     "data": {
      "text/plain": [
       "(<Axes: xlabel='Estimation Algorithm', ylabel='MAE'>,\n",
       " [<statannotations.Annotation.Annotation at 0x7f8952580550>,\n",
       "  <statannotations.Annotation.Annotation at 0x7f8954041e80>,\n",
       "  <statannotations.Annotation.Annotation at 0x7f8954041eb0>,\n",
       "  <statannotations.Annotation.Annotation at 0x7f8954041f10>])"
      ]
     },
     "execution_count": 23,
     "metadata": {},
     "output_type": "execute_result"
    },
    {
     "data": {
      "image/png": "[encoded data removed]",
      "text/plain": [
       "<Figure size 600x200 with 1 Axes>"
      ]
     },
     "metadata": {},
     "output_type": "display_data"
    }
   ],
   "source": [
    "from statannotations.Annotator import Annotator\n",
    "sns.set(rc={'figure.figsize':(6,2)})\n",
    "sns.set_style(\"white\")\n",
    "ax = sns.barplot(df, x=\"Estimation Algorithm\", y=\"MAE\", color = '#1f77b4')\n",
    "ax.tick_params(axis='x', rotation=15)\n",
    "#\n",
    "ax.spines['top'].set_color('none')\n",
    "ax.spines['right'].set_color('none')\n",
    "ax.spines['bottom'].set_color('none')\n",
    "ax.spines['left'].set_color('none')\n",
    "#\n",
    "pairs=[(\"TS\", \"CS TS\"), (\"DoC\", \"CS DoC\"), (\"ATC\", \"CS ATC\"), (\"TS-ATC\", \"CS TS-ATC\")]\n",
    "\n",
    "annotator = Annotator(ax, pairs, data=df, x=\"Estimation Algorithm\", y=\"MAE\")\n",
    "annotator.configure(test='Mann-Whitney', text_format='star', loc='inside')\n",
    "annotator.apply_and_annotate()"
   ]
  },
  {
   "cell_type": "code",
   "execution_count": 25,
   "id": "ab3ff7bd-6395-446d-b645-69b5c4d220dd",
   "metadata": {},
   "outputs": [
    {
     "name": "stdout",
     "output_type": "stream",
     "text": [
      "p-value annotation legend:\n",
      "      ns: 5.00e-02 < p <= 1.00e+00\n",
      "       *: 1.00e-02 < p <= 5.00e-02\n",
      "      **: 1.00e-03 < p <= 1.00e-02\n",
      "     ***: 1.00e-04 < p <= 1.00e-03\n",
      "    ****: p <= 1.00e-04\n",
      "\n",
      "MCP vs. Doctor: Mann-Whitney-Wilcoxon test two-sided, P_val:8.216e-01 U_stat=3.510e+02\n",
      "MCP vs. Entropy: Mann-Whitney-Wilcoxon test two-sided, P_val:8.218e-01 U_stat=3.780e+02\n",
      "MCP vs. Energy: Mann-Whitney-Wilcoxon test two-sided, P_val:1.405e-01 U_stat=2.790e+02\n"
     ]
    },
    {
     "data": {
      "text/plain": [
       "(<Axes: xlabel='Confidence Score', ylabel='MAE'>,\n",
       " [<statannotations.Annotation.Annotation at 0x7f899871b550>,\n",
       "  <statannotations.Annotation.Annotation at 0x7f89799ece20>,\n",
       "  <statannotations.Annotation.Annotation at 0x7f89799ecd00>])"
      ]
     },
     "execution_count": 25,
     "metadata": {},
     "output_type": "execute_result"
    },
    {
     "data": {
      "image/png": "[encoded data removed]",
      "text/plain": [
       "<Figure size 300x200 with 1 Axes>"
      ]
     },
     "metadata": {},
     "output_type": "display_data"
    }
   ],
   "source": [
    "sns.set(rc={'figure.figsize':(3,2)})\n",
    "sns.set_style(\"white\")\n",
    "ax = sns.barplot(df, x=\"Confidence Score\", y=\"MAE\", color = '#1f77b4')\n",
    "ax.tick_params(axis='x', rotation=15)\n",
    "#\n",
    "ax.spines['top'].set_color('none')\n",
    "ax.spines['right'].set_color('none')\n",
    "ax.spines['bottom'].set_color('none')\n",
    "ax.spines['left'].set_color('none')\n",
    "#\n",
    "pairs=[(\"MCP\", \"Doctor\"), (\"MCP\", \"Entropy\"), (\"MCP\", \"Energy\")]\n",
    "\n",
    "annotator = Annotator(ax, pairs, data=df, x=\"Confidence Score\", y=\"MAE\")\n",
    "annotator.configure(test='Mann-Whitney', text_format='star', loc='inside')\n",
    "annotator.apply_and_annotate()"
   ]
  },
  {
   "cell_type": "code",
   "execution_count": 27,
   "id": "36ef192e-b82e-4a68-ba7c-a1d4813cabfe",
   "metadata": {},
   "outputs": [
    {
     "name": "stdout",
     "output_type": "stream",
     "text": [
      "p-value annotation legend:\n",
      "      ns: 5.00e-02 < p <= 1.00e+00\n",
      "       *: 1.00e-02 < p <= 5.00e-02\n",
      "      **: 1.00e-03 < p <= 1.00e-02\n",
      "     ***: 1.00e-04 < p <= 1.00e-03\n",
      "    ****: p <= 1.00e-04\n",
      "\n",
      "ATC_MCP vs. CS DoC_Doctor: Mann-Whitney-Wilcoxon test two-sided, P_val:4.685e-02 U_stat=9.000e+00\n"
     ]
    },
    {
     "data": {
      "text/plain": [
       "[(-0.02, 0.25)]"
      ]
     },
     "execution_count": 27,
     "metadata": {},
     "output_type": "execute_result"
    },
    {
     "data": {
      "image/png": "[encoded data removed]",
      "text/plain": [
       "<Figure size 1200x300 with 1 Axes>"
      ]
     },
     "metadata": {},
     "output_type": "display_data"
    }
   ],
   "source": [
    "sns.set(rc={'figure.figsize':(12,3)})\n",
    "category_palette = {'MCP': '#e5f0f8',\n",
    "                    'Doctor': '#99c6e4',\n",
    "                    'Entropy': '#4c9cd0',\n",
    "                    'Energy': '#0072bd'\n",
    "                   }\n",
    "ax = sns.boxplot(df, x=\"Estimation Algorithm\", y=\"MAE \", hue=\"Confidence Score\", palette=category_palette)\n",
    "ax.set(ylim=(-0.02, 0.5))\n",
    "sns.move_legend(ax, \"upper left\", bbox_to_anchor=(1, 1))\n",
    "\n",
    "pairs=[\n",
    "    [(\"ATC\", \"MCP\"), (\"CS DoC\", \"Doctor\")]\n",
    "]\n",
    "\n",
    "annotator = Annotator(ax, pairs, data=df, x=\"Estimation Algorithm\", y=\"MAE\", hue=\"Confidence Score\")\n",
    "annotator.configure(test='Mann-Whitney', text_format='star', loc='inside')\n",
    "annotator.apply_and_annotate()\n",
    "\n",
    "ax.set(ylim=(-0.02, 0.25))"
   ]
  },
  {
   "cell_type": "code",
   "execution_count": null,
   "id": "cd3aab34-1604-4101-9624-a2d077cfc39c",
   "metadata": {},
   "outputs": [],
   "source": []
  },
  {
   "cell_type": "code",
   "execution_count": null,
   "id": "da4511f7-9656-4bfa-8867-587de7131376",
   "metadata": {},
   "outputs": [],
   "source": []
  }
 ],
 "metadata": {
  "kernelspec": {
   "display_name": "Python 3 (ipykernel)",
   "language": "python",
   "name": "python3"
  },
  "language_info": {
   "codemirror_mode": {
    "name": "ipython",
    "version": 3
   },
   "file_extension": ".py",
   "mimetype": "text/x-python",
   "name": "python",
   "nbconvert_exporter": "python",
   "pygments_lexer": "ipython3",
   "version": "3.8.0"
  }
 },
 "nbformat": 4,
 "nbformat_minor": 5
}
