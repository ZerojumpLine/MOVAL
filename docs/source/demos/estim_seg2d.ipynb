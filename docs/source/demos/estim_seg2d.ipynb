{
 "cells": [
  {
   "cell_type": "markdown",
   "id": "78e1590e-fe81-42a5-baeb-b5734c62df1a",
   "metadata": {},
   "source": [
    "# Performance Estimation of multi-class 2D Segmentation"
   ]
  },
  {
   "cell_type": "markdown",
   "id": "8ba3dd68-4dba-4638-9de1-ab7847d24d90",
   "metadata": {},
   "source": [
    "Consider to download this Jupyter Notebook and run locally, or test it with Colab.\n",
    "<br>\n",
    "[![Download](https://img.shields.io/badge/Download-jupyter-blue)](https://github.com/ZerojumpLine/MOVAL/blob/main/docs/source/demos/estim_seg2d.ipynb)\n",
    "[![Open In Colab](https://colab.research.google.com/assets/colab-badge.svg)](https://colab.research.google.com/drive/1QXv_1ma680dDFh2jpos3NxirXyeku7bt#scrollTo=8ba3dd68-4dba-4638-9de1-ab7847d24d90)"
   ]
  },
  {
   "cell_type": "markdown",
   "id": "c9b5661b-b953-408e-9b23-b05ccdb8a241",
   "metadata": {},
   "source": [
    "* In this notebook, we will show how to evaluate the performance of multi-class 2D segmentation tasks.\n",
    "<br>\n",
    "* We provide the model predicted 2D segmentation results (network logits) for this tutorial, which will be download automatically. We also provide the model training code in https://github.com/ZerojumpLine/Robust-Medical-Segmentation.\n",
    "<br>\n",
    "* More specifically, we show an example of estimating the performance under domain shifts on Cardiac MRI segmentation (into 4 classes including background, left ventricle (LV), myocardium(MYO) and right ventricle (RV)) based on a 3D U-Net. We will utilize the calculated logits on test dataset acquired with a different scanner.\n",
    "<br>\n",
    "* We will calculated model confidence with different confidence scores and varied calibration methods."
   ]
  },
  {
   "cell_type": "code",
   "execution_count": 1,
   "id": "015ad97d-ae79-4b0b-9a01-6ce2d6b14233",
   "metadata": {
    "scrolled": true
   },
   "outputs": [
    {
     "name": "stdout",
     "output_type": "stream",
     "text": [
      "Requirement already satisfied: moval in /Users/zejuli/opt/anaconda3/lib/python3.9/site-packages (0.2.5)\n",
      "Requirement already satisfied: scipy>=1.8.0 in /Users/zejuli/opt/anaconda3/lib/python3.9/site-packages (from moval) (1.9.1)\n",
      "Requirement already satisfied: nibabel in /Users/zejuli/opt/anaconda3/lib/python3.9/site-packages (from moval) (5.0.1)\n",
      "Requirement already satisfied: pandas in /Users/zejuli/opt/anaconda3/lib/python3.9/site-packages (from moval) (1.4.4)\n",
      "Requirement already satisfied: scikit-learn>=1.3.0 in /Users/zejuli/opt/anaconda3/lib/python3.9/site-packages (from moval) (1.3.0)\n",
      "Requirement already satisfied: pytest in /Users/zejuli/opt/anaconda3/lib/python3.9/site-packages (from moval) (7.1.2)\n",
      "Requirement already satisfied: gdown in /Users/zejuli/opt/anaconda3/lib/python3.9/site-packages (from moval) (4.7.1)\n",
      "Requirement already satisfied: numpy>=1.17.3 in /Users/zejuli/opt/anaconda3/lib/python3.9/site-packages (from scikit-learn>=1.3.0->moval) (1.21.5)\n",
      "Requirement already satisfied: threadpoolctl>=2.0.0 in /Users/zejuli/opt/anaconda3/lib/python3.9/site-packages (from scikit-learn>=1.3.0->moval) (2.2.0)\n",
      "Requirement already satisfied: joblib>=1.1.1 in /Users/zejuli/opt/anaconda3/lib/python3.9/site-packages (from scikit-learn>=1.3.0->moval) (1.3.1)\n",
      "Requirement already satisfied: filelock in /Users/zejuli/opt/anaconda3/lib/python3.9/site-packages (from gdown->moval) (3.6.0)\n",
      "Requirement already satisfied: beautifulsoup4 in /Users/zejuli/opt/anaconda3/lib/python3.9/site-packages (from gdown->moval) (4.11.1)\n",
      "Requirement already satisfied: six in /Users/zejuli/opt/anaconda3/lib/python3.9/site-packages (from gdown->moval) (1.16.0)\n",
      "Requirement already satisfied: tqdm in /Users/zejuli/opt/anaconda3/lib/python3.9/site-packages (from gdown->moval) (4.64.1)\n",
      "Requirement already satisfied: requests[socks] in /Users/zejuli/opt/anaconda3/lib/python3.9/site-packages (from gdown->moval) (2.28.1)\n",
      "Requirement already satisfied: setuptools in /Users/zejuli/opt/anaconda3/lib/python3.9/site-packages (from nibabel->moval) (63.4.1)\n",
      "Requirement already satisfied: packaging>=17 in /Users/zejuli/opt/anaconda3/lib/python3.9/site-packages (from nibabel->moval) (21.3)\n",
      "Requirement already satisfied: python-dateutil>=2.8.1 in /Users/zejuli/opt/anaconda3/lib/python3.9/site-packages (from pandas->moval) (2.8.2)\n",
      "Requirement already satisfied: pytz>=2020.1 in /Users/zejuli/opt/anaconda3/lib/python3.9/site-packages (from pandas->moval) (2022.1)\n",
      "Requirement already satisfied: attrs>=19.2.0 in /Users/zejuli/opt/anaconda3/lib/python3.9/site-packages (from pytest->moval) (21.4.0)\n",
      "Requirement already satisfied: iniconfig in /Users/zejuli/opt/anaconda3/lib/python3.9/site-packages (from pytest->moval) (1.1.1)\n",
      "Requirement already satisfied: pluggy<2.0,>=0.12 in /Users/zejuli/opt/anaconda3/lib/python3.9/site-packages (from pytest->moval) (1.0.0)\n",
      "Requirement already satisfied: py>=1.8.2 in /Users/zejuli/opt/anaconda3/lib/python3.9/site-packages (from pytest->moval) (1.11.0)\n",
      "Requirement already satisfied: tomli>=1.0.0 in /Users/zejuli/opt/anaconda3/lib/python3.9/site-packages (from pytest->moval) (2.0.1)\n",
      "Requirement already satisfied: pyparsing!=3.0.5,>=2.0.2 in /Users/zejuli/opt/anaconda3/lib/python3.9/site-packages (from packaging>=17->nibabel->moval) (3.0.9)\n",
      "Requirement already satisfied: soupsieve>1.2 in /Users/zejuli/opt/anaconda3/lib/python3.9/site-packages (from beautifulsoup4->gdown->moval) (2.3.1)\n",
      "Requirement already satisfied: certifi>=2017.4.17 in /Users/zejuli/opt/anaconda3/lib/python3.9/site-packages (from requests[socks]->gdown->moval) (2022.9.24)\n",
      "Requirement already satisfied: idna<4,>=2.5 in /Users/zejuli/opt/anaconda3/lib/python3.9/site-packages (from requests[socks]->gdown->moval) (3.3)\n",
      "Requirement already satisfied: charset-normalizer<3,>=2 in /Users/zejuli/opt/anaconda3/lib/python3.9/site-packages (from requests[socks]->gdown->moval) (2.0.4)\n",
      "Requirement already satisfied: urllib3<1.27,>=1.21.1 in /Users/zejuli/opt/anaconda3/lib/python3.9/site-packages (from requests[socks]->gdown->moval) (1.26.11)\n",
      "Requirement already satisfied: PySocks!=1.5.7,>=1.5.6 in /Users/zejuli/opt/anaconda3/lib/python3.9/site-packages (from requests[socks]->gdown->moval) (1.7.1)\n",
      "Requirement already satisfied: statannotations in /Users/zejuli/opt/anaconda3/lib/python3.9/site-packages (0.6.0)\n",
      "Requirement already satisfied: pandas<2.0.0,>=0.23.0 in /Users/zejuli/opt/anaconda3/lib/python3.9/site-packages (from statannotations) (1.4.4)\n",
      "Requirement already satisfied: numpy>=1.12.1 in /Users/zejuli/opt/anaconda3/lib/python3.9/site-packages (from statannotations) (1.21.5)\n",
      "Collecting seaborn<0.12,>=0.9.0\n",
      "  Using cached seaborn-0.11.2-py3-none-any.whl (292 kB)\n",
      "Requirement already satisfied: matplotlib>=2.2.2 in /Users/zejuli/opt/anaconda3/lib/python3.9/site-packages (from statannotations) (3.5.2)\n",
      "Requirement already satisfied: scipy>=1.1.0 in /Users/zejuli/opt/anaconda3/lib/python3.9/site-packages (from statannotations) (1.9.1)\n",
      "Requirement already satisfied: kiwisolver>=1.0.1 in /Users/zejuli/opt/anaconda3/lib/python3.9/site-packages (from matplotlib>=2.2.2->statannotations) (1.4.2)\n",
      "Requirement already satisfied: pillow>=6.2.0 in /Users/zejuli/opt/anaconda3/lib/python3.9/site-packages (from matplotlib>=2.2.2->statannotations) (9.2.0)\n",
      "Requirement already satisfied: python-dateutil>=2.7 in /Users/zejuli/opt/anaconda3/lib/python3.9/site-packages (from matplotlib>=2.2.2->statannotations) (2.8.2)\n",
      "Requirement already satisfied: pyparsing>=2.2.1 in /Users/zejuli/opt/anaconda3/lib/python3.9/site-packages (from matplotlib>=2.2.2->statannotations) (3.0.9)\n",
      "Requirement already satisfied: fonttools>=4.22.0 in /Users/zejuli/opt/anaconda3/lib/python3.9/site-packages (from matplotlib>=2.2.2->statannotations) (4.25.0)\n",
      "Requirement already satisfied: cycler>=0.10 in /Users/zejuli/opt/anaconda3/lib/python3.9/site-packages (from matplotlib>=2.2.2->statannotations) (0.11.0)\n",
      "Requirement already satisfied: packaging>=20.0 in /Users/zejuli/opt/anaconda3/lib/python3.9/site-packages (from matplotlib>=2.2.2->statannotations) (21.3)\n",
      "Requirement already satisfied: pytz>=2020.1 in /Users/zejuli/opt/anaconda3/lib/python3.9/site-packages (from pandas<2.0.0,>=0.23.0->statannotations) (2022.1)\n",
      "Requirement already satisfied: six>=1.5 in /Users/zejuli/opt/anaconda3/lib/python3.9/site-packages (from python-dateutil>=2.7->matplotlib>=2.2.2->statannotations) (1.16.0)\n",
      "Installing collected packages: seaborn\n",
      "  Attempting uninstall: seaborn\n",
      "    Found existing installation: seaborn 0.12.0\n",
      "    Uninstalling seaborn-0.12.0:\n",
      "      Successfully uninstalled seaborn-0.12.0\n",
      "Successfully installed seaborn-0.11.2\n",
      "Requirement already satisfied: pandas in /Users/zejuli/opt/anaconda3/lib/python3.9/site-packages (1.4.4)\n",
      "Requirement already satisfied: python-dateutil>=2.8.1 in /Users/zejuli/opt/anaconda3/lib/python3.9/site-packages (from pandas) (2.8.2)\n",
      "Requirement already satisfied: pytz>=2020.1 in /Users/zejuli/opt/anaconda3/lib/python3.9/site-packages (from pandas) (2022.1)\n",
      "Requirement already satisfied: numpy>=1.18.5 in /Users/zejuli/opt/anaconda3/lib/python3.9/site-packages (from pandas) (1.21.5)\n",
      "Requirement already satisfied: six>=1.5 in /Users/zejuli/opt/anaconda3/lib/python3.9/site-packages (from python-dateutil>=2.8.1->pandas) (1.16.0)\n",
      "Requirement already satisfied: tqdm in /Users/zejuli/opt/anaconda3/lib/python3.9/site-packages (4.64.1)\n",
      "Requirement already satisfied: matplotlib in /Users/zejuli/opt/anaconda3/lib/python3.9/site-packages (3.5.2)\n",
      "Requirement already satisfied: python-dateutil>=2.7 in /Users/zejuli/opt/anaconda3/lib/python3.9/site-packages (from matplotlib) (2.8.2)\n",
      "Requirement already satisfied: kiwisolver>=1.0.1 in /Users/zejuli/opt/anaconda3/lib/python3.9/site-packages (from matplotlib) (1.4.2)\n",
      "Requirement already satisfied: fonttools>=4.22.0 in /Users/zejuli/opt/anaconda3/lib/python3.9/site-packages (from matplotlib) (4.25.0)\n",
      "Requirement already satisfied: numpy>=1.17 in /Users/zejuli/opt/anaconda3/lib/python3.9/site-packages (from matplotlib) (1.21.5)\n",
      "Requirement already satisfied: packaging>=20.0 in /Users/zejuli/opt/anaconda3/lib/python3.9/site-packages (from matplotlib) (21.3)\n",
      "Requirement already satisfied: cycler>=0.10 in /Users/zejuli/opt/anaconda3/lib/python3.9/site-packages (from matplotlib) (0.11.0)\n",
      "Requirement already satisfied: pillow>=6.2.0 in /Users/zejuli/opt/anaconda3/lib/python3.9/site-packages (from matplotlib) (9.2.0)\n",
      "Requirement already satisfied: pyparsing>=2.2.1 in /Users/zejuli/opt/anaconda3/lib/python3.9/site-packages (from matplotlib) (3.0.9)\n"
     ]
    },
    {
     "name": "stdout",
     "output_type": "stream",
     "text": [
      "Requirement already satisfied: six>=1.5 in /Users/zejuli/opt/anaconda3/lib/python3.9/site-packages (from python-dateutil>=2.7->matplotlib) (1.16.0)\n",
      "Requirement already satisfied: nibabel in /Users/zejuli/opt/anaconda3/lib/python3.9/site-packages (5.0.1)\n",
      "Requirement already satisfied: setuptools in /Users/zejuli/opt/anaconda3/lib/python3.9/site-packages (from nibabel) (63.4.1)\n",
      "Requirement already satisfied: packaging>=17 in /Users/zejuli/opt/anaconda3/lib/python3.9/site-packages (from nibabel) (21.3)\n",
      "Requirement already satisfied: numpy>=1.19 in /Users/zejuli/opt/anaconda3/lib/python3.9/site-packages (from nibabel) (1.21.5)\n",
      "Requirement already satisfied: pyparsing!=3.0.5,>=2.0.2 in /Users/zejuli/opt/anaconda3/lib/python3.9/site-packages (from packaging>=17->nibabel) (3.0.9)\n",
      "Collecting seaborn==0.12\n",
      "  Using cached seaborn-0.12.0-py3-none-any.whl (285 kB)\n",
      "Requirement already satisfied: matplotlib>=3.1 in /Users/zejuli/opt/anaconda3/lib/python3.9/site-packages (from seaborn==0.12) (3.5.2)\n",
      "Requirement already satisfied: numpy>=1.17 in /Users/zejuli/opt/anaconda3/lib/python3.9/site-packages (from seaborn==0.12) (1.21.5)\n",
      "Requirement already satisfied: pandas>=0.25 in /Users/zejuli/opt/anaconda3/lib/python3.9/site-packages (from seaborn==0.12) (1.4.4)\n",
      "Requirement already satisfied: pillow>=6.2.0 in /Users/zejuli/opt/anaconda3/lib/python3.9/site-packages (from matplotlib>=3.1->seaborn==0.12) (9.2.0)\n",
      "Requirement already satisfied: kiwisolver>=1.0.1 in /Users/zejuli/opt/anaconda3/lib/python3.9/site-packages (from matplotlib>=3.1->seaborn==0.12) (1.4.2)\n",
      "Requirement already satisfied: python-dateutil>=2.7 in /Users/zejuli/opt/anaconda3/lib/python3.9/site-packages (from matplotlib>=3.1->seaborn==0.12) (2.8.2)\n",
      "Requirement already satisfied: packaging>=20.0 in /Users/zejuli/opt/anaconda3/lib/python3.9/site-packages (from matplotlib>=3.1->seaborn==0.12) (21.3)\n",
      "Requirement already satisfied: pyparsing>=2.2.1 in /Users/zejuli/opt/anaconda3/lib/python3.9/site-packages (from matplotlib>=3.1->seaborn==0.12) (3.0.9)\n",
      "Requirement already satisfied: fonttools>=4.22.0 in /Users/zejuli/opt/anaconda3/lib/python3.9/site-packages (from matplotlib>=3.1->seaborn==0.12) (4.25.0)\n",
      "Requirement already satisfied: cycler>=0.10 in /Users/zejuli/opt/anaconda3/lib/python3.9/site-packages (from matplotlib>=3.1->seaborn==0.12) (0.11.0)\n",
      "Requirement already satisfied: pytz>=2020.1 in /Users/zejuli/opt/anaconda3/lib/python3.9/site-packages (from pandas>=0.25->seaborn==0.12) (2022.1)\n",
      "Requirement already satisfied: six>=1.5 in /Users/zejuli/opt/anaconda3/lib/python3.9/site-packages (from python-dateutil>=2.7->matplotlib>=3.1->seaborn==0.12) (1.16.0)\n",
      "Installing collected packages: seaborn\n",
      "  Attempting uninstall: seaborn\n",
      "    Found existing installation: seaborn 0.11.2\n",
      "    Uninstalling seaborn-0.11.2:\n",
      "      Successfully uninstalled seaborn-0.11.2\n",
      "\u001b[31mERROR: pip's dependency resolver does not currently take into account all the packages that are installed. This behaviour is the source of the following dependency conflicts.\n",
      "statannotations 0.6.0 requires seaborn<0.12,>=0.9.0, but you have seaborn 0.12.0 which is incompatible.\u001b[0m\u001b[31m\n",
      "\u001b[0mSuccessfully installed seaborn-0.12.0\n"
     ]
    }
   ],
   "source": [
    "!pip install moval\n",
    "!pip install statannotations\n",
    "!pip install pandas\n",
    "!pip install tqdm\n",
    "!pip install matplotlib\n",
    "!pip install nibabel\n",
    "!pip install seaborn==0.12 # because statannotations not support the latest"
   ]
  },
  {
   "cell_type": "code",
   "execution_count": 2,
   "id": "e59b52b4-b5fe-469c-aa24-1449de534cae",
   "metadata": {},
   "outputs": [],
   "source": [
    "import os\n",
    "import gdown\n",
    "import itertools\n",
    "import zipfile\n",
    "import pandas as pd\n",
    "import numpy as np\n",
    "import nibabel as nib\n",
    "import moval\n",
    "from moval.solvers.utils import ComputMetric\n",
    "from tqdm import tqdm\n",
    "import seaborn as sns\n",
    "import matplotlib.pyplot as plt"
   ]
  },
  {
   "cell_type": "code",
   "execution_count": 3,
   "id": "55653f96-c99d-40b4-8e74-af28a0ac476f",
   "metadata": {},
   "outputs": [
    {
     "name": "stdout",
     "output_type": "stream",
     "text": [
      "The installed MOVAL verision is 0.2.5\n",
      "The installed seaborn verision is 0.12.0\n"
     ]
    }
   ],
   "source": [
    "print(f\"The installed MOVAL verision is {moval.__version__}\")\n",
    "print(f\"The installed seaborn verision is {sns.__version__}\")"
   ]
  },
  {
   "cell_type": "markdown",
   "id": "fe14651d-7f62-41dc-8aaf-dcdb4f80e4fd",
   "metadata": {},
   "source": [
    "## Load the data"
   ]
  },
  {
   "cell_type": "code",
   "execution_count": 4,
   "id": "f1dd6df0-d477-408c-96bb-3f560d4dc3d5",
   "metadata": {},
   "outputs": [],
   "source": [
    "# download the data of cardiac\n",
    "\n",
    "output = \"data_moval_supp.zip\"\n",
    "if not os.path.exists(output):\n",
    "    url = \"https://drive.google.com/u/0/uc?id=1ZlC66MGmPlf05aYYCKBaRT2q5uod8GFk&export=download\"\n",
    "    output = \"data_moval_supp.zip\"\n",
    "    gdown.download(url, output, quiet=False)\n",
    "\n",
    "directory_data = \"data_moval_supp\"\n",
    "if not os.path.exists(directory_data):\n",
    "    with zipfile.ZipFile(output, 'r') as zip_ref:\n",
    "        zip_ref.extractall(directory_data)"
   ]
  },
  {
   "cell_type": "code",
   "execution_count": 5,
   "id": "988c917a-97eb-4b9c-a5ab-5443cfe9e9d6",
   "metadata": {},
   "outputs": [
    {
     "name": "stdout",
     "output_type": "stream",
     "text": [
      "analysis_cls.ipynb    data_moval_supp.zip   \u001b[34mimg_cifar\u001b[m\u001b[m/\r\n",
      "analysis_seg2d.ipynb  estim_cls.ipynb       img_cifar.zip\r\n",
      "analysis_seg3d.ipynb  estim_seg2d.ipynb     \u001b[34mimg_prostate\u001b[m\u001b[m/\r\n",
      "\u001b[34mdata_moval\u001b[m\u001b[m/           estim_seg3d.ipynb     img_prostate.zip\r\n",
      "data_moval.zip        \u001b[34mimg_cardiac\u001b[m\u001b[m/\r\n",
      "\u001b[34mdata_moval_supp\u001b[m\u001b[m/      img_cardiac.zip\r\n"
     ]
    }
   ],
   "source": [
    "ls"
   ]
  },
  {
   "cell_type": "code",
   "execution_count": 6,
   "id": "ee78b79d-d4a4-4019-b011-39b2eb11d96d",
   "metadata": {},
   "outputs": [],
   "source": [
    "# now I am playing with cardiac segmentation\n",
    "\n",
    "Datafile_eval = \"data_moval_supp/Cardiacresults/seg-eval.txt\"\n",
    "Imglist_eval = open(Datafile_eval)\n",
    "Imglist_eval_read = Imglist_eval.read().splitlines()\n",
    "\n",
    "logits = []\n",
    "gt = []\n",
    "for Imgname_eval in Imglist_eval_read:\n",
    "    #\n",
    "    caseID = Imgname_eval.split(\"/\")[-2]\n",
    "    #\n",
    "    GT_file = f\"data_moval_supp/Cardiacresults/GT/1/{caseID}/seg.nii.gz\"\n",
    "    #\n",
    "    logit_cls0_file = \"data_moval_supp/Cardiacresults/cardiacval/results/pred_\" + caseID + \"cls0_prob.nii.gz\"\n",
    "    logit_cls1_file = \"data_moval_supp/Cardiacresults/cardiacval/results/pred_\" + caseID + \"cls1_prob.nii.gz\"\n",
    "    logit_cls2_file = \"data_moval_supp/Cardiacresults/cardiacval/results/pred_\" + caseID + \"cls2_prob.nii.gz\"\n",
    "    logit_cls3_file = \"data_moval_supp/Cardiacresults/cardiacval/results/pred_\" + caseID + \"cls3_prob.nii.gz\"\n",
    "    #\n",
    "    logit_cls0_read = nib.load(logit_cls0_file)\n",
    "    logit_cls1_read = nib.load(logit_cls1_file)\n",
    "    logit_cls2_read = nib.load(logit_cls2_file)\n",
    "    logit_cls3_read = nib.load(logit_cls3_file)\n",
    "    #\n",
    "    logit_cls0      = logit_cls0_read.get_fdata()   # ``(H, W, D)``\n",
    "    logit_cls1      = logit_cls1_read.get_fdata()\n",
    "    logit_cls2      = logit_cls2_read.get_fdata()\n",
    "    logit_cls3      = logit_cls3_read.get_fdata()\n",
    "    #\n",
    "    GT_read         = nib.load(GT_file)\n",
    "    GTimg           = GT_read.get_fdata()           # ``(H, W, D)``\n",
    "    #\n",
    "    logit_cls = np.stack((logit_cls0, logit_cls1, logit_cls2, logit_cls3))  # ``(d, H, W, D)``\n",
    "    # only including the slices that contains labels\n",
    "    for dslice in range(GTimg.shape[2]):\n",
    "        if np.sum(GTimg[:, :, dslice]) > 0:\n",
    "            logits.append(logit_cls[:, :, :, dslice])\n",
    "            gt.append(GTimg[:, :, dslice])\n",
    "\n",
    "# logits is a list of length ``n``,  each element has ``(d, H, W)``. \n",
    "# gt is a list of length ``n``,  each element has ``(H, W)``.\n",
    "# H and W could differ for different cases.\n",
    "\n",
    "Datafile_test = \"data_moval_supp/Cardiacresults/seg-testA.txt\"\n",
    "Imglist_test = open(Datafile_test)\n",
    "Imglist_test_read = Imglist_test.read().splitlines()\n",
    "\n",
    "logits_test = []\n",
    "gt_test = []\n",
    "for Imgname_eval in Imglist_test_read:\n",
    "    caseID = Imgname_eval.split(\"/\")[-2]\n",
    "    #\n",
    "    GT_file = f\"data_moval_supp/Cardiacresults/GT/2/{caseID}/seg.nii.gz\"\n",
    "    #\n",
    "    logit_cls0_file = \"data_moval_supp/Cardiacresults/cardiactest_2/results/pred_\" + caseID + \"cls0_prob.nii.gz\"\n",
    "    logit_cls1_file = \"data_moval_supp/Cardiacresults/cardiactest_2/results/pred_\" + caseID + \"cls1_prob.nii.gz\"\n",
    "    logit_cls2_file = \"data_moval_supp/Cardiacresults/cardiactest_2/results/pred_\" + caseID + \"cls2_prob.nii.gz\"\n",
    "    logit_cls3_file = \"data_moval_supp/Cardiacresults/cardiactest_2/results/pred_\" + caseID + \"cls3_prob.nii.gz\"\n",
    "    #\n",
    "    logit_cls0_read = nib.load(logit_cls0_file)\n",
    "    logit_cls1_read = nib.load(logit_cls1_file)\n",
    "    logit_cls2_read = nib.load(logit_cls2_file)\n",
    "    logit_cls3_read = nib.load(logit_cls3_file)\n",
    "    #\n",
    "    logit_cls0      = logit_cls0_read.get_fdata()   # ``(H, W, D)``\n",
    "    logit_cls1      = logit_cls1_read.get_fdata()\n",
    "    logit_cls2      = logit_cls2_read.get_fdata()\n",
    "    logit_cls3      = logit_cls3_read.get_fdata()\n",
    "    #\n",
    "    GT_read         = nib.load(GT_file)\n",
    "    GTimg           = GT_read.get_fdata()           # ``(H, W, D)``\n",
    "    logit_cls = np.stack((logit_cls0, logit_cls1, logit_cls2, logit_cls3))  # ``(d, H, W, D)``\n",
    "    # only including the slices that contains labels\n",
    "    for dslice in range(GTimg.shape[2]):\n",
    "        if np.sum(GTimg[:, :, dslice]) > 0:\n",
    "            logits_test.append(logit_cls[:, :, :, dslice])\n",
    "            gt_test.append(GTimg[:, :, dslice])\n",
    "\n",
    "# logits_test is a list of length ``n``,  each element has ``(d, H, W)``. \n",
    "# gt_test is a list of length ``n``,  each element has ``(H, W)``.\n",
    "# H and W could differ for different cases."
   ]
  },
  {
   "cell_type": "code",
   "execution_count": 7,
   "id": "891ccb3c-af2f-4d68-87bc-129630c4f6a4",
   "metadata": {},
   "outputs": [
    {
     "name": "stdout",
     "output_type": "stream",
     "text": [
      "The validation predictions, ``logits`` are a list of length 156 each element has approximately (4, 210, 257)\n",
      "The validation labels, ``gt`` are a list of length 156, each element has approximately (210, 257)\n",
      "\n",
      "The test predictions, ``logits_test`` are a list of length 74 each element has approximately (4, 303, 303)\n",
      "The test labels, ``gt_test`` are a list of length 74, each element has approximately (303, 303)\n"
     ]
    }
   ],
   "source": [
    "print(f\"The validation predictions, ``logits`` are a list of length {len(logits)} each element has approximately {logits[0].shape}\")\n",
    "print(f\"The validation labels, ``gt`` are a list of length {len(gt)}, each element has approximately {gt[0].shape}\\n\")\n",
    "print(f\"The test predictions, ``logits_test`` are a list of length {len(logits_test)} each element has approximately {logits_test[0].shape}\")\n",
    "print(f\"The test labels, ``gt_test`` are a list of length {len(gt_test)}, each element has approximately {gt_test[0].shape}\")"
   ]
  },
  {
   "cell_type": "code",
   "execution_count": 8,
   "id": "78e09782-500b-4eb8-b45b-bd12dea5ddd5",
   "metadata": {},
   "outputs": [
    {
     "name": "stdout",
     "output_type": "stream",
     "text": [
      "The validation predictions, ``logits`` are a list of length 100 each element has approximately (4, 223, 272)\n",
      "The validation labels, ``gt`` are a list of length 100, each element has approximately (223, 272)\n"
     ]
    }
   ],
   "source": [
    "import random\n",
    "random.seed(79)\n",
    "test_inds = list(range(len(logits)))\n",
    "random.shuffle(test_inds)\n",
    "test_inds = test_inds[:100]\n",
    "#\n",
    "_logits = []\n",
    "_gt = []\n",
    "for test_ind in test_inds:\n",
    "    _logits.append(logits[test_ind])\n",
    "    _gt.append(gt[test_ind])\n",
    "logits = _logits\n",
    "gt = _gt\n",
    "#\n",
    "print(f\"The validation predictions, ``logits`` are a list of length {len(logits)} each element has approximately {logits[0].shape}\")\n",
    "print(f\"The validation labels, ``gt`` are a list of length {len(gt)}, each element has approximately {gt[0].shape}\")"
   ]
  },
  {
   "cell_type": "markdown",
   "id": "b530131b-feee-4cad-a54e-7acf506063db",
   "metadata": {},
   "source": [
    "## MOVAL estimation"
   ]
  },
  {
   "cell_type": "code",
   "execution_count": 9,
   "id": "29c9b3f1-8d3e-4f0d-aacb-9cb362f6d5de",
   "metadata": {},
   "outputs": [],
   "source": [
    "moval_options = list(itertools.product(moval.models.get_estim_options(),\n",
    "                               [\"segmentation\"],\n",
    "                               moval.models.get_conf_options(),\n",
    "                               [False, True]))"
   ]
  },
  {
   "cell_type": "code",
   "execution_count": 10,
   "id": "c7ec3b5e-54da-49e0-bd53-c94ecf2b89f4",
   "metadata": {},
   "outputs": [],
   "source": [
    "# ac-model does not need class-speicfic variants\n",
    "for moval_option in moval_options:\n",
    "    if moval_option[0] == 'ac-model' and moval_option[-1] == True:\n",
    "        moval_options.remove(moval_option)"
   ]
  },
  {
   "cell_type": "code",
   "execution_count": 11,
   "id": "cdb30ae2-84e5-452a-8d8c-6795df9d30cf",
   "metadata": {},
   "outputs": [
    {
     "name": "stdout",
     "output_type": "stream",
     "text": [
      "The number of moval options is 36\n"
     ]
    }
   ],
   "source": [
    "print(f\"The number of moval options is {len(moval_options)}\")"
   ]
  },
  {
   "cell_type": "code",
   "execution_count": 12,
   "id": "f712cb2c-3abc-4da9-b1bc-055ee70f0120",
   "metadata": {},
   "outputs": [],
   "source": [
    "def test_cls(estim_algorithm, mode, confidence_scores, class_specific, logits, gt, logits_test, gt_test):\n",
    "    \"\"\"Test MOVAL with different conditions for segmentation tasks\n",
    "        \n",
    "    Args:\n",
    "        mode (str): The given task to estimate model performance.\n",
    "        confidence_scores (str):\n",
    "            The method to calculate the confidence scores. We provide a list of confidence score calculation methods which \n",
    "            can be displayed by running :py:func:`moval.models.get_conf_options`.\n",
    "        estim_algorithm (str):\n",
    "            The algorithm to estimate model performance. We also provide a list of estimation algorithm which can be displayed by\n",
    "            running :py:func:`moval.models.get_estim_options`.\n",
    "        class_specific (bool):\n",
    "            If ``True``, the calculation will match class-wise confidence to class-wise accuracy.\n",
    "        logits: The network output (logits) of a list of n ``(d, H, W, (D))`` for segmentation. \n",
    "        gt: The cooresponding annotation of a list of n ``(H, W, (D))`` for segmentation.\n",
    "        logits_test:  The network testing output (logits) of a list of n' ``(d, H', W', (D'))`` for segmentation. \n",
    "        gt_test: The cooresponding testing annotation of a list of n' ``(H', W', (D'))`` for segmentation.\n",
    "\n",
    "    Returns:\n",
    "        err_test (float): testing error.\n",
    "        moval_model: Optimized moval model.\n",
    "\n",
    "    \"\"\"\n",
    "    \n",
    "    moval_model = moval.MOVAL(\n",
    "                mode = mode,\n",
    "                metric = \"f1score\",\n",
    "                confidence_scores = confidence_scores,\n",
    "                estim_algorithm = estim_algorithm,\n",
    "                class_specific = class_specific,\n",
    "                approximate = True,\n",
    "                approximate_boundary = 10\n",
    "                )\n",
    "\n",
    "    #\n",
    "    moval_model.fit(logits, gt)\n",
    "\n",
    "    # save the test err in the result files.\n",
    "    # the gt_guide for test data is optional\n",
    "    gt_guide_test = []\n",
    "    for n_case in range(len(logits_test)):\n",
    "        gt_case_test     = gt_test[n_case]\n",
    "        gt_exist_test = []\n",
    "        for k_cls in range(logit_cls[0].shape[0]):\n",
    "            gt_exist_test.append(np.sum(gt_case_test == k_cls) > 0)\n",
    "        gt_guide_test.append(gt_exist_test)\n",
    "    \n",
    "    estim_dsc_test = moval_model.estimate(logits_test, gt_guide = gt_guide_test)\n",
    "\n",
    "    DSC_list_test = []\n",
    "    for n_case in range(len(logits_test)):\n",
    "        pred_case   = np.argmax(logits_test[n_case], axis = 0) # ``(H', W', (D'))``\n",
    "        gt_case     = gt_test[n_case] # ``(H', W', (D'))``\n",
    "\n",
    "        dsc_case = np.zeros(logits_test[n_case].shape[0])\n",
    "        for kcls in range(1, logits_test[n_case].shape[0]):\n",
    "            if np.sum(gt_case == kcls) == 0:\n",
    "                dsc_case[kcls] = -1\n",
    "            else:\n",
    "                dsc_cal, _, _ = ComputMetric(pred_case == kcls, gt_case == kcls)\n",
    "                dsc_case[kcls] = dsc_cal\n",
    "        DSC_list_test.append(dsc_case)\n",
    "        \n",
    "    # only aggregate the ones which are not -1\n",
    "    DSC_list_test = np.array(DSC_list_test) # ``(n, d)``\n",
    "    m_DSC_test = []\n",
    "    m_DSC_test.append(0.)\n",
    "    for kcls in range(1, logits_test[n_case].shape[0]):\n",
    "        m_DSC_test.append(DSC_list_test[:, kcls][DSC_list_test[:,kcls] >= 0].mean())\n",
    "        \n",
    "    m_DSC_test = np.array(m_DSC_test)\n",
    "    err_test = np.abs( m_DSC_test[1:] - estim_dsc_test[1:] )\n",
    "\n",
    "    return err_test, moval_model"
   ]
  },
  {
   "cell_type": "code",
   "execution_count": 13,
   "id": "5d464f40-8cf5-45ca-a006-6cd1eeaa402a",
   "metadata": {},
   "outputs": [],
   "source": [
    "err_test_list = []\n",
    "moval_parameters = []\n",
    "moval_parameters_ = []"
   ]
  },
  {
   "cell_type": "code",
   "execution_count": 14,
   "id": "02be912a-16dc-4bd2-9476-3ab798ac41d4",
   "metadata": {
    "scrolled": true
   },
   "outputs": [
    {
     "name": "stderr",
     "output_type": "stream",
     "text": [
      "\r",
      "  0%|                                                                                                                                    | 0/36 [00:00<?, ?it/s]"
     ]
    },
    {
     "name": "stdout",
     "output_type": "stream",
     "text": [
      "Starting optimizing for model ac-model with confidence max_class_probability-conf based on metric f1score, class specific is False.\n",
      "Calculating and saving the fitted case-wise performance...\n"
     ]
    },
    {
     "name": "stderr",
     "output_type": "stream",
     "text": [
      "\r",
      "  3%|███▍                                                                                                                        | 1/36 [00:04<02:36,  4.46s/it]"
     ]
    },
    {
     "name": "stdout",
     "output_type": "stream",
     "text": [
      "Starting optimizing for model ac-model with confidence energy-conf based on metric f1score, class specific is False.\n",
      "Calculating and saving the fitted case-wise performance...\n"
     ]
    },
    {
     "name": "stderr",
     "output_type": "stream",
     "text": [
      "\r",
      "  6%|██████▉                                                                                                                     | 2/36 [00:07<02:12,  3.89s/it]"
     ]
    },
    {
     "name": "stdout",
     "output_type": "stream",
     "text": [
      "Starting optimizing for model ac-model with confidence entropy-conf based on metric f1score, class specific is False.\n",
      "Calculating and saving the fitted case-wise performance...\n"
     ]
    },
    {
     "name": "stderr",
     "output_type": "stream",
     "text": [
      "\r",
      "  8%|██████████▎                                                                                                                 | 3/36 [00:12<02:17,  4.15s/it]"
     ]
    },
    {
     "name": "stdout",
     "output_type": "stream",
     "text": [
      "Starting optimizing for model ac-model with confidence doctor-conf based on metric f1score, class specific is False.\n",
      "Calculating and saving the fitted case-wise performance...\n"
     ]
    },
    {
     "name": "stderr",
     "output_type": "stream",
     "text": [
      "\r",
      " 11%|█████████████▊                                                                                                              | 4/36 [00:16<02:14,  4.19s/it]"
     ]
    },
    {
     "name": "stdout",
     "output_type": "stream",
     "text": [
      "Starting optimizing for model ts-model with confidence max_class_probability-conf based on metric f1score, class specific is False.\n",
      "Opitimizing with 100 samples...\n",
      "Be patient, it should take a while...\n",
      "Calculating and saving the fitted case-wise performance...\n"
     ]
    },
    {
     "name": "stderr",
     "output_type": "stream",
     "text": [
      "\r",
      " 14%|█████████████████▏                                                                                                          | 5/36 [00:31<04:03,  7.85s/it]"
     ]
    },
    {
     "name": "stdout",
     "output_type": "stream",
     "text": [
      "Starting optimizing for model ts-model with confidence max_class_probability-conf based on metric accuracy, class specific is False.\n",
      "Opitimizing with 100 samples...\n",
      "Be patient, it should take a while...\n",
      "Starting optimizing for model ts-model with confidence max_class_probability-conf based on metric f1score, class specific is True.\n",
      "Opitimizing with 100 samples...\n",
      "Be patient, it should take a while...\n",
      "Not satisfied with initial optimization results of param for class 1, trying more initial states...\n",
      "Tried 1/2 times.\n",
      "Tried 2/2 times.\n",
      "Not satisfied with initial optimization results of param for class 2, trying more initial states...\n",
      "Tried 1/2 times.\n",
      "Tried 2/2 times.\n",
      "Not satisfied with initial optimization results of param for class 3, trying more initial states...\n",
      "Tried 1/2 times.\n",
      "Tried 2/2 times.\n",
      "Calculating and saving the fitted case-wise performance...\n"
     ]
    },
    {
     "name": "stderr",
     "output_type": "stream",
     "text": [
      "\r",
      " 17%|████████████████████▋                                                                                                       | 6/36 [03:09<29:36, 59.21s/it]"
     ]
    },
    {
     "name": "stdout",
     "output_type": "stream",
     "text": [
      "Starting optimizing for model ts-model with confidence energy-conf based on metric f1score, class specific is False.\n",
      "Opitimizing with 100 samples...\n",
      "Be patient, it should take a while...\n"
     ]
    },
    {
     "name": "stderr",
     "output_type": "stream",
     "text": [
      "/Users/zejuli/opt/anaconda3/lib/python3.9/site-packages/moval/models/utils.py:39: RuntimeWarning: overflow encountered in exp\n",
      "  denominator = np.sum(np.exp(x.transpose() / T), axis=0)\n",
      "/Users/zejuli/opt/anaconda3/lib/python3.9/site-packages/moval/models/model.py:150: RuntimeWarning: invalid value encountered in subtract\n",
      "  normalized_score =  (scores[n_case] - self.min_value) / (self.max_value - self.min_value + e1)\n",
      "/Users/zejuli/opt/anaconda3/lib/python3.9/site-packages/moval/models/model.py:150: RuntimeWarning: invalid value encountered in double_scalars\n",
      "  normalized_score =  (scores[n_case] - self.min_value) / (self.max_value - self.min_value + e1)\n",
      "/Users/zejuli/opt/anaconda3/lib/python3.9/site-packages/moval/models/model.py:150: RuntimeWarning: invalid value encountered in true_divide\n",
      "  normalized_score =  (scores[n_case] - self.min_value) / (self.max_value - self.min_value + e1)\n"
     ]
    },
    {
     "name": "stdout",
     "output_type": "stream",
     "text": [
      "Not satisfied with initial optimization results of param, trying more initial states...\n",
      "Tried 1/2 times.\n",
      "Tried 2/2 times.\n",
      "Calculating and saving the fitted case-wise performance...\n"
     ]
    },
    {
     "name": "stderr",
     "output_type": "stream",
     "text": [
      "\r",
      " 19%|████████████████████████                                                                                                    | 7/36 [03:54<26:20, 54.50s/it]"
     ]
    },
    {
     "name": "stdout",
     "output_type": "stream",
     "text": [
      "Starting optimizing for model ts-model with confidence energy-conf based on metric accuracy, class specific is False.\n",
      "Opitimizing with 100 samples...\n",
      "Be patient, it should take a while...\n",
      "Not satisfied with initial optimization results of param, trying more initial states...\n",
      "Tried 1/2 times.\n",
      "Tried 2/2 times.\n",
      "Starting optimizing for model ts-model with confidence energy-conf based on metric f1score, class specific is True.\n",
      "Opitimizing with 100 samples...\n",
      "Be patient, it should take a while...\n",
      "Not satisfied with initial optimization results of param for class 1, trying more initial states...\n",
      "Tried 1/2 times.\n",
      "Tried 2/2 times.\n",
      "Not satisfied with initial optimization results of param for class 2, trying more initial states...\n",
      "Tried 1/2 times.\n",
      "Tried 2/2 times.\n",
      "Not satisfied with initial optimization results of param for class 3, trying more initial states...\n",
      "Tried 1/2 times.\n",
      "Tried 2/2 times.\n",
      "Calculating and saving the fitted case-wise performance...\n"
     ]
    },
    {
     "name": "stderr",
     "output_type": "stream",
     "text": [
      "\r",
      " 22%|███████████████████████████▌                                                                                                | 8/36 [06:14<38:06, 81.67s/it]"
     ]
    },
    {
     "name": "stdout",
     "output_type": "stream",
     "text": [
      "Starting optimizing for model ts-model with confidence entropy-conf based on metric f1score, class specific is False.\n",
      "Opitimizing with 100 samples...\n",
      "Be patient, it should take a while...\n",
      "Calculating and saving the fitted case-wise performance...\n"
     ]
    },
    {
     "name": "stderr",
     "output_type": "stream",
     "text": [
      "\r",
      " 25%|███████████████████████████████                                                                                             | 9/36 [06:27<27:08, 60.33s/it]"
     ]
    },
    {
     "name": "stdout",
     "output_type": "stream",
     "text": [
      "Starting optimizing for model ts-model with confidence entropy-conf based on metric accuracy, class specific is False.\n",
      "Opitimizing with 100 samples...\n",
      "Be patient, it should take a while...\n",
      "Starting optimizing for model ts-model with confidence entropy-conf based on metric f1score, class specific is True.\n",
      "Opitimizing with 100 samples...\n",
      "Be patient, it should take a while...\n",
      "Not satisfied with initial optimization results of param for class 1, trying more initial states...\n",
      "Tried 1/2 times.\n",
      "Tried 2/2 times.\n",
      "Not satisfied with initial optimization results of param for class 2, trying more initial states...\n",
      "Tried 1/2 times.\n",
      "Tried 2/2 times.\n",
      "Not satisfied with initial optimization results of param for class 3, trying more initial states...\n",
      "Tried 1/2 times.\n",
      "Tried 2/2 times.\n",
      "Calculating and saving the fitted case-wise performance...\n"
     ]
    },
    {
     "name": "stderr",
     "output_type": "stream",
     "text": [
      "\r",
      " 28%|██████████████████████████████████▏                                                                                        | 10/36 [09:05<39:05, 90.20s/it]"
     ]
    },
    {
     "name": "stdout",
     "output_type": "stream",
     "text": [
      "Starting optimizing for model ts-model with confidence doctor-conf based on metric f1score, class specific is False.\n",
      "Opitimizing with 100 samples...\n",
      "Be patient, it should take a while...\n",
      "Calculating and saving the fitted case-wise performance...\n"
     ]
    },
    {
     "name": "stderr",
     "output_type": "stream",
     "text": [
      "\r",
      " 31%|█████████████████████████████████████▌                                                                                     | 11/36 [09:18<27:47, 66.68s/it]"
     ]
    },
    {
     "name": "stdout",
     "output_type": "stream",
     "text": [
      "Starting optimizing for model ts-model with confidence doctor-conf based on metric accuracy, class specific is False.\n",
      "Opitimizing with 100 samples...\n",
      "Be patient, it should take a while...\n",
      "Starting optimizing for model ts-model with confidence doctor-conf based on metric f1score, class specific is True.\n",
      "Opitimizing with 100 samples...\n",
      "Be patient, it should take a while...\n",
      "Not satisfied with initial optimization results of param for class 1, trying more initial states...\n",
      "Tried 1/2 times.\n",
      "Tried 2/2 times.\n",
      "Not satisfied with initial optimization results of param for class 2, trying more initial states...\n",
      "Tried 1/2 times.\n",
      "Tried 2/2 times.\n",
      "Not satisfied with initial optimization results of param for class 3, trying more initial states...\n",
      "Tried 1/2 times.\n",
      "Tried 2/2 times.\n",
      "Calculating and saving the fitted case-wise performance...\n"
     ]
    },
    {
     "name": "stderr",
     "output_type": "stream",
     "text": [
      "\r",
      " 33%|█████████████████████████████████████████                                                                                  | 12/36 [11:44<36:18, 90.78s/it]"
     ]
    },
    {
     "name": "stdout",
     "output_type": "stream",
     "text": [
      "Starting optimizing for model doc-model with confidence max_class_probability-conf based on metric f1score, class specific is False.\n",
      "Opitimizing with 100 samples...\n",
      "Be patient, it should take a while...\n",
      "Calculating and saving the fitted case-wise performance...\n"
     ]
    },
    {
     "name": "stderr",
     "output_type": "stream",
     "text": [
      "\r",
      " 36%|████████████████████████████████████████████▍                                                                              | 13/36 [11:55<25:33, 66.69s/it]"
     ]
    },
    {
     "name": "stdout",
     "output_type": "stream",
     "text": [
      "Starting optimizing for model doc-model with confidence max_class_probability-conf based on metric accuracy, class specific is False.\n",
      "Opitimizing with 100 samples...\n",
      "Be patient, it should take a while...\n",
      "Starting optimizing for model doc-model with confidence max_class_probability-conf based on metric f1score, class specific is True.\n",
      "Opitimizing with 100 samples...\n",
      "Be patient, it should take a while...\n",
      "Not satisfied with initial optimization results of param for class 1, trying more initial states...\n",
      "Tried 1/2 times.\n",
      "Tried 2/2 times.\n",
      "Not satisfied with initial optimization results of param for class 2, trying more initial states...\n",
      "Tried 1/2 times.\n",
      "Tried 2/2 times.\n",
      "Not satisfied with initial optimization results of param for class 3, trying more initial states...\n",
      "Tried 1/2 times.\n",
      "Tried 2/2 times.\n",
      "Calculating and saving the fitted case-wise performance...\n"
     ]
    },
    {
     "name": "stderr",
     "output_type": "stream",
     "text": [
      "\r",
      " 39%|███████████████████████████████████████████████▊                                                                           | 14/36 [14:02<31:07, 84.90s/it]"
     ]
    },
    {
     "name": "stdout",
     "output_type": "stream",
     "text": [
      "Starting optimizing for model doc-model with confidence energy-conf based on metric f1score, class specific is False.\n",
      "Opitimizing with 100 samples...\n",
      "Be patient, it should take a while...\n",
      "Calculating and saving the fitted case-wise performance...\n"
     ]
    },
    {
     "name": "stderr",
     "output_type": "stream",
     "text": [
      "\r",
      " 42%|███████████████████████████████████████████████████▎                                                                       | 15/36 [14:11<21:41, 61.96s/it]"
     ]
    },
    {
     "name": "stdout",
     "output_type": "stream",
     "text": [
      "Starting optimizing for model doc-model with confidence energy-conf based on metric accuracy, class specific is False.\n",
      "Opitimizing with 100 samples...\n",
      "Be patient, it should take a while...\n",
      "Starting optimizing for model doc-model with confidence energy-conf based on metric f1score, class specific is True.\n",
      "Opitimizing with 100 samples...\n",
      "Be patient, it should take a while...\n",
      "Not satisfied with initial optimization results of param for class 1, trying more initial states...\n",
      "Tried 1/2 times.\n",
      "Tried 2/2 times.\n",
      "Not satisfied with initial optimization results of param for class 2, trying more initial states...\n",
      "Tried 1/2 times.\n",
      "Tried 2/2 times.\n",
      "Not satisfied with initial optimization results of param for class 3, trying more initial states...\n",
      "Tried 1/2 times.\n",
      "Tried 2/2 times.\n",
      "Calculating and saving the fitted case-wise performance...\n"
     ]
    },
    {
     "name": "stderr",
     "output_type": "stream",
     "text": [
      "\r",
      " 44%|██████████████████████████████████████████████████████▋                                                                    | 16/36 [15:26<21:55, 65.80s/it]"
     ]
    },
    {
     "name": "stdout",
     "output_type": "stream",
     "text": [
      "Starting optimizing for model doc-model with confidence entropy-conf based on metric f1score, class specific is False.\n",
      "Opitimizing with 100 samples...\n",
      "Be patient, it should take a while...\n",
      "Calculating and saving the fitted case-wise performance...\n"
     ]
    },
    {
     "name": "stderr",
     "output_type": "stream",
     "text": [
      "\r",
      " 47%|██████████████████████████████████████████████████████████                                                                 | 17/36 [15:37<15:39, 49.46s/it]"
     ]
    },
    {
     "name": "stdout",
     "output_type": "stream",
     "text": [
      "Starting optimizing for model doc-model with confidence entropy-conf based on metric accuracy, class specific is False.\n",
      "Opitimizing with 100 samples...\n",
      "Be patient, it should take a while...\n",
      "Starting optimizing for model doc-model with confidence entropy-conf based on metric f1score, class specific is True.\n",
      "Opitimizing with 100 samples...\n",
      "Be patient, it should take a while...\n",
      "Not satisfied with initial optimization results of param for class 1, trying more initial states...\n",
      "Tried 1/2 times.\n",
      "Tried 2/2 times.\n",
      "Not satisfied with initial optimization results of param for class 2, trying more initial states...\n",
      "Tried 1/2 times.\n",
      "Tried 2/2 times.\n",
      "Not satisfied with initial optimization results of param for class 3, trying more initial states...\n",
      "Tried 1/2 times.\n",
      "Tried 2/2 times.\n",
      "Calculating and saving the fitted case-wise performance...\n"
     ]
    },
    {
     "name": "stderr",
     "output_type": "stream",
     "text": [
      "\r",
      " 50%|█████████████████████████████████████████████████████████████▌                                                             | 18/36 [17:46<22:02, 73.47s/it]"
     ]
    },
    {
     "name": "stdout",
     "output_type": "stream",
     "text": [
      "Starting optimizing for model doc-model with confidence doctor-conf based on metric f1score, class specific is False.\n",
      "Opitimizing with 100 samples...\n",
      "Be patient, it should take a while...\n",
      "Calculating and saving the fitted case-wise performance...\n"
     ]
    },
    {
     "name": "stderr",
     "output_type": "stream",
     "text": [
      "\r",
      " 53%|████████████████████████████████████████████████████████████████▉                                                          | 19/36 [17:57<15:28, 54.61s/it]"
     ]
    },
    {
     "name": "stdout",
     "output_type": "stream",
     "text": [
      "Starting optimizing for model doc-model with confidence doctor-conf based on metric accuracy, class specific is False.\n",
      "Opitimizing with 100 samples...\n",
      "Be patient, it should take a while...\n",
      "Starting optimizing for model doc-model with confidence doctor-conf based on metric f1score, class specific is True.\n",
      "Opitimizing with 100 samples...\n",
      "Be patient, it should take a while...\n",
      "Not satisfied with initial optimization results of param for class 1, trying more initial states...\n",
      "Tried 1/2 times.\n",
      "Tried 2/2 times.\n",
      "Not satisfied with initial optimization results of param for class 2, trying more initial states...\n",
      "Tried 1/2 times.\n",
      "Tried 2/2 times.\n",
      "Not satisfied with initial optimization results of param for class 3, trying more initial states...\n",
      "Tried 1/2 times.\n",
      "Tried 2/2 times.\n",
      "Calculating and saving the fitted case-wise performance...\n"
     ]
    },
    {
     "name": "stderr",
     "output_type": "stream",
     "text": [
      "\r",
      " 56%|████████████████████████████████████████████████████████████████████▎                                                      | 20/36 [19:58<19:52, 74.55s/it]"
     ]
    },
    {
     "name": "stdout",
     "output_type": "stream",
     "text": [
      "Starting optimizing for model atc-model with confidence max_class_probability-conf based on metric f1score, class specific is False.\n",
      "Opitimizing with 100 samples...\n",
      "Be patient, it should take a while...\n",
      "Calculating and saving the fitted case-wise performance...\n"
     ]
    },
    {
     "name": "stderr",
     "output_type": "stream",
     "text": [
      "\r",
      " 58%|███████████████████████████████████████████████████████████████████████▊                                                   | 21/36 [20:10<13:56, 55.74s/it]"
     ]
    },
    {
     "name": "stdout",
     "output_type": "stream",
     "text": [
      "Starting optimizing for model atc-model with confidence max_class_probability-conf based on metric accuracy, class specific is False.\n",
      "Opitimizing with 100 samples...\n",
      "Be patient, it should take a while...\n",
      "Starting optimizing for model atc-model with confidence max_class_probability-conf based on metric f1score, class specific is True.\n",
      "Opitimizing with 100 samples...\n",
      "Be patient, it should take a while...\n",
      "Not satisfied with initial optimization results of param for class 1, trying more initial states...\n",
      "Tried 1/2 times.\n",
      "Tried 2/2 times.\n",
      "Not satisfied with initial optimization results of param for class 2, trying more initial states...\n",
      "Tried 1/2 times.\n",
      "Tried 2/2 times.\n",
      "Not satisfied with initial optimization results of param for class 3, trying more initial states...\n",
      "Tried 1/2 times.\n",
      "Tried 2/2 times.\n",
      "Calculating and saving the fitted case-wise performance...\n"
     ]
    },
    {
     "name": "stderr",
     "output_type": "stream",
     "text": [
      "\r",
      " 61%|███████████████████████████████████████████████████████████████████████████▏                                               | 22/36 [22:11<17:36, 75.43s/it]"
     ]
    },
    {
     "name": "stdout",
     "output_type": "stream",
     "text": [
      "Starting optimizing for model atc-model with confidence energy-conf based on metric f1score, class specific is False.\n",
      "Opitimizing with 100 samples...\n",
      "Be patient, it should take a while...\n",
      "Not satisfied with initial optimization results of param, trying more initial states...\n",
      "Tried 1/2 times.\n",
      "Tried 2/2 times.\n",
      "Calculating and saving the fitted case-wise performance...\n"
     ]
    },
    {
     "name": "stderr",
     "output_type": "stream",
     "text": [
      "\r",
      " 64%|██████████████████████████████████████████████████████████████████████████████▌                                            | 23/36 [22:27<12:27, 57.47s/it]"
     ]
    },
    {
     "name": "stdout",
     "output_type": "stream",
     "text": [
      "Starting optimizing for model atc-model with confidence energy-conf based on metric accuracy, class specific is False.\n",
      "Opitimizing with 100 samples...\n",
      "Be patient, it should take a while...\n",
      "Not satisfied with initial optimization results of param, trying more initial states...\n",
      "Tried 1/2 times.\n",
      "Tried 2/2 times.\n",
      "Starting optimizing for model atc-model with confidence energy-conf based on metric f1score, class specific is True.\n",
      "Opitimizing with 100 samples...\n",
      "Be patient, it should take a while...\n",
      "Not satisfied with initial optimization results of param for class 1, trying more initial states...\n",
      "Tried 1/2 times.\n",
      "Tried 2/2 times.\n",
      "Not satisfied with initial optimization results of param for class 2, trying more initial states...\n",
      "Tried 1/2 times.\n",
      "Tried 2/2 times.\n",
      "Not satisfied with initial optimization results of param for class 3, trying more initial states...\n",
      "Tried 1/2 times.\n",
      "Tried 2/2 times.\n",
      "Calculating and saving the fitted case-wise performance...\n"
     ]
    },
    {
     "name": "stderr",
     "output_type": "stream",
     "text": [
      "\r",
      " 67%|██████████████████████████████████████████████████████████████████████████████████                                         | 24/36 [24:02<13:43, 68.67s/it]"
     ]
    },
    {
     "name": "stdout",
     "output_type": "stream",
     "text": [
      "Starting optimizing for model atc-model with confidence entropy-conf based on metric f1score, class specific is False.\n",
      "Opitimizing with 100 samples...\n",
      "Be patient, it should take a while...\n",
      "Calculating and saving the fitted case-wise performance...\n"
     ]
    },
    {
     "name": "stderr",
     "output_type": "stream",
     "text": [
      "\r",
      " 69%|█████████████████████████████████████████████████████████████████████████████████████▍                                     | 25/36 [24:14<09:28, 51.72s/it]"
     ]
    },
    {
     "name": "stdout",
     "output_type": "stream",
     "text": [
      "Starting optimizing for model atc-model with confidence entropy-conf based on metric accuracy, class specific is False.\n",
      "Opitimizing with 100 samples...\n",
      "Be patient, it should take a while...\n",
      "Starting optimizing for model atc-model with confidence entropy-conf based on metric f1score, class specific is True.\n",
      "Opitimizing with 100 samples...\n",
      "Be patient, it should take a while...\n",
      "Not satisfied with initial optimization results of param for class 1, trying more initial states...\n",
      "Tried 1/2 times.\n",
      "Tried 2/2 times.\n",
      "Not satisfied with initial optimization results of param for class 2, trying more initial states...\n",
      "Tried 1/2 times.\n",
      "Tried 2/2 times.\n",
      "Not satisfied with initial optimization results of param for class 3, trying more initial states...\n",
      "Tried 1/2 times.\n",
      "Tried 2/2 times.\n",
      "Calculating and saving the fitted case-wise performance...\n"
     ]
    },
    {
     "name": "stderr",
     "output_type": "stream",
     "text": [
      "\r",
      " 72%|████████████████████████████████████████████████████████████████████████████████████████▊                                  | 26/36 [26:12<11:55, 71.56s/it]"
     ]
    },
    {
     "name": "stdout",
     "output_type": "stream",
     "text": [
      "Starting optimizing for model atc-model with confidence doctor-conf based on metric f1score, class specific is False.\n",
      "Opitimizing with 100 samples...\n",
      "Be patient, it should take a while...\n",
      "Calculating and saving the fitted case-wise performance...\n"
     ]
    },
    {
     "name": "stderr",
     "output_type": "stream",
     "text": [
      "\r",
      " 75%|████████████████████████████████████████████████████████████████████████████████████████████▎                              | 27/36 [26:23<08:01, 53.52s/it]"
     ]
    },
    {
     "name": "stdout",
     "output_type": "stream",
     "text": [
      "Starting optimizing for model atc-model with confidence doctor-conf based on metric accuracy, class specific is False.\n",
      "Opitimizing with 100 samples...\n",
      "Be patient, it should take a while...\n",
      "Starting optimizing for model atc-model with confidence doctor-conf based on metric f1score, class specific is True.\n",
      "Opitimizing with 100 samples...\n",
      "Be patient, it should take a while...\n",
      "Not satisfied with initial optimization results of param for class 1, trying more initial states...\n",
      "Tried 1/2 times.\n",
      "Tried 2/2 times.\n",
      "Not satisfied with initial optimization results of param for class 2, trying more initial states...\n",
      "Tried 1/2 times.\n",
      "Tried 2/2 times.\n",
      "Not satisfied with initial optimization results of param for class 3, trying more initial states...\n",
      "Tried 1/2 times.\n",
      "Tried 2/2 times.\n",
      "Calculating and saving the fitted case-wise performance...\n"
     ]
    },
    {
     "name": "stderr",
     "output_type": "stream",
     "text": [
      "\r",
      " 78%|███████████████████████████████████████████████████████████████████████████████████████████████▋                           | 28/36 [28:16<09:30, 71.34s/it]"
     ]
    },
    {
     "name": "stdout",
     "output_type": "stream",
     "text": [
      "Starting optimizing for model ts-atc-model with confidence max_class_probability-conf based on metric f1score, class specific is False.\n",
      "Opitimizing with 100 samples...\n",
      "Be patient, it should take a while...\n",
      "Calculating and saving the fitted case-wise performance...\n"
     ]
    },
    {
     "name": "stderr",
     "output_type": "stream",
     "text": [
      "\r",
      " 81%|███████████████████████████████████████████████████████████████████████████████████████████████████                        | 29/36 [28:38<06:35, 56.43s/it]"
     ]
    },
    {
     "name": "stdout",
     "output_type": "stream",
     "text": [
      "Starting optimizing for model ts-atc-model with confidence max_class_probability-conf based on metric accuracy, class specific is False.\n",
      "Opitimizing with 100 samples...\n",
      "Be patient, it should take a while...\n",
      "Starting optimizing for model ts-atc-model with confidence max_class_probability-conf based on metric f1score, class specific is True.\n",
      "Opitimizing with 100 samples...\n",
      "Be patient, it should take a while...\n",
      "Not satisfied with initial optimization results of param for class 1, trying more initial states...\n",
      "Tried 1/2 times.\n",
      "Tried 2/2 times.\n",
      "Not satisfied with initial optimization results of param for class 2, trying more initial states...\n",
      "Tried 1/2 times.\n",
      "Tried 2/2 times.\n",
      "Not satisfied with initial optimization results of param for class 3, trying more initial states...\n",
      "Tried 1/2 times.\n",
      "Tried 2/2 times.\n",
      "Not satisfied with initial optimization results of param for class 3, trying more initial states...\n",
      "Tried 1/2 times.\n",
      "Tried 2/2 times.\n",
      "Calculating and saving the fitted case-wise performance...\n"
     ]
    },
    {
     "name": "stderr",
     "output_type": "stream",
     "text": [
      "\r",
      " 83%|█████████████████████████████████████████████████████████████████████████████████████████████████████▋                    | 30/36 [32:17<10:31, 105.31s/it]"
     ]
    },
    {
     "name": "stdout",
     "output_type": "stream",
     "text": [
      "Starting optimizing for model ts-atc-model with confidence energy-conf based on metric f1score, class specific is False.\n",
      "Opitimizing with 100 samples...\n",
      "Be patient, it should take a while...\n",
      "Not satisfied with initial optimization results of param, trying more initial states...\n",
      "Tried 1/2 times.\n",
      "Tried 2/2 times.\n",
      "Not satisfied with initial optimization results of param_ext, trying more initial states...\n",
      "Tried 1/2 times.\n",
      "Tried 2/2 times.\n",
      "Calculating and saving the fitted case-wise performance...\n"
     ]
    },
    {
     "name": "stderr",
     "output_type": "stream",
     "text": [
      "\r",
      " 86%|█████████████████████████████████████████████████████████████████████████████████████████████████████████▉                 | 31/36 [33:10<07:28, 89.68s/it]"
     ]
    },
    {
     "name": "stdout",
     "output_type": "stream",
     "text": [
      "Starting optimizing for model ts-atc-model with confidence energy-conf based on metric accuracy, class specific is False.\n",
      "Opitimizing with 100 samples...\n",
      "Be patient, it should take a while...\n",
      "Not satisfied with initial optimization results of param, trying more initial states...\n",
      "Tried 1/2 times.\n",
      "Tried 2/2 times.\n",
      "Not satisfied with initial optimization results of param_ext, trying more initial states...\n",
      "Tried 1/2 times.\n",
      "Tried 2/2 times.\n",
      "Starting optimizing for model ts-atc-model with confidence energy-conf based on metric f1score, class specific is True.\n",
      "Opitimizing with 100 samples...\n",
      "Be patient, it should take a while...\n",
      "Not satisfied with initial optimization results of param for class 1, trying more initial states...\n",
      "Tried 1/2 times.\n",
      "Tried 2/2 times.\n",
      "Not satisfied with initial optimization results of param for class 2, trying more initial states...\n",
      "Tried 1/2 times.\n",
      "Tried 2/2 times.\n",
      "Not satisfied with initial optimization results of param for class 3, trying more initial states...\n",
      "Tried 1/2 times.\n",
      "Tried 2/2 times.\n",
      "Not satisfied with initial optimization results of param for class 1, trying more initial states...\n",
      "Tried 1/2 times.\n",
      "Tried 2/2 times.\n",
      "Not satisfied with initial optimization results of param for class 2, trying more initial states...\n",
      "Tried 1/2 times.\n",
      "Tried 2/2 times.\n",
      "Not satisfied with initial optimization results of param for class 3, trying more initial states...\n",
      "Tried 1/2 times.\n",
      "Tried 2/2 times.\n",
      "Calculating and saving the fitted case-wise performance...\n"
     ]
    },
    {
     "name": "stderr",
     "output_type": "stream",
     "text": [
      "\r",
      " 89%|████████████████████████████████████████████████████████████████████████████████████████████████████████████▍             | 32/36 [37:03<08:50, 132.52s/it]"
     ]
    },
    {
     "name": "stdout",
     "output_type": "stream",
     "text": [
      "Starting optimizing for model ts-atc-model with confidence entropy-conf based on metric f1score, class specific is False.\n",
      "Opitimizing with 100 samples...\n",
      "Be patient, it should take a while...\n",
      "Calculating and saving the fitted case-wise performance...\n"
     ]
    },
    {
     "name": "stderr",
     "output_type": "stream",
     "text": [
      "\r",
      " 92%|████████████████████████████████████████████████████████████████████████████████████████████████████████████████▊          | 33/36 [37:25<04:57, 99.29s/it]"
     ]
    },
    {
     "name": "stdout",
     "output_type": "stream",
     "text": [
      "Starting optimizing for model ts-atc-model with confidence entropy-conf based on metric accuracy, class specific is False.\n",
      "Opitimizing with 100 samples...\n",
      "Be patient, it should take a while...\n",
      "Starting optimizing for model ts-atc-model with confidence entropy-conf based on metric f1score, class specific is True.\n",
      "Opitimizing with 100 samples...\n",
      "Be patient, it should take a while...\n",
      "Not satisfied with initial optimization results of param for class 1, trying more initial states...\n",
      "Tried 1/2 times.\n",
      "Tried 2/2 times.\n",
      "Not satisfied with initial optimization results of param for class 2, trying more initial states...\n",
      "Tried 1/2 times.\n",
      "Tried 2/2 times.\n",
      "Not satisfied with initial optimization results of param for class 3, trying more initial states...\n",
      "Tried 1/2 times.\n",
      "Tried 2/2 times.\n",
      "Calculating and saving the fitted case-wise performance...\n"
     ]
    },
    {
     "name": "stderr",
     "output_type": "stream",
     "text": [
      "\r",
      " 94%|███████████████████████████████████████████████████████████████████████████████████████████████████████████████████▏      | 34/36 [40:49<04:21, 130.80s/it]"
     ]
    },
    {
     "name": "stdout",
     "output_type": "stream",
     "text": [
      "Starting optimizing for model ts-atc-model with confidence doctor-conf based on metric f1score, class specific is False.\n",
      "Opitimizing with 100 samples...\n",
      "Be patient, it should take a while...\n",
      "Calculating and saving the fitted case-wise performance...\n"
     ]
    },
    {
     "name": "stderr",
     "output_type": "stream",
     "text": [
      "\r",
      " 97%|███████████████████████████████████████████████████████████████████████████████████████████████████████████████████████▌   | 35/36 [41:10<01:38, 98.02s/it]"
     ]
    },
    {
     "name": "stdout",
     "output_type": "stream",
     "text": [
      "Starting optimizing for model ts-atc-model with confidence doctor-conf based on metric accuracy, class specific is False.\n",
      "Opitimizing with 100 samples...\n",
      "Be patient, it should take a while...\n",
      "Starting optimizing for model ts-atc-model with confidence doctor-conf based on metric f1score, class specific is True.\n",
      "Opitimizing with 100 samples...\n",
      "Be patient, it should take a while...\n",
      "Not satisfied with initial optimization results of param for class 1, trying more initial states...\n",
      "Tried 1/2 times.\n",
      "Tried 2/2 times.\n",
      "Not satisfied with initial optimization results of param for class 2, trying more initial states...\n",
      "Tried 1/2 times.\n",
      "Tried 2/2 times.\n",
      "Not satisfied with initial optimization results of param for class 3, trying more initial states...\n",
      "Tried 1/2 times.\n",
      "Tried 2/2 times.\n",
      "Calculating and saving the fitted case-wise performance...\n"
     ]
    },
    {
     "name": "stderr",
     "output_type": "stream",
     "text": [
      "100%|███████████████████████████████████████████████████████████████████████████████████████████████████████████████████████████| 36/36 [44:25<00:00, 74.03s/it]\n"
     ]
    }
   ],
   "source": [
    "for k_cond in tqdm(range(len(moval_options))):\n",
    "    \n",
    "    err_test, moval_model = test_cls(\n",
    "        estim_algorithm = moval_options[k_cond][0], \n",
    "        mode = moval_options[k_cond][1], \n",
    "        confidence_scores = moval_options[k_cond][2],\n",
    "        class_specific = moval_options[k_cond][3],\n",
    "        logits = logits,\n",
    "        gt = gt,\n",
    "        logits_test = logits_test,\n",
    "        gt_test = gt_test\n",
    "    )\n",
    "    err_test_list.append(err_test)\n",
    "    moval_parameters.append(moval_model.model_.param)\n",
    "    if moval_model.model_.extend_param:\n",
    "        moval_parameters_.append(moval_model.model_.param_ext)\n",
    "    else:\n",
    "        moval_parameters_.append(0.)"
   ]
  },
  {
   "cell_type": "markdown",
   "id": "3813800b-936c-47ad-8828-503189b21181",
   "metadata": {},
   "source": [
    "## Compare estimataion results"
   ]
  },
  {
   "cell_type": "code",
   "execution_count": 15,
   "id": "060d2d93-97a7-499d-9100-15b100c2cbce",
   "metadata": {},
   "outputs": [],
   "source": [
    "estim = []\n",
    "conf = []\n",
    "err = []\n",
    "err_mean = []\n",
    "novel = []\n",
    "k_option = 0\n",
    "# attach the class-wise segmentation error\n",
    "for moval_option in moval_options:\n",
    "    for k_cond in range(len(err_test_list[k_option])):\n",
    "        #\n",
    "        if moval_option[3] == True:\n",
    "            estim_cs = 'CS '\n",
    "        else:\n",
    "            estim_cs = ''\n",
    "        #    \n",
    "        if moval_option[0] == 'ac-model':\n",
    "            estim.append(estim_cs + 'AC')\n",
    "        elif moval_option[0] == 'ts-model':\n",
    "            estim.append(estim_cs + 'TS')\n",
    "        elif moval_option[0] == 'doc-model':\n",
    "            estim.append(estim_cs + 'DoC')\n",
    "        elif moval_option[0] == 'atc-model':\n",
    "            estim.append(estim_cs + 'ATC')\n",
    "        else:\n",
    "            estim.append(estim_cs + 'TS-ATC')\n",
    "        #\n",
    "        if moval_option[2] == 'max_class_probability-conf':\n",
    "            conf.append('MCP')\n",
    "        elif moval_option[2] == 'energy-conf':\n",
    "            conf.append('Energy')\n",
    "        elif moval_option[2] == 'entropy-conf':\n",
    "            conf.append('Entropy')\n",
    "        else:\n",
    "            conf.append('Doctor')\n",
    "        #\n",
    "        if moval_option[2] == 'max_class_probability-conf' and moval_option[3] == False:\n",
    "            novel.append('Existing Methods')\n",
    "        else:\n",
    "            novel.append('Provided by MOVAL')\n",
    "        #\n",
    "        err.append(err_test_list[k_option][k_cond])\n",
    "        err_mean.append(np.mean(err_test_list[k_option]))\n",
    "    k_option += 1"
   ]
  },
  {
   "cell_type": "code",
   "execution_count": 16,
   "id": "68a6754d-429b-4189-9443-2db6250e7662",
   "metadata": {},
   "outputs": [],
   "source": [
    "d = {'Estimation Algorithm': estim, 'Confidence Score': conf, 'MAE': err_mean, 'MAE ': err, 'Category': novel}\n",
    "df = pd.DataFrame(data=d)\n",
    "#\n",
    "custom_order = ['AC', 'TS', 'DoC', 'ATC', 'TS-ATC', 'CS TS', 'CS DoC', 'CS ATC', 'CS TS-ATC']\n",
    "df['Estimation Algorithm'] = pd.Categorical(df['Estimation Algorithm'], categories=custom_order, ordered=True)\n",
    "df = df.sort_values(by='Estimation Algorithm')\n",
    "#\n",
    "custom_order = ['MCP', 'Doctor', 'Entropy', 'Energy']\n",
    "df['Confidence Score'] = pd.Categorical(df['Confidence Score'], categories=custom_order, ordered=True)\n",
    "df = df.sort_values(by='Confidence Score')"
   ]
  },
  {
   "cell_type": "code",
   "execution_count": 17,
   "id": "99b0672c-d149-4347-9185-651428ff2e17",
   "metadata": {},
   "outputs": [
    {
     "data": {
      "text/html": [
       "<div>\n",
       "<style scoped>\n",
       "    .dataframe tbody tr th:only-of-type {\n",
       "        vertical-align: middle;\n",
       "    }\n",
       "\n",
       "    .dataframe tbody tr th {\n",
       "        vertical-align: top;\n",
       "    }\n",
       "\n",
       "    .dataframe thead th {\n",
       "        text-align: right;\n",
       "    }\n",
       "</style>\n",
       "<table border=\"1\" class=\"dataframe\">\n",
       "  <thead>\n",
       "    <tr style=\"text-align: right;\">\n",
       "      <th></th>\n",
       "      <th>Estimation Algorithm</th>\n",
       "      <th>Confidence Score</th>\n",
       "      <th>MAE</th>\n",
       "      <th>MAE</th>\n",
       "      <th>Category</th>\n",
       "    </tr>\n",
       "  </thead>\n",
       "  <tbody>\n",
       "    <tr>\n",
       "      <th>0</th>\n",
       "      <td>AC</td>\n",
       "      <td>MCP</td>\n",
       "      <td>0.180960</td>\n",
       "      <td>0.160946</td>\n",
       "      <td>Existing Methods</td>\n",
       "    </tr>\n",
       "    <tr>\n",
       "      <th>38</th>\n",
       "      <td>DoC</td>\n",
       "      <td>MCP</td>\n",
       "      <td>0.147394</td>\n",
       "      <td>0.149014</td>\n",
       "      <td>Existing Methods</td>\n",
       "    </tr>\n",
       "    <tr>\n",
       "      <th>61</th>\n",
       "      <td>ATC</td>\n",
       "      <td>MCP</td>\n",
       "      <td>0.084708</td>\n",
       "      <td>0.096688</td>\n",
       "      <td>Existing Methods</td>\n",
       "    </tr>\n",
       "    <tr>\n",
       "      <th>62</th>\n",
       "      <td>ATC</td>\n",
       "      <td>MCP</td>\n",
       "      <td>0.084708</td>\n",
       "      <td>0.045736</td>\n",
       "      <td>Existing Methods</td>\n",
       "    </tr>\n",
       "    <tr>\n",
       "      <th>60</th>\n",
       "      <td>ATC</td>\n",
       "      <td>MCP</td>\n",
       "      <td>0.084708</td>\n",
       "      <td>0.111699</td>\n",
       "      <td>Existing Methods</td>\n",
       "    </tr>\n",
       "  </tbody>\n",
       "</table>\n",
       "</div>"
      ],
      "text/plain": [
       "   Estimation Algorithm Confidence Score       MAE      MAE           Category\n",
       "0                    AC              MCP  0.180960  0.160946  Existing Methods\n",
       "38                  DoC              MCP  0.147394  0.149014  Existing Methods\n",
       "61                  ATC              MCP  0.084708  0.096688  Existing Methods\n",
       "62                  ATC              MCP  0.084708  0.045736  Existing Methods\n",
       "60                  ATC              MCP  0.084708  0.111699  Existing Methods"
      ]
     },
     "execution_count": 17,
     "metadata": {},
     "output_type": "execute_result"
    }
   ],
   "source": [
    "df.head()"
   ]
  },
  {
   "cell_type": "code",
   "execution_count": 18,
   "id": "71dda52f-13bc-46f4-9702-e65ece9f1bfe",
   "metadata": {},
   "outputs": [
    {
     "data": {
      "image/png": "[encoded data removed]",
      "text/plain": [
       "<Figure size 600x300 with 1 Axes>"
      ]
     },
     "metadata": {},
     "output_type": "display_data"
    }
   ],
   "source": [
    "sns.set(rc={'figure.figsize':(6,3)})\n",
    "sns.set_style(\"darkgrid\")\n",
    "category_palette = {'Existing Methods': 'grey', 'Provided by MOVAL': '#1f77b4'}\n",
    "ax = sns.scatterplot(\n",
    "    data=df, x=\"Estimation Algorithm\", y=\"Confidence Score\", hue=\"Category\", size=\"MAE\",\n",
    "    sizes=(40, 1000), palette=category_palette\n",
    ")\n",
    "ax.set(ylim=(3.5, -0.5))\n",
    "ax.tick_params(axis='x', rotation=15)\n",
    "#\n",
    "# Get the handles and labels from the legend\n",
    "handles, labels = ax.get_legend_handles_labels()\n",
    "\n",
    "# Create a custom legend with only desired categories\n",
    "desired_labels = ['Category', 'Existing Methods', 'Provided by MOVAL', 'MAE', '0.06', '0.12']\n",
    "desired_handles = [h for h, l in zip(handles, labels) if l in desired_labels]\n",
    "\n",
    "legend = plt.legend(handles=desired_handles, labels=desired_labels, bbox_to_anchor=(1.2, 1), labelspacing=1)\n",
    "\n",
    "# Increase the line spacing by adjusting position"
   ]
  },
  {
   "cell_type": "code",
   "execution_count": 19,
   "id": "3d1afafe-7490-4da1-8c88-5fbdf15ce128",
   "metadata": {},
   "outputs": [
    {
     "name": "stdout",
     "output_type": "stream",
     "text": [
      "p-value annotation legend:\n",
      "      ns: 5.00e-02 < p <= 1.00e+00\n",
      "       *: 1.00e-02 < p <= 5.00e-02\n",
      "      **: 1.00e-03 < p <= 1.00e-02\n",
      "     ***: 1.00e-04 < p <= 1.00e-03\n",
      "    ****: p <= 1.00e-04\n",
      "\n",
      "TS vs. CS TS: Mann-Whitney-Wilcoxon test two-sided, P_val:3.223e-05 U_stat=1.440e+02\n",
      "DoC vs. CS DoC: Mann-Whitney-Wilcoxon test two-sided, P_val:3.223e-05 U_stat=1.440e+02\n",
      "ATC vs. CS ATC: Mann-Whitney-Wilcoxon test two-sided, P_val:3.223e-05 U_stat=1.440e+02\n",
      "TS-ATC vs. CS TS-ATC: Mann-Whitney-Wilcoxon test two-sided, P_val:3.902e-02 U_stat=1.080e+02\n"
     ]
    },
    {
     "data": {
      "text/plain": [
       "(<AxesSubplot:xlabel='Estimation Algorithm', ylabel='MAE'>,\n",
       " [<statannotations.Annotation.Annotation at 0x7fab386dbf70>,\n",
       "  <statannotations.Annotation.Annotation at 0x7fab386e3d00>,\n",
       "  <statannotations.Annotation.Annotation at 0x7fab386e3f70>,\n",
       "  <statannotations.Annotation.Annotation at 0x7fab386e3fa0>])"
      ]
     },
     "execution_count": 19,
     "metadata": {},
     "output_type": "execute_result"
    },
    {
     "data": {
      "image/png": "[encoded data removed]",
      "text/plain": [
       "<Figure size 600x200 with 1 Axes>"
      ]
     },
     "metadata": {},
     "output_type": "display_data"
    }
   ],
   "source": [
    "from statannotations.Annotator import Annotator\n",
    "sns.set(rc={'figure.figsize':(6,2)})\n",
    "sns.set_style(\"white\")\n",
    "ax = sns.barplot(df, x=\"Estimation Algorithm\", y=\"MAE\", color = '#1f77b4')\n",
    "ax.tick_params(axis='x', rotation=15)\n",
    "#\n",
    "ax.spines['top'].set_color('none')\n",
    "ax.spines['right'].set_color('none')\n",
    "ax.spines['bottom'].set_color('none')\n",
    "ax.spines['left'].set_color('none')\n",
    "#\n",
    "pairs=[(\"TS\", \"CS TS\"), (\"DoC\", \"CS DoC\"), (\"ATC\", \"CS ATC\"), (\"TS-ATC\", \"CS TS-ATC\")]\n",
    "\n",
    "annotator = Annotator(ax, pairs, data=df, x=\"Estimation Algorithm\", y=\"MAE\")\n",
    "annotator.configure(test='Mann-Whitney', text_format='star', loc='inside')\n",
    "annotator.apply_and_annotate()"
   ]
  },
  {
   "cell_type": "code",
   "execution_count": 20,
   "id": "ab3ff7bd-6395-446d-b645-69b5c4d220dd",
   "metadata": {},
   "outputs": [
    {
     "name": "stdout",
     "output_type": "stream",
     "text": [
      "p-value annotation legend:\n",
      "      ns: 5.00e-02 < p <= 1.00e+00\n",
      "       *: 1.00e-02 < p <= 5.00e-02\n",
      "      **: 1.00e-03 < p <= 1.00e-02\n",
      "     ***: 1.00e-04 < p <= 1.00e-03\n",
      "    ****: p <= 1.00e-04\n",
      "\n",
      "MCP vs. Doctor: Mann-Whitney-Wilcoxon test two-sided, P_val:9.448e-01 U_stat=3.690e+02\n",
      "MCP vs. Entropy: Mann-Whitney-Wilcoxon test two-sided, P_val:8.218e-01 U_stat=3.780e+02\n",
      "MCP vs. Energy: Mann-Whitney-Wilcoxon test two-sided, P_val:2.432e-02 U_stat=2.340e+02\n"
     ]
    },
    {
     "data": {
      "text/plain": [
       "(<AxesSubplot:xlabel='Confidence Score', ylabel='MAE'>,\n",
       " [<statannotations.Annotation.Annotation at 0x7faab0a5aa60>,\n",
       "  <statannotations.Annotation.Annotation at 0x7faab0a5a760>,\n",
       "  <statannotations.Annotation.Annotation at 0x7faab0a5a790>])"
      ]
     },
     "execution_count": 20,
     "metadata": {},
     "output_type": "execute_result"
    },
    {
     "data": {
      "image/png": "[encoded data removed]",
      "text/plain": [
       "<Figure size 300x200 with 1 Axes>"
      ]
     },
     "metadata": {},
     "output_type": "display_data"
    }
   ],
   "source": [
    "sns.set(rc={'figure.figsize':(3,2)})\n",
    "sns.set_style(\"white\")\n",
    "ax = sns.barplot(df, x=\"Confidence Score\", y=\"MAE\", color = '#1f77b4')\n",
    "ax.tick_params(axis='x', rotation=15)\n",
    "#\n",
    "ax.spines['top'].set_color('none')\n",
    "ax.spines['right'].set_color('none')\n",
    "ax.spines['bottom'].set_color('none')\n",
    "ax.spines['left'].set_color('none')\n",
    "#\n",
    "pairs=[(\"MCP\", \"Doctor\"), (\"MCP\", \"Entropy\"), (\"MCP\", \"Energy\")]\n",
    "\n",
    "annotator = Annotator(ax, pairs, data=df, x=\"Confidence Score\", y=\"MAE\")\n",
    "annotator.configure(test='Mann-Whitney', text_format='star', loc='inside')\n",
    "annotator.apply_and_annotate()"
   ]
  },
  {
   "cell_type": "code",
   "execution_count": 21,
   "id": "36ef192e-b82e-4a68-ba7c-a1d4813cabfe",
   "metadata": {},
   "outputs": [
    {
     "name": "stdout",
     "output_type": "stream",
     "text": [
      "p-value annotation legend:\n",
      "      ns: 5.00e-02 < p <= 1.00e+00\n",
      "       *: 1.00e-02 < p <= 5.00e-02\n",
      "      **: 1.00e-03 < p <= 1.00e-02\n",
      "     ***: 1.00e-04 < p <= 1.00e-03\n",
      "    ****: p <= 1.00e-04\n",
      "\n",
      "ATC_MCP vs. CS DoC_Doctor: Mann-Whitney-Wilcoxon test two-sided, P_val:4.685e-02 U_stat=9.000e+00\n"
     ]
    },
    {
     "data": {
      "text/plain": [
       "[(-0.02, 0.25)]"
      ]
     },
     "execution_count": 21,
     "metadata": {},
     "output_type": "execute_result"
    },
    {
     "data": {
      "image/png": "[encoded data removed]",
      "text/plain": [
       "<Figure size 1200x300 with 1 Axes>"
      ]
     },
     "metadata": {},
     "output_type": "display_data"
    }
   ],
   "source": [
    "sns.set(rc={'figure.figsize':(12,3)})\n",
    "category_palette = {'MCP': '#e5f0f8',\n",
    "                    'Doctor': '#99c6e4',\n",
    "                    'Entropy': '#4c9cd0',\n",
    "                    'Energy': '#0072bd'\n",
    "                   }\n",
    "ax = sns.boxplot(df, x=\"Estimation Algorithm\", y=\"MAE \", hue=\"Confidence Score\", palette=category_palette)\n",
    "\n",
    "sns.move_legend(ax, \"upper left\", bbox_to_anchor=(1, 1))\n",
    "\n",
    "pairs=[\n",
    "    [(\"ATC\", \"MCP\"), (\"CS DoC\", \"Doctor\")]\n",
    "]\n",
    "\n",
    "\n",
    "\n",
    "annotator = Annotator(ax, pairs, data=df, x=\"Estimation Algorithm\", y=\"MAE\", hue=\"Confidence Score\")\n",
    "annotator.configure(test='Mann-Whitney', text_format='star', loc='inside')\n",
    "annotator.apply_and_annotate()\n",
    "\n",
    "ax.set(ylim=(-0.02, 0.25))"
   ]
  },
  {
   "cell_type": "code",
   "execution_count": null,
   "id": "cd3aab34-1604-4101-9624-a2d077cfc39c",
   "metadata": {},
   "outputs": [],
   "source": []
  },
  {
   "cell_type": "code",
   "execution_count": null,
   "id": "b737333c",
   "metadata": {},
   "outputs": [],
   "source": []
  }
 ],
 "metadata": {
  "kernelspec": {
   "display_name": "Python 3 (ipykernel)",
   "language": "python",
   "name": "python3"
  },
  "language_info": {
   "codemirror_mode": {
    "name": "ipython",
    "version": 3
   },
   "file_extension": ".py",
   "mimetype": "text/x-python",
   "name": "python",
   "nbconvert_exporter": "python",
   "pygments_lexer": "ipython3",
   "version": "3.9.13"
  }
 },
 "nbformat": 4,
 "nbformat_minor": 5
}
