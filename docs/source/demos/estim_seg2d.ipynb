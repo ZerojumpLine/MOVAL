{
 "cells": [
  {
   "cell_type": "markdown",
   "id": "78e1590e-fe81-42a5-baeb-b5734c62df1a",
   "metadata": {},
   "source": [
    "# Performance Estimation of multi-class 2D Segmentation"
   ]
  },
  {
   "cell_type": "markdown",
   "id": "8ba3dd68-4dba-4638-9de1-ab7847d24d90",
   "metadata": {},
   "source": [
    "Consider to download this Jupyter Notebook and run locally, or test it with Colab.\n",
    "<br>\n",
    "[![Download](https://img.shields.io/badge/Download-jupyter-blue)](https://github.com/ZerojumpLine/MOVAL/blob/main/docs/source/demos/estim_seg2d.ipynb)\n",
    "[![Open In Colab](https://colab.research.google.com/assets/colab-badge.svg)](https://github.com/ZerojumpLine/MOVAL/blob/main/docs/source/demos/estim_seg2d.ipynb)"
   ]
  },
  {
   "cell_type": "markdown",
   "id": "c9b5661b-b953-408e-9b23-b05ccdb8a241",
   "metadata": {},
   "source": [
    "In this notebook, we will show how to evaluate the performance of multi-class 2D segmentation tasks.\n",
    "<br>\n",
    "More specifically, we show an example of estimating the performance under domain shifts on Cardiac MRI segmentation (into 4 classes including background, left ventricle (LV), myocardium(MYO) and right ventricle (RV)) based on a 3D U-Net. We will utilize the calculated logits on test dataset acquired with a different scanner.\n",
    "<br>\n",
    "We will calculated model confidence with different confidence scores and varied calibration methods."
   ]
  },
  {
   "cell_type": "code",
   "execution_count": 1,
   "id": "015ad97d-ae79-4b0b-9a01-6ce2d6b14233",
   "metadata": {
    "scrolled": true
   },
   "outputs": [
    {
     "name": "stdout",
     "output_type": "stream",
     "text": [
      "Requirement already satisfied: moval in /Users/zejuli/opt/anaconda3/envs/moval/lib/python3.8/site-packages (0.1.10)\n",
      "Requirement already satisfied: scikit-learn>=1.3.0 in /Users/zejuli/opt/anaconda3/envs/moval/lib/python3.8/site-packages (from moval) (1.3.0)\n",
      "Requirement already satisfied: scipy>=1.8.0 in /Users/zejuli/opt/anaconda3/envs/moval/lib/python3.8/site-packages (from moval) (1.10.1)\n",
      "Requirement already satisfied: pytest in /Users/zejuli/opt/anaconda3/envs/moval/lib/python3.8/site-packages (from moval) (7.4.3)\n",
      "Requirement already satisfied: gdown in /Users/zejuli/opt/anaconda3/envs/moval/lib/python3.8/site-packages (from moval) (4.7.1)\n",
      "Requirement already satisfied: pandas in /Users/zejuli/opt/anaconda3/envs/moval/lib/python3.8/site-packages (from moval) (2.0.3)\n",
      "Requirement already satisfied: nibabel in /Users/zejuli/opt/anaconda3/envs/moval/lib/python3.8/site-packages (from moval) (5.1.0)\n",
      "Requirement already satisfied: numpy>=1.17.3 in /Users/zejuli/opt/anaconda3/envs/moval/lib/python3.8/site-packages (from scikit-learn>=1.3.0->moval) (1.24.4)\n",
      "Requirement already satisfied: joblib>=1.1.1 in /Users/zejuli/opt/anaconda3/envs/moval/lib/python3.8/site-packages (from scikit-learn>=1.3.0->moval) (1.3.1)\n",
      "Requirement already satisfied: threadpoolctl>=2.0.0 in /Users/zejuli/opt/anaconda3/envs/moval/lib/python3.8/site-packages (from scikit-learn>=1.3.0->moval) (3.1.0)\n",
      "Requirement already satisfied: filelock in /Users/zejuli/opt/anaconda3/envs/moval/lib/python3.8/site-packages (from gdown->moval) (3.13.1)\n",
      "Requirement already satisfied: requests[socks] in /Users/zejuli/.local/lib/python3.8/site-packages (from gdown->moval) (2.31.0)\n",
      "Requirement already satisfied: six in /Users/zejuli/.local/lib/python3.8/site-packages (from gdown->moval) (1.16.0)\n",
      "Requirement already satisfied: tqdm in /Users/zejuli/opt/anaconda3/envs/moval/lib/python3.8/site-packages (from gdown->moval) (4.65.0)\n",
      "Requirement already satisfied: beautifulsoup4 in /Users/zejuli/opt/anaconda3/envs/moval/lib/python3.8/site-packages (from gdown->moval) (4.12.2)\n",
      "Requirement already satisfied: importlib-resources>=1.3 in /Users/zejuli/.local/lib/python3.8/site-packages (from nibabel->moval) (5.12.0)\n",
      "Requirement already satisfied: packaging>=17 in /Users/zejuli/opt/anaconda3/envs/moval/lib/python3.8/site-packages (from nibabel->moval) (23.1)\n",
      "Requirement already satisfied: python-dateutil>=2.8.2 in /Users/zejuli/opt/anaconda3/envs/moval/lib/python3.8/site-packages (from pandas->moval) (2.8.2)\n",
      "Requirement already satisfied: pytz>=2020.1 in /Users/zejuli/opt/anaconda3/envs/moval/lib/python3.8/site-packages (from pandas->moval) (2023.3.post1)\n",
      "Requirement already satisfied: tzdata>=2022.1 in /Users/zejuli/opt/anaconda3/envs/moval/lib/python3.8/site-packages (from pandas->moval) (2023.3)\n",
      "Requirement already satisfied: iniconfig in /Users/zejuli/opt/anaconda3/envs/moval/lib/python3.8/site-packages (from pytest->moval) (2.0.0)\n",
      "Requirement already satisfied: pluggy<2.0,>=0.12 in /Users/zejuli/opt/anaconda3/envs/moval/lib/python3.8/site-packages (from pytest->moval) (1.3.0)\n",
      "Requirement already satisfied: exceptiongroup>=1.0.0rc8 in /Users/zejuli/opt/anaconda3/envs/moval/lib/python3.8/site-packages (from pytest->moval) (1.1.3)\n",
      "Requirement already satisfied: tomli>=1.0.0 in /Users/zejuli/opt/anaconda3/envs/moval/lib/python3.8/site-packages (from pytest->moval) (2.0.1)\n",
      "Requirement already satisfied: zipp>=3.1.0 in /Users/zejuli/.local/lib/python3.8/site-packages (from importlib-resources>=1.3->nibabel->moval) (3.15.0)\n",
      "Requirement already satisfied: soupsieve>1.2 in /Users/zejuli/opt/anaconda3/envs/moval/lib/python3.8/site-packages (from beautifulsoup4->gdown->moval) (2.5)\n",
      "Requirement already satisfied: charset-normalizer<4,>=2 in /Users/zejuli/.local/lib/python3.8/site-packages (from requests[socks]->gdown->moval) (3.1.0)\n",
      "Requirement already satisfied: idna<4,>=2.5 in /Users/zejuli/.local/lib/python3.8/site-packages (from requests[socks]->gdown->moval) (3.4)\n",
      "Requirement already satisfied: urllib3<3,>=1.21.1 in /Users/zejuli/.local/lib/python3.8/site-packages (from requests[socks]->gdown->moval) (2.0.3)\n",
      "Requirement already satisfied: certifi>=2017.4.17 in /Users/zejuli/.local/lib/python3.8/site-packages (from requests[socks]->gdown->moval) (2023.5.7)\n",
      "Requirement already satisfied: PySocks!=1.5.7,>=1.5.6 in /Users/zejuli/opt/anaconda3/envs/moval/lib/python3.8/site-packages (from requests[socks]->gdown->moval) (1.7.1)\n",
      "Requirement already satisfied: seaborn in /Users/zejuli/opt/anaconda3/envs/moval/lib/python3.8/site-packages (0.13.0)\n",
      "Requirement already satisfied: numpy!=1.24.0,>=1.20 in /Users/zejuli/opt/anaconda3/envs/moval/lib/python3.8/site-packages (from seaborn) (1.24.4)\n",
      "Requirement already satisfied: pandas>=1.2 in /Users/zejuli/opt/anaconda3/envs/moval/lib/python3.8/site-packages (from seaborn) (2.0.3)\n",
      "Requirement already satisfied: matplotlib!=3.6.1,>=3.3 in /Users/zejuli/opt/anaconda3/envs/moval/lib/python3.8/site-packages (from seaborn) (3.7.4)\n",
      "Requirement already satisfied: contourpy>=1.0.1 in /Users/zejuli/opt/anaconda3/envs/moval/lib/python3.8/site-packages (from matplotlib!=3.6.1,>=3.3->seaborn) (1.1.1)\n",
      "Requirement already satisfied: cycler>=0.10 in /Users/zejuli/opt/anaconda3/envs/moval/lib/python3.8/site-packages (from matplotlib!=3.6.1,>=3.3->seaborn) (0.12.1)\n",
      "Requirement already satisfied: fonttools>=4.22.0 in /Users/zejuli/opt/anaconda3/envs/moval/lib/python3.8/site-packages (from matplotlib!=3.6.1,>=3.3->seaborn) (4.46.0)\n",
      "Requirement already satisfied: kiwisolver>=1.0.1 in /Users/zejuli/opt/anaconda3/envs/moval/lib/python3.8/site-packages (from matplotlib!=3.6.1,>=3.3->seaborn) (1.4.5)\n",
      "Requirement already satisfied: packaging>=20.0 in /Users/zejuli/opt/anaconda3/envs/moval/lib/python3.8/site-packages (from matplotlib!=3.6.1,>=3.3->seaborn) (23.1)\n",
      "Requirement already satisfied: pillow>=6.2.0 in /Users/zejuli/opt/anaconda3/envs/moval/lib/python3.8/site-packages (from matplotlib!=3.6.1,>=3.3->seaborn) (10.1.0)\n",
      "Requirement already satisfied: pyparsing>=2.3.1 in /Users/zejuli/opt/anaconda3/envs/moval/lib/python3.8/site-packages (from matplotlib!=3.6.1,>=3.3->seaborn) (3.1.1)\n",
      "Requirement already satisfied: python-dateutil>=2.7 in /Users/zejuli/opt/anaconda3/envs/moval/lib/python3.8/site-packages (from matplotlib!=3.6.1,>=3.3->seaborn) (2.8.2)\n",
      "Requirement already satisfied: importlib-resources>=3.2.0 in /Users/zejuli/.local/lib/python3.8/site-packages (from matplotlib!=3.6.1,>=3.3->seaborn) (5.12.0)\n",
      "Requirement already satisfied: pytz>=2020.1 in /Users/zejuli/opt/anaconda3/envs/moval/lib/python3.8/site-packages (from pandas>=1.2->seaborn) (2023.3.post1)\n",
      "Requirement already satisfied: tzdata>=2022.1 in /Users/zejuli/opt/anaconda3/envs/moval/lib/python3.8/site-packages (from pandas>=1.2->seaborn) (2023.3)\n",
      "Requirement already satisfied: zipp>=3.1.0 in /Users/zejuli/.local/lib/python3.8/site-packages (from importlib-resources>=3.2.0->matplotlib!=3.6.1,>=3.3->seaborn) (3.15.0)\n",
      "Requirement already satisfied: six>=1.5 in /Users/zejuli/.local/lib/python3.8/site-packages (from python-dateutil>=2.7->matplotlib!=3.6.1,>=3.3->seaborn) (1.16.0)\n",
      "Requirement already satisfied: pandas in /Users/zejuli/opt/anaconda3/envs/moval/lib/python3.8/site-packages (2.0.3)\n",
      "Requirement already satisfied: python-dateutil>=2.8.2 in /Users/zejuli/opt/anaconda3/envs/moval/lib/python3.8/site-packages (from pandas) (2.8.2)\n",
      "Requirement already satisfied: pytz>=2020.1 in /Users/zejuli/opt/anaconda3/envs/moval/lib/python3.8/site-packages (from pandas) (2023.3.post1)\n",
      "Requirement already satisfied: tzdata>=2022.1 in /Users/zejuli/opt/anaconda3/envs/moval/lib/python3.8/site-packages (from pandas) (2023.3)\n",
      "Requirement already satisfied: numpy>=1.20.3 in /Users/zejuli/opt/anaconda3/envs/moval/lib/python3.8/site-packages (from pandas) (1.24.4)\n",
      "Requirement already satisfied: six>=1.5 in /Users/zejuli/.local/lib/python3.8/site-packages (from python-dateutil>=2.8.2->pandas) (1.16.0)\n",
      "Requirement already satisfied: tqdm in /Users/zejuli/opt/anaconda3/envs/moval/lib/python3.8/site-packages (4.65.0)\n",
      "Requirement already satisfied: matplotlib in /Users/zejuli/opt/anaconda3/envs/moval/lib/python3.8/site-packages (3.7.4)\n",
      "Requirement already satisfied: contourpy>=1.0.1 in /Users/zejuli/opt/anaconda3/envs/moval/lib/python3.8/site-packages (from matplotlib) (1.1.1)\n",
      "Requirement already satisfied: cycler>=0.10 in /Users/zejuli/opt/anaconda3/envs/moval/lib/python3.8/site-packages (from matplotlib) (0.12.1)\n",
      "Requirement already satisfied: fonttools>=4.22.0 in /Users/zejuli/opt/anaconda3/envs/moval/lib/python3.8/site-packages (from matplotlib) (4.46.0)\n",
      "Requirement already satisfied: kiwisolver>=1.0.1 in /Users/zejuli/opt/anaconda3/envs/moval/lib/python3.8/site-packages (from matplotlib) (1.4.5)\n",
      "Requirement already satisfied: numpy<2,>=1.20 in /Users/zejuli/opt/anaconda3/envs/moval/lib/python3.8/site-packages (from matplotlib) (1.24.4)\n",
      "Requirement already satisfied: packaging>=20.0 in /Users/zejuli/opt/anaconda3/envs/moval/lib/python3.8/site-packages (from matplotlib) (23.1)\n",
      "Requirement already satisfied: pillow>=6.2.0 in /Users/zejuli/opt/anaconda3/envs/moval/lib/python3.8/site-packages (from matplotlib) (10.1.0)\n",
      "Requirement already satisfied: pyparsing>=2.3.1 in /Users/zejuli/opt/anaconda3/envs/moval/lib/python3.8/site-packages (from matplotlib) (3.1.1)\n",
      "Requirement already satisfied: python-dateutil>=2.7 in /Users/zejuli/opt/anaconda3/envs/moval/lib/python3.8/site-packages (from matplotlib) (2.8.2)\n",
      "Requirement already satisfied: importlib-resources>=3.2.0 in /Users/zejuli/.local/lib/python3.8/site-packages (from matplotlib) (5.12.0)\n",
      "Requirement already satisfied: zipp>=3.1.0 in /Users/zejuli/.local/lib/python3.8/site-packages (from importlib-resources>=3.2.0->matplotlib) (3.15.0)\n",
      "Requirement already satisfied: six>=1.5 in /Users/zejuli/.local/lib/python3.8/site-packages (from python-dateutil>=2.7->matplotlib) (1.16.0)\n",
      "Requirement already satisfied: nibabel in /Users/zejuli/opt/anaconda3/envs/moval/lib/python3.8/site-packages (5.1.0)\n",
      "Requirement already satisfied: importlib-resources>=1.3 in /Users/zejuli/.local/lib/python3.8/site-packages (from nibabel) (5.12.0)\n",
      "Requirement already satisfied: numpy>=1.19 in /Users/zejuli/opt/anaconda3/envs/moval/lib/python3.8/site-packages (from nibabel) (1.24.4)\n",
      "Requirement already satisfied: packaging>=17 in /Users/zejuli/opt/anaconda3/envs/moval/lib/python3.8/site-packages (from nibabel) (23.1)\n",
      "Requirement already satisfied: zipp>=3.1.0 in /Users/zejuli/.local/lib/python3.8/site-packages (from importlib-resources>=1.3->nibabel) (3.15.0)\n"
     ]
    }
   ],
   "source": [
    "!pip install moval\n",
    "!pip install seaborn\n",
    "!pip install pandas\n",
    "!pip install tqdm\n",
    "!pip install matplotlib\n",
    "!pip install nibabel"
   ]
  },
  {
   "cell_type": "code",
   "execution_count": 2,
   "id": "e59b52b4-b5fe-469c-aa24-1449de534cae",
   "metadata": {},
   "outputs": [],
   "source": [
    "import os\n",
    "import gdown\n",
    "import itertools\n",
    "import zipfile\n",
    "import pandas as pd\n",
    "import numpy as np\n",
    "import nibabel as nib\n",
    "import moval\n",
    "from moval.solvers.utils import ComputMetric\n",
    "from tqdm import tqdm\n",
    "import seaborn as sns\n",
    "import matplotlib.pyplot as plt"
   ]
  },
  {
   "cell_type": "markdown",
   "id": "fe14651d-7f62-41dc-8aaf-dcdb4f80e4fd",
   "metadata": {},
   "source": [
    "## Load the data"
   ]
  },
  {
   "cell_type": "code",
   "execution_count": 3,
   "id": "f1dd6df0-d477-408c-96bb-3f560d4dc3d5",
   "metadata": {},
   "outputs": [],
   "source": [
    "# download the data of cardiac\n",
    "\n",
    "output = \"data_moval_supp.zip\"\n",
    "if not os.path.exists(output):\n",
    "    url = \"https://drive.google.com/u/0/uc?id=1ZlC66MGmPlf05aYYCKBaRT2q5uod8GFk&export=download\"\n",
    "    output = \"data_moval_supp.zip\"\n",
    "    gdown.download(url, output, quiet=False)\n",
    "\n",
    "directory_data = \"data_moval_supp\"\n",
    "if not os.path.exists(directory_data):\n",
    "    with zipfile.ZipFile(output, 'r') as zip_ref:\n",
    "        zip_ref.extractall(directory_data)"
   ]
  },
  {
   "cell_type": "code",
   "execution_count": 4,
   "id": "988c917a-97eb-4b9c-a5ab-5443cfe9e9d6",
   "metadata": {},
   "outputs": [
    {
     "name": "stdout",
     "output_type": "stream",
     "text": [
      "analysis_cls.ipynb    data_moval.zip        estim_seg2d.ipynb\n",
      "analysis_seg2d.ipynb  \u001b[34mdata_moval_supp\u001b[m\u001b[m/      estim_seg3d.ipynb\n",
      "analysis_seg3d.ipynb  data_moval_supp.zip\n",
      "\u001b[34mdata_moval\u001b[m\u001b[m/           estim_cls.ipynb\n"
     ]
    }
   ],
   "source": [
    "ls"
   ]
  },
  {
   "cell_type": "code",
   "execution_count": 5,
   "id": "ee78b79d-d4a4-4019-b011-39b2eb11d96d",
   "metadata": {},
   "outputs": [],
   "source": [
    "# now I am playing with cardiac segmentation\n",
    "\n",
    "Datafile_eval = \"data_moval_supp/Cardiacresults/seg-eval.txt\"\n",
    "Imglist_eval = open(Datafile_eval)\n",
    "Imglist_eval_read = Imglist_eval.read().splitlines()\n",
    "\n",
    "logits = []\n",
    "gt = []\n",
    "for Imgname_eval in Imglist_eval_read:\n",
    "    #\n",
    "    caseID = Imgname_eval.split(\"/\")[-2]\n",
    "    #\n",
    "    GT_file = f\"data_moval_supp/Cardiacresults/GT/1/{caseID}/seg.nii.gz\"\n",
    "    #\n",
    "    logit_cls0_file = \"data_moval_supp/Cardiacresults/cardiacval/results/pred_\" + caseID + \"cls0_prob.nii.gz\"\n",
    "    logit_cls1_file = \"data_moval_supp/Cardiacresults/cardiacval/results/pred_\" + caseID + \"cls1_prob.nii.gz\"\n",
    "    logit_cls2_file = \"data_moval_supp/Cardiacresults/cardiacval/results/pred_\" + caseID + \"cls2_prob.nii.gz\"\n",
    "    logit_cls3_file = \"data_moval_supp/Cardiacresults/cardiacval/results/pred_\" + caseID + \"cls3_prob.nii.gz\"\n",
    "    #\n",
    "    logit_cls0_read = nib.load(logit_cls0_file)\n",
    "    logit_cls1_read = nib.load(logit_cls1_file)\n",
    "    logit_cls2_read = nib.load(logit_cls2_file)\n",
    "    logit_cls3_read = nib.load(logit_cls3_file)\n",
    "    #\n",
    "    logit_cls0      = logit_cls0_read.get_fdata()   # ``(H, W, D)``\n",
    "    logit_cls1      = logit_cls1_read.get_fdata()\n",
    "    logit_cls2      = logit_cls2_read.get_fdata()\n",
    "    logit_cls3      = logit_cls3_read.get_fdata()\n",
    "    #\n",
    "    GT_read         = nib.load(GT_file)\n",
    "    GTimg           = GT_read.get_fdata()           # ``(H, W, D)``\n",
    "    #\n",
    "    logit_cls = np.stack((logit_cls0, logit_cls1, logit_cls2, logit_cls3))  # ``(d, H, W, D)``\n",
    "    # only including the slices that contains labels\n",
    "    for dslice in range(GTimg.shape[2]):\n",
    "        if np.sum(GTimg[:, :, dslice]) > 0:\n",
    "            logits.append(logit_cls[:, :, :, dslice])\n",
    "            gt.append(GTimg[:, :, dslice])\n",
    "\n",
    "# logits is a list of length ``n``,  each element has ``(d, H, W)``. \n",
    "# gt is a list of length ``n``,  each element has ``(H, W)``.\n",
    "# H and W could differ for different cases.\n",
    "\n",
    "Datafile_test = \"data_moval_supp/Cardiacresults/seg-testA.txt\"\n",
    "Imglist_test = open(Datafile_test)\n",
    "Imglist_test_read = Imglist_test.read().splitlines()\n",
    "\n",
    "logits_test = []\n",
    "gt_test = []\n",
    "for Imgname_eval in Imglist_test_read:\n",
    "    caseID = Imgname_eval.split(\"/\")[-2]\n",
    "    #\n",
    "    GT_file = f\"data_moval_supp/Cardiacresults/GT/2/{caseID}/seg.nii.gz\"\n",
    "    #\n",
    "    logit_cls0_file = \"data_moval_supp/Cardiacresults/cardiactest_2/results/pred_\" + caseID + \"cls0_prob.nii.gz\"\n",
    "    logit_cls1_file = \"data_moval_supp/Cardiacresults/cardiactest_2/results/pred_\" + caseID + \"cls1_prob.nii.gz\"\n",
    "    logit_cls2_file = \"data_moval_supp/Cardiacresults/cardiactest_2/results/pred_\" + caseID + \"cls2_prob.nii.gz\"\n",
    "    logit_cls3_file = \"data_moval_supp/Cardiacresults/cardiactest_2/results/pred_\" + caseID + \"cls3_prob.nii.gz\"\n",
    "    #\n",
    "    logit_cls0_read = nib.load(logit_cls0_file)\n",
    "    logit_cls1_read = nib.load(logit_cls1_file)\n",
    "    logit_cls2_read = nib.load(logit_cls2_file)\n",
    "    logit_cls3_read = nib.load(logit_cls3_file)\n",
    "    #\n",
    "    logit_cls0      = logit_cls0_read.get_fdata()   # ``(H, W, D)``\n",
    "    logit_cls1      = logit_cls1_read.get_fdata()\n",
    "    logit_cls2      = logit_cls2_read.get_fdata()\n",
    "    logit_cls3      = logit_cls3_read.get_fdata()\n",
    "    #\n",
    "    GT_read         = nib.load(GT_file)\n",
    "    GTimg           = GT_read.get_fdata()           # ``(H, W, D)``\n",
    "    logit_cls = np.stack((logit_cls0, logit_cls1, logit_cls2, logit_cls3))  # ``(d, H, W, D)``\n",
    "    # only including the slices that contains labels\n",
    "    for dslice in range(GTimg.shape[2]):\n",
    "        if np.sum(GTimg[:, :, dslice]) > 0:\n",
    "            logits_test.append(logit_cls[:, :, :, dslice])\n",
    "            gt_test.append(GTimg[:, :, dslice])\n",
    "\n",
    "# logits_test is a list of length ``n``,  each element has ``(d, H, W)``. \n",
    "# gt_test is a list of length ``n``,  each element has ``(H, W)``.\n",
    "# H and W could differ for different cases."
   ]
  },
  {
   "cell_type": "code",
   "execution_count": 6,
   "id": "891ccb3c-af2f-4d68-87bc-129630c4f6a4",
   "metadata": {},
   "outputs": [
    {
     "name": "stdout",
     "output_type": "stream",
     "text": [
      "The validation predictions, logits are a list of length 156 each element has approximately (4, 210, 257)\n",
      "The validation labels, gt are a list of length 156, each element has approximately (210, 257)\n",
      "\n",
      "The test predictions, logits_test are a list of length 74 each element has approximately (4, 303, 303)\n",
      "The test labels, gt_test are a list of length 74, each element has approximately (303, 303)\n"
     ]
    }
   ],
   "source": [
    "print(f\"The validation predictions, logits are a list of length {len(logits)} each element has approximately {logits[0].shape}\")\n",
    "print(f\"The validation labels, gt are a list of length {len(gt)}, each element has approximately {gt[0].shape}\\n\")\n",
    "print(f\"The test predictions, logits_test are a list of length {len(logits_test)} each element has approximately {logits_test[0].shape}\")\n",
    "print(f\"The test labels, gt_test are a list of length {len(gt_test)}, each element has approximately {gt_test[0].shape}\")"
   ]
  },
  {
   "cell_type": "markdown",
   "id": "b530131b-feee-4cad-a54e-7acf506063db",
   "metadata": {},
   "source": [
    "## MOVAL estimataion"
   ]
  },
  {
   "cell_type": "code",
   "execution_count": 28,
   "id": "29c9b3f1-8d3e-4f0d-aacb-9cb362f6d5de",
   "metadata": {},
   "outputs": [],
   "source": [
    "moval_options = list(itertools.product(moval.models.get_estim_options(),\n",
    "                               [\"segmentation\"],\n",
    "                               moval.models.get_conf_options(),\n",
    "                               [False, True]))"
   ]
  },
  {
   "cell_type": "code",
   "execution_count": 29,
   "id": "c7ec3b5e-54da-49e0-bd53-c94ecf2b89f4",
   "metadata": {},
   "outputs": [],
   "source": [
    "# ac-model does not need class-speicfic variants\n",
    "for moval_option in moval_options:\n",
    "    if moval_option[0] == 'ac-model' and moval_option[-1] == True:\n",
    "        moval_options.remove(moval_option)"
   ]
  },
  {
   "cell_type": "code",
   "execution_count": 30,
   "id": "cdb30ae2-84e5-452a-8d8c-6795df9d30cf",
   "metadata": {},
   "outputs": [
    {
     "name": "stdout",
     "output_type": "stream",
     "text": [
      "The number of moval options is 36\n"
     ]
    }
   ],
   "source": [
    "print(f\"The number of moval options is {len(moval_options)}\")"
   ]
  },
  {
   "cell_type": "code",
   "execution_count": 31,
   "id": "f712cb2c-3abc-4da9-b1bc-055ee70f0120",
   "metadata": {},
   "outputs": [],
   "source": [
    "def test_cls(estim_algorithm, mode, confidence_scores, class_specific, logits, gt, logits_tests, gt_tests):\n",
    "    \"\"\"Test MOVAL with different conditions for segmentation tasks\n",
    "        \n",
    "    Args:\n",
    "        mode (str): The given task to estimate model performance.\n",
    "        confidence_scores (str):\n",
    "            The method to calculate the confidence scores. We provide a list of confidence score calculation methods which \n",
    "            can be displayed by running :py:func:`moval.models.get_conf_options`.\n",
    "        estim_algorithm (str):\n",
    "            The algorithm to estimate model performance. We also provide a list of estimation algorithm which can be displayed by\n",
    "            running :py:func:`moval.models.get_estim_options`.\n",
    "        class_specific (bool):\n",
    "            If ``True``, the calculation will match class-wise confidence to class-wise accuracy.\n",
    "        logits: The network output (logits) of a list of n ``(d, H, W, (D))`` for segmentation. \n",
    "        gt: The cooresponding annotation of a list of n ``(H, W, (D))`` for segmentation.\n",
    "        logits_tests:  The network testing output (logits) of a list of n' ``(d, H', W', (D'))`` for segmentation. \n",
    "        gt_test: The cooresponding testing annotation of a list of n' ``(H', W', (D'))`` for segmentation.\n",
    "\n",
    "    Returns:\n",
    "        err_test (float): testing error.\n",
    "        moval_model: Optimized moval model.\n",
    "\n",
    "    \"\"\"\n",
    "    \n",
    "    moval_model = moval.MOVAL(\n",
    "                mode = mode,\n",
    "                confidence_scores = confidence_scores,\n",
    "                estim_algorithm = estim_algorithm,\n",
    "                class_specific = class_specific,\n",
    "                approximate = True\n",
    "                )\n",
    "\n",
    "    #\n",
    "    moval_model.fit(logits, gt)\n",
    "\n",
    "    # save the test err in the result files.\n",
    "\n",
    "    estim_dsc_test = moval_model.estimate(logits_test)\n",
    "\n",
    "    DSC_list_test = []\n",
    "    for n_case in range(len(logits_test)):\n",
    "        pred_case   = np.argmax(logits_test[n_case], axis = 0) # ``(H', W', (D'))``\n",
    "        gt_case     = gt_test[n_case] # ``(H', W', (D'))``\n",
    "\n",
    "        DSC_c1 = ComputMetric(pred_case == 1, gt_case == 1)\n",
    "        DSC_c2 = ComputMetric(pred_case == 2, gt_case == 2)\n",
    "        DSC_c3 = ComputMetric(pred_case == 3, gt_case == 3)\n",
    "        DSC_list_test.append(np.array([DSC_c1, DSC_c2, DSC_c3]))\n",
    "    m_DSC_test = np.mean(np.array(DSC_list_test))\n",
    "\n",
    "    err_test = np.abs( m_DSC_test - estim_dsc_test )\n",
    "\n",
    "    return err_test, moval_model"
   ]
  },
  {
   "cell_type": "code",
   "execution_count": 32,
   "id": "5d464f40-8cf5-45ca-a006-6cd1eeaa402a",
   "metadata": {},
   "outputs": [],
   "source": [
    "err_test_list = []\n",
    "moval_parameters = []\n",
    "moval_parameters_ = []"
   ]
  },
  {
   "cell_type": "code",
   "execution_count": 33,
   "id": "02be912a-16dc-4bd2-9476-3ab798ac41d4",
   "metadata": {
    "scrolled": true
   },
   "outputs": [
    {
     "name": "stderr",
     "output_type": "stream",
     "text": [
      "  0%|                                                                                                                                                                                                                                         | 0/36 [00:00<?, ?it/s]"
     ]
    },
    {
     "name": "stdout",
     "output_type": "stream",
     "text": [
      "Starting optimizing for model ac-model with confidence max_class_probability-conf, class specific is False.\n"
     ]
    },
    {
     "name": "stderr",
     "output_type": "stream",
     "text": [
      "  3%|██████▎                                                                                                                                                                                                                          | 1/36 [00:01<00:59,  1.70s/it]"
     ]
    },
    {
     "name": "stdout",
     "output_type": "stream",
     "text": [
      "Starting optimizing for model ac-model with confidence energy-conf, class specific is False.\n"
     ]
    },
    {
     "name": "stderr",
     "output_type": "stream",
     "text": [
      "  6%|████████████▌                                                                                                                                                                                                                    | 2/36 [00:03<00:49,  1.47s/it]"
     ]
    },
    {
     "name": "stdout",
     "output_type": "stream",
     "text": [
      "Starting optimizing for model ac-model with confidence entropy-conf, class specific is False.\n"
     ]
    },
    {
     "name": "stderr",
     "output_type": "stream",
     "text": [
      "  8%|██████████████████▊                                                                                                                                                                                                              | 3/36 [00:04<00:53,  1.63s/it]"
     ]
    },
    {
     "name": "stdout",
     "output_type": "stream",
     "text": [
      "Starting optimizing for model ac-model with confidence doctor-conf, class specific is False.\n"
     ]
    },
    {
     "name": "stderr",
     "output_type": "stream",
     "text": [
      " 11%|█████████████████████████                                                                                                                                                                                                        | 4/36 [00:06<00:53,  1.66s/it]"
     ]
    },
    {
     "name": "stdout",
     "output_type": "stream",
     "text": [
      "Starting optimizing for model ts-model with confidence max_class_probability-conf, class specific is False.\n",
      "Opitimizing with 20 samples...\n",
      "Be patient, it should take a while...\n"
     ]
    },
    {
     "name": "stderr",
     "output_type": "stream",
     "text": [
      " 14%|███████████████████████████████▎                                                                                                                                                                                                 | 5/36 [00:12<01:37,  3.15s/it]"
     ]
    },
    {
     "name": "stdout",
     "output_type": "stream",
     "text": [
      "Starting optimizing for model ts-model with confidence max_class_probability-conf, class specific is True.\n",
      "Opitimizing with 20 samples...\n",
      "Be patient, it should take a while...\n",
      "Not satisfied with initial optimization results of param, trying more initial states...\n",
      "Tried 1/2 times.\n",
      "Tried 2/2 times.\n",
      "Not satisfied with initial optimization results of param, trying more initial states...\n",
      "Tried 1/2 times.\n",
      "Tried 2/2 times.\n",
      "Not satisfied with initial optimization results of param, trying more initial states...\n",
      "Tried 1/2 times.\n",
      "Tried 2/2 times.\n"
     ]
    },
    {
     "name": "stderr",
     "output_type": "stream",
     "text": [
      " 17%|█████████████████████████████████████▌                                                                                                                                                                                           | 6/36 [01:15<11:42, 23.41s/it]"
     ]
    },
    {
     "name": "stdout",
     "output_type": "stream",
     "text": [
      "Starting optimizing for model ts-model with confidence energy-conf, class specific is False.\n",
      "Opitimizing with 20 samples...\n",
      "Be patient, it should take a while...\n",
      "Not satisfied with initial optimization results of param, trying more initial states...\n",
      "Tried 1/2 times.\n",
      "Tried 2/2 times.\n"
     ]
    },
    {
     "name": "stderr",
     "output_type": "stream",
     "text": [
      " 19%|███████████████████████████████████████████▊                                                                                                                                                                                     | 7/36 [01:20<08:31, 17.65s/it]"
     ]
    },
    {
     "name": "stdout",
     "output_type": "stream",
     "text": [
      "Starting optimizing for model ts-model with confidence energy-conf, class specific is True.\n",
      "Opitimizing with 20 samples...\n",
      "Be patient, it should take a while...\n",
      "Not satisfied with initial optimization results of param, trying more initial states...\n",
      "Tried 1/2 times.\n",
      "Tried 2/2 times.\n",
      "Not satisfied with initial optimization results of param, trying more initial states...\n",
      "Tried 1/2 times.\n",
      "Tried 2/2 times.\n",
      "Not satisfied with initial optimization results of param, trying more initial states...\n",
      "Tried 1/2 times.\n",
      "Tried 2/2 times.\n"
     ]
    },
    {
     "name": "stderr",
     "output_type": "stream",
     "text": [
      " 22%|██████████████████████████████████████████████████                                                                                                                                                                               | 8/36 [01:55<10:42, 22.95s/it]"
     ]
    },
    {
     "name": "stdout",
     "output_type": "stream",
     "text": [
      "Starting optimizing for model ts-model with confidence entropy-conf, class specific is False.\n",
      "Opitimizing with 20 samples...\n",
      "Be patient, it should take a while...\n"
     ]
    },
    {
     "name": "stderr",
     "output_type": "stream",
     "text": [
      " 25%|████████████████████████████████████████████████████████▎                                                                                                                                                                        | 9/36 [02:01<07:57, 17.68s/it]"
     ]
    },
    {
     "name": "stdout",
     "output_type": "stream",
     "text": [
      "Starting optimizing for model ts-model with confidence entropy-conf, class specific is True.\n",
      "Opitimizing with 20 samples...\n",
      "Be patient, it should take a while...\n",
      "Not satisfied with initial optimization results of param, trying more initial states...\n",
      "Tried 1/2 times.\n",
      "Tried 2/2 times.\n",
      "Not satisfied with initial optimization results of param, trying more initial states...\n",
      "Tried 1/2 times.\n",
      "Tried 2/2 times.\n",
      "Not satisfied with initial optimization results of param, trying more initial states...\n",
      "Tried 1/2 times.\n",
      "Tried 2/2 times.\n"
     ]
    },
    {
     "name": "stderr",
     "output_type": "stream",
     "text": [
      " 28%|██████████████████████████████████████████████████████████████▏                                                                                                                                                                 | 10/36 [03:04<13:45, 31.75s/it]"
     ]
    },
    {
     "name": "stdout",
     "output_type": "stream",
     "text": [
      "Starting optimizing for model ts-model with confidence doctor-conf, class specific is False.\n",
      "Opitimizing with 20 samples...\n",
      "Be patient, it should take a while...\n"
     ]
    },
    {
     "name": "stderr",
     "output_type": "stream",
     "text": [
      " 31%|████████████████████████████████████████████████████████████████████▍                                                                                                                                                           | 11/36 [03:11<10:01, 24.04s/it]"
     ]
    },
    {
     "name": "stdout",
     "output_type": "stream",
     "text": [
      "Starting optimizing for model ts-model with confidence doctor-conf, class specific is True.\n",
      "Opitimizing with 20 samples...\n",
      "Be patient, it should take a while...\n",
      "Not satisfied with initial optimization results of param, trying more initial states...\n",
      "Tried 1/2 times.\n",
      "Tried 2/2 times.\n",
      "Not satisfied with initial optimization results of param, trying more initial states...\n",
      "Tried 1/2 times.\n",
      "Tried 2/2 times.\n",
      "Not satisfied with initial optimization results of param, trying more initial states...\n",
      "Tried 1/2 times.\n",
      "Tried 2/2 times.\n"
     ]
    },
    {
     "name": "stderr",
     "output_type": "stream",
     "text": [
      " 33%|██████████████████████████████████████████████████████████████████████████▋                                                                                                                                                     | 12/36 [04:14<14:27, 36.14s/it]"
     ]
    },
    {
     "name": "stdout",
     "output_type": "stream",
     "text": [
      "Starting optimizing for model doc-model with confidence max_class_probability-conf, class specific is False.\n",
      "Opitimizing with 20 samples...\n",
      "Be patient, it should take a while...\n"
     ]
    },
    {
     "name": "stderr",
     "output_type": "stream",
     "text": [
      " 36%|████████████████████████████████████████████████████████████████████████████████▉                                                                                                                                               | 13/36 [04:19<10:11, 26.60s/it]"
     ]
    },
    {
     "name": "stdout",
     "output_type": "stream",
     "text": [
      "Starting optimizing for model doc-model with confidence max_class_probability-conf, class specific is True.\n",
      "Opitimizing with 20 samples...\n",
      "Be patient, it should take a while...\n",
      "Not satisfied with initial optimization results of param, trying more initial states...\n",
      "Tried 1/2 times.\n",
      "Tried 2/2 times.\n",
      "Not satisfied with initial optimization results of param, trying more initial states...\n",
      "Tried 1/2 times.\n",
      "Tried 2/2 times.\n",
      "Not satisfied with initial optimization results of param, trying more initial states...\n",
      "Tried 1/2 times.\n",
      "Tried 2/2 times.\n"
     ]
    },
    {
     "name": "stderr",
     "output_type": "stream",
     "text": [
      " 39%|███████████████████████████████████████████████████████████████████████████████████████                                                                                                                                         | 14/36 [05:06<12:02, 32.83s/it]"
     ]
    },
    {
     "name": "stdout",
     "output_type": "stream",
     "text": [
      "Starting optimizing for model doc-model with confidence energy-conf, class specific is False.\n",
      "Opitimizing with 20 samples...\n",
      "Be patient, it should take a while...\n"
     ]
    },
    {
     "name": "stderr",
     "output_type": "stream",
     "text": [
      " 42%|█████████████████████████████████████████████████████████████████████████████████████████████▎                                                                                                                                  | 15/36 [05:10<08:26, 24.10s/it]"
     ]
    },
    {
     "name": "stdout",
     "output_type": "stream",
     "text": [
      "Starting optimizing for model doc-model with confidence energy-conf, class specific is True.\n",
      "Opitimizing with 20 samples...\n",
      "Be patient, it should take a while...\n",
      "Not satisfied with initial optimization results of param, trying more initial states...\n",
      "Tried 1/2 times.\n",
      "Tried 2/2 times.\n",
      "Not satisfied with initial optimization results of param, trying more initial states...\n",
      "Tried 1/2 times.\n",
      "Tried 2/2 times.\n",
      "Not satisfied with initial optimization results of param, trying more initial states...\n",
      "Tried 1/2 times.\n",
      "Tried 2/2 times.\n"
     ]
    },
    {
     "name": "stderr",
     "output_type": "stream",
     "text": [
      " 44%|███████████████████████████████████████████████████████████████████████████████████████████████████▌                                                                                                                            | 16/36 [05:48<09:26, 28.30s/it]"
     ]
    },
    {
     "name": "stdout",
     "output_type": "stream",
     "text": [
      "Starting optimizing for model doc-model with confidence entropy-conf, class specific is False.\n",
      "Opitimizing with 20 samples...\n",
      "Be patient, it should take a while...\n"
     ]
    },
    {
     "name": "stderr",
     "output_type": "stream",
     "text": [
      " 47%|█████████████████████████████████████████████████████████████████████████████████████████████████████████▊                                                                                                                      | 17/36 [05:53<06:44, 21.27s/it]"
     ]
    },
    {
     "name": "stdout",
     "output_type": "stream",
     "text": [
      "Starting optimizing for model doc-model with confidence entropy-conf, class specific is True.\n",
      "Opitimizing with 20 samples...\n",
      "Be patient, it should take a while...\n",
      "Not satisfied with initial optimization results of param, trying more initial states...\n",
      "Tried 1/2 times.\n",
      "Tried 2/2 times.\n",
      "Not satisfied with initial optimization results of param, trying more initial states...\n",
      "Tried 1/2 times.\n",
      "Tried 2/2 times.\n",
      "Not satisfied with initial optimization results of param, trying more initial states...\n",
      "Tried 1/2 times.\n",
      "Tried 2/2 times.\n"
     ]
    },
    {
     "name": "stderr",
     "output_type": "stream",
     "text": [
      " 50%|████████████████████████████████████████████████████████████████████████████████████████████████████████████████                                                                                                                | 18/36 [06:42<08:50, 29.48s/it]"
     ]
    },
    {
     "name": "stdout",
     "output_type": "stream",
     "text": [
      "Starting optimizing for model doc-model with confidence doctor-conf, class specific is False.\n",
      "Opitimizing with 20 samples...\n",
      "Be patient, it should take a while...\n"
     ]
    },
    {
     "name": "stderr",
     "output_type": "stream",
     "text": [
      " 53%|██████████████████████████████████████████████████████████████████████████████████████████████████████████████████████▏                                                                                                         | 19/36 [06:46<06:13, 21.95s/it]"
     ]
    },
    {
     "name": "stdout",
     "output_type": "stream",
     "text": [
      "Starting optimizing for model doc-model with confidence doctor-conf, class specific is True.\n",
      "Opitimizing with 20 samples...\n",
      "Be patient, it should take a while...\n",
      "Not satisfied with initial optimization results of param, trying more initial states...\n",
      "Tried 1/2 times.\n",
      "Tried 2/2 times.\n",
      "Not satisfied with initial optimization results of param, trying more initial states...\n",
      "Tried 1/2 times.\n",
      "Tried 2/2 times.\n",
      "Not satisfied with initial optimization results of param, trying more initial states...\n",
      "Tried 1/2 times.\n",
      "Tried 2/2 times.\n"
     ]
    },
    {
     "name": "stderr",
     "output_type": "stream",
     "text": [
      " 56%|████████████████████████████████████████████████████████████████████████████████████████████████████████████████████████████▍                                                                                                   | 20/36 [07:31<07:41, 28.85s/it]"
     ]
    },
    {
     "name": "stdout",
     "output_type": "stream",
     "text": [
      "Starting optimizing for model atc-model with confidence max_class_probability-conf, class specific is False.\n",
      "Opitimizing with 20 samples...\n",
      "Be patient, it should take a while...\n"
     ]
    },
    {
     "name": "stderr",
     "output_type": "stream",
     "text": [
      " 58%|██████████████████████████████████████████████████████████████████████████████████████████████████████████████████████████████████▋                                                                                             | 21/36 [07:36<05:26, 21.75s/it]"
     ]
    },
    {
     "name": "stdout",
     "output_type": "stream",
     "text": [
      "Starting optimizing for model atc-model with confidence max_class_probability-conf, class specific is True.\n",
      "Opitimizing with 20 samples...\n",
      "Be patient, it should take a while...\n",
      "Not satisfied with initial optimization results of param, trying more initial states...\n",
      "Tried 1/2 times.\n",
      "Tried 2/2 times.\n",
      "Not satisfied with initial optimization results of param, trying more initial states...\n",
      "Tried 1/2 times.\n",
      "Tried 2/2 times.\n",
      "Not satisfied with initial optimization results of param, trying more initial states...\n",
      "Tried 1/2 times.\n",
      "Tried 2/2 times.\n"
     ]
    },
    {
     "name": "stderr",
     "output_type": "stream",
     "text": [
      " 61%|████████████████████████████████████████████████████████████████████████████████████████████████████████████████████████████████████████▉                                                                                       | 22/36 [08:20<06:35, 28.24s/it]"
     ]
    },
    {
     "name": "stdout",
     "output_type": "stream",
     "text": [
      "Starting optimizing for model atc-model with confidence energy-conf, class specific is False.\n",
      "Opitimizing with 20 samples...\n",
      "Be patient, it should take a while...\n",
      "Not satisfied with initial optimization results of param, trying more initial states...\n",
      "Tried 1/2 times.\n",
      "Tried 2/2 times.\n"
     ]
    },
    {
     "name": "stderr",
     "output_type": "stream",
     "text": [
      " 64%|███████████████████████████████████████████████████████████████████████████████████████████████████████████████████████████████████████████████                                                                                 | 23/36 [08:26<04:40, 21.55s/it]"
     ]
    },
    {
     "name": "stdout",
     "output_type": "stream",
     "text": [
      "Starting optimizing for model atc-model with confidence energy-conf, class specific is True.\n",
      "Opitimizing with 20 samples...\n",
      "Be patient, it should take a while...\n",
      "Not satisfied with initial optimization results of param, trying more initial states...\n",
      "Tried 1/2 times.\n",
      "Tried 2/2 times.\n",
      "Not satisfied with initial optimization results of param, trying more initial states...\n",
      "Tried 1/2 times.\n",
      "Tried 2/2 times.\n",
      "Not satisfied with initial optimization results of param, trying more initial states...\n",
      "Tried 1/2 times.\n",
      "Tried 2/2 times.\n",
      "Not satisfied with initial optimization results of param, trying more initial states...\n",
      "Tried 1/2 times.\n",
      "Tried 2/2 times.\n"
     ]
    },
    {
     "name": "stderr",
     "output_type": "stream",
     "text": [
      " 67%|█████████████████████████████████████████████████████████████████████████████████████████████████████████████████████████████████████████████████████▎                                                                          | 24/36 [09:00<05:04, 25.39s/it]"
     ]
    },
    {
     "name": "stdout",
     "output_type": "stream",
     "text": [
      "Starting optimizing for model atc-model with confidence entropy-conf, class specific is False.\n",
      "Opitimizing with 20 samples...\n",
      "Be patient, it should take a while...\n"
     ]
    },
    {
     "name": "stderr",
     "output_type": "stream",
     "text": [
      " 69%|███████████████████████████████████████████████████████████████████████████████████████████████████████████████████████████████████████████████████████████▌                                                                    | 25/36 [09:05<03:33, 19.39s/it]"
     ]
    },
    {
     "name": "stdout",
     "output_type": "stream",
     "text": [
      "Starting optimizing for model atc-model with confidence entropy-conf, class specific is True.\n",
      "Opitimizing with 20 samples...\n",
      "Be patient, it should take a while...\n",
      "Not satisfied with initial optimization results of param, trying more initial states...\n",
      "Tried 1/2 times.\n",
      "Tried 2/2 times.\n",
      "Not satisfied with initial optimization results of param, trying more initial states...\n",
      "Tried 1/2 times.\n",
      "Tried 2/2 times.\n",
      "Not satisfied with initial optimization results of param, trying more initial states...\n",
      "Tried 1/2 times.\n",
      "Tried 2/2 times.\n"
     ]
    },
    {
     "name": "stderr",
     "output_type": "stream",
     "text": [
      " 72%|█████████████████████████████████████████████████████████████████████████████████████████████████████████████████████████████████████████████████████████████████▊                                                              | 26/36 [09:49<04:26, 26.60s/it]"
     ]
    },
    {
     "name": "stdout",
     "output_type": "stream",
     "text": [
      "Starting optimizing for model atc-model with confidence doctor-conf, class specific is False.\n",
      "Opitimizing with 20 samples...\n",
      "Be patient, it should take a while...\n"
     ]
    },
    {
     "name": "stderr",
     "output_type": "stream",
     "text": [
      " 75%|████████████████████████████████████████████████████████████████████████████████████████████████████████████████████████████████████████████████████████████████████████                                                        | 27/36 [09:54<03:00, 20.09s/it]"
     ]
    },
    {
     "name": "stdout",
     "output_type": "stream",
     "text": [
      "Starting optimizing for model atc-model with confidence doctor-conf, class specific is True.\n",
      "Opitimizing with 20 samples...\n",
      "Be patient, it should take a while...\n",
      "Not satisfied with initial optimization results of param, trying more initial states...\n",
      "Tried 1/2 times.\n",
      "Tried 2/2 times.\n",
      "Not satisfied with initial optimization results of param, trying more initial states...\n",
      "Tried 1/2 times.\n",
      "Tried 2/2 times.\n",
      "Not satisfied with initial optimization results of param, trying more initial states...\n",
      "Tried 1/2 times.\n",
      "Tried 2/2 times.\n"
     ]
    },
    {
     "name": "stderr",
     "output_type": "stream",
     "text": [
      " 78%|██████████████████████████████████████████████████████████████████████████████████████████████████████████████████████████████████████████████████████████████████████████████▏                                                 | 28/36 [10:36<03:34, 26.76s/it]"
     ]
    },
    {
     "name": "stdout",
     "output_type": "stream",
     "text": [
      "Starting optimizing for model ts-atc-model with confidence max_class_probability-conf, class specific is False.\n",
      "Opitimizing with 20 samples...\n",
      "Be patient, it should take a while...\n"
     ]
    },
    {
     "name": "stderr",
     "output_type": "stream",
     "text": [
      " 81%|████████████████████████████████████████████████████████████████████████████████████████████████████████████████████████████████████████████████████████████████████████████████████▍                                           | 29/36 [10:45<02:30, 21.50s/it]"
     ]
    },
    {
     "name": "stdout",
     "output_type": "stream",
     "text": [
      "Starting optimizing for model ts-atc-model with confidence max_class_probability-conf, class specific is True.\n",
      "Opitimizing with 20 samples...\n",
      "Be patient, it should take a while...\n",
      "Not satisfied with initial optimization results of param, trying more initial states...\n",
      "Tried 1/2 times.\n",
      "Tried 2/2 times.\n",
      "Not satisfied with initial optimization results of param, trying more initial states...\n",
      "Tried 1/2 times.\n",
      "Tried 2/2 times.\n",
      "Not satisfied with initial optimization results of param, trying more initial states...\n",
      "Tried 1/2 times.\n",
      "Tried 2/2 times.\n",
      "Not satisfied with initial optimization results of param_ext, trying more initial states...\n",
      "Tried 1/2 times.\n",
      "Tried 2/2 times.\n",
      "Not satisfied with initial optimization results of param_ext, trying more initial states...\n",
      "Tried 1/2 times.\n",
      "Tried 2/2 times.\n"
     ]
    },
    {
     "name": "stderr",
     "output_type": "stream",
     "text": [
      " 83%|██████████████████████████████████████████████████████████████████████████████████████████████████████████████████████████████████████████████████████████████████████████████████████████▋                                     | 30/36 [12:20<04:21, 43.59s/it]"
     ]
    },
    {
     "name": "stdout",
     "output_type": "stream",
     "text": [
      "Starting optimizing for model ts-atc-model with confidence energy-conf, class specific is False.\n",
      "Opitimizing with 20 samples...\n",
      "Be patient, it should take a while...\n",
      "Not satisfied with initial optimization results of param, trying more initial states...\n",
      "Tried 1/2 times.\n",
      "Tried 2/2 times.\n",
      "Not satisfied with initial optimization results of param_ext, trying more initial states...\n",
      "Tried 1/2 times.\n",
      "Tried 2/2 times.\n"
     ]
    },
    {
     "name": "stderr",
     "output_type": "stream",
     "text": [
      " 86%|████████████████████████████████████████████████████████████████████████████████████████████████████████████████████████████████████████████████████████████████████████████████████████████████▉                               | 31/36 [12:31<02:48, 33.72s/it]"
     ]
    },
    {
     "name": "stdout",
     "output_type": "stream",
     "text": [
      "Starting optimizing for model ts-atc-model with confidence energy-conf, class specific is True.\n",
      "Opitimizing with 20 samples...\n",
      "Be patient, it should take a while...\n",
      "Not satisfied with initial optimization results of param, trying more initial states...\n",
      "Tried 1/2 times.\n",
      "Tried 2/2 times.\n",
      "Not satisfied with initial optimization results of param, trying more initial states...\n",
      "Tried 1/2 times.\n",
      "Tried 2/2 times.\n",
      "Not satisfied with initial optimization results of param, trying more initial states...\n",
      "Tried 1/2 times.\n",
      "Tried 2/2 times.\n",
      "Not satisfied with initial optimization results of param_ext, trying more initial states...\n",
      "Tried 1/2 times.\n",
      "Tried 2/2 times.\n",
      "Not satisfied with initial optimization results of param_ext, trying more initial states...\n",
      "Tried 1/2 times.\n",
      "Tried 2/2 times.\n",
      "Not satisfied with initial optimization results of param_ext, trying more initial states...\n",
      "Tried 1/2 times.\n",
      "Tried 2/2 times.\n",
      "Not satisfied with initial optimization results of param_ext, trying more initial states...\n",
      "Tried 1/2 times.\n",
      "Tried 2/2 times.\n"
     ]
    },
    {
     "name": "stderr",
     "output_type": "stream",
     "text": [
      " 89%|███████████████████████████████████████████████████████████████████████████████████████████████████████████████████████████████████████████████████████████████████████████████████████████████████████                         | 32/36 [13:43<03:01, 45.34s/it]"
     ]
    },
    {
     "name": "stdout",
     "output_type": "stream",
     "text": [
      "Starting optimizing for model ts-atc-model with confidence entropy-conf, class specific is False.\n",
      "Opitimizing with 20 samples...\n",
      "Be patient, it should take a while...\n"
     ]
    },
    {
     "name": "stderr",
     "output_type": "stream",
     "text": [
      " 92%|█████████████████████████████████████████████████████████████████████████████████████████████████████████████████████████████████████████████████████████████████████████████████████████████████████████████▎                  | 33/36 [13:53<01:44, 34.72s/it]"
     ]
    },
    {
     "name": "stdout",
     "output_type": "stream",
     "text": [
      "Starting optimizing for model ts-atc-model with confidence entropy-conf, class specific is True.\n",
      "Opitimizing with 20 samples...\n",
      "Be patient, it should take a while...\n",
      "Not satisfied with initial optimization results of param, trying more initial states...\n",
      "Tried 1/2 times.\n",
      "Tried 2/2 times.\n",
      "Not satisfied with initial optimization results of param, trying more initial states...\n",
      "Tried 1/2 times.\n",
      "Tried 2/2 times.\n",
      "Not satisfied with initial optimization results of param, trying more initial states...\n",
      "Tried 1/2 times.\n",
      "Tried 2/2 times.\n",
      "Not satisfied with initial optimization results of param_ext, trying more initial states...\n",
      "Tried 1/2 times.\n",
      "Tried 2/2 times.\n"
     ]
    },
    {
     "name": "stderr",
     "output_type": "stream",
     "text": [
      " 94%|███████████████████████████████████████████████████████████████████████████████████████████████████████████████████████████████████████████████████████████████████████████████████████████████████████████████████▌            | 34/36 [15:24<01:43, 51.64s/it]"
     ]
    },
    {
     "name": "stdout",
     "output_type": "stream",
     "text": [
      "Starting optimizing for model ts-atc-model with confidence doctor-conf, class specific is False.\n",
      "Opitimizing with 20 samples...\n",
      "Be patient, it should take a while...\n"
     ]
    },
    {
     "name": "stderr",
     "output_type": "stream",
     "text": [
      " 97%|█████████████████████████████████████████████████████████████████████████████████████████████████████████████████████████████████████████████████████████████████████████████████████████████████████████████████████████▊      | 35/36 [15:34<00:39, 39.07s/it]"
     ]
    },
    {
     "name": "stdout",
     "output_type": "stream",
     "text": [
      "Starting optimizing for model ts-atc-model with confidence doctor-conf, class specific is True.\n",
      "Opitimizing with 20 samples...\n",
      "Be patient, it should take a while...\n",
      "Not satisfied with initial optimization results of param, trying more initial states...\n",
      "Tried 1/2 times.\n",
      "Tried 2/2 times.\n",
      "Not satisfied with initial optimization results of param, trying more initial states...\n",
      "Tried 1/2 times.\n",
      "Tried 2/2 times.\n",
      "Not satisfied with initial optimization results of param, trying more initial states...\n",
      "Tried 1/2 times.\n",
      "Tried 2/2 times.\n"
     ]
    },
    {
     "name": "stderr",
     "output_type": "stream",
     "text": [
      "100%|████████████████████████████████████████████████████████████████████████████████████████████████████████████████████████████████████████████████████████████████████████████████████████████████████████████████████████████████| 36/36 [17:00<00:00, 28.35s/it]\n"
     ]
    }
   ],
   "source": [
    "for k_cond in tqdm(range(len(moval_options))):\n",
    "    \n",
    "    err_test, moval_model = test_cls(\n",
    "        estim_algorithm = moval_options[k_cond][0], \n",
    "        mode = moval_options[k_cond][1], \n",
    "        confidence_scores = moval_options[k_cond][2],\n",
    "        class_specific = moval_options[k_cond][3],\n",
    "        logits = logits,\n",
    "        gt = gt,\n",
    "        logits_tests = logits_test,\n",
    "        gt_tests = gt_test\n",
    "    )\n",
    "    err_test_list.append(err_test)\n",
    "    moval_parameters.append(moval_model.model_.param)\n",
    "    if moval_model.model_.extend_param:\n",
    "        moval_parameters_.append(moval_model.model_.param_ext)\n",
    "    else:\n",
    "        moval_parameters_.append(0.)"
   ]
  },
  {
   "cell_type": "markdown",
   "id": "3813800b-936c-47ad-8828-503189b21181",
   "metadata": {},
   "source": [
    "## Compare estimataion results"
   ]
  },
  {
   "cell_type": "code",
   "execution_count": 34,
   "id": "060d2d93-97a7-499d-9100-15b100c2cbce",
   "metadata": {},
   "outputs": [],
   "source": [
    "estim = []\n",
    "conf = []\n",
    "err = []\n",
    "err_mean = []\n",
    "novel = []\n",
    "k_option = 0\n",
    "for moval_option in moval_options:\n",
    "    for k_cond in range(len(err_test_list[k_option])):\n",
    "        #\n",
    "        if moval_option[3] == True:\n",
    "            estim_cs = 'CS '\n",
    "        else:\n",
    "            estim_cs = ''\n",
    "        #    \n",
    "        if moval_option[0] == 'ac-model':\n",
    "            estim.append(estim_cs + 'AC')\n",
    "        elif moval_option[0] == 'ts-model':\n",
    "            estim.append(estim_cs + 'TS')\n",
    "        elif moval_option[0] == 'doc-model':\n",
    "            estim.append(estim_cs + 'DoC')\n",
    "        elif moval_option[0] == 'atc-model':\n",
    "            estim.append(estim_cs + 'ATC')\n",
    "        else:\n",
    "            estim.append(estim_cs + 'TS-ATC')\n",
    "        #\n",
    "        if moval_option[2] == 'max_class_probability-conf':\n",
    "            conf.append('MCP')\n",
    "        elif moval_option[2] == 'energy-conf':\n",
    "            conf.append('Energy')\n",
    "        elif moval_option[2] == 'entropy-conf':\n",
    "            conf.append('Entropy')\n",
    "        else:\n",
    "            conf.append('Doctor')\n",
    "        #\n",
    "        if moval_option[2] == 'max_class_probability-conf' and moval_option[3] == False:\n",
    "            novel.append('Existing Methods')\n",
    "        else:\n",
    "            novel.append('Provided by MOVAL')\n",
    "        #\n",
    "        err.append(err_test_list[k_option][k_cond])\n",
    "        err_mean.append(np.mean(err_test_list[k_option]))\n",
    "    k_option += 1"
   ]
  },
  {
   "cell_type": "code",
   "execution_count": 35,
   "id": "68a6754d-429b-4189-9443-2db6250e7662",
   "metadata": {},
   "outputs": [],
   "source": [
    "d = {'Estimation Algorithm': estim, 'Confidence Score': conf, 'MAE': err_mean, 'MAE ': err, 'Category': novel}\n",
    "df = pd.DataFrame(data=d)\n",
    "#\n",
    "custom_order = ['AC', 'TS', 'DoC', 'ATC', 'TS-ATC', 'CS TS', 'CS DoC', 'CS ATC', 'CS TS-ATC']\n",
    "df['Estimation Algorithm'] = pd.Categorical(df['Estimation Algorithm'], categories=custom_order, ordered=True)\n",
    "df = df.sort_values(by='Estimation Algorithm')"
   ]
  },
  {
   "cell_type": "code",
   "execution_count": 36,
   "id": "99b0672c-d149-4347-9185-651428ff2e17",
   "metadata": {},
   "outputs": [
    {
     "data": {
      "text/html": [
       "<div>\n",
       "<style scoped>\n",
       "    .dataframe tbody tr th:only-of-type {\n",
       "        vertical-align: middle;\n",
       "    }\n",
       "\n",
       "    .dataframe tbody tr th {\n",
       "        vertical-align: top;\n",
       "    }\n",
       "\n",
       "    .dataframe thead th {\n",
       "        text-align: right;\n",
       "    }\n",
       "</style>\n",
       "<table border=\"1\" class=\"dataframe\">\n",
       "  <thead>\n",
       "    <tr style=\"text-align: right;\">\n",
       "      <th></th>\n",
       "      <th>Estimation Algorithm</th>\n",
       "      <th>Confidence Score</th>\n",
       "      <th>MAE</th>\n",
       "      <th>MAE</th>\n",
       "      <th>Category</th>\n",
       "    </tr>\n",
       "  </thead>\n",
       "  <tbody>\n",
       "    <tr>\n",
       "      <th>0</th>\n",
       "      <td>AC</td>\n",
       "      <td>MCP</td>\n",
       "      <td>0.245458</td>\n",
       "      <td>0.253056</td>\n",
       "      <td>Existing Methods</td>\n",
       "    </tr>\n",
       "    <tr>\n",
       "      <th>11</th>\n",
       "      <td>AC</td>\n",
       "      <td>Doctor</td>\n",
       "      <td>0.242035</td>\n",
       "      <td>0.233851</td>\n",
       "      <td>Provided by MOVAL</td>\n",
       "    </tr>\n",
       "    <tr>\n",
       "      <th>10</th>\n",
       "      <td>AC</td>\n",
       "      <td>Doctor</td>\n",
       "      <td>0.242035</td>\n",
       "      <td>0.241346</td>\n",
       "      <td>Provided by MOVAL</td>\n",
       "    </tr>\n",
       "    <tr>\n",
       "      <th>9</th>\n",
       "      <td>AC</td>\n",
       "      <td>Doctor</td>\n",
       "      <td>0.242035</td>\n",
       "      <td>0.250907</td>\n",
       "      <td>Provided by MOVAL</td>\n",
       "    </tr>\n",
       "    <tr>\n",
       "      <th>7</th>\n",
       "      <td>AC</td>\n",
       "      <td>Entropy</td>\n",
       "      <td>0.232676</td>\n",
       "      <td>0.230217</td>\n",
       "      <td>Provided by MOVAL</td>\n",
       "    </tr>\n",
       "  </tbody>\n",
       "</table>\n",
       "</div>"
      ],
      "text/plain": [
       "   Estimation Algorithm Confidence Score       MAE      MAE   \\\n",
       "0                    AC              MCP  0.245458  0.253056   \n",
       "11                   AC           Doctor  0.242035  0.233851   \n",
       "10                   AC           Doctor  0.242035  0.241346   \n",
       "9                    AC           Doctor  0.242035  0.250907   \n",
       "7                    AC          Entropy  0.232676  0.230217   \n",
       "\n",
       "             Category  \n",
       "0    Existing Methods  \n",
       "11  Provided by MOVAL  \n",
       "10  Provided by MOVAL  \n",
       "9   Provided by MOVAL  \n",
       "7   Provided by MOVAL  "
      ]
     },
     "execution_count": 36,
     "metadata": {},
     "output_type": "execute_result"
    }
   ],
   "source": [
    "df.head()"
   ]
  },
  {
   "cell_type": "code",
   "execution_count": 37,
   "id": "71dda52f-13bc-46f4-9702-e65ece9f1bfe",
   "metadata": {},
   "outputs": [
    {
     "data": {
      "image/png": "[encoded data removed]",
      "text/plain": [
       "<Figure size 600x300 with 1 Axes>"
      ]
     },
     "metadata": {},
     "output_type": "display_data"
    }
   ],
   "source": [
    "sns.set(rc={'figure.figsize':(6,3)})\n",
    "sns.set_style(\"darkgrid\")\n",
    "category_palette = {'Existing Methods': 'grey', 'Provided by MOVAL': '#1f77b4'}\n",
    "ax = sns.scatterplot(\n",
    "    data=df, x=\"Estimation Algorithm\", y=\"Confidence Score\", hue=\"Category\", size=\"MAE\",\n",
    "    sizes=(40, 600), palette=category_palette\n",
    ")\n",
    "ax.set(ylim=(3.5, -0.5))\n",
    "ax.tick_params(axis='x', rotation=15)\n",
    "#\n",
    "sns.move_legend(ax, \"upper left\", bbox_to_anchor=(1.2, 1), labelspacing = 0.6)\n",
    "# Increase the line spacing by adjusting position"
   ]
  },
  {
   "cell_type": "code",
   "execution_count": 38,
   "id": "3d1afafe-7490-4da1-8c88-5fbdf15ce128",
   "metadata": {},
   "outputs": [
    {
     "data": {
      "image/png": "[encoded data removed]",
      "text/plain": [
       "<Figure size 600x100 with 1 Axes>"
      ]
     },
     "metadata": {},
     "output_type": "display_data"
    }
   ],
   "source": [
    "sns.set(rc={'figure.figsize':(6,1)})\n",
    "sns.set_style(\"white\")\n",
    "ax = sns.barplot(df, x=\"Estimation Algorithm\", y=\"MAE\", color = '#1f77b4')\n",
    "ax.tick_params(axis='x', rotation=15)\n",
    "#\n",
    "ax.spines['top'].set_color('none')\n",
    "ax.spines['right'].set_color('none')\n",
    "ax.spines['bottom'].set_color('none')\n",
    "ax.spines['left'].set_color('none')"
   ]
  },
  {
   "cell_type": "code",
   "execution_count": 39,
   "id": "ab3ff7bd-6395-446d-b645-69b5c4d220dd",
   "metadata": {},
   "outputs": [
    {
     "data": {
      "image/png": "[encoded data removed]",
      "text/plain": [
       "<Figure size 300x100 with 1 Axes>"
      ]
     },
     "metadata": {},
     "output_type": "display_data"
    }
   ],
   "source": [
    "sns.set(rc={'figure.figsize':(3,1)})\n",
    "sns.set_style(\"white\")\n",
    "ax = sns.barplot(df, x=\"Confidence Score\", y=\"MAE\", color = '#1f77b4')\n",
    "ax.tick_params(axis='x', rotation=15)\n",
    "#\n",
    "ax.spines['top'].set_color('none')\n",
    "ax.spines['right'].set_color('none')\n",
    "ax.spines['bottom'].set_color('none')\n",
    "ax.spines['left'].set_color('none')"
   ]
  },
  {
   "cell_type": "code",
   "execution_count": 40,
   "id": "36ef192e-b82e-4a68-ba7c-a1d4813cabfe",
   "metadata": {},
   "outputs": [
    {
     "data": {
      "image/png": "[encoded data removed]",
      "text/plain": [
       "<Figure size 1200x300 with 1 Axes>"
      ]
     },
     "metadata": {},
     "output_type": "display_data"
    }
   ],
   "source": [
    "sns.set(rc={'figure.figsize':(12,3)})\n",
    "category_palette = {'MCP': '#e5f0f8',\n",
    "                    'Doctor': '#99c6e4',\n",
    "                    'Entropy': '#4c9cd0',\n",
    "                    'Energy': '#0072bd'\n",
    "                   }\n",
    "ax = sns.boxplot(df, x=\"Estimation Algorithm\", y=\"MAE \", hue=\"Confidence Score\", palette=category_palette)\n",
    "ax.set(ylim=(-0.02, 0.5))\n",
    "sns.move_legend(ax, \"upper left\", bbox_to_anchor=(1, 1))"
   ]
  },
  {
   "cell_type": "code",
   "execution_count": null,
   "id": "6ae76b64-6cd7-4a70-889d-1a413ab44e8d",
   "metadata": {},
   "outputs": [],
   "source": []
  },
  {
   "cell_type": "code",
   "execution_count": null,
   "id": "4d20b6a5-b6f9-4f66-a5c4-f080aba9a5aa",
   "metadata": {},
   "outputs": [],
   "source": []
  },
  {
   "cell_type": "code",
   "execution_count": null,
   "id": "435c2cdd-edde-43a7-9aed-345e9fddcc8c",
   "metadata": {},
   "outputs": [],
   "source": []
  }
 ],
 "metadata": {
  "kernelspec": {
   "display_name": "Python 3 (ipykernel)",
   "language": "python",
   "name": "python3"
  },
  "language_info": {
   "codemirror_mode": {
    "name": "ipython",
    "version": 3
   },
   "file_extension": ".py",
   "mimetype": "text/x-python",
   "name": "python",
   "nbconvert_exporter": "python",
   "pygments_lexer": "ipython3",
   "version": "3.8.0"
  }
 },
 "nbformat": 4,
 "nbformat_minor": 5
}
